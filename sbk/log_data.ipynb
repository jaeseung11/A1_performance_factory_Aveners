{
 "cells": [
  {
   "cell_type": "markdown",
   "id": "u8SaomG2z3mW",
   "metadata": {
    "id": "u8SaomG2z3mW"
   },
   "source": [
    "## data import"
   ]
  },
  {
   "cell_type": "code",
   "execution_count": 1,
   "id": "85b982f5",
   "metadata": {
    "id": "85b982f5"
   },
   "outputs": [],
   "source": [
    "import pandas as pd\n",
    "import numpy as np\n",
    "import matplotlib.pyplot as plt\n",
    "import matplotlib\n",
    "import matplotlib.font_manager as fm\n",
    "import seaborn as sns\n",
    "import datetime as dt\n",
    "import matplotlib.font_manager as fm\n",
    "import random\n",
    "\n",
    "from matplotlib import gridspec\n",
    "from scipy import stats"
   ]
  },
  {
   "cell_type": "code",
   "execution_count": 2,
   "id": "ba0390ec",
   "metadata": {
    "id": "ba0390ec",
    "outputId": "3d83b850-5173-4e2b-b7d8-73b96fbd1c6d"
   },
   "outputs": [
    {
     "data": {
      "text/plain": [
       "['C:\\\\Windows\\\\Fonts\\\\comici.ttf',\n",
       " 'C:\\\\WINDOWS\\\\Fonts\\\\LeelawUI.ttf',\n",
       " 'C:\\\\Windows\\\\Fonts\\\\SitkaB.ttc',\n",
       " 'C:\\\\Windows\\\\Fonts\\\\courbd.ttf',\n",
       " 'C:\\\\WINDOWS\\\\Fonts\\\\simsun.ttc',\n",
       " 'C:\\\\Windows\\\\Fonts\\\\ariali.ttf',\n",
       " 'C:\\\\Windows\\\\Fonts\\\\Inkfree.ttf',\n",
       " 'C:\\\\WINDOWS\\\\Fonts\\\\verdanai.ttf',\n",
       " 'C:\\\\Windows\\\\Fonts\\\\Nirmala.ttf',\n",
       " 'C:\\\\Windows\\\\Fonts\\\\wingding.ttf',\n",
       " 'C:\\\\Windows\\\\Fonts\\\\framd.ttf',\n",
       " 'C:\\\\Windows\\\\Fonts\\\\D2Coding-Ver1.3.2-20180524.ttf',\n",
       " 'C:\\\\WINDOWS\\\\Fonts\\\\cambriab.ttf',\n",
       " 'C:\\\\WINDOWS\\\\Fonts\\\\arialbi.ttf',\n",
       " 'C:\\\\WINDOWS\\\\Fonts\\\\calibri.ttf',\n",
       " 'C:\\\\WINDOWS\\\\Fonts\\\\mvboli.ttf',\n",
       " 'C:\\\\WINDOWS\\\\Fonts\\\\segoescb.ttf',\n",
       " 'C:\\\\Windows\\\\Fonts\\\\seguisli.ttf',\n",
       " 'C:\\\\WINDOWS\\\\Fonts\\\\cambria.ttc',\n",
       " 'C:\\\\Windows\\\\Fonts\\\\malgunbd.ttf',\n",
       " 'C:\\\\Windows\\\\Fonts\\\\gadugi.ttf',\n",
       " 'C:\\\\Windows\\\\Fonts\\\\corbell.ttf',\n",
       " 'C:\\\\Windows\\\\Fonts\\\\comicbd.ttf',\n",
       " 'C:\\\\WINDOWS\\\\Fonts\\\\LeelUIsl.ttf',\n",
       " 'C:\\\\Windows\\\\Fonts\\\\segoeui.ttf',\n",
       " 'C:\\\\Windows\\\\Fonts\\\\msjhl.ttc',\n",
       " 'C:\\\\WINDOWS\\\\Fonts\\\\trebucbi.ttf',\n",
       " 'C:\\\\WINDOWS\\\\Fonts\\\\trebuc.ttf',\n",
       " 'C:\\\\Windows\\\\Fonts\\\\LeelawUI.ttf',\n",
       " 'C:\\\\Windows\\\\Fonts\\\\consolab.ttf',\n",
       " 'C:\\\\Windows\\\\Fonts\\\\segoeuisl.ttf',\n",
       " 'C:\\\\WINDOWS\\\\Fonts\\\\Hack-Italic.ttf',\n",
       " 'C:\\\\WINDOWS\\\\Fonts\\\\cour.ttf',\n",
       " 'C:\\\\WINDOWS\\\\Fonts\\\\seguiemj.ttf',\n",
       " 'C:\\\\WINDOWS\\\\Fonts\\\\wingding.ttf',\n",
       " 'C:\\\\Windows\\\\Fonts\\\\corbelli.ttf',\n",
       " 'C:\\\\Windows\\\\Fonts\\\\seguisbi.ttf',\n",
       " 'C:\\\\WINDOWS\\\\Fonts\\\\georgiai.ttf',\n",
       " 'C:\\\\Windows\\\\Fonts\\\\Candarai.ttf',\n",
       " 'C:\\\\WINDOWS\\\\Fonts\\\\timesbi.ttf',\n",
       " 'C:\\\\Windows\\\\Fonts\\\\seguisym.ttf',\n",
       " 'C:\\\\Windows\\\\Fonts\\\\georgiaz.ttf',\n",
       " 'C:\\\\WINDOWS\\\\Fonts\\\\Hack-Regular.ttf',\n",
       " 'C:\\\\WINDOWS\\\\Fonts\\\\calibrili.ttf',\n",
       " 'C:\\\\WINDOWS\\\\Fonts\\\\palai.ttf',\n",
       " 'C:\\\\WINDOWS\\\\Fonts\\\\simsunb.ttf',\n",
       " 'C:\\\\WINDOWS\\\\Fonts\\\\trebucit.ttf',\n",
       " 'C:\\\\Windows\\\\Fonts\\\\consolai.ttf',\n",
       " 'C:\\\\Windows\\\\Fonts\\\\monbaiti.ttf',\n",
       " 'C:\\\\Windows\\\\Fonts\\\\msyhbd.ttc',\n",
       " 'C:\\\\WINDOWS\\\\Fonts\\\\ebrima.ttf',\n",
       " 'C:\\\\Windows\\\\Fonts\\\\Candarab.ttf',\n",
       " 'C:\\\\WINDOWS\\\\Fonts\\\\malgunbd.ttf',\n",
       " 'C:\\\\WINDOWS\\\\Fonts\\\\SitkaI.ttc',\n",
       " 'C:\\\\WINDOWS\\\\Fonts\\\\consolab.ttf',\n",
       " 'C:\\\\Windows\\\\Fonts\\\\calibri.ttf',\n",
       " 'C:\\\\Windows\\\\Fonts\\\\Sitka.ttc',\n",
       " 'C:\\\\Windows\\\\Fonts\\\\cour.ttf',\n",
       " 'C:\\\\WINDOWS\\\\Fonts\\\\seguibli.ttf',\n",
       " 'C:\\\\Windows\\\\Fonts\\\\Hack-Bold.ttf',\n",
       " 'C:\\\\WINDOWS\\\\Fonts\\\\YuGothR.ttc',\n",
       " 'C:\\\\Windows\\\\Fonts\\\\taile.ttf',\n",
       " 'C:\\\\WINDOWS\\\\Fonts\\\\comici.ttf',\n",
       " 'C:\\\\WINDOWS\\\\Fonts\\\\verdanab.ttf',\n",
       " 'C:\\\\Windows\\\\Fonts\\\\mingliub.ttc',\n",
       " 'C:\\\\Windows\\\\Fonts\\\\consola.ttf',\n",
       " 'C:\\\\WINDOWS\\\\Fonts\\\\framdit.ttf',\n",
       " 'C:\\\\WINDOWS\\\\Fonts\\\\lucon.ttf',\n",
       " 'C:\\\\WINDOWS\\\\Fonts\\\\monbaiti.ttf',\n",
       " 'C:\\\\WINDOWS\\\\Fonts\\\\Candarab.ttf',\n",
       " 'C:\\\\Windows\\\\Fonts\\\\malgunsl.ttf',\n",
       " 'C:\\\\WINDOWS\\\\Fonts\\\\NirmalaB.ttf',\n",
       " 'C:\\\\Windows\\\\Fonts\\\\msyh.ttc',\n",
       " 'C:\\\\WINDOWS\\\\Fonts\\\\calibrii.ttf',\n",
       " 'C:\\\\WINDOWS\\\\Fonts\\\\msjhbd.ttc',\n",
       " 'C:\\\\Windows\\\\Fonts\\\\Candarali.ttf',\n",
       " 'C:\\\\Windows\\\\Fonts\\\\segoeuii.ttf',\n",
       " 'C:\\\\Windows\\\\Fonts\\\\arialbd.ttf',\n",
       " 'C:\\\\Windows\\\\Fonts\\\\Hack-Regular.ttf',\n",
       " 'C:\\\\WINDOWS\\\\Fonts\\\\ariali.ttf',\n",
       " 'C:\\\\WINDOWS\\\\Fonts\\\\msjh.ttc',\n",
       " 'C:\\\\WINDOWS\\\\Fonts\\\\palabi.ttf',\n",
       " 'C:\\\\WINDOWS\\\\Fonts\\\\Candara.ttf',\n",
       " 'C:\\\\Windows\\\\Fonts\\\\calibriz.ttf',\n",
       " 'C:\\\\WINDOWS\\\\Fonts\\\\gadugi.ttf',\n",
       " 'C:\\\\Windows\\\\Fonts\\\\constan.ttf',\n",
       " 'C:\\\\Windows\\\\Fonts\\\\seguihis.ttf',\n",
       " 'C:\\\\WINDOWS\\\\Fonts\\\\segoeuib.ttf',\n",
       " 'C:\\\\Windows\\\\Fonts\\\\segoesc.ttf',\n",
       " 'C:\\\\Windows\\\\Fonts\\\\seguiemj.ttf',\n",
       " 'C:\\\\WINDOWS\\\\Fonts\\\\verdana.ttf',\n",
       " 'C:\\\\Windows\\\\Fonts\\\\timesbd.ttf',\n",
       " 'C:\\\\WINDOWS\\\\Fonts\\\\palab.ttf',\n",
       " 'C:\\\\Windows\\\\Fonts\\\\corbelb.ttf',\n",
       " 'C:\\\\WINDOWS\\\\Fonts\\\\LeelaUIb.ttf',\n",
       " 'C:\\\\WINDOWS\\\\Fonts\\\\corbelli.ttf',\n",
       " 'C:\\\\Windows\\\\Fonts\\\\batang.ttc',\n",
       " 'C:\\\\Windows\\\\Fonts\\\\msjhbd.ttc',\n",
       " 'C:\\\\Windows\\\\Fonts\\\\georgiai.ttf',\n",
       " 'C:\\\\Windows\\\\Fonts\\\\Hack-Italic.ttf',\n",
       " 'C:\\\\Windows\\\\Fonts\\\\courbi.ttf',\n",
       " 'C:\\\\WINDOWS\\\\Fonts\\\\timesbd.ttf',\n",
       " 'C:\\\\WINDOWS\\\\Fonts\\\\segoeprb.ttf',\n",
       " 'C:\\\\WINDOWS\\\\Fonts\\\\cambriai.ttf',\n",
       " 'C:\\\\WINDOWS\\\\Fonts\\\\Candarai.ttf',\n",
       " 'C:\\\\WINDOWS\\\\Fonts\\\\constanz.ttf',\n",
       " 'C:\\\\WINDOWS\\\\Fonts\\\\ntailu.ttf',\n",
       " 'C:\\\\WINDOWS\\\\Fonts\\\\symbol.ttf',\n",
       " 'C:\\\\WINDOWS\\\\Fonts\\\\YuGothM.ttc',\n",
       " 'C:\\\\WINDOWS\\\\Fonts\\\\corbelz.ttf',\n",
       " 'C:\\\\WINDOWS\\\\Fonts\\\\cambriaz.ttf',\n",
       " 'C:\\\\Windows\\\\Fonts\\\\LeelaUIb.ttf',\n",
       " 'C:\\\\Windows\\\\Fonts\\\\segmdl2.ttf',\n",
       " 'C:\\\\WINDOWS\\\\Fonts\\\\georgia.ttf',\n",
       " 'C:\\\\Windows\\\\Fonts\\\\georgiab.ttf',\n",
       " 'C:\\\\WINDOWS\\\\Fonts\\\\constan.ttf',\n",
       " 'C:\\\\WINDOWS\\\\Fonts\\\\corbeli.ttf',\n",
       " 'C:\\\\Windows\\\\Fonts\\\\arialbi.ttf',\n",
       " 'C:\\\\WINDOWS\\\\Fonts\\\\segoeuii.ttf',\n",
       " 'C:\\\\Windows\\\\Fonts\\\\msyi.ttf',\n",
       " 'C:\\\\Windows\\\\Fonts\\\\ariblk.ttf',\n",
       " 'C:\\\\WINDOWS\\\\Fonts\\\\seguisbi.ttf',\n",
       " 'C:\\\\Windows\\\\Fonts\\\\YuGothR.ttc',\n",
       " 'C:\\\\Windows\\\\Fonts\\\\gulim.ttc',\n",
       " 'C:\\\\Windows\\\\Fonts\\\\mvboli.ttf',\n",
       " 'C:\\\\Windows\\\\Fonts\\\\segoescb.ttf',\n",
       " 'C:\\\\Windows\\\\Fonts\\\\ntailub.ttf',\n",
       " 'C:\\\\Windows\\\\Fonts\\\\palabi.ttf',\n",
       " 'C:\\\\Windows\\\\Fonts\\\\palai.ttf',\n",
       " 'C:\\\\Windows\\\\Fonts\\\\Gabriola.ttf',\n",
       " 'C:\\\\WINDOWS\\\\Fonts\\\\comic.ttf',\n",
       " 'C:\\\\WINDOWS\\\\Fonts\\\\holomdl2.ttf',\n",
       " 'C:\\\\WINDOWS\\\\Fonts\\\\l_10646.ttf',\n",
       " 'C:\\\\WINDOWS\\\\Fonts\\\\msyhbd.ttc',\n",
       " 'C:\\\\WINDOWS\\\\Fonts\\\\NirmalaS.ttf',\n",
       " 'C:\\\\WINDOWS\\\\Fonts\\\\Nirmala.ttf',\n",
       " 'C:\\\\Windows\\\\Fonts\\\\NirmalaS.ttf',\n",
       " 'C:\\\\WINDOWS\\\\Fonts\\\\sylfaen.ttf',\n",
       " 'C:\\\\Windows\\\\Fonts\\\\timesi.ttf',\n",
       " 'C:\\\\Windows\\\\Fonts\\\\bahnschrift.ttf',\n",
       " 'C:\\\\WINDOWS\\\\Fonts\\\\georgiaz.ttf',\n",
       " 'C:\\\\WINDOWS\\\\Fonts\\\\webdings.ttf',\n",
       " 'C:\\\\WINDOWS\\\\Fonts\\\\Inkfree.ttf',\n",
       " 'C:\\\\Windows\\\\Fonts\\\\ebrima.ttf',\n",
       " 'C:\\\\WINDOWS\\\\Fonts\\\\Candaraz.ttf',\n",
       " 'C:\\\\Windows\\\\Fonts\\\\trebucbd.ttf',\n",
       " 'C:\\\\Windows\\\\Fonts\\\\times.ttf',\n",
       " 'C:\\\\WINDOWS\\\\Fonts\\\\consolai.ttf',\n",
       " 'C:\\\\WINDOWS\\\\Fonts\\\\constani.ttf',\n",
       " 'C:\\\\WINDOWS\\\\Fonts\\\\segoeuil.ttf',\n",
       " 'C:\\\\WINDOWS\\\\Fonts\\\\msyh.ttc',\n",
       " 'C:\\\\Windows\\\\Fonts\\\\mmrtextb.ttf',\n",
       " 'C:\\\\Windows\\\\Fonts\\\\verdana.ttf',\n",
       " 'C:\\\\WINDOWS\\\\Fonts\\\\D2Coding-Ver1.3.2-20180524.ttf',\n",
       " 'C:\\\\WINDOWS\\\\Fonts\\\\msyhl.ttc',\n",
       " 'C:\\\\WINDOWS\\\\Fonts\\\\segoepr.ttf',\n",
       " 'C:\\\\Windows\\\\Fonts\\\\corbel.ttf',\n",
       " 'C:\\\\WINDOWS\\\\Fonts\\\\Candarali.ttf',\n",
       " 'C:\\\\Windows\\\\Fonts\\\\gadugib.ttf',\n",
       " 'C:\\\\Windows\\\\Fonts\\\\verdanaz.ttf',\n",
       " 'C:\\\\Windows\\\\Fonts\\\\Candaraz.ttf',\n",
       " 'C:\\\\WINDOWS\\\\Fonts\\\\bahnschrift.ttf',\n",
       " 'C:\\\\WINDOWS\\\\Fonts\\\\corbell.ttf',\n",
       " 'C:\\\\WINDOWS\\\\Fonts\\\\Gabriola.ttf',\n",
       " 'C:\\\\WINDOWS\\\\Fonts\\\\mmrtext.ttf',\n",
       " 'C:\\\\Windows\\\\Fonts\\\\Candaral.ttf',\n",
       " 'C:\\\\Windows\\\\Fonts\\\\NirmalaB.ttf',\n",
       " 'C:\\\\Windows\\\\Fonts\\\\YuGothM.ttc',\n",
       " 'C:\\\\WINDOWS\\\\Fonts\\\\verdanaz.ttf',\n",
       " 'C:\\\\Windows\\\\Fonts\\\\segoeprb.ttf',\n",
       " 'C:\\\\WINDOWS\\\\Fonts\\\\mingliub.ttc',\n",
       " 'C:\\\\WINDOWS\\\\Fonts\\\\impact.ttf',\n",
       " 'C:\\\\WINDOWS\\\\Fonts\\\\seguili.ttf',\n",
       " 'C:\\\\Windows\\\\Fonts\\\\verdanai.ttf',\n",
       " 'C:\\\\Windows\\\\Fonts\\\\msgothic.ttc',\n",
       " 'C:\\\\Windows\\\\Fonts\\\\ntailu.ttf',\n",
       " 'C:\\\\WINDOWS\\\\Fonts\\\\corbelb.ttf',\n",
       " 'C:\\\\Windows\\\\Fonts\\\\YuGothL.ttc',\n",
       " 'C:\\\\WINDOWS\\\\Fonts\\\\courbi.ttf',\n",
       " 'C:\\\\WINDOWS\\\\Fonts\\\\calibril.ttf',\n",
       " 'C:\\\\WINDOWS\\\\Fonts\\\\tahoma.ttf',\n",
       " 'C:\\\\WINDOWS\\\\Fonts\\\\msjhl.ttc',\n",
       " 'C:\\\\WINDOWS\\\\Fonts\\\\taile.ttf',\n",
       " 'C:\\\\Windows\\\\Fonts\\\\seguili.ttf',\n",
       " 'C:\\\\WINDOWS\\\\Fonts\\\\segoeui.ttf',\n",
       " 'C:\\\\Windows\\\\Fonts\\\\msyhl.ttc',\n",
       " 'C:\\\\Windows\\\\Fonts\\\\D2Coding-Ver1.3.2-20180524.ttc',\n",
       " 'C:\\\\WINDOWS\\\\Fonts\\\\couri.ttf',\n",
       " 'C:\\\\Windows\\\\Fonts\\\\constanb.ttf',\n",
       " 'C:\\\\Windows\\\\Fonts\\\\segoeuib.ttf',\n",
       " 'C:\\\\WINDOWS\\\\Fonts\\\\msgothic.ttc',\n",
       " 'C:\\\\WINDOWS\\\\Fonts\\\\Hack-Bold.ttf',\n",
       " 'C:\\\\WINDOWS\\\\Fonts\\\\phagspa.ttf',\n",
       " 'C:\\\\Windows\\\\Fonts\\\\calibril.ttf',\n",
       " 'C:\\\\Windows\\\\Fonts\\\\Candara.ttf',\n",
       " 'C:\\\\Windows\\\\Fonts\\\\tahoma.ttf',\n",
       " 'C:\\\\Windows\\\\Fonts\\\\javatext.ttf',\n",
       " 'C:\\\\WINDOWS\\\\Fonts\\\\mmrtextb.ttf',\n",
       " 'C:\\\\Windows\\\\Fonts\\\\sylfaen.ttf',\n",
       " 'C:\\\\Windows\\\\Fonts\\\\D2CodingBold-Ver1.3.2-20180524.ttf',\n",
       " 'C:\\\\WINDOWS\\\\Fonts\\\\calibriz.ttf',\n",
       " 'C:\\\\WINDOWS\\\\Fonts\\\\Candaral.ttf',\n",
       " 'C:\\\\WINDOWS\\\\Fonts\\\\ebrimabd.ttf',\n",
       " 'C:\\\\Windows\\\\Fonts\\\\calibrili.ttf',\n",
       " 'C:\\\\WINDOWS\\\\Fonts\\\\Hack-BoldItalic.ttf',\n",
       " 'C:\\\\Windows\\\\Fonts\\\\mmrtext.ttf',\n",
       " 'C:\\\\WINDOWS\\\\Fonts\\\\msyi.ttf',\n",
       " 'C:\\\\Windows\\\\Fonts\\\\symbol.ttf',\n",
       " 'C:\\\\Windows\\\\Fonts\\\\cambriaz.ttf',\n",
       " 'C:\\\\Windows\\\\Fonts\\\\comic.ttf',\n",
       " 'C:\\\\WINDOWS\\\\Fonts\\\\javatext.ttf',\n",
       " 'C:\\\\WINDOWS\\\\Fonts\\\\seguisb.ttf',\n",
       " 'C:\\\\Windows\\\\Fonts\\\\segoeuiz.ttf',\n",
       " 'C:\\\\Windows\\\\Fonts\\\\tahomabd.ttf',\n",
       " 'C:\\\\WINDOWS\\\\Fonts\\\\gulim.ttc',\n",
       " 'C:\\\\WINDOWS\\\\Fonts\\\\YuGothL.ttc',\n",
       " 'C:\\\\Windows\\\\Fonts\\\\cambria.ttc',\n",
       " 'C:\\\\Windows\\\\Fonts\\\\calibrib.ttf',\n",
       " 'C:\\\\WINDOWS\\\\Fonts\\\\pala.ttf',\n",
       " 'C:\\\\WINDOWS\\\\Fonts\\\\segoeuiz.ttf',\n",
       " 'C:\\\\WINDOWS\\\\Fonts\\\\seguisli.ttf',\n",
       " 'C:\\\\Windows\\\\Fonts\\\\msjh.ttc',\n",
       " 'C:\\\\Windows\\\\Fonts\\\\holomdl2.ttf',\n",
       " 'C:\\\\Windows\\\\Fonts\\\\SitkaZ.ttc',\n",
       " 'C:\\\\WINDOWS\\\\Fonts\\\\YuGothB.ttc',\n",
       " 'C:\\\\WINDOWS\\\\Fonts\\\\Sitka.ttc',\n",
       " 'C:\\\\WINDOWS\\\\Fonts\\\\trebucbd.ttf',\n",
       " 'C:\\\\Windows\\\\Fonts\\\\arial.ttf',\n",
       " 'C:\\\\WINDOWS\\\\Fonts\\\\malgunsl.ttf',\n",
       " 'C:\\\\Windows\\\\Fonts\\\\cambriab.ttf',\n",
       " 'C:\\\\WINDOWS\\\\Fonts\\\\seguibl.ttf',\n",
       " 'C:\\\\Windows\\\\Fonts\\\\webdings.ttf',\n",
       " 'C:\\\\WINDOWS\\\\Fonts\\\\gadugib.ttf',\n",
       " 'C:\\\\Windows\\\\Fonts\\\\segoeuil.ttf',\n",
       " 'C:\\\\Windows\\\\Fonts\\\\constanz.ttf',\n",
       " 'C:\\\\Windows\\\\Fonts\\\\simsun.ttc',\n",
       " 'C:\\\\WINDOWS\\\\Fonts\\\\consolaz.ttf',\n",
       " 'C:\\\\Windows\\\\Fonts\\\\trebuc.ttf',\n",
       " 'C:\\\\Windows\\\\Fonts\\\\ebrimabd.ttf',\n",
       " 'C:\\\\Windows\\\\Fonts\\\\corbelz.ttf',\n",
       " 'C:\\\\WINDOWS\\\\Fonts\\\\marlett.ttf',\n",
       " 'C:\\\\WINDOWS\\\\Fonts\\\\segoesc.ttf',\n",
       " 'C:\\\\WINDOWS\\\\Fonts\\\\arial.ttf',\n",
       " 'C:\\\\WINDOWS\\\\Fonts\\\\segoeuisl.ttf',\n",
       " 'C:\\\\WINDOWS\\\\Fonts\\\\times.ttf',\n",
       " 'C:\\\\WINDOWS\\\\Fonts\\\\malgun.ttf',\n",
       " 'C:\\\\Windows\\\\Fonts\\\\seguibl.ttf',\n",
       " 'C:\\\\WINDOWS\\\\Fonts\\\\D2Coding-Ver1.3.2-20180524.ttc',\n",
       " 'C:\\\\Windows\\\\Fonts\\\\impact.ttf',\n",
       " 'C:\\\\Windows\\\\Fonts\\\\verdanab.ttf',\n",
       " 'C:\\\\Windows\\\\Fonts\\\\LeelUIsl.ttf',\n",
       " 'C:\\\\Windows\\\\Fonts\\\\l_10646.ttf',\n",
       " 'C:\\\\Windows\\\\Fonts\\\\YuGothB.ttc',\n",
       " 'C:\\\\Windows\\\\Fonts\\\\framdit.ttf',\n",
       " 'C:\\\\WINDOWS\\\\Fonts\\\\phagspab.ttf',\n",
       " 'C:\\\\WINDOWS\\\\Fonts\\\\tahomabd.ttf',\n",
       " 'C:\\\\Windows\\\\Fonts\\\\couri.ttf',\n",
       " 'C:\\\\Windows\\\\Fonts\\\\timesbi.ttf',\n",
       " 'C:\\\\WINDOWS\\\\Fonts\\\\himalaya.ttf',\n",
       " 'C:\\\\Windows\\\\Fonts\\\\trebucbi.ttf',\n",
       " 'C:\\\\Windows\\\\Fonts\\\\SitkaI.ttc',\n",
       " 'C:\\\\WINDOWS\\\\Fonts\\\\batang.ttc',\n",
       " 'C:\\\\WINDOWS\\\\Fonts\\\\D2CodingBold-Ver1.3.2-20180524.ttf',\n",
       " 'C:\\\\Windows\\\\Fonts\\\\lucon.ttf',\n",
       " 'C:\\\\Windows\\\\Fonts\\\\calibrii.ttf',\n",
       " 'C:\\\\WINDOWS\\\\Fonts\\\\micross.ttf',\n",
       " 'C:\\\\WINDOWS\\\\Fonts\\\\consola.ttf',\n",
       " 'C:\\\\Windows\\\\Fonts\\\\seguibli.ttf',\n",
       " 'C:\\\\WINDOWS\\\\Fonts\\\\comicbd.ttf',\n",
       " 'C:\\\\WINDOWS\\\\Fonts\\\\ntailub.ttf',\n",
       " 'C:\\\\WINDOWS\\\\Fonts\\\\arialbd.ttf',\n",
       " 'C:\\\\Windows\\\\Fonts\\\\palab.ttf',\n",
       " 'C:\\\\WINDOWS\\\\Fonts\\\\taileb.ttf',\n",
       " 'C:\\\\WINDOWS\\\\Fonts\\\\seguihis.ttf',\n",
       " 'C:\\\\Windows\\\\Fonts\\\\constani.ttf',\n",
       " 'C:\\\\WINDOWS\\\\Fonts\\\\timesi.ttf',\n",
       " 'C:\\\\WINDOWS\\\\Fonts\\\\corbel.ttf',\n",
       " 'C:\\\\Windows\\\\Fonts\\\\himalaya.ttf',\n",
       " 'C:\\\\WINDOWS\\\\Fonts\\\\framd.ttf',\n",
       " 'C:\\\\Windows\\\\Fonts\\\\micross.ttf',\n",
       " 'C:\\\\Windows\\\\Fonts\\\\pala.ttf',\n",
       " 'C:\\\\WINDOWS\\\\Fonts\\\\comicz.ttf',\n",
       " 'C:\\\\Windows\\\\Fonts\\\\seguisb.ttf',\n",
       " 'C:\\\\WINDOWS\\\\Fonts\\\\seguisym.ttf',\n",
       " 'C:\\\\WINDOWS\\\\Fonts\\\\constanb.ttf',\n",
       " 'C:\\\\Windows\\\\Fonts\\\\taileb.ttf',\n",
       " 'C:\\\\Windows\\\\Fonts\\\\trebucit.ttf',\n",
       " 'C:\\\\Windows\\\\Fonts\\\\malgun.ttf',\n",
       " 'C:\\\\WINDOWS\\\\Fonts\\\\SitkaB.ttc',\n",
       " 'C:\\\\WINDOWS\\\\Fonts\\\\calibrib.ttf',\n",
       " 'C:\\\\Windows\\\\Fonts\\\\simsunb.ttf',\n",
       " 'C:\\\\WINDOWS\\\\Fonts\\\\segmdl2.ttf',\n",
       " 'C:\\\\WINDOWS\\\\Fonts\\\\georgiab.ttf',\n",
       " 'C:\\\\Windows\\\\Fonts\\\\cambriai.ttf',\n",
       " 'C:\\\\Windows\\\\Fonts\\\\georgia.ttf',\n",
       " 'C:\\\\WINDOWS\\\\Fonts\\\\ariblk.ttf',\n",
       " 'C:\\\\Windows\\\\Fonts\\\\corbeli.ttf',\n",
       " 'C:\\\\WINDOWS\\\\Fonts\\\\courbd.ttf',\n",
       " 'C:\\\\Windows\\\\Fonts\\\\comicz.ttf',\n",
       " 'C:\\\\Windows\\\\Fonts\\\\phagspa.ttf',\n",
       " 'C:\\\\Windows\\\\Fonts\\\\consolaz.ttf',\n",
       " 'C:\\\\Windows\\\\Fonts\\\\segoepr.ttf',\n",
       " 'C:\\\\WINDOWS\\\\Fonts\\\\SitkaZ.ttc',\n",
       " 'C:\\\\Windows\\\\Fonts\\\\Hack-BoldItalic.ttf',\n",
       " 'C:\\\\Windows\\\\Fonts\\\\phagspab.ttf']"
      ]
     },
     "execution_count": 2,
     "metadata": {},
     "output_type": "execute_result"
    }
   ],
   "source": [
    "font_list = fm.findSystemFonts(fontpaths = None, fontext = 'ttf')\n",
    "font_list[:]"
   ]
  },
  {
   "cell_type": "code",
   "execution_count": 3,
   "id": "907545ec",
   "metadata": {
    "id": "907545ec",
    "outputId": "d962cdc7-b094-489b-df00-dedceb5aaae8"
   },
   "outputs": [
    {
     "name": "stderr",
     "output_type": "stream",
     "text": [
      "C:\\Users\\bongkyun\\AppData\\Local\\Temp\\ipykernel_12516\\2582751676.py:1: MatplotlibDeprecationWarning: \n",
      "The get_fontconfig_fonts function was deprecated in Matplotlib 3.5 and will be removed two minor releases later.\n",
      "  fm.get_fontconfig_fonts()\n"
     ]
    }
   ],
   "source": [
    "fm.get_fontconfig_fonts()\n",
    "font_location = 'C:\\\\WINDOWS\\\\Fonts\\\\malgun.ttf' # For Windows\n",
    "font_name = fm.FontProperties(fname=font_location).get_name()\n",
    "matplotlib.rc('font', family=font_name)"
   ]
  },
  {
   "cell_type": "code",
   "execution_count": 5,
   "id": "03d9c506",
   "metadata": {
    "id": "03d9c506"
   },
   "outputs": [],
   "source": [
    "FILES_DIR = '../files/'\n",
    "log_df = pd.read_csv(FILES_DIR + 'log_csv.csv')"
   ]
  },
  {
   "cell_type": "code",
   "execution_count": 6,
   "id": "6750dd12",
   "metadata": {
    "id": "6750dd12"
   },
   "outputs": [],
   "source": [
    "log = log_df.copy()"
   ]
  },
  {
   "cell_type": "code",
   "execution_count": 7,
   "id": "c8be0309",
   "metadata": {
    "id": "c8be0309",
    "outputId": "8142463e-5f3d-44c8-b2ac-0235c04cbe69"
   },
   "outputs": [
    {
     "name": "stdout",
     "output_type": "stream",
     "text": [
      "Total number of cells the datafile has: \n",
      "Unnamed: 0         5659541\n",
      "uid                5473228\n",
      "action_type        5659541\n",
      "category1          5659541\n",
      "category2          5659541\n",
      "category3          4879535\n",
      "collect_time       5659541\n",
      "geoip_city_name    5242509\n",
      "useragent_os       5659541\n",
      "viewrate           5657112\n",
      "viewtime           5659541\n",
      "dtype: int64\n",
      "\n",
      "\n",
      "Printing descriptive statistics...\n",
      "\n",
      "          Unnamed: 0      viewrate      viewtime\n",
      "count  5.659541e+06  5.657112e+06  5.659541e+06\n",
      "mean   2.829770e+06  7.677686e+01  5.126022e+04\n",
      "std    1.633769e+06  4.221447e+01  5.810345e+05\n",
      "min    0.000000e+00  0.000000e+00  0.000000e+00\n",
      "25%    1.414885e+06  1.000000e+02  8.940000e+02\n",
      "50%    2.829770e+06  1.000000e+02  1.010400e+04\n",
      "75%    4.244655e+06  1.000000e+02  4.800500e+04\n",
      "max    5.659540e+06  1.000000e+02  8.636989e+07\n"
     ]
    }
   ],
   "source": [
    "# column describe \n",
    "def descriptive_info(log):\n",
    "    number_of_cells = log.count(axis=0, level=None, numeric_only=False)\n",
    "    print('Total number of cells the datafile has: \\n' + str(number_of_cells))\n",
    "    print('\\n')\n",
    "    print('Printing descriptive statistics...\\n\\n', log.describe())\n",
    "\n",
    "descriptive_info(log)"
   ]
  },
  {
   "cell_type": "code",
   "execution_count": 8,
   "id": "b772d559",
   "metadata": {
    "id": "b772d559",
    "outputId": "4d9092e4-44d2-4160-8939-b0ad2a2f84fa"
   },
   "outputs": [
    {
     "data": {
      "text/plain": [
       "category3          0.137821\n",
       "geoip_city_name    0.073687\n",
       "uid                0.032920\n",
       "viewrate           0.000429\n",
       "Unnamed: 0         0.000000\n",
       "action_type        0.000000\n",
       "category1          0.000000\n",
       "category2          0.000000\n",
       "collect_time       0.000000\n",
       "useragent_os       0.000000\n",
       "viewtime           0.000000\n",
       "dtype: float64"
      ]
     },
     "execution_count": 8,
     "metadata": {},
     "output_type": "execute_result"
    }
   ],
   "source": [
    "# null값 퍼센트로 보기\n",
    "(log.isnull().sum()/ log.shape[0]).sort_values(ascending=False)"
   ]
  },
  {
   "cell_type": "code",
   "execution_count": 9,
   "id": "278893e2",
   "metadata": {
    "id": "278893e2",
    "outputId": "f7e8230d-c8c5-4438-bb12-816762e25e2c"
   },
   "outputs": [
    {
     "data": {
      "text/plain": [
       "category3          643126\n",
       "geoip_city_name    417032\n",
       "uid                132162\n",
       "viewrate             1722\n",
       "Unnamed: 0              0\n",
       "action_type             0\n",
       "category1               0\n",
       "category2               0\n",
       "collect_time            0\n",
       "useragent_os            0\n",
       "viewtime                0\n",
       "dtype: int64"
      ]
     },
     "execution_count": 9,
     "metadata": {},
     "output_type": "execute_result"
    }
   ],
   "source": [
    "# 서울과 경기도는 시, 구와 중복 데이터이기 때문에 drop한다\n",
    "log_null_ts = log.copy()\n",
    "drop_city = log_null_ts[log_null_ts['geoip_city_name'] != 'Seoul']\n",
    "drop_city = drop_city[drop_city['geoip_city_name'] != 'Gyeonggi-do']\n",
    "\n",
    "drop_city.isnull().sum().sort_values(ascending=False)"
   ]
  },
  {
   "cell_type": "code",
   "execution_count": 10,
   "id": "645e3232",
   "metadata": {
    "id": "645e3232",
    "outputId": "9202e1cd-1238-4b06-dfb9-931aac1e052f"
   },
   "outputs": [
    {
     "name": "stdout",
     "output_type": "stream",
     "text": [
      "Unnamed: 0         0\n",
      "uid                0\n",
      "action_type        0\n",
      "category1          0\n",
      "category2          0\n",
      "category3          0\n",
      "collect_time       0\n",
      "geoip_city_name    0\n",
      "useragent_os       0\n",
      "viewrate           0\n",
      "viewtime           0\n",
      "dtype: int64\n"
     ]
    }
   ],
   "source": [
    "# null값들을 un_** 으로 채워서 확인해보기\n",
    "log_drop_null = drop_city\n",
    "log_drop_null['geoip_city_name'].fillna('un_city_name', inplace = True)\n",
    "log_drop_null['category3'].fillna('un_category', inplace = True)\n",
    "log_drop_null['uid'].fillna('un_name', inplace = True)\n",
    "log_drop_null.dropna(axis = 0, inplace = True)\n",
    "print(log_drop_null.isnull().sum().sort_values(ascending=False)) # null값 퍼센트로 표현"
   ]
  },
  {
   "cell_type": "code",
   "execution_count": 11,
   "id": "d1d53a2a",
   "metadata": {
    "id": "d1d53a2a",
    "outputId": "f86d071f-b62d-4e87-ad3c-ef5ace39c1a9"
   },
   "outputs": [
    {
     "data": {
      "text/html": [
       "<div>\n",
       "<style scoped>\n",
       "    .dataframe tbody tr th:only-of-type {\n",
       "        vertical-align: middle;\n",
       "    }\n",
       "\n",
       "    .dataframe tbody tr th {\n",
       "        vertical-align: top;\n",
       "    }\n",
       "\n",
       "    .dataframe thead th {\n",
       "        text-align: right;\n",
       "    }\n",
       "</style>\n",
       "<table border=\"1\" class=\"dataframe\">\n",
       "  <thead>\n",
       "    <tr style=\"text-align: right;\">\n",
       "      <th></th>\n",
       "      <th>Unnamed: 0</th>\n",
       "      <th>uid</th>\n",
       "      <th>action_type</th>\n",
       "      <th>category1</th>\n",
       "      <th>category2</th>\n",
       "      <th>category3</th>\n",
       "      <th>collect_time</th>\n",
       "      <th>geoip_city_name</th>\n",
       "      <th>useragent_os</th>\n",
       "      <th>viewrate</th>\n",
       "      <th>viewtime</th>\n",
       "    </tr>\n",
       "  </thead>\n",
       "  <tbody>\n",
       "    <tr>\n",
       "      <th>0</th>\n",
       "      <td>0</td>\n",
       "      <td>avpKyWMn/xEADNlb</td>\n",
       "      <td>View</td>\n",
       "      <td>주방용품</td>\n",
       "      <td>그릇·홈세트</td>\n",
       "      <td>식판·나눔접시</td>\n",
       "      <td>2022-12-29 17:29:02</td>\n",
       "      <td>Seongnam-si</td>\n",
       "      <td>Windows</td>\n",
       "      <td>100.0</td>\n",
       "      <td>80033</td>\n",
       "    </tr>\n",
       "    <tr>\n",
       "      <th>1</th>\n",
       "      <td>1</td>\n",
       "      <td>0+5vEmGkOuAAB5j2</td>\n",
       "      <td>Basket</td>\n",
       "      <td>패브릭</td>\n",
       "      <td>매트</td>\n",
       "      <td>주방·다용도매트</td>\n",
       "      <td>2022-12-29 12:56:38</td>\n",
       "      <td>Yongin-si</td>\n",
       "      <td>Windows</td>\n",
       "      <td>0.0</td>\n",
       "      <td>0</td>\n",
       "    </tr>\n",
       "    <tr>\n",
       "      <th>3</th>\n",
       "      <td>3</td>\n",
       "      <td>dC9Fl2Ly9lcADrTn</td>\n",
       "      <td>Highlight</td>\n",
       "      <td>데코·식물</td>\n",
       "      <td>플라워·식물</td>\n",
       "      <td>화병·화분</td>\n",
       "      <td>2022-12-29 17:54:30</td>\n",
       "      <td>Gwangmyeong-si</td>\n",
       "      <td>Windows</td>\n",
       "      <td>0.0</td>\n",
       "      <td>0</td>\n",
       "    </tr>\n",
       "    <tr>\n",
       "      <th>4</th>\n",
       "      <td>4</td>\n",
       "      <td>09gKcGLg0I8ACyQy</td>\n",
       "      <td>View</td>\n",
       "      <td>가구</td>\n",
       "      <td>진열장·책장</td>\n",
       "      <td>책장</td>\n",
       "      <td>2022-12-29 18:45:05</td>\n",
       "      <td>Jongno-gu</td>\n",
       "      <td>Mac OS X</td>\n",
       "      <td>100.0</td>\n",
       "      <td>1238</td>\n",
       "    </tr>\n",
       "    <tr>\n",
       "      <th>5</th>\n",
       "      <td>5</td>\n",
       "      <td>091fXGIDYFEABcpA</td>\n",
       "      <td>Basket</td>\n",
       "      <td>수납·정리</td>\n",
       "      <td>화장대·테이블정리</td>\n",
       "      <td>티슈커버·케이스</td>\n",
       "      <td>2022-12-29 17:53:11</td>\n",
       "      <td>Incheon</td>\n",
       "      <td>Windows</td>\n",
       "      <td>0.0</td>\n",
       "      <td>0</td>\n",
       "    </tr>\n",
       "    <tr>\n",
       "      <th>...</th>\n",
       "      <td>...</td>\n",
       "      <td>...</td>\n",
       "      <td>...</td>\n",
       "      <td>...</td>\n",
       "      <td>...</td>\n",
       "      <td>...</td>\n",
       "      <td>...</td>\n",
       "      <td>...</td>\n",
       "      <td>...</td>\n",
       "      <td>...</td>\n",
       "      <td>...</td>\n",
       "    </tr>\n",
       "    <tr>\n",
       "      <th>5659533</th>\n",
       "      <td>5659533</td>\n",
       "      <td>3yfy5mOZpbYAAMpw</td>\n",
       "      <td>View</td>\n",
       "      <td>가전·디지털</td>\n",
       "      <td>주방가전</td>\n",
       "      <td>오븐·전자레인지</td>\n",
       "      <td>2022-12-29 12:45:14</td>\n",
       "      <td>Gangnam-gu</td>\n",
       "      <td>Android</td>\n",
       "      <td>100.0</td>\n",
       "      <td>6054</td>\n",
       "    </tr>\n",
       "    <tr>\n",
       "      <th>5659534</th>\n",
       "      <td>5659534</td>\n",
       "      <td>qE73wWOr1C8ABhBw</td>\n",
       "      <td>View</td>\n",
       "      <td>캠핑용품</td>\n",
       "      <td>캠핑생활용품</td>\n",
       "      <td>기타캠핑생활용품</td>\n",
       "      <td>2022-12-28 15:40:29</td>\n",
       "      <td>Songpa-gu</td>\n",
       "      <td>Windows</td>\n",
       "      <td>100.0</td>\n",
       "      <td>10006</td>\n",
       "    </tr>\n",
       "    <tr>\n",
       "      <th>5659537</th>\n",
       "      <td>5659537</td>\n",
       "      <td>PVMstmNg4I4ADq9R</td>\n",
       "      <td>Basket</td>\n",
       "      <td>가구</td>\n",
       "      <td>진열장·책장</td>\n",
       "      <td>책장</td>\n",
       "      <td>2022-12-28 14:30:09</td>\n",
       "      <td>Jinju</td>\n",
       "      <td>Windows</td>\n",
       "      <td>0.0</td>\n",
       "      <td>0</td>\n",
       "    </tr>\n",
       "    <tr>\n",
       "      <th>5659538</th>\n",
       "      <td>5659538</td>\n",
       "      <td>diRXdmN49dUABrVo</td>\n",
       "      <td>View</td>\n",
       "      <td>가구</td>\n",
       "      <td>테이블·식탁·책상</td>\n",
       "      <td>식탁</td>\n",
       "      <td>2022-12-29 12:45:13</td>\n",
       "      <td>Gunpo</td>\n",
       "      <td>Android</td>\n",
       "      <td>100.0</td>\n",
       "      <td>47217</td>\n",
       "    </tr>\n",
       "    <tr>\n",
       "      <th>5659540</th>\n",
       "      <td>5659540</td>\n",
       "      <td>bgy5ZGOszc4ADrmd</td>\n",
       "      <td>View</td>\n",
       "      <td>가구</td>\n",
       "      <td>화장대·콘솔</td>\n",
       "      <td>일반화장대</td>\n",
       "      <td>2022-12-29 08:14:39</td>\n",
       "      <td>Iksan</td>\n",
       "      <td>iOS</td>\n",
       "      <td>0.0</td>\n",
       "      <td>0</td>\n",
       "    </tr>\n",
       "  </tbody>\n",
       "</table>\n",
       "<p>4671060 rows × 11 columns</p>\n",
       "</div>"
      ],
      "text/plain": [
       "         Unnamed: 0               uid action_type category1  category2  \\\n",
       "0                 0  avpKyWMn/xEADNlb        View      주방용품     그릇·홈세트   \n",
       "1                 1  0+5vEmGkOuAAB5j2      Basket       패브릭         매트   \n",
       "3                 3  dC9Fl2Ly9lcADrTn   Highlight     데코·식물     플라워·식물   \n",
       "4                 4  09gKcGLg0I8ACyQy        View        가구     진열장·책장   \n",
       "5                 5  091fXGIDYFEABcpA      Basket     수납·정리  화장대·테이블정리   \n",
       "...             ...               ...         ...       ...        ...   \n",
       "5659533     5659533  3yfy5mOZpbYAAMpw        View    가전·디지털       주방가전   \n",
       "5659534     5659534  qE73wWOr1C8ABhBw        View      캠핑용품     캠핑생활용품   \n",
       "5659537     5659537  PVMstmNg4I4ADq9R      Basket        가구     진열장·책장   \n",
       "5659538     5659538  diRXdmN49dUABrVo        View        가구  테이블·식탁·책상   \n",
       "5659540     5659540  bgy5ZGOszc4ADrmd        View        가구     화장대·콘솔   \n",
       "\n",
       "        category3         collect_time geoip_city_name useragent_os  viewrate  \\\n",
       "0         식판·나눔접시  2022-12-29 17:29:02     Seongnam-si      Windows     100.0   \n",
       "1        주방·다용도매트  2022-12-29 12:56:38       Yongin-si      Windows       0.0   \n",
       "3           화병·화분  2022-12-29 17:54:30  Gwangmyeong-si      Windows       0.0   \n",
       "4              책장  2022-12-29 18:45:05       Jongno-gu     Mac OS X     100.0   \n",
       "5        티슈커버·케이스  2022-12-29 17:53:11         Incheon      Windows       0.0   \n",
       "...           ...                  ...             ...          ...       ...   \n",
       "5659533  오븐·전자레인지  2022-12-29 12:45:14      Gangnam-gu      Android     100.0   \n",
       "5659534  기타캠핑생활용품  2022-12-28 15:40:29       Songpa-gu      Windows     100.0   \n",
       "5659537        책장  2022-12-28 14:30:09           Jinju      Windows       0.0   \n",
       "5659538        식탁  2022-12-29 12:45:13           Gunpo      Android     100.0   \n",
       "5659540     일반화장대  2022-12-29 08:14:39           Iksan          iOS       0.0   \n",
       "\n",
       "         viewtime  \n",
       "0           80033  \n",
       "1               0  \n",
       "3               0  \n",
       "4            1238  \n",
       "5               0  \n",
       "...           ...  \n",
       "5659533      6054  \n",
       "5659534     10006  \n",
       "5659537         0  \n",
       "5659538     47217  \n",
       "5659540         0  \n",
       "\n",
       "[4671060 rows x 11 columns]"
      ]
     },
     "execution_count": 11,
     "metadata": {},
     "output_type": "execute_result"
    }
   ],
   "source": [
    "log_drop_null"
   ]
  },
  {
   "cell_type": "markdown",
   "id": "b10f51b5",
   "metadata": {
    "id": "b10f51b5"
   },
   "source": [
    "## 광고 최적화"
   ]
  },
  {
   "cell_type": "code",
   "execution_count": null,
   "id": "53cace7b",
   "metadata": {
    "id": "53cace7b",
    "outputId": "f7d6decf-98f8-4775-b447-831fdd030f13"
   },
   "outputs": [],
   "source": [
    "# 날짜 데이터 데이트타임으로 바꾸기\n",
    "def _trans_date_time(log):\n",
    "    log.index = pd.to_datetime(log['collect_time'], infer_datetime_format=True)\n",
    "    log.drop('collect_time', axis=1, inplace=True)\n",
    "    return log\n",
    "\n",
    "_trans_date_time(log_drop_null)"
   ]
  },
  {
   "cell_type": "code",
   "execution_count": null,
   "id": "8ebc415f",
   "metadata": {
    "id": "8ebc415f"
   },
   "outputs": [],
   "source": [
    "log_drop_null[\"Hour\"] = log_drop_null.index.hour\n",
    "log_drop_null['Minute'] = log_drop_null.index.minute"
   ]
  },
  {
   "cell_type": "code",
   "execution_count": null,
   "id": "0c042351",
   "metadata": {
    "id": "0c042351",
    "outputId": "0d0b03ee-771d-49fc-986b-fde453752b53"
   },
   "outputs": [],
   "source": [
    "log_drop_null"
   ]
  },
  {
   "cell_type": "code",
   "execution_count": null,
   "id": "9b06d9d6",
   "metadata": {
    "id": "9b06d9d6",
    "outputId": "8979d358-16b3-4375-c3a1-83082118ccb2"
   },
   "outputs": [],
   "source": [
    "basket_hour = log_drop_null.loc[log_drop_null['action_type'] == 'Basket']\n",
    "basket_hour"
   ]
  },
  {
   "cell_type": "code",
   "execution_count": null,
   "id": "b5b4dcc2",
   "metadata": {
    "id": "b5b4dcc2",
    "outputId": "50eea205-fa61-4229-c69d-5f38d6ee619e"
   },
   "outputs": [],
   "source": [
    "basket_hour['Hour'].value_counts(normalize=True)"
   ]
  },
  {
   "cell_type": "code",
   "execution_count": null,
   "id": "4e10dbe0",
   "metadata": {
    "id": "4e10dbe0",
    "outputId": "1725fffd-caf9-422e-c223-3ebd946acab5"
   },
   "outputs": [],
   "source": [
    "basket_hour[\"time\"] = np.where((basket_hour['Hour'] >= 10)&(basket_hour[\"Hour\"].values <= 17) , \"1\",\"0\" )"
   ]
  },
  {
   "cell_type": "code",
   "execution_count": null,
   "id": "4d0f57a0",
   "metadata": {
    "id": "4d0f57a0",
    "outputId": "ebbb0417-034d-43d0-efbb-45ee8b89590b"
   },
   "outputs": [],
   "source": [
    "basket_hour"
   ]
  },
  {
   "cell_type": "code",
   "execution_count": null,
   "id": "15b6b466",
   "metadata": {
    "id": "15b6b466",
    "outputId": "fd2963c9-55fb-42d6-b8e0-5c315f6c9bc6"
   },
   "outputs": [],
   "source": [
    "basket_hour_1 = basket_hour.loc[basket_hour[\"time\"] == \"1\"]\n",
    "basket_hour_1['useragent_os'].value_counts(normalize=True)"
   ]
  },
  {
   "cell_type": "code",
   "execution_count": null,
   "id": "acbd1b0e",
   "metadata": {
    "id": "acbd1b0e",
    "outputId": "41778e1d-74bb-4919-8364-b7d034740819"
   },
   "outputs": [],
   "source": [
    "non_basket_hour = log_drop_null.loc[log_drop_null['action_type'] != 'Basket']\n",
    "non_basket_hour"
   ]
  },
  {
   "cell_type": "code",
   "execution_count": null,
   "id": "9fd4e7ca",
   "metadata": {
    "id": "9fd4e7ca",
    "outputId": "bd93d432-7414-4ae0-f252-cd6a099fa410"
   },
   "outputs": [],
   "source": [
    "non_basket_hour['Hour'].value_counts(normalize=True)"
   ]
  },
  {
   "cell_type": "code",
   "execution_count": null,
   "id": "0f0ad17a",
   "metadata": {
    "id": "0f0ad17a",
    "outputId": "90043e10-af25-46b7-bd2d-2230d3410ec8"
   },
   "outputs": [],
   "source": [
    "plt.figure(figsize=(20, 6))\n",
    "plt.subplot(3, 1, 1)\n",
    "display(basket_hour[\"Hour\"].value_counts(normalize=True))\n",
    "sns.countplot(data=basket_hour, x=\"Hour\")\n",
    "plt.title('basket_hour')\n",
    "plt.xticks(rotation=90)\n",
    "\n",
    "\n",
    "plt.subplot(3, 1, 2)                \n",
    "display(non_basket_hour[\"Hour\"].value_counts(normalize=True))\n",
    "sns.countplot(data=non_basket_hour, x=\"Hour\")\n",
    "plt.title('non_basket_hour')\n",
    "plt.xticks(rotation=90)\n",
    "\n",
    "\n",
    "plt.subplot(3, 1, 3)                \n",
    "display(log_drop_null[\"Hour\"].value_counts(normalize=True))\n",
    "sns.countplot(data=log_drop_null, x=\"Hour\")\n",
    "plt.title('log_drop_null')\n",
    "plt.xticks(rotation=90)\n",
    "\n",
    "plt.tight_layout()\n",
    "plt.show()"
   ]
  },
  {
   "cell_type": "code",
   "execution_count": null,
   "id": "1d8e3f12",
   "metadata": {
    "id": "1d8e3f12",
    "outputId": "57bb62e4-4f05-4547-d89d-672c3e72d2f4"
   },
   "outputs": [],
   "source": [
    "log_view_time = log_drop_null.loc[log_drop_null[\"viewtime\"] > 0]\n",
    "log_view_time"
   ]
  },
  {
   "cell_type": "code",
   "execution_count": null,
   "id": "75a94102",
   "metadata": {
    "id": "75a94102",
    "outputId": "ea40cb94-71eb-41db-f486-794939d98774"
   },
   "outputs": [],
   "source": [
    "log_view_time[\"time\"] = np.where((log_view_time['Hour'] >= 10)&(log_view_time[\"Hour\"].values <= 17) , \"1\",\"0\" )"
   ]
  },
  {
   "cell_type": "code",
   "execution_count": null,
   "id": "a9476d99",
   "metadata": {
    "id": "a9476d99",
    "outputId": "cd65ab77-8e52-4668-f95b-8de8a7f07c7c"
   },
   "outputs": [],
   "source": [
    "log_view_time_1 = log_view_time.loc[log_view_time[\"time\"] == \"1\"]\n",
    "log_view_time_1['viewtime'].mean() / 1000"
   ]
  },
  {
   "cell_type": "code",
   "execution_count": null,
   "id": "578db946",
   "metadata": {
    "id": "578db946",
    "outputId": "1dcce16b-93ee-443f-c2f9-70449431949f"
   },
   "outputs": [],
   "source": [
    "log_view_time_0 = log_view_time.loc[log_view_time[\"time\"] == \"0\"]\n",
    "log_view_time_0['viewtime'].mean() / 1000"
   ]
  },
  {
   "cell_type": "code",
   "execution_count": null,
   "id": "a7f43669",
   "metadata": {
    "id": "a7f43669"
   },
   "outputs": [],
   "source": []
  },
  {
   "cell_type": "markdown",
   "id": "d0c3fa7d",
   "metadata": {
    "id": "d0c3fa7d"
   },
   "source": [
    "## basket_uid별로 분석"
   ]
  },
  {
   "cell_type": "code",
   "execution_count": null,
   "id": "f25853d1",
   "metadata": {
    "id": "f25853d1",
    "outputId": "368682a1-cf1d-4cb9-a4c5-777a81dad60c"
   },
   "outputs": [],
   "source": [
    "log_drop_null"
   ]
  },
  {
   "cell_type": "code",
   "execution_count": null,
   "id": "6705288b",
   "metadata": {
    "id": "6705288b"
   },
   "outputs": [],
   "source": [
    "log_uid = list(set(log_drop_null['uid'].to_list()))"
   ]
  },
  {
   "cell_type": "code",
   "execution_count": null,
   "id": "686566a8",
   "metadata": {
    "id": "686566a8",
    "outputId": "72e2c4b3-8b82-4c77-8d9b-d6fc4be505ff"
   },
   "outputs": [],
   "source": [
    "len(log_uid)"
   ]
  },
  {
   "cell_type": "code",
   "execution_count": null,
   "id": "4f0467c9",
   "metadata": {
    "id": "4f0467c9",
    "outputId": "a16d8f83-d3c2-44df-ee29-f971b44a8316"
   },
   "outputs": [],
   "source": [
    "log_uid_set = log_drop_null.loc[log_drop_null['action_type'] == 'Basket', 'uid']\n",
    "log_uid_set = list(set(log_uid_set.to_list()))\n",
    "len(log_uid_set)"
   ]
  },
  {
   "cell_type": "code",
   "execution_count": null,
   "id": "f8924146",
   "metadata": {},
   "outputs": [],
   "source": [
    "basket_uid = log_drop_null[log_drop_null['uid'].isin(log_uid_set)]\n",
    "basket_uid"
   ]
  },
  {
   "cell_type": "code",
   "execution_count": null,
   "id": "74980925",
   "metadata": {
    "id": "74980925",
    "outputId": "2ab8cacf-3478-4e14-88d3-395f1b6e9a86"
   },
   "outputs": [],
   "source": [
    "for col in list(basket_uid.columns):\n",
    "    print(col)\n",
    "    print(basket_uid[col].value_counts(normalize=True))\n",
    "    print('\\n')"
   ]
  },
  {
   "cell_type": "code",
   "execution_count": null,
   "id": "be68b54d",
   "metadata": {
    "id": "be68b54d",
    "outputId": "21eafcbe-7e89-418c-fcea-93009ccb40f1"
   },
   "outputs": [],
   "source": [
    "plt.figure(figsize=(16, 6))\n",
    "\n",
    "plt.subplot(2, 2, 1)\n",
    "display(basket_uid[\"action_type\"].value_counts(normalize=True))\n",
    "sns.countplot(data=basket_uid, x=\"action_type\")\n",
    "plt.title('uid_actiontype')\n",
    "plt.xticks(rotation=90)\n",
    "\n",
    "\n",
    "\n",
    "plt.subplot(2, 2, 2)\n",
    "display(log_drop_null[\"action_type\"].value_counts(normalize=True))\n",
    "sns.countplot(data=log_drop_null, x=\"action_type\")\n",
    "plt.title('actiontype')\n",
    "plt.xticks(rotation=90)\n",
    "\n",
    "\n",
    "\n",
    "plt.subplot(2, 2, 3)\n",
    "display(basket_uid[\"useragent_os\"].value_counts(normalize=True))\n",
    "sns.countplot(data=basket_uid, x=\"useragent_os\")\n",
    "plt.title('uid_useragent_os')\n",
    "plt.xticks(rotation=90)\n",
    "\n",
    "\n",
    "plt.subplot(2, 2, 4)\n",
    "display(log_drop_null[\"useragent_os\"].value_counts(normalize=True))\n",
    "sns.countplot(data=log_drop_null, x=\"useragent_os\")\n",
    "plt.title('useragent_os')\n",
    "plt.xticks(rotation=90)\n",
    "\n",
    "\n",
    "\n",
    "plt.tight_layout()\n",
    "plt.show()"
   ]
  },
  {
   "cell_type": "code",
   "execution_count": null,
   "id": "64ecd09f",
   "metadata": {},
   "outputs": [],
   "source": [
    "basket_viewtime = basket_uid.loc[basket_uid[\"viewtime\"] > 0]\n",
    "basket_viewtime.viewtime.mean() / 1000"
   ]
  },
  {
   "cell_type": "code",
   "execution_count": null,
   "id": "37c48c13",
   "metadata": {},
   "outputs": [],
   "source": [
    "basket_uid[basket_uid['useragent_os'].str.contains('Windows|Android|iOS|Mac OS X')]"
   ]
  },
  {
   "cell_type": "code",
   "execution_count": null,
   "id": "9a2f2c1d",
   "metadata": {},
   "outputs": [],
   "source": [
    "basket_uid[\"useragent_os\"] = np.where((basket_uid['useragent_os'] == 'Android')|(basket_uid[\"useragent_os\"] == 'iOS') , \"1\",\"0\" )"
   ]
  },
  {
   "cell_type": "code",
   "execution_count": null,
   "id": "4b42a483",
   "metadata": {},
   "outputs": [],
   "source": [
    "basket_mobile = basket_uid[basket_uid['useragent_os'] == '1']\n",
    "basket_mobile = basket_mobile[basket_mobile['viewtime'] > 0]\n",
    "basket_mobile.viewtime.mean() / 1000"
   ]
  },
  {
   "cell_type": "code",
   "execution_count": null,
   "id": "d9e54c56",
   "metadata": {},
   "outputs": [],
   "source": [
    "basket_mobile = basket_uid[basket_uid['useragent_os'] == '1']\n",
    "basket_mobile = basket_mobile[basket_mobile['viewtime'] > 0]\n",
    "basket_mobile.viewtime.median() / 1000"
   ]
  },
  {
   "cell_type": "code",
   "execution_count": null,
   "id": "2ef944f0",
   "metadata": {},
   "outputs": [],
   "source": [
    "basket_desktop = basket_uid[basket_uid['useragent_os'] == '0']\n",
    "basket_desktop = basket_desktop[basket_desktop['viewtime'] > 0]\n",
    "basket_desktop.viewtime.mean() / 1000"
   ]
  },
  {
   "cell_type": "code",
   "execution_count": null,
   "id": "34faa182",
   "metadata": {},
   "outputs": [],
   "source": [
    "basket_desktop = basket_uid[basket_uid['useragent_os'] == '0']\n",
    "basket_desktop = basket_desktop[basket_desktop['viewtime'] > 0]\n",
    "basket_desktop.viewtime.median() / 1000"
   ]
  },
  {
   "cell_type": "markdown",
   "id": "e4c15917",
   "metadata": {
    "id": "e4c15917"
   },
   "source": [
    "## non basket_uid"
   ]
  },
  {
   "cell_type": "code",
   "execution_count": null,
   "id": "e2360e44",
   "metadata": {
    "id": "e2360e44",
    "outputId": "acd2fe84-1aa5-4b25-cb20-740087623e04"
   },
   "outputs": [],
   "source": [
    "log_drop_null"
   ]
  },
  {
   "cell_type": "code",
   "execution_count": null,
   "id": "f920c186",
   "metadata": {
    "id": "f920c186",
    "outputId": "a197308d-ebbe-4ea1-95d8-71ae60eb0888"
   },
   "outputs": [],
   "source": [
    "log_uid = list(set(log_drop_null['uid'].to_list()))\n",
    "len(log_uid)"
   ]
  },
  {
   "cell_type": "code",
   "execution_count": null,
   "id": "f1ee619e",
   "metadata": {
    "id": "f1ee619e",
    "outputId": "cc740ff2-79fa-4d2d-f166-72565fce78db"
   },
   "outputs": [],
   "source": [
    "non_uid_set = log_drop_null.loc[log_drop_null['action_type'] != 'Basket', 'uid']\n",
    "non_uid_set = list(set(non_uid_set.to_list()))\n",
    "len(non_uid_set)"
   ]
  },
  {
   "cell_type": "code",
   "execution_count": null,
   "id": "b222ea65",
   "metadata": {},
   "outputs": [],
   "source": [
    "non_basket_uid = log_drop_null[log_drop_null['uid'].isin(non_uid_set)]\n",
    "non_basket_uid"
   ]
  },
  {
   "cell_type": "code",
   "execution_count": null,
   "id": "59c72eea",
   "metadata": {
    "id": "59c72eea",
    "outputId": "81ab81e4-2be6-4070-a40d-ed8d8dd0e54f"
   },
   "outputs": [],
   "source": [
    "for col in list(non_basket_uid.columns):\n",
    "    print(col)\n",
    "    print(non_basket_uid[col].value_counts(normalize=True))\n",
    "    print('\\n')"
   ]
  },
  {
   "cell_type": "code",
   "execution_count": null,
   "id": "c2a68568",
   "metadata": {
    "id": "c2a68568",
    "outputId": "27be67e7-fbce-42b1-c79e-c8c3acfaf300"
   },
   "outputs": [],
   "source": [
    "plt.figure(figsize=(16, 6))\n",
    "\n",
    "plt.subplot(2, 2, 1)\n",
    "display(non_basket_uid[\"action_type\"].value_counts(normalize=True))\n",
    "sns.countplot(data=non_basket_uid, x=\"action_type\")\n",
    "plt.title('uid_actiontype')\n",
    "plt.xticks(rotation=90)\n",
    "\n",
    "\n",
    "\n",
    "plt.subplot(2, 2, 2)\n",
    "display(log_drop_null[\"action_type\"].value_counts(normalize=True))\n",
    "sns.countplot(data=log_drop_null, x=\"action_type\")\n",
    "plt.title('actiontype')\n",
    "plt.xticks(rotation=90)\n",
    "\n",
    "\n",
    "\n",
    "plt.subplot(2, 2, 3)\n",
    "display(non_basket_uid[\"useragent_os\"].value_counts(normalize=True))\n",
    "sns.countplot(data=non_basket_uid, x=\"useragent_os\")\n",
    "plt.title('uid_useragent_os')\n",
    "plt.xticks(rotation=90)\n",
    "\n",
    "\n",
    "plt.subplot(2, 2, 4)\n",
    "display(log_drop_null[\"useragent_os\"].value_counts(normalize=True))\n",
    "sns.countplot(data=log_drop_null, x=\"useragent_os\")\n",
    "plt.title('useragent_os')\n",
    "plt.xticks(rotation=90)\n",
    "\n",
    "\n",
    "\n",
    "plt.tight_layout()\n",
    "plt.show()"
   ]
  },
  {
   "cell_type": "code",
   "execution_count": null,
   "id": "d8168e29",
   "metadata": {
    "id": "d8168e29"
   },
   "outputs": [],
   "source": [
    "non_basket_viewtime = non_basket_uid.loc[non_basket_uid[\"viewtime\"] > 0]\n",
    "non_basket_viewtime.viewtime.mean() / 1000"
   ]
  },
  {
   "cell_type": "code",
   "execution_count": null,
   "id": "2dc8cba2",
   "metadata": {},
   "outputs": [],
   "source": [
    "non_basket_uid[non_basket_uid['useragent_os'].str.contains('Windows|Android|iOS|Mac OS X')]"
   ]
  },
  {
   "cell_type": "code",
   "execution_count": null,
   "id": "27dbfe2d",
   "metadata": {},
   "outputs": [],
   "source": [
    "non_basket_uid[\"useragent_os\"] = np.where((non_basket_uid['useragent_os'] == 'Android')|(non_basket_uid[\"useragent_os\"] == 'iOS') , \"1\",\"0\" )"
   ]
  },
  {
   "cell_type": "code",
   "execution_count": null,
   "id": "54bbde46",
   "metadata": {},
   "outputs": [],
   "source": [
    "non_basket_mobile = non_basket_uid[non_basket_uid['useragent_os'] == '1']\n",
    "non_basket_mobile = non_basket_mobile[non_basket_mobile['viewtime'] > 0]\n",
    "non_basket_mobile.viewtime.mean() / 1000"
   ]
  },
  {
   "cell_type": "code",
   "execution_count": null,
   "id": "4854464c",
   "metadata": {},
   "outputs": [],
   "source": [
    "non_basket_mobile = non_basket_uid[non_basket_uid['useragent_os'] == '1']\n",
    "non_basket_mobile = non_basket_mobile[non_basket_mobile['viewtime'] > 0]\n",
    "non_basket_mobile.viewtime.median() / 1000"
   ]
  },
  {
   "cell_type": "code",
   "execution_count": null,
   "id": "98437c53",
   "metadata": {},
   "outputs": [],
   "source": [
    "non_basket_desktop = non_basket_uid[non_basket_uid['useragent_os'] == '0']\n",
    "non_basket_desktop = non_basket_desktop[non_basket_desktop['viewtime'] > 0]\n",
    "non_basket_desktop.viewtime.mean() / 1000"
   ]
  },
  {
   "cell_type": "code",
   "execution_count": null,
   "id": "f4caf5fe",
   "metadata": {},
   "outputs": [],
   "source": [
    "non_basket_desktop = non_basket_uid[non_basket_uid['useragent_os'] == '0']\n",
    "non_basket_desktop = non_basket_desktop[non_basket_desktop['viewtime'] > 0]\n",
    "non_basket_desktop.viewtime.median() / 1000"
   ]
  },
  {
   "cell_type": "markdown",
   "id": "744153d2",
   "metadata": {},
   "source": [
    "## 카이제곱검정"
   ]
  },
  {
   "cell_type": "code",
   "execution_count": null,
   "id": "f0134ef9",
   "metadata": {},
   "outputs": [],
   "source": [
    "log_drop_null = log_drop_null[log_drop_null['useragent_os'].str.contains('Windows|Android|iOS|Mac OS X')]\n",
    "\n",
    "\n",
    "log_drop_null[\"useragent_os\"] = np.where((log_drop_null['useragent_os'] == 'Android')|\n",
    "                                         (log_drop_null[\"useragent_os\"] == 'iOS') , \"1\",\"0\" )\n",
    "\n",
    "\n",
    "log_drop_null[\"viewrate\"] = np.where((log_drop_null['viewrate'] != 0), \"1\",\"0\" )\n",
    "\n",
    "\n",
    "log_basket = log_drop_null[log_drop_null['action_type']=='Basket'][['viewrate']]\n",
    "log_non_basket = log_drop_null[log_drop_null['action_type']!='Basket'][['viewrate']]\n",
    "\n",
    "\n",
    "total_basket = pd.concat([pd.get_dummies(log_basket),\n",
    "                          log_drop_null[log_drop_null['action_type']=='Basket']\n",
    "                          [['useragent_os']]],axis=1)\n",
    "\n",
    "total_non_basket = pd.concat([pd.get_dummies(log_non_basket),\n",
    "                              log_drop_null[log_drop_null['action_type']!='Basket']\n",
    "                              [['useragent_os']]],axis=1)\n",
    "\n",
    "\n",
    "a_0 = total_basket[total_basket['useragent_os']=='0'].shape[0]\n",
    "a_1 = total_basket[total_basket['useragent_os']=='1'].shape[0]\n",
    "b_0 = total_non_basket[total_non_basket['useragent_os']=='0'].shape[0]\n",
    "b_1 = total_non_basket[total_non_basket['useragent_os']=='1'].shape[0]\n",
    "\n",
    "dataset_chi = [[a_0, a_1], [b_0, b_1]]\n",
    "pval = stats.chi2_contingency(dataset_chi)[1]\n",
    "print('p-value : ',round(pval,5))"
   ]
  }
 ],
 "metadata": {
  "colab": {
   "collapsed_sections": [
    "u8SaomG2z3mW",
    "d0c3fa7d",
    "e4c15917"
   ],
   "provenance": []
  },
  "kernelspec": {
   "display_name": "Python 3 (ipykernel)",
   "language": "python",
   "name": "python3"
  },
  "language_info": {
   "codemirror_mode": {
    "name": "ipython",
    "version": 3
   },
   "file_extension": ".py",
   "mimetype": "text/x-python",
   "name": "python",
   "nbconvert_exporter": "python",
   "pygments_lexer": "ipython3",
   "version": "3.9.13"
  }
 },
 "nbformat": 4,
 "nbformat_minor": 5
}
