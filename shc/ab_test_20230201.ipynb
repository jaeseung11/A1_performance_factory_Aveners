{
 "cells": [
  {
   "cell_type": "code",
   "execution_count": 1,
   "id": "62367dc7",
   "metadata": {},
   "outputs": [],
   "source": [
    "import numpy as np\n",
    "import pandas as pd\n",
    "\n",
    "from scipy import stats\n",
    "from scipy.stats import chi2_contingency\n",
    "from scipy.stats import ttest_ind\n",
    "\n",
    "from pathlib import Path"
   ]
  },
  {
   "cell_type": "code",
   "execution_count": 2,
   "id": "bffb09d2",
   "metadata": {},
   "outputs": [],
   "source": [
    "BASE_DIR = Path(__name__).resolve().parent.parent\n",
    "FILES_DIR = BASE_DIR / 'files'"
   ]
  },
  {
   "cell_type": "code",
   "execution_count": 3,
   "id": "6c3e4b46",
   "metadata": {},
   "outputs": [],
   "source": [
    "bidding_origin = pd.read_csv(FILES_DIR / 'bidding_results.csv')\n",
    "# bidding = pd.read_csv(FILES_DIR / 'bidding_results.csv')"
   ]
  },
  {
   "cell_type": "code",
   "execution_count": 5,
   "id": "c088cb7c",
   "metadata": {},
   "outputs": [],
   "source": [
    "# bidding = bidding.drop_duplicates(subset=['index', 'date'])\n",
    "indexs = list(set(bidding_origin['index'].to_list()))\n",
    "bidding = bidding_origin.drop_duplicates(['index'])"
   ]
  },
  {
   "cell_type": "code",
   "execution_count": 6,
   "id": "0e9cd37f",
   "metadata": {},
   "outputs": [
    {
     "data": {
      "text/html": [
       "<div>\n",
       "<style scoped>\n",
       "    .dataframe tbody tr th:only-of-type {\n",
       "        vertical-align: middle;\n",
       "    }\n",
       "\n",
       "    .dataframe tbody tr th {\n",
       "        vertical-align: top;\n",
       "    }\n",
       "\n",
       "    .dataframe thead th {\n",
       "        text-align: right;\n",
       "    }\n",
       "</style>\n",
       "<table border=\"1\" class=\"dataframe\">\n",
       "  <thead>\n",
       "    <tr style=\"text-align: right;\">\n",
       "      <th></th>\n",
       "      <th>index</th>\n",
       "      <th>Impression</th>\n",
       "      <th>Click</th>\n",
       "      <th>Cost</th>\n",
       "      <th>Sum of AD rank</th>\n",
       "      <th>Bid</th>\n",
       "      <th>Price(PC)</th>\n",
       "      <th>Price(Mobile)</th>\n",
       "      <th>Delivery Fee</th>\n",
       "      <th>Category Name 1</th>\n",
       "      <th>Category Name 2</th>\n",
       "      <th>Category Name 3</th>\n",
       "      <th>Category Name 4</th>\n",
       "      <th>date</th>\n",
       "    </tr>\n",
       "  </thead>\n",
       "  <tbody>\n",
       "    <tr>\n",
       "      <th>0</th>\n",
       "      <td>3575092</td>\n",
       "      <td>3</td>\n",
       "      <td>0</td>\n",
       "      <td>0.0</td>\n",
       "      <td>3.000000</td>\n",
       "      <td>50</td>\n",
       "      <td>165900</td>\n",
       "      <td>165900</td>\n",
       "      <td>0</td>\n",
       "      <td>가구/인테리어</td>\n",
       "      <td>침실가구</td>\n",
       "      <td>장롱/붙박이장</td>\n",
       "      <td>드레스룸</td>\n",
       "      <td>20221031</td>\n",
       "    </tr>\n",
       "    <tr>\n",
       "      <th>1</th>\n",
       "      <td>3575637</td>\n",
       "      <td>6</td>\n",
       "      <td>0</td>\n",
       "      <td>0.0</td>\n",
       "      <td>3.333333</td>\n",
       "      <td>50</td>\n",
       "      <td>10900</td>\n",
       "      <td>10900</td>\n",
       "      <td>0</td>\n",
       "      <td>가구/인테리어</td>\n",
       "      <td>인테리어소품</td>\n",
       "      <td>아로마/캔들용품</td>\n",
       "      <td>아로마방향제/디퓨저</td>\n",
       "      <td>20221031</td>\n",
       "    </tr>\n",
       "    <tr>\n",
       "      <th>2</th>\n",
       "      <td>4129259</td>\n",
       "      <td>7</td>\n",
       "      <td>0</td>\n",
       "      <td>0.0</td>\n",
       "      <td>8.000000</td>\n",
       "      <td>50</td>\n",
       "      <td>255000</td>\n",
       "      <td>255000</td>\n",
       "      <td>-1</td>\n",
       "      <td>가구/인테리어</td>\n",
       "      <td>거실가구</td>\n",
       "      <td>소파</td>\n",
       "      <td>패브릭소파</td>\n",
       "      <td>20221031</td>\n",
       "    </tr>\n",
       "    <tr>\n",
       "      <th>3</th>\n",
       "      <td>4131479</td>\n",
       "      <td>36</td>\n",
       "      <td>3</td>\n",
       "      <td>150.0</td>\n",
       "      <td>4.416667</td>\n",
       "      <td>140</td>\n",
       "      <td>190000</td>\n",
       "      <td>190000</td>\n",
       "      <td>20000</td>\n",
       "      <td>가구/인테리어</td>\n",
       "      <td>아동/주니어가구</td>\n",
       "      <td>책상의자세트</td>\n",
       "      <td>NaN</td>\n",
       "      <td>20221031</td>\n",
       "    </tr>\n",
       "    <tr>\n",
       "      <th>4</th>\n",
       "      <td>4131482</td>\n",
       "      <td>224</td>\n",
       "      <td>0</td>\n",
       "      <td>0.0</td>\n",
       "      <td>5.696429</td>\n",
       "      <td>50</td>\n",
       "      <td>129000</td>\n",
       "      <td>129000</td>\n",
       "      <td>0</td>\n",
       "      <td>가구/인테리어</td>\n",
       "      <td>아동/주니어가구</td>\n",
       "      <td>책상</td>\n",
       "      <td>NaN</td>\n",
       "      <td>20221031</td>\n",
       "    </tr>\n",
       "    <tr>\n",
       "      <th>...</th>\n",
       "      <td>...</td>\n",
       "      <td>...</td>\n",
       "      <td>...</td>\n",
       "      <td>...</td>\n",
       "      <td>...</td>\n",
       "      <td>...</td>\n",
       "      <td>...</td>\n",
       "      <td>...</td>\n",
       "      <td>...</td>\n",
       "      <td>...</td>\n",
       "      <td>...</td>\n",
       "      <td>...</td>\n",
       "      <td>...</td>\n",
       "      <td>...</td>\n",
       "    </tr>\n",
       "    <tr>\n",
       "      <th>1337083</th>\n",
       "      <td>2566795</td>\n",
       "      <td>5</td>\n",
       "      <td>0</td>\n",
       "      <td>0.0</td>\n",
       "      <td>13.200000</td>\n",
       "      <td>500</td>\n",
       "      <td>19900</td>\n",
       "      <td>19900</td>\n",
       "      <td>0</td>\n",
       "      <td>가구/인테리어</td>\n",
       "      <td>인테리어소품</td>\n",
       "      <td>아로마/캔들용품</td>\n",
       "      <td>아로마방향제/디퓨저</td>\n",
       "      <td>20230103</td>\n",
       "    </tr>\n",
       "    <tr>\n",
       "      <th>1337084</th>\n",
       "      <td>2566880</td>\n",
       "      <td>3</td>\n",
       "      <td>0</td>\n",
       "      <td>0.0</td>\n",
       "      <td>17.000000</td>\n",
       "      <td>500</td>\n",
       "      <td>23900</td>\n",
       "      <td>23900</td>\n",
       "      <td>3000</td>\n",
       "      <td>생활/건강</td>\n",
       "      <td>문구/사무용품</td>\n",
       "      <td>이벤트/파티용품</td>\n",
       "      <td>데코용품</td>\n",
       "      <td>20230103</td>\n",
       "    </tr>\n",
       "    <tr>\n",
       "      <th>1337085</th>\n",
       "      <td>2566881</td>\n",
       "      <td>1</td>\n",
       "      <td>0</td>\n",
       "      <td>0.0</td>\n",
       "      <td>8.000000</td>\n",
       "      <td>500</td>\n",
       "      <td>2500</td>\n",
       "      <td>2500</td>\n",
       "      <td>3000</td>\n",
       "      <td>가구/인테리어</td>\n",
       "      <td>인테리어소품</td>\n",
       "      <td>기타장식용품</td>\n",
       "      <td>NaN</td>\n",
       "      <td>20230103</td>\n",
       "    </tr>\n",
       "    <tr>\n",
       "      <th>1337086</th>\n",
       "      <td>2566891</td>\n",
       "      <td>2</td>\n",
       "      <td>0</td>\n",
       "      <td>0.0</td>\n",
       "      <td>4.000000</td>\n",
       "      <td>500</td>\n",
       "      <td>21000</td>\n",
       "      <td>21000</td>\n",
       "      <td>3000</td>\n",
       "      <td>생활/건강</td>\n",
       "      <td>정원/원예용품</td>\n",
       "      <td>화분받침</td>\n",
       "      <td>NaN</td>\n",
       "      <td>20230103</td>\n",
       "    </tr>\n",
       "    <tr>\n",
       "      <th>1337087</th>\n",
       "      <td>2566923</td>\n",
       "      <td>14</td>\n",
       "      <td>0</td>\n",
       "      <td>0.0</td>\n",
       "      <td>12.428571</td>\n",
       "      <td>500</td>\n",
       "      <td>128800</td>\n",
       "      <td>128800</td>\n",
       "      <td>0</td>\n",
       "      <td>가구/인테리어</td>\n",
       "      <td>인테리어소품</td>\n",
       "      <td>액자</td>\n",
       "      <td>퍼즐/그림/사진액자</td>\n",
       "      <td>20230103</td>\n",
       "    </tr>\n",
       "  </tbody>\n",
       "</table>\n",
       "<p>48896 rows × 14 columns</p>\n",
       "</div>"
      ],
      "text/plain": [
       "           index  Impression  Click   Cost  Sum of AD rank  Bid  Price(PC)  \\\n",
       "0        3575092           3      0    0.0        3.000000   50     165900   \n",
       "1        3575637           6      0    0.0        3.333333   50      10900   \n",
       "2        4129259           7      0    0.0        8.000000   50     255000   \n",
       "3        4131479          36      3  150.0        4.416667  140     190000   \n",
       "4        4131482         224      0    0.0        5.696429   50     129000   \n",
       "...          ...         ...    ...    ...             ...  ...        ...   \n",
       "1337083  2566795           5      0    0.0       13.200000  500      19900   \n",
       "1337084  2566880           3      0    0.0       17.000000  500      23900   \n",
       "1337085  2566881           1      0    0.0        8.000000  500       2500   \n",
       "1337086  2566891           2      0    0.0        4.000000  500      21000   \n",
       "1337087  2566923          14      0    0.0       12.428571  500     128800   \n",
       "\n",
       "         Price(Mobile)  Delivery Fee Category Name 1 Category Name 2  \\\n",
       "0               165900             0         가구/인테리어            침실가구   \n",
       "1                10900             0         가구/인테리어          인테리어소품   \n",
       "2               255000            -1         가구/인테리어            거실가구   \n",
       "3               190000         20000         가구/인테리어        아동/주니어가구   \n",
       "4               129000             0         가구/인테리어        아동/주니어가구   \n",
       "...                ...           ...             ...             ...   \n",
       "1337083          19900             0         가구/인테리어          인테리어소품   \n",
       "1337084          23900          3000           생활/건강         문구/사무용품   \n",
       "1337085           2500          3000         가구/인테리어          인테리어소품   \n",
       "1337086          21000          3000           생활/건강         정원/원예용품   \n",
       "1337087         128800             0         가구/인테리어          인테리어소품   \n",
       "\n",
       "        Category Name 3 Category Name 4      date  \n",
       "0               장롱/붙박이장            드레스룸  20221031  \n",
       "1              아로마/캔들용품      아로마방향제/디퓨저  20221031  \n",
       "2                    소파           패브릭소파  20221031  \n",
       "3                책상의자세트             NaN  20221031  \n",
       "4                    책상             NaN  20221031  \n",
       "...                 ...             ...       ...  \n",
       "1337083        아로마/캔들용품      아로마방향제/디퓨저  20230103  \n",
       "1337084        이벤트/파티용품            데코용품  20230103  \n",
       "1337085          기타장식용품             NaN  20230103  \n",
       "1337086            화분받침             NaN  20230103  \n",
       "1337087              액자      퍼즐/그림/사진액자  20230103  \n",
       "\n",
       "[48896 rows x 14 columns]"
      ]
     },
     "execution_count": 6,
     "metadata": {},
     "output_type": "execute_result"
    }
   ],
   "source": [
    "bidding"
   ]
  },
  {
   "cell_type": "markdown",
   "id": "17c820a6",
   "metadata": {},
   "source": [
    "#### 피어슨 상관 계수란??\n",
    "두 변수의 선형 상관 관계를 계량화한 수치입니다.\n",
    "\n",
    "결과값은 -1 ~ 1 사이의 값이며,\n",
    "\n",
    "양의 상관 관계가 있을수록 1에 가깝고, 음의 상관 관계가 있을수록 -1에 가깝습니다.\n",
    "\n",
    "또한, 상관 관계가 없을수록 0에 가깝습니다."
   ]
  },
  {
   "cell_type": "code",
   "execution_count": 7,
   "id": "8dbd5fff",
   "metadata": {},
   "outputs": [],
   "source": [
    "def pearson(a, b):\n",
    "    pearson_r, p_value = stats.pearsonr(a, b)\n",
    "    print(\"p 값 :\", format(p_value, '.5f'))\n",
    "    print(\"피어슨 상관계수 (r) :\", format(pearson_r, '.5f'))"
   ]
  },
  {
   "cell_type": "code",
   "execution_count": 8,
   "id": "f95af604",
   "metadata": {},
   "outputs": [
    {
     "name": "stdout",
     "output_type": "stream",
     "text": [
      "p 값 : 0.00000\n",
      "피어슨 상관계수 (r) : 0.49195\n"
     ]
    }
   ],
   "source": [
    "pearson(bidding['Impression'], bidding['Click'])"
   ]
  },
  {
   "cell_type": "code",
   "execution_count": 9,
   "id": "fe01b2f3",
   "metadata": {},
   "outputs": [
    {
     "name": "stderr",
     "output_type": "stream",
     "text": [
      "/var/folders/c1/gs670d5j53x4mqw97p1kg5r80000gn/T/ipykernel_20826/3880863545.py:1: SettingWithCopyWarning: \n",
      "A value is trying to be set on a copy of a slice from a DataFrame.\n",
      "Try using .loc[row_indexer,col_indexer] = value instead\n",
      "\n",
      "See the caveats in the documentation: https://pandas.pydata.org/pandas-docs/stable/user_guide/indexing.html#returning-a-view-versus-a-copy\n",
      "  bidding['Sum of AD rank'] = bidding['Sum of AD rank'].fillna(0)\n"
     ]
    }
   ],
   "source": [
    "bidding['Sum of AD rank'] = bidding['Sum of AD rank'].fillna(0) "
   ]
  },
  {
   "cell_type": "code",
   "execution_count": 10,
   "id": "1631bb17",
   "metadata": {},
   "outputs": [
    {
     "name": "stdout",
     "output_type": "stream",
     "text": [
      "p 값 : 0.00000\n",
      "피어슨 상관계수 (r) : -0.09130\n"
     ]
    }
   ],
   "source": [
    "pearson(bidding['Sum of AD rank'], bidding['Click'])"
   ]
  },
  {
   "cell_type": "code",
   "execution_count": 11,
   "id": "fb694b92",
   "metadata": {},
   "outputs": [
    {
     "name": "stdout",
     "output_type": "stream",
     "text": [
      "p 값 : 0.00000\n",
      "피어슨 상관계수 (r) : 0.10907\n"
     ]
    }
   ],
   "source": [
    "pearson(bidding['Bid'], bidding['Click'])"
   ]
  },
  {
   "cell_type": "markdown",
   "id": "c1bfd88a",
   "metadata": {},
   "source": [
    "\n",
    "#### t 검정 (t-test)\n",
    "모집단의 분산이나 표준편차를 알지 못할 때  \n",
    "모집단을 대표하는 표본으로부터 추정된 분산이나 표준편차를 가지고 검정하는 방법으로  \n",
    "“두 모집단의 평균간의 차이는 없다”라는 귀무가설과 “두 모집단의 평균 간에 차이가 있다”라는 대립가설 중에 하나를 선택할 수 있도록 하는 통계적 검정방법이다."
   ]
  },
  {
   "cell_type": "code",
   "execution_count": 59,
   "id": "a97c44db",
   "metadata": {},
   "outputs": [
    {
     "name": "stdout",
     "output_type": "stream",
     "text": [
      "p 값 : 0.00250\n",
      "t_score : 4.59617\n"
     ]
    }
   ],
   "source": [
    "t_score, p_value = ttest_ind(\n",
    "    bidding[bidding['Impression'] > 10000]['Impression'],\n",
    "    bidding[bidding['Impression'] < 10000]['Impression'],\n",
    "    equal_var=False)\n",
    "\n",
    "print(\"p 값 :\", format(p_value, '.5f'))\n",
    "print(\"t_score :\", format(t_score, '.5f'))"
   ]
  },
  {
   "cell_type": "code",
   "execution_count": 13,
   "id": "38d68dfd",
   "metadata": {},
   "outputs": [
    {
     "name": "stderr",
     "output_type": "stream",
     "text": [
      "/var/folders/c1/gs670d5j53x4mqw97p1kg5r80000gn/T/ipykernel_20826/3509760344.py:1: SettingWithCopyWarning: \n",
      "A value is trying to be set on a copy of a slice from a DataFrame.\n",
      "Try using .loc[row_indexer,col_indexer] = value instead\n",
      "\n",
      "See the caveats in the documentation: https://pandas.pydata.org/pandas-docs/stable/user_guide/indexing.html#returning-a-view-versus-a-copy\n",
      "  bidding[\"CTR\"] = (bidding[\"Click\"]/bidding[\"Impression\"]) * 100\n",
      "/var/folders/c1/gs670d5j53x4mqw97p1kg5r80000gn/T/ipykernel_20826/3509760344.py:2: SettingWithCopyWarning: \n",
      "A value is trying to be set on a copy of a slice from a DataFrame.\n",
      "Try using .loc[row_indexer,col_indexer] = value instead\n",
      "\n",
      "See the caveats in the documentation: https://pandas.pydata.org/pandas-docs/stable/user_guide/indexing.html#returning-a-view-versus-a-copy\n",
      "  bidding[\"CPC\"] = (bidding[\"Cost\"]/bidding[\"Click\"])\n",
      "/var/folders/c1/gs670d5j53x4mqw97p1kg5r80000gn/T/ipykernel_20826/3509760344.py:3: SettingWithCopyWarning: \n",
      "A value is trying to be set on a copy of a slice from a DataFrame.\n",
      "Try using .loc[row_indexer,col_indexer] = value instead\n",
      "\n",
      "See the caveats in the documentation: https://pandas.pydata.org/pandas-docs/stable/user_guide/indexing.html#returning-a-view-versus-a-copy\n",
      "  bidding[\"CPM\"] = (bidding[\"Cost\"]/1000)\n"
     ]
    }
   ],
   "source": [
    "\n",
    "bidding[\"CTR\"] = (bidding[\"Click\"]/bidding[\"Impression\"]) * 100\n",
    "bidding[\"CPC\"] = (bidding[\"Cost\"]/bidding[\"Click\"])\n",
    "bidding[\"CPM\"] = (bidding[\"Cost\"]/1000)"
   ]
  },
  {
   "cell_type": "code",
   "execution_count": 14,
   "id": "b4c3ac1c",
   "metadata": {},
   "outputs": [],
   "source": [
    "group_A = bidding[bidding['Impression'] < 10000]\n",
    "group_B = bidding[bidding['Impression'] > 10000]"
   ]
  },
  {
   "cell_type": "code",
   "execution_count": 31,
   "id": "509d49ea",
   "metadata": {},
   "outputs": [],
   "source": [
    "def click_abtest(a_click, total_a, b_click, total_b):\n",
    "    click = [a_click, b_click]\n",
    "    no_click = [total_a - a_click, total_b - b_click]\n",
    "    cont_table = pd.DataFrame([click, no_click], columns=['A', 'B'], index=['click', 'no_click'])\n",
    "    chi2, p_val, d_f, expected = chi2_contingency([click, no_click])\n",
    "\n",
    "    print(\"카이제곱 통계량 :\", format(chi2, '.5f'))\n",
    "    print(\"p_value :\", format(p_val, '.5f'))"
   ]
  },
  {
   "cell_type": "code",
   "execution_count": 64,
   "id": "90f2dc3c",
   "metadata": {},
   "outputs": [
    {
     "name": "stdout",
     "output_type": "stream",
     "text": [
      "카이제곱 통계량 : 0.91015\n",
      "p_value : 0.34007\n"
     ]
    }
   ],
   "source": [
    "# p_value 가 0.05보다 높으면 group_B가 더 낫다고 말할 수 없다\n",
    "click_abtest(\n",
    "    int(group_A[group_A['Click'] > 0]['index'].count()),\n",
    "    int(group_A.shape[0]), \n",
    "    int(group_B[group_B['Click'] < 0]['index'].count()),\n",
    "    int(group_B.shape[0]))"
   ]
  },
  {
   "cell_type": "code",
   "execution_count": 50,
   "id": "5be009a6",
   "metadata": {},
   "outputs": [
    {
     "name": "stdout",
     "output_type": "stream",
     "text": [
      "CTR : 화장품/미용: 1.2473374933584835\n",
      "CTR : 패션잡화: 1.6832246187605258\n",
      "CTR : 디지털/가전: 1.9056306143950545\n",
      "CTR : 출산/육아: 2.3344057771067575\n",
      "CTR : 스포츠/레저: 2.4870991144796286\n",
      "CTR : 식품: 0.0\n",
      "CTR : 패션의류: 1.1409293403869583\n",
      "CTR : 생활/건강: 1.7998665117753718\n",
      "CTR : 여가/생활편의: 4.306358289042499\n",
      "CTR : 가구/인테리어: 1.5326583146091546\n"
     ]
    }
   ],
   "source": [
    "for cate in categorys:\n",
    "    df = bidding.loc[bidding['Category Name 1'] == cate]\n",
    "    print(f\"CTR : {cate}: {df['CTR'].mean()}\")"
   ]
  },
  {
   "cell_type": "code",
   "execution_count": 46,
   "id": "ac84fef4",
   "metadata": {},
   "outputs": [],
   "source": [
    "categorys_df_dict = {}\n",
    "\n",
    "for cate in categorys:\n",
    "    df = bidding.loc[bidding['Category Name 1'] == cate]\n",
    "    categorys_df_dict[cate] = df"
   ]
  },
  {
   "cell_type": "code",
   "execution_count": 53,
   "id": "0c427d74",
   "metadata": {},
   "outputs": [],
   "source": [
    "group_a = categorys_df_dict['여가/생활편의']"
   ]
  },
  {
   "cell_type": "code",
   "execution_count": 60,
   "id": "b85a6eb2",
   "metadata": {},
   "outputs": [
    {
     "name": "stdout",
     "output_type": "stream",
     "text": [
      "화장품/미용\n",
      "p 값 : 0.26066\n",
      "t_score : 1.14980\n",
      "\n",
      "\n",
      "패션잡화\n",
      "p 값 : 0.24810\n",
      "t_score : 1.18124\n",
      "\n",
      "\n",
      "디지털/가전\n",
      "p 값 : 0.39020\n",
      "t_score : 0.87304\n",
      "\n",
      "\n",
      "출산/육아\n",
      "p 값 : 0.35276\n",
      "t_score : 0.94611\n",
      "\n",
      "\n",
      "스포츠/레저\n",
      "p 값 : 0.42846\n",
      "t_score : 0.80326\n",
      "\n",
      "\n",
      "식품\n",
      "p 값 : 0.16522\n",
      "t_score : 1.42749\n",
      "\n",
      "\n",
      "패션의류\n",
      "p 값 : 0.33997\n",
      "t_score : 0.97144\n",
      "\n",
      "\n",
      "생활/건강\n",
      "p 값 : 0.26055\n",
      "t_score : 1.15012\n",
      "\n",
      "\n",
      "가구/인테리어\n",
      "p 값 : 0.23165\n",
      "t_score : 1.22473\n",
      "\n",
      "\n"
     ]
    }
   ],
   "source": [
    "for key in categorys_df_dict.keys():\n",
    "    if key != '여가/생활편의':\n",
    "        group_b = categorys_df_dict[key]\n",
    "        \n",
    "        print(key)\n",
    "        \n",
    "        t_score, p_value = ttest_ind(\n",
    "            group_a['Impression'],\n",
    "            group_b['Impression'],\n",
    "            equal_var=False)\n",
    "\n",
    "        print(\"p 값 :\", format(p_value, '.5f'))\n",
    "        print(\"t_score :\", format(t_score, '.5f'))\n",
    "        print('\\n')"
   ]
  },
  {
   "cell_type": "code",
   "execution_count": 52,
   "id": "77a398f3",
   "metadata": {},
   "outputs": [
    {
     "name": "stdout",
     "output_type": "stream",
     "text": [
      "화장품/미용\n",
      "카이제곱 통계량 : 0.00000\n",
      "p_value : 1.00000\n",
      "\n",
      "\n",
      "패션잡화\n",
      "카이제곱 통계량 : 0.09139\n",
      "p_value : 0.76242\n",
      "\n",
      "\n",
      "디지털/가전\n",
      "카이제곱 통계량 : 0.00000\n",
      "p_value : 1.00000\n",
      "\n",
      "\n",
      "출산/육아\n",
      "카이제곱 통계량 : 0.68183\n",
      "p_value : 0.40896\n",
      "\n",
      "\n",
      "스포츠/레저\n",
      "카이제곱 통계량 : 0.04439\n",
      "p_value : 0.83312\n",
      "\n",
      "\n",
      "식품\n",
      "카이제곱 통계량 : 1.22541\n",
      "p_value : 0.26830\n",
      "\n",
      "\n",
      "패션의류\n",
      "카이제곱 통계량 : 0.00000\n",
      "p_value : 1.00000\n",
      "\n",
      "\n",
      "생활/건강\n",
      "카이제곱 통계량 : 0.06111\n",
      "p_value : 0.80475\n",
      "\n",
      "\n",
      "가구/인테리어\n",
      "카이제곱 통계량 : 0.64400\n",
      "p_value : 0.42227\n",
      "\n",
      "\n"
     ]
    }
   ],
   "source": [
    "for key in categorys_df_dict.keys():\n",
    "    if key != '여가/생활편의':\n",
    "        group_b = categorys_df_dict[key]\n",
    "        \n",
    "        print(key)\n",
    "        \n",
    "        click_abtest(\n",
    "            int(group_a[group_a['Click'] > 0]['index'].count()),\n",
    "            int(group_a.shape[0]), \n",
    "            int(group_b[group_b['Click'] > 0]['index'].count()),\n",
    "            int(group_b.shape[0]))\n",
    "        \n",
    "        print('\\n')"
   ]
  },
  {
   "cell_type": "code",
   "execution_count": null,
   "id": "0549ba4a",
   "metadata": {},
   "outputs": [],
   "source": []
  }
 ],
 "metadata": {
  "kernelspec": {
   "display_name": "Python 3 (ipykernel)",
   "language": "python",
   "name": "python3"
  },
  "language_info": {
   "codemirror_mode": {
    "name": "ipython",
    "version": 3
   },
   "file_extension": ".py",
   "mimetype": "text/x-python",
   "name": "python",
   "nbconvert_exporter": "python",
   "pygments_lexer": "ipython3",
   "version": "3.8.15"
  }
 },
 "nbformat": 4,
 "nbformat_minor": 5
}
