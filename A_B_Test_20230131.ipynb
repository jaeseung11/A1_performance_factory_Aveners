{
  "nbformat": 4,
  "nbformat_minor": 0,
  "metadata": {
    "colab": {
      "provenance": [],
      "authorship_tag": "ABX9TyOiwMLxZYPkcua3j0OxOc2f",
      "include_colab_link": true
    },
    "kernelspec": {
      "name": "python3",
      "display_name": "Python 3"
    },
    "language_info": {
      "name": "python"
    },
    "accelerator": "GPU",
    "gpuClass": "standard"
  },
  "cells": [
    {
      "cell_type": "markdown",
      "metadata": {
        "id": "view-in-github",
        "colab_type": "text"
      },
      "source": [
        "<a href=\"https://colab.research.google.com/github/rapu34/A1_performance_factory_Aveners/blob/main/A_B_Test_20230131.ipynb\" target=\"_parent\"><img src=\"https://colab.research.google.com/assets/colab-badge.svg\" alt=\"Open In Colab\"/></a>"
      ]
    },
    {
      "cell_type": "code",
      "execution_count": 1,
      "metadata": {
        "id": "O-9gwDXpOF5A"
      },
      "outputs": [],
      "source": [
        "import pandas as pd\n",
        "import numpy as np\n",
        "import matplotlib.pyplot as plt\n",
        "\n",
        "import seaborn as sns\n",
        "from sklearn.preprocessing import LabelEncoder\n",
        "import lightgbm as lgb\n",
        "import gc"
      ]
    },
    {
      "cell_type": "code",
      "source": [
        "!sudo apt-get install -y fonts-nanum\n",
        "!sudo fc-cache -fv\n",
        "!rm ~/.cache/matplotlib -rf"
      ],
      "metadata": {
        "colab": {
          "base_uri": "https://localhost:8080/"
        },
        "id": "WRnJBBTTXpEA",
        "outputId": "0012231a-a691-4cd9-bc2a-287fe9d89485"
      },
      "execution_count": 2,
      "outputs": [
        {
          "output_type": "stream",
          "name": "stdout",
          "text": [
            "Reading package lists... Done\n",
            "Building dependency tree       \n",
            "Reading state information... Done\n",
            "fonts-nanum is already the newest version (20180306-3).\n",
            "0 upgraded, 0 newly installed, 0 to remove and 27 not upgraded.\n",
            "/usr/share/fonts: caching, new cache contents: 0 fonts, 1 dirs\n",
            "/usr/share/fonts/truetype: caching, new cache contents: 0 fonts, 3 dirs\n",
            "/usr/share/fonts/truetype/humor-sans: caching, new cache contents: 1 fonts, 0 dirs\n",
            "/usr/share/fonts/truetype/liberation: caching, new cache contents: 16 fonts, 0 dirs\n",
            "/usr/share/fonts/truetype/nanum: caching, new cache contents: 10 fonts, 0 dirs\n",
            "/usr/local/share/fonts: caching, new cache contents: 0 fonts, 0 dirs\n",
            "/root/.local/share/fonts: skipping, no such directory\n",
            "/root/.fonts: skipping, no such directory\n",
            "/usr/share/fonts/truetype: skipping, looped directory detected\n",
            "/usr/share/fonts/truetype/humor-sans: skipping, looped directory detected\n",
            "/usr/share/fonts/truetype/liberation: skipping, looped directory detected\n",
            "/usr/share/fonts/truetype/nanum: skipping, looped directory detected\n",
            "/var/cache/fontconfig: cleaning cache directory\n",
            "/root/.cache/fontconfig: not cleaning non-existent cache directory\n",
            "/root/.fontconfig: not cleaning non-existent cache directory\n",
            "fc-cache: succeeded\n"
          ]
        }
      ]
    },
    {
      "cell_type": "code",
      "source": [
        "from google.colab import drive\n",
        "drive.mount('/content/drive')"
      ],
      "metadata": {
        "id": "un_zwA15OOUF",
        "colab": {
          "base_uri": "https://localhost:8080/"
        },
        "outputId": "72e5f525-578c-4b2b-be1d-66379dbdbaa4"
      },
      "execution_count": 3,
      "outputs": [
        {
          "output_type": "stream",
          "name": "stdout",
          "text": [
            "Drive already mounted at /content/drive; to attempt to forcibly remount, call drive.mount(\"/content/drive\", force_remount=True).\n"
          ]
        }
      ]
    },
    {
      "cell_type": "code",
      "source": [
        "bidding = pd.read_csv(\"/content/drive/MyDrive/A1project/bidding_result.csv\", encoding='UTF8')"
      ],
      "metadata": {
        "id": "Lc3MYs5qOOWu"
      },
      "execution_count": 4,
      "outputs": []
    },
    {
      "cell_type": "code",
      "source": [
        "indexs = list(set(bidding['index'].to_list()))\n",
        "print(len(indexs))"
      ],
      "metadata": {
        "id": "eIz_5UcYo1q5",
        "colab": {
          "base_uri": "https://localhost:8080/"
        },
        "outputId": "b52548bb-bf70-4bab-83f4-105d20869b9e"
      },
      "execution_count": 5,
      "outputs": [
        {
          "output_type": "stream",
          "name": "stdout",
          "text": [
            "48896\n"
          ]
        }
      ]
    },
    {
      "cell_type": "code",
      "source": [
        "idx_distinct_df = bidding.drop_duplicates(['index'])\n",
        "idx_distinct_df"
      ],
      "metadata": {
        "id": "g_dLQAhAo4vo",
        "colab": {
          "base_uri": "https://localhost:8080/",
          "height": 713
        },
        "outputId": "b44d3bbe-5357-4af1-c12b-2525405a505d"
      },
      "execution_count": 6,
      "outputs": [
        {
          "output_type": "execute_result",
          "data": {
            "text/plain": [
              "           index  Impression  Click   Cost  Sum of AD rank  Bid  Price(PC)  \\\n",
              "0        3575092           3      0    0.0        3.000000   50     165900   \n",
              "1        3575637           6      0    0.0        3.333333   50      10900   \n",
              "2        4129259           7      0    0.0        8.000000   50     255000   \n",
              "3        4131479          36      3  150.0        4.416667  140     190000   \n",
              "4        4131482         224      0    0.0        5.696429   50     129000   \n",
              "...          ...         ...    ...    ...             ...  ...        ...   \n",
              "1337083  2566795           5      0    0.0       13.200000  500      19900   \n",
              "1337084  2566880           3      0    0.0       17.000000  500      23900   \n",
              "1337085  2566881           1      0    0.0        8.000000  500       2500   \n",
              "1337086  2566891           2      0    0.0        4.000000  500      21000   \n",
              "1337087  2566923          14      0    0.0       12.428571  500     128800   \n",
              "\n",
              "         Price(Mobile)  Delivery Fee Category Name 1 Category Name 2  \\\n",
              "0               165900             0         가구/인테리어            침실가구   \n",
              "1                10900             0         가구/인테리어          인테리어소품   \n",
              "2               255000            -1         가구/인테리어            거실가구   \n",
              "3               190000         20000         가구/인테리어        아동/주니어가구   \n",
              "4               129000             0         가구/인테리어        아동/주니어가구   \n",
              "...                ...           ...             ...             ...   \n",
              "1337083          19900             0         가구/인테리어          인테리어소품   \n",
              "1337084          23900          3000           생활/건강         문구/사무용품   \n",
              "1337085           2500          3000         가구/인테리어          인테리어소품   \n",
              "1337086          21000          3000           생활/건강         정원/원예용품   \n",
              "1337087         128800             0         가구/인테리어          인테리어소품   \n",
              "\n",
              "        Category Name 3 Category Name 4      date  \n",
              "0               장롱/붙박이장            드레스룸  20221031  \n",
              "1              아로마/캔들용품      아로마방향제/디퓨저  20221031  \n",
              "2                    소파           패브릭소파  20221031  \n",
              "3                책상의자세트             NaN  20221031  \n",
              "4                    책상             NaN  20221031  \n",
              "...                 ...             ...       ...  \n",
              "1337083        아로마/캔들용품      아로마방향제/디퓨저  20230103  \n",
              "1337084        이벤트/파티용품            데코용품  20230103  \n",
              "1337085          기타장식용품             NaN  20230103  \n",
              "1337086            화분받침             NaN  20230103  \n",
              "1337087              액자      퍼즐/그림/사진액자  20230103  \n",
              "\n",
              "[48896 rows x 14 columns]"
            ],
            "text/html": [
              "\n",
              "  <div id=\"df-329827ea-fc0d-4a69-a2b1-36cec830538a\">\n",
              "    <div class=\"colab-df-container\">\n",
              "      <div>\n",
              "<style scoped>\n",
              "    .dataframe tbody tr th:only-of-type {\n",
              "        vertical-align: middle;\n",
              "    }\n",
              "\n",
              "    .dataframe tbody tr th {\n",
              "        vertical-align: top;\n",
              "    }\n",
              "\n",
              "    .dataframe thead th {\n",
              "        text-align: right;\n",
              "    }\n",
              "</style>\n",
              "<table border=\"1\" class=\"dataframe\">\n",
              "  <thead>\n",
              "    <tr style=\"text-align: right;\">\n",
              "      <th></th>\n",
              "      <th>index</th>\n",
              "      <th>Impression</th>\n",
              "      <th>Click</th>\n",
              "      <th>Cost</th>\n",
              "      <th>Sum of AD rank</th>\n",
              "      <th>Bid</th>\n",
              "      <th>Price(PC)</th>\n",
              "      <th>Price(Mobile)</th>\n",
              "      <th>Delivery Fee</th>\n",
              "      <th>Category Name 1</th>\n",
              "      <th>Category Name 2</th>\n",
              "      <th>Category Name 3</th>\n",
              "      <th>Category Name 4</th>\n",
              "      <th>date</th>\n",
              "    </tr>\n",
              "  </thead>\n",
              "  <tbody>\n",
              "    <tr>\n",
              "      <th>0</th>\n",
              "      <td>3575092</td>\n",
              "      <td>3</td>\n",
              "      <td>0</td>\n",
              "      <td>0.0</td>\n",
              "      <td>3.000000</td>\n",
              "      <td>50</td>\n",
              "      <td>165900</td>\n",
              "      <td>165900</td>\n",
              "      <td>0</td>\n",
              "      <td>가구/인테리어</td>\n",
              "      <td>침실가구</td>\n",
              "      <td>장롱/붙박이장</td>\n",
              "      <td>드레스룸</td>\n",
              "      <td>20221031</td>\n",
              "    </tr>\n",
              "    <tr>\n",
              "      <th>1</th>\n",
              "      <td>3575637</td>\n",
              "      <td>6</td>\n",
              "      <td>0</td>\n",
              "      <td>0.0</td>\n",
              "      <td>3.333333</td>\n",
              "      <td>50</td>\n",
              "      <td>10900</td>\n",
              "      <td>10900</td>\n",
              "      <td>0</td>\n",
              "      <td>가구/인테리어</td>\n",
              "      <td>인테리어소품</td>\n",
              "      <td>아로마/캔들용품</td>\n",
              "      <td>아로마방향제/디퓨저</td>\n",
              "      <td>20221031</td>\n",
              "    </tr>\n",
              "    <tr>\n",
              "      <th>2</th>\n",
              "      <td>4129259</td>\n",
              "      <td>7</td>\n",
              "      <td>0</td>\n",
              "      <td>0.0</td>\n",
              "      <td>8.000000</td>\n",
              "      <td>50</td>\n",
              "      <td>255000</td>\n",
              "      <td>255000</td>\n",
              "      <td>-1</td>\n",
              "      <td>가구/인테리어</td>\n",
              "      <td>거실가구</td>\n",
              "      <td>소파</td>\n",
              "      <td>패브릭소파</td>\n",
              "      <td>20221031</td>\n",
              "    </tr>\n",
              "    <tr>\n",
              "      <th>3</th>\n",
              "      <td>4131479</td>\n",
              "      <td>36</td>\n",
              "      <td>3</td>\n",
              "      <td>150.0</td>\n",
              "      <td>4.416667</td>\n",
              "      <td>140</td>\n",
              "      <td>190000</td>\n",
              "      <td>190000</td>\n",
              "      <td>20000</td>\n",
              "      <td>가구/인테리어</td>\n",
              "      <td>아동/주니어가구</td>\n",
              "      <td>책상의자세트</td>\n",
              "      <td>NaN</td>\n",
              "      <td>20221031</td>\n",
              "    </tr>\n",
              "    <tr>\n",
              "      <th>4</th>\n",
              "      <td>4131482</td>\n",
              "      <td>224</td>\n",
              "      <td>0</td>\n",
              "      <td>0.0</td>\n",
              "      <td>5.696429</td>\n",
              "      <td>50</td>\n",
              "      <td>129000</td>\n",
              "      <td>129000</td>\n",
              "      <td>0</td>\n",
              "      <td>가구/인테리어</td>\n",
              "      <td>아동/주니어가구</td>\n",
              "      <td>책상</td>\n",
              "      <td>NaN</td>\n",
              "      <td>20221031</td>\n",
              "    </tr>\n",
              "    <tr>\n",
              "      <th>...</th>\n",
              "      <td>...</td>\n",
              "      <td>...</td>\n",
              "      <td>...</td>\n",
              "      <td>...</td>\n",
              "      <td>...</td>\n",
              "      <td>...</td>\n",
              "      <td>...</td>\n",
              "      <td>...</td>\n",
              "      <td>...</td>\n",
              "      <td>...</td>\n",
              "      <td>...</td>\n",
              "      <td>...</td>\n",
              "      <td>...</td>\n",
              "      <td>...</td>\n",
              "    </tr>\n",
              "    <tr>\n",
              "      <th>1337083</th>\n",
              "      <td>2566795</td>\n",
              "      <td>5</td>\n",
              "      <td>0</td>\n",
              "      <td>0.0</td>\n",
              "      <td>13.200000</td>\n",
              "      <td>500</td>\n",
              "      <td>19900</td>\n",
              "      <td>19900</td>\n",
              "      <td>0</td>\n",
              "      <td>가구/인테리어</td>\n",
              "      <td>인테리어소품</td>\n",
              "      <td>아로마/캔들용품</td>\n",
              "      <td>아로마방향제/디퓨저</td>\n",
              "      <td>20230103</td>\n",
              "    </tr>\n",
              "    <tr>\n",
              "      <th>1337084</th>\n",
              "      <td>2566880</td>\n",
              "      <td>3</td>\n",
              "      <td>0</td>\n",
              "      <td>0.0</td>\n",
              "      <td>17.000000</td>\n",
              "      <td>500</td>\n",
              "      <td>23900</td>\n",
              "      <td>23900</td>\n",
              "      <td>3000</td>\n",
              "      <td>생활/건강</td>\n",
              "      <td>문구/사무용품</td>\n",
              "      <td>이벤트/파티용품</td>\n",
              "      <td>데코용품</td>\n",
              "      <td>20230103</td>\n",
              "    </tr>\n",
              "    <tr>\n",
              "      <th>1337085</th>\n",
              "      <td>2566881</td>\n",
              "      <td>1</td>\n",
              "      <td>0</td>\n",
              "      <td>0.0</td>\n",
              "      <td>8.000000</td>\n",
              "      <td>500</td>\n",
              "      <td>2500</td>\n",
              "      <td>2500</td>\n",
              "      <td>3000</td>\n",
              "      <td>가구/인테리어</td>\n",
              "      <td>인테리어소품</td>\n",
              "      <td>기타장식용품</td>\n",
              "      <td>NaN</td>\n",
              "      <td>20230103</td>\n",
              "    </tr>\n",
              "    <tr>\n",
              "      <th>1337086</th>\n",
              "      <td>2566891</td>\n",
              "      <td>2</td>\n",
              "      <td>0</td>\n",
              "      <td>0.0</td>\n",
              "      <td>4.000000</td>\n",
              "      <td>500</td>\n",
              "      <td>21000</td>\n",
              "      <td>21000</td>\n",
              "      <td>3000</td>\n",
              "      <td>생활/건강</td>\n",
              "      <td>정원/원예용품</td>\n",
              "      <td>화분받침</td>\n",
              "      <td>NaN</td>\n",
              "      <td>20230103</td>\n",
              "    </tr>\n",
              "    <tr>\n",
              "      <th>1337087</th>\n",
              "      <td>2566923</td>\n",
              "      <td>14</td>\n",
              "      <td>0</td>\n",
              "      <td>0.0</td>\n",
              "      <td>12.428571</td>\n",
              "      <td>500</td>\n",
              "      <td>128800</td>\n",
              "      <td>128800</td>\n",
              "      <td>0</td>\n",
              "      <td>가구/인테리어</td>\n",
              "      <td>인테리어소품</td>\n",
              "      <td>액자</td>\n",
              "      <td>퍼즐/그림/사진액자</td>\n",
              "      <td>20230103</td>\n",
              "    </tr>\n",
              "  </tbody>\n",
              "</table>\n",
              "<p>48896 rows × 14 columns</p>\n",
              "</div>\n",
              "      <button class=\"colab-df-convert\" onclick=\"convertToInteractive('df-329827ea-fc0d-4a69-a2b1-36cec830538a')\"\n",
              "              title=\"Convert this dataframe to an interactive table.\"\n",
              "              style=\"display:none;\">\n",
              "        \n",
              "  <svg xmlns=\"http://www.w3.org/2000/svg\" height=\"24px\"viewBox=\"0 0 24 24\"\n",
              "       width=\"24px\">\n",
              "    <path d=\"M0 0h24v24H0V0z\" fill=\"none\"/>\n",
              "    <path d=\"M18.56 5.44l.94 2.06.94-2.06 2.06-.94-2.06-.94-.94-2.06-.94 2.06-2.06.94zm-11 1L8.5 8.5l.94-2.06 2.06-.94-2.06-.94L8.5 2.5l-.94 2.06-2.06.94zm10 10l.94 2.06.94-2.06 2.06-.94-2.06-.94-.94-2.06-.94 2.06-2.06.94z\"/><path d=\"M17.41 7.96l-1.37-1.37c-.4-.4-.92-.59-1.43-.59-.52 0-1.04.2-1.43.59L10.3 9.45l-7.72 7.72c-.78.78-.78 2.05 0 2.83L4 21.41c.39.39.9.59 1.41.59.51 0 1.02-.2 1.41-.59l7.78-7.78 2.81-2.81c.8-.78.8-2.07 0-2.86zM5.41 20L4 18.59l7.72-7.72 1.47 1.35L5.41 20z\"/>\n",
              "  </svg>\n",
              "      </button>\n",
              "      \n",
              "  <style>\n",
              "    .colab-df-container {\n",
              "      display:flex;\n",
              "      flex-wrap:wrap;\n",
              "      gap: 12px;\n",
              "    }\n",
              "\n",
              "    .colab-df-convert {\n",
              "      background-color: #E8F0FE;\n",
              "      border: none;\n",
              "      border-radius: 50%;\n",
              "      cursor: pointer;\n",
              "      display: none;\n",
              "      fill: #1967D2;\n",
              "      height: 32px;\n",
              "      padding: 0 0 0 0;\n",
              "      width: 32px;\n",
              "    }\n",
              "\n",
              "    .colab-df-convert:hover {\n",
              "      background-color: #E2EBFA;\n",
              "      box-shadow: 0px 1px 2px rgba(60, 64, 67, 0.3), 0px 1px 3px 1px rgba(60, 64, 67, 0.15);\n",
              "      fill: #174EA6;\n",
              "    }\n",
              "\n",
              "    [theme=dark] .colab-df-convert {\n",
              "      background-color: #3B4455;\n",
              "      fill: #D2E3FC;\n",
              "    }\n",
              "\n",
              "    [theme=dark] .colab-df-convert:hover {\n",
              "      background-color: #434B5C;\n",
              "      box-shadow: 0px 1px 3px 1px rgba(0, 0, 0, 0.15);\n",
              "      filter: drop-shadow(0px 1px 2px rgba(0, 0, 0, 0.3));\n",
              "      fill: #FFFFFF;\n",
              "    }\n",
              "  </style>\n",
              "\n",
              "      <script>\n",
              "        const buttonEl =\n",
              "          document.querySelector('#df-329827ea-fc0d-4a69-a2b1-36cec830538a button.colab-df-convert');\n",
              "        buttonEl.style.display =\n",
              "          google.colab.kernel.accessAllowed ? 'block' : 'none';\n",
              "\n",
              "        async function convertToInteractive(key) {\n",
              "          const element = document.querySelector('#df-329827ea-fc0d-4a69-a2b1-36cec830538a');\n",
              "          const dataTable =\n",
              "            await google.colab.kernel.invokeFunction('convertToInteractive',\n",
              "                                                     [key], {});\n",
              "          if (!dataTable) return;\n",
              "\n",
              "          const docLinkHtml = 'Like what you see? Visit the ' +\n",
              "            '<a target=\"_blank\" href=https://colab.research.google.com/notebooks/data_table.ipynb>data table notebook</a>'\n",
              "            + ' to learn more about interactive tables.';\n",
              "          element.innerHTML = '';\n",
              "          dataTable['output_type'] = 'display_data';\n",
              "          await google.colab.output.renderOutput(dataTable, element);\n",
              "          const docLink = document.createElement('div');\n",
              "          docLink.innerHTML = docLinkHtml;\n",
              "          element.appendChild(docLink);\n",
              "        }\n",
              "      </script>\n",
              "    </div>\n",
              "  </div>\n",
              "  "
            ]
          },
          "metadata": {},
          "execution_count": 6
        }
      ]
    },
    {
      "cell_type": "code",
      "source": [
        "bidding['Sum of AD rank'] = bidding['Sum of AD rank'].round(0)\n",
        "bidding['Sum of AD rank'] # rank 살리자 -가설: 특정 rank 구간에 click 까지만 유의미한 결과가 나타났다. \n",
        "#확인 2-4등일때 click 이 가장 많음\n",
        "# 여성 상품의 경우 유의미한 순위 확인"
      ],
      "metadata": {
        "id": "0SkOlRgvQQGS",
        "colab": {
          "base_uri": "https://localhost:8080/"
        },
        "outputId": "980b9242-25bd-4efe-eb2e-50d41499f853"
      },
      "execution_count": 7,
      "outputs": [
        {
          "output_type": "execute_result",
          "data": {
            "text/plain": [
              "0           3.0\n",
              "1           3.0\n",
              "2           8.0\n",
              "3           4.0\n",
              "4           6.0\n",
              "           ... \n",
              "1337083    13.0\n",
              "1337084    17.0\n",
              "1337085     8.0\n",
              "1337086     4.0\n",
              "1337087    12.0\n",
              "Name: Sum of AD rank, Length: 1337088, dtype: float64"
            ]
          },
          "metadata": {},
          "execution_count": 7
        }
      ]
    },
    {
      "cell_type": "code",
      "source": [
        "# 날짜 데이터 테이트타임으로 바꾸기\n",
        "def _trans_date_time(bidding):\n",
        "    bidding.index = pd.to_datetime(bidding['date'], format='%Y%m%d')\n",
        "    bidding.drop('date', axis=1, inplace=True)\n",
        "    return bidding"
      ],
      "metadata": {
        "id": "bo_E9aN4OOZE"
      },
      "execution_count": 8,
      "outputs": []
    },
    {
      "cell_type": "code",
      "source": [
        "_trans_date_time(bidding)\n"
      ],
      "metadata": {
        "id": "sxabPF06OOa-",
        "colab": {
          "base_uri": "https://localhost:8080/",
          "height": 707
        },
        "outputId": "541800b1-1f92-40cf-87e8-c1ece75872bc"
      },
      "execution_count": 9,
      "outputs": [
        {
          "output_type": "execute_result",
          "data": {
            "text/plain": [
              "              index  Impression  Click   Cost  Sum of AD rank  Bid  Price(PC)  \\\n",
              "date                                                                            \n",
              "2022-10-31  3575092           3      0    0.0             3.0   50     165900   \n",
              "2022-10-31  3575637           6      0    0.0             3.0   50      10900   \n",
              "2022-10-31  4129259           7      0    0.0             8.0   50     255000   \n",
              "2022-10-31  4131479          36      3  150.0             4.0  140     190000   \n",
              "2022-10-31  4131482         224      0    0.0             6.0   50     129000   \n",
              "...             ...         ...    ...    ...             ...  ...        ...   \n",
              "2023-01-03  2566795           5      0    0.0            13.0  500      19900   \n",
              "2023-01-03  2566880           3      0    0.0            17.0  500      23900   \n",
              "2023-01-03  2566881           1      0    0.0             8.0  500       2500   \n",
              "2023-01-03  2566891           2      0    0.0             4.0  500      21000   \n",
              "2023-01-03  2566923          14      0    0.0            12.0  500     128800   \n",
              "\n",
              "            Price(Mobile)  Delivery Fee Category Name 1 Category Name 2  \\\n",
              "date                                                                      \n",
              "2022-10-31         165900             0         가구/인테리어            침실가구   \n",
              "2022-10-31          10900             0         가구/인테리어          인테리어소품   \n",
              "2022-10-31         255000            -1         가구/인테리어            거실가구   \n",
              "2022-10-31         190000         20000         가구/인테리어        아동/주니어가구   \n",
              "2022-10-31         129000             0         가구/인테리어        아동/주니어가구   \n",
              "...                   ...           ...             ...             ...   \n",
              "2023-01-03          19900             0         가구/인테리어          인테리어소품   \n",
              "2023-01-03          23900          3000           생활/건강         문구/사무용품   \n",
              "2023-01-03           2500          3000         가구/인테리어          인테리어소품   \n",
              "2023-01-03          21000          3000           생활/건강         정원/원예용품   \n",
              "2023-01-03         128800             0         가구/인테리어          인테리어소품   \n",
              "\n",
              "           Category Name 3 Category Name 4  \n",
              "date                                        \n",
              "2022-10-31         장롱/붙박이장            드레스룸  \n",
              "2022-10-31        아로마/캔들용품      아로마방향제/디퓨저  \n",
              "2022-10-31              소파           패브릭소파  \n",
              "2022-10-31          책상의자세트             NaN  \n",
              "2022-10-31              책상             NaN  \n",
              "...                    ...             ...  \n",
              "2023-01-03        아로마/캔들용품      아로마방향제/디퓨저  \n",
              "2023-01-03        이벤트/파티용품            데코용품  \n",
              "2023-01-03          기타장식용품             NaN  \n",
              "2023-01-03            화분받침             NaN  \n",
              "2023-01-03              액자      퍼즐/그림/사진액자  \n",
              "\n",
              "[1337088 rows x 13 columns]"
            ],
            "text/html": [
              "\n",
              "  <div id=\"df-cb7908c1-12c8-4ffd-8b03-b5b2480ac48b\">\n",
              "    <div class=\"colab-df-container\">\n",
              "      <div>\n",
              "<style scoped>\n",
              "    .dataframe tbody tr th:only-of-type {\n",
              "        vertical-align: middle;\n",
              "    }\n",
              "\n",
              "    .dataframe tbody tr th {\n",
              "        vertical-align: top;\n",
              "    }\n",
              "\n",
              "    .dataframe thead th {\n",
              "        text-align: right;\n",
              "    }\n",
              "</style>\n",
              "<table border=\"1\" class=\"dataframe\">\n",
              "  <thead>\n",
              "    <tr style=\"text-align: right;\">\n",
              "      <th></th>\n",
              "      <th>index</th>\n",
              "      <th>Impression</th>\n",
              "      <th>Click</th>\n",
              "      <th>Cost</th>\n",
              "      <th>Sum of AD rank</th>\n",
              "      <th>Bid</th>\n",
              "      <th>Price(PC)</th>\n",
              "      <th>Price(Mobile)</th>\n",
              "      <th>Delivery Fee</th>\n",
              "      <th>Category Name 1</th>\n",
              "      <th>Category Name 2</th>\n",
              "      <th>Category Name 3</th>\n",
              "      <th>Category Name 4</th>\n",
              "    </tr>\n",
              "    <tr>\n",
              "      <th>date</th>\n",
              "      <th></th>\n",
              "      <th></th>\n",
              "      <th></th>\n",
              "      <th></th>\n",
              "      <th></th>\n",
              "      <th></th>\n",
              "      <th></th>\n",
              "      <th></th>\n",
              "      <th></th>\n",
              "      <th></th>\n",
              "      <th></th>\n",
              "      <th></th>\n",
              "      <th></th>\n",
              "    </tr>\n",
              "  </thead>\n",
              "  <tbody>\n",
              "    <tr>\n",
              "      <th>2022-10-31</th>\n",
              "      <td>3575092</td>\n",
              "      <td>3</td>\n",
              "      <td>0</td>\n",
              "      <td>0.0</td>\n",
              "      <td>3.0</td>\n",
              "      <td>50</td>\n",
              "      <td>165900</td>\n",
              "      <td>165900</td>\n",
              "      <td>0</td>\n",
              "      <td>가구/인테리어</td>\n",
              "      <td>침실가구</td>\n",
              "      <td>장롱/붙박이장</td>\n",
              "      <td>드레스룸</td>\n",
              "    </tr>\n",
              "    <tr>\n",
              "      <th>2022-10-31</th>\n",
              "      <td>3575637</td>\n",
              "      <td>6</td>\n",
              "      <td>0</td>\n",
              "      <td>0.0</td>\n",
              "      <td>3.0</td>\n",
              "      <td>50</td>\n",
              "      <td>10900</td>\n",
              "      <td>10900</td>\n",
              "      <td>0</td>\n",
              "      <td>가구/인테리어</td>\n",
              "      <td>인테리어소품</td>\n",
              "      <td>아로마/캔들용품</td>\n",
              "      <td>아로마방향제/디퓨저</td>\n",
              "    </tr>\n",
              "    <tr>\n",
              "      <th>2022-10-31</th>\n",
              "      <td>4129259</td>\n",
              "      <td>7</td>\n",
              "      <td>0</td>\n",
              "      <td>0.0</td>\n",
              "      <td>8.0</td>\n",
              "      <td>50</td>\n",
              "      <td>255000</td>\n",
              "      <td>255000</td>\n",
              "      <td>-1</td>\n",
              "      <td>가구/인테리어</td>\n",
              "      <td>거실가구</td>\n",
              "      <td>소파</td>\n",
              "      <td>패브릭소파</td>\n",
              "    </tr>\n",
              "    <tr>\n",
              "      <th>2022-10-31</th>\n",
              "      <td>4131479</td>\n",
              "      <td>36</td>\n",
              "      <td>3</td>\n",
              "      <td>150.0</td>\n",
              "      <td>4.0</td>\n",
              "      <td>140</td>\n",
              "      <td>190000</td>\n",
              "      <td>190000</td>\n",
              "      <td>20000</td>\n",
              "      <td>가구/인테리어</td>\n",
              "      <td>아동/주니어가구</td>\n",
              "      <td>책상의자세트</td>\n",
              "      <td>NaN</td>\n",
              "    </tr>\n",
              "    <tr>\n",
              "      <th>2022-10-31</th>\n",
              "      <td>4131482</td>\n",
              "      <td>224</td>\n",
              "      <td>0</td>\n",
              "      <td>0.0</td>\n",
              "      <td>6.0</td>\n",
              "      <td>50</td>\n",
              "      <td>129000</td>\n",
              "      <td>129000</td>\n",
              "      <td>0</td>\n",
              "      <td>가구/인테리어</td>\n",
              "      <td>아동/주니어가구</td>\n",
              "      <td>책상</td>\n",
              "      <td>NaN</td>\n",
              "    </tr>\n",
              "    <tr>\n",
              "      <th>...</th>\n",
              "      <td>...</td>\n",
              "      <td>...</td>\n",
              "      <td>...</td>\n",
              "      <td>...</td>\n",
              "      <td>...</td>\n",
              "      <td>...</td>\n",
              "      <td>...</td>\n",
              "      <td>...</td>\n",
              "      <td>...</td>\n",
              "      <td>...</td>\n",
              "      <td>...</td>\n",
              "      <td>...</td>\n",
              "      <td>...</td>\n",
              "    </tr>\n",
              "    <tr>\n",
              "      <th>2023-01-03</th>\n",
              "      <td>2566795</td>\n",
              "      <td>5</td>\n",
              "      <td>0</td>\n",
              "      <td>0.0</td>\n",
              "      <td>13.0</td>\n",
              "      <td>500</td>\n",
              "      <td>19900</td>\n",
              "      <td>19900</td>\n",
              "      <td>0</td>\n",
              "      <td>가구/인테리어</td>\n",
              "      <td>인테리어소품</td>\n",
              "      <td>아로마/캔들용품</td>\n",
              "      <td>아로마방향제/디퓨저</td>\n",
              "    </tr>\n",
              "    <tr>\n",
              "      <th>2023-01-03</th>\n",
              "      <td>2566880</td>\n",
              "      <td>3</td>\n",
              "      <td>0</td>\n",
              "      <td>0.0</td>\n",
              "      <td>17.0</td>\n",
              "      <td>500</td>\n",
              "      <td>23900</td>\n",
              "      <td>23900</td>\n",
              "      <td>3000</td>\n",
              "      <td>생활/건강</td>\n",
              "      <td>문구/사무용품</td>\n",
              "      <td>이벤트/파티용품</td>\n",
              "      <td>데코용품</td>\n",
              "    </tr>\n",
              "    <tr>\n",
              "      <th>2023-01-03</th>\n",
              "      <td>2566881</td>\n",
              "      <td>1</td>\n",
              "      <td>0</td>\n",
              "      <td>0.0</td>\n",
              "      <td>8.0</td>\n",
              "      <td>500</td>\n",
              "      <td>2500</td>\n",
              "      <td>2500</td>\n",
              "      <td>3000</td>\n",
              "      <td>가구/인테리어</td>\n",
              "      <td>인테리어소품</td>\n",
              "      <td>기타장식용품</td>\n",
              "      <td>NaN</td>\n",
              "    </tr>\n",
              "    <tr>\n",
              "      <th>2023-01-03</th>\n",
              "      <td>2566891</td>\n",
              "      <td>2</td>\n",
              "      <td>0</td>\n",
              "      <td>0.0</td>\n",
              "      <td>4.0</td>\n",
              "      <td>500</td>\n",
              "      <td>21000</td>\n",
              "      <td>21000</td>\n",
              "      <td>3000</td>\n",
              "      <td>생활/건강</td>\n",
              "      <td>정원/원예용품</td>\n",
              "      <td>화분받침</td>\n",
              "      <td>NaN</td>\n",
              "    </tr>\n",
              "    <tr>\n",
              "      <th>2023-01-03</th>\n",
              "      <td>2566923</td>\n",
              "      <td>14</td>\n",
              "      <td>0</td>\n",
              "      <td>0.0</td>\n",
              "      <td>12.0</td>\n",
              "      <td>500</td>\n",
              "      <td>128800</td>\n",
              "      <td>128800</td>\n",
              "      <td>0</td>\n",
              "      <td>가구/인테리어</td>\n",
              "      <td>인테리어소품</td>\n",
              "      <td>액자</td>\n",
              "      <td>퍼즐/그림/사진액자</td>\n",
              "    </tr>\n",
              "  </tbody>\n",
              "</table>\n",
              "<p>1337088 rows × 13 columns</p>\n",
              "</div>\n",
              "      <button class=\"colab-df-convert\" onclick=\"convertToInteractive('df-cb7908c1-12c8-4ffd-8b03-b5b2480ac48b')\"\n",
              "              title=\"Convert this dataframe to an interactive table.\"\n",
              "              style=\"display:none;\">\n",
              "        \n",
              "  <svg xmlns=\"http://www.w3.org/2000/svg\" height=\"24px\"viewBox=\"0 0 24 24\"\n",
              "       width=\"24px\">\n",
              "    <path d=\"M0 0h24v24H0V0z\" fill=\"none\"/>\n",
              "    <path d=\"M18.56 5.44l.94 2.06.94-2.06 2.06-.94-2.06-.94-.94-2.06-.94 2.06-2.06.94zm-11 1L8.5 8.5l.94-2.06 2.06-.94-2.06-.94L8.5 2.5l-.94 2.06-2.06.94zm10 10l.94 2.06.94-2.06 2.06-.94-2.06-.94-.94-2.06-.94 2.06-2.06.94z\"/><path d=\"M17.41 7.96l-1.37-1.37c-.4-.4-.92-.59-1.43-.59-.52 0-1.04.2-1.43.59L10.3 9.45l-7.72 7.72c-.78.78-.78 2.05 0 2.83L4 21.41c.39.39.9.59 1.41.59.51 0 1.02-.2 1.41-.59l7.78-7.78 2.81-2.81c.8-.78.8-2.07 0-2.86zM5.41 20L4 18.59l7.72-7.72 1.47 1.35L5.41 20z\"/>\n",
              "  </svg>\n",
              "      </button>\n",
              "      \n",
              "  <style>\n",
              "    .colab-df-container {\n",
              "      display:flex;\n",
              "      flex-wrap:wrap;\n",
              "      gap: 12px;\n",
              "    }\n",
              "\n",
              "    .colab-df-convert {\n",
              "      background-color: #E8F0FE;\n",
              "      border: none;\n",
              "      border-radius: 50%;\n",
              "      cursor: pointer;\n",
              "      display: none;\n",
              "      fill: #1967D2;\n",
              "      height: 32px;\n",
              "      padding: 0 0 0 0;\n",
              "      width: 32px;\n",
              "    }\n",
              "\n",
              "    .colab-df-convert:hover {\n",
              "      background-color: #E2EBFA;\n",
              "      box-shadow: 0px 1px 2px rgba(60, 64, 67, 0.3), 0px 1px 3px 1px rgba(60, 64, 67, 0.15);\n",
              "      fill: #174EA6;\n",
              "    }\n",
              "\n",
              "    [theme=dark] .colab-df-convert {\n",
              "      background-color: #3B4455;\n",
              "      fill: #D2E3FC;\n",
              "    }\n",
              "\n",
              "    [theme=dark] .colab-df-convert:hover {\n",
              "      background-color: #434B5C;\n",
              "      box-shadow: 0px 1px 3px 1px rgba(0, 0, 0, 0.15);\n",
              "      filter: drop-shadow(0px 1px 2px rgba(0, 0, 0, 0.3));\n",
              "      fill: #FFFFFF;\n",
              "    }\n",
              "  </style>\n",
              "\n",
              "      <script>\n",
              "        const buttonEl =\n",
              "          document.querySelector('#df-cb7908c1-12c8-4ffd-8b03-b5b2480ac48b button.colab-df-convert');\n",
              "        buttonEl.style.display =\n",
              "          google.colab.kernel.accessAllowed ? 'block' : 'none';\n",
              "\n",
              "        async function convertToInteractive(key) {\n",
              "          const element = document.querySelector('#df-cb7908c1-12c8-4ffd-8b03-b5b2480ac48b');\n",
              "          const dataTable =\n",
              "            await google.colab.kernel.invokeFunction('convertToInteractive',\n",
              "                                                     [key], {});\n",
              "          if (!dataTable) return;\n",
              "\n",
              "          const docLinkHtml = 'Like what you see? Visit the ' +\n",
              "            '<a target=\"_blank\" href=https://colab.research.google.com/notebooks/data_table.ipynb>data table notebook</a>'\n",
              "            + ' to learn more about interactive tables.';\n",
              "          element.innerHTML = '';\n",
              "          dataTable['output_type'] = 'display_data';\n",
              "          await google.colab.output.renderOutput(dataTable, element);\n",
              "          const docLink = document.createElement('div');\n",
              "          docLink.innerHTML = docLinkHtml;\n",
              "          element.appendChild(docLink);\n",
              "        }\n",
              "      </script>\n",
              "    </div>\n",
              "  </div>\n",
              "  "
            ]
          },
          "metadata": {},
          "execution_count": 9
        }
      ]
    },
    {
      "cell_type": "code",
      "source": [
        "# CTR = 클릭률\n",
        "# CPC = 클릭당 비용\n",
        "# CPM = 1000회 노출당 비용\n",
        "bidding[\"CTR\"] = (bidding[\"Click\"]/bidding[\"Impression\"]) * 100\n",
        "bidding[\"CPC\"] = (bidding[\"Cost\"]/bidding[\"Click\"])\n",
        "bidding[\"CPM\"] = (bidding[\"Cost\"]/1000)"
      ],
      "metadata": {
        "id": "rMyw3_djOOfS"
      },
      "execution_count": 10,
      "outputs": []
    },
    {
      "cell_type": "markdown",
      "source": [
        "###결측치 처리"
      ],
      "metadata": {
        "id": "17TmAJvLO2Cm"
      }
    },
    {
      "cell_type": "code",
      "source": [
        "# null값 퍼센트로 보기\n",
        "(bidding.isnull().sum()/ bidding.shape[0]).sort_values(ascending=False)"
      ],
      "metadata": {
        "id": "d4GjkUi4OOg5",
        "colab": {
          "base_uri": "https://localhost:8080/"
        },
        "outputId": "7de5ba23-0464-40cd-cbb1-beb8d46eaa35"
      },
      "execution_count": 11,
      "outputs": [
        {
          "output_type": "execute_result",
          "data": {
            "text/plain": [
              "CPC                0.753309\n",
              "Category Name 4    0.304360\n",
              "Category Name 3    0.004388\n",
              "Sum of AD rank     0.000007\n",
              "index              0.000000\n",
              "Impression         0.000000\n",
              "Click              0.000000\n",
              "Cost               0.000000\n",
              "Bid                0.000000\n",
              "Price(PC)          0.000000\n",
              "Price(Mobile)      0.000000\n",
              "Delivery Fee       0.000000\n",
              "Category Name 1    0.000000\n",
              "Category Name 2    0.000000\n",
              "CTR                0.000000\n",
              "CPM                0.000000\n",
              "dtype: float64"
            ]
          },
          "metadata": {},
          "execution_count": 11
        }
      ]
    },
    {
      "cell_type": "code",
      "source": [
        "\"\"\"\n",
        "Category Name 3, Sum of AD rank 는 결측치 자료가 적어서 drop한다\n",
        "CPC의 결측치는 우선 0 으로 처리하고 다른 EDA를 해본다\n",
        "\n",
        "\"\"\"\n",
        "\n",
        "bidding2 = bidding.copy()\n",
        "bidding2['Category Name 4'].fillna('uncategory', inplace = True)\n",
        "bidding2['CPC'].fillna(0, inplace = True)\n",
        "bidding2.dropna(axis = 0, inplace = True)\n",
        "print(bidding2.isnull().sum().sort_values(ascending=False)) # null값 퍼센트로 표현\n",
        "bidding2"
      ],
      "metadata": {
        "id": "YPCNs4evO7ya",
        "colab": {
          "base_uri": "https://localhost:8080/",
          "height": 1000
        },
        "outputId": "247c297c-b812-42f3-bc3c-c48a6a073fa1"
      },
      "execution_count": 12,
      "outputs": [
        {
          "output_type": "stream",
          "name": "stdout",
          "text": [
            "index              0\n",
            "Impression         0\n",
            "Click              0\n",
            "Cost               0\n",
            "Sum of AD rank     0\n",
            "Bid                0\n",
            "Price(PC)          0\n",
            "Price(Mobile)      0\n",
            "Delivery Fee       0\n",
            "Category Name 1    0\n",
            "Category Name 2    0\n",
            "Category Name 3    0\n",
            "Category Name 4    0\n",
            "CTR                0\n",
            "CPC                0\n",
            "CPM                0\n",
            "dtype: int64\n"
          ]
        },
        {
          "output_type": "execute_result",
          "data": {
            "text/plain": [
              "              index  Impression  Click   Cost  Sum of AD rank  Bid  Price(PC)  \\\n",
              "date                                                                            \n",
              "2022-10-31  3575092           3      0    0.0             3.0   50     165900   \n",
              "2022-10-31  3575637           6      0    0.0             3.0   50      10900   \n",
              "2022-10-31  4129259           7      0    0.0             8.0   50     255000   \n",
              "2022-10-31  4131479          36      3  150.0             4.0  140     190000   \n",
              "2022-10-31  4131482         224      0    0.0             6.0   50     129000   \n",
              "...             ...         ...    ...    ...             ...  ...        ...   \n",
              "2023-01-03  2566795           5      0    0.0            13.0  500      19900   \n",
              "2023-01-03  2566880           3      0    0.0            17.0  500      23900   \n",
              "2023-01-03  2566881           1      0    0.0             8.0  500       2500   \n",
              "2023-01-03  2566891           2      0    0.0             4.0  500      21000   \n",
              "2023-01-03  2566923          14      0    0.0            12.0  500     128800   \n",
              "\n",
              "            Price(Mobile)  Delivery Fee Category Name 1 Category Name 2  \\\n",
              "date                                                                      \n",
              "2022-10-31         165900             0         가구/인테리어            침실가구   \n",
              "2022-10-31          10900             0         가구/인테리어          인테리어소품   \n",
              "2022-10-31         255000            -1         가구/인테리어            거실가구   \n",
              "2022-10-31         190000         20000         가구/인테리어        아동/주니어가구   \n",
              "2022-10-31         129000             0         가구/인테리어        아동/주니어가구   \n",
              "...                   ...           ...             ...             ...   \n",
              "2023-01-03          19900             0         가구/인테리어          인테리어소품   \n",
              "2023-01-03          23900          3000           생활/건강         문구/사무용품   \n",
              "2023-01-03           2500          3000         가구/인테리어          인테리어소품   \n",
              "2023-01-03          21000          3000           생활/건강         정원/원예용품   \n",
              "2023-01-03         128800             0         가구/인테리어          인테리어소품   \n",
              "\n",
              "           Category Name 3 Category Name 4       CTR   CPC   CPM  \n",
              "date                                                              \n",
              "2022-10-31         장롱/붙박이장            드레스룸  0.000000   0.0  0.00  \n",
              "2022-10-31        아로마/캔들용품      아로마방향제/디퓨저  0.000000   0.0  0.00  \n",
              "2022-10-31              소파           패브릭소파  0.000000   0.0  0.00  \n",
              "2022-10-31          책상의자세트      uncategory  8.333333  50.0  0.15  \n",
              "2022-10-31              책상      uncategory  0.000000   0.0  0.00  \n",
              "...                    ...             ...       ...   ...   ...  \n",
              "2023-01-03        아로마/캔들용품      아로마방향제/디퓨저  0.000000   0.0  0.00  \n",
              "2023-01-03        이벤트/파티용품            데코용품  0.000000   0.0  0.00  \n",
              "2023-01-03          기타장식용품      uncategory  0.000000   0.0  0.00  \n",
              "2023-01-03            화분받침      uncategory  0.000000   0.0  0.00  \n",
              "2023-01-03              액자      퍼즐/그림/사진액자  0.000000   0.0  0.00  \n",
              "\n",
              "[1331211 rows x 16 columns]"
            ],
            "text/html": [
              "\n",
              "  <div id=\"df-76dd5758-85ef-4288-8edc-66ac43f68be3\">\n",
              "    <div class=\"colab-df-container\">\n",
              "      <div>\n",
              "<style scoped>\n",
              "    .dataframe tbody tr th:only-of-type {\n",
              "        vertical-align: middle;\n",
              "    }\n",
              "\n",
              "    .dataframe tbody tr th {\n",
              "        vertical-align: top;\n",
              "    }\n",
              "\n",
              "    .dataframe thead th {\n",
              "        text-align: right;\n",
              "    }\n",
              "</style>\n",
              "<table border=\"1\" class=\"dataframe\">\n",
              "  <thead>\n",
              "    <tr style=\"text-align: right;\">\n",
              "      <th></th>\n",
              "      <th>index</th>\n",
              "      <th>Impression</th>\n",
              "      <th>Click</th>\n",
              "      <th>Cost</th>\n",
              "      <th>Sum of AD rank</th>\n",
              "      <th>Bid</th>\n",
              "      <th>Price(PC)</th>\n",
              "      <th>Price(Mobile)</th>\n",
              "      <th>Delivery Fee</th>\n",
              "      <th>Category Name 1</th>\n",
              "      <th>Category Name 2</th>\n",
              "      <th>Category Name 3</th>\n",
              "      <th>Category Name 4</th>\n",
              "      <th>CTR</th>\n",
              "      <th>CPC</th>\n",
              "      <th>CPM</th>\n",
              "    </tr>\n",
              "    <tr>\n",
              "      <th>date</th>\n",
              "      <th></th>\n",
              "      <th></th>\n",
              "      <th></th>\n",
              "      <th></th>\n",
              "      <th></th>\n",
              "      <th></th>\n",
              "      <th></th>\n",
              "      <th></th>\n",
              "      <th></th>\n",
              "      <th></th>\n",
              "      <th></th>\n",
              "      <th></th>\n",
              "      <th></th>\n",
              "      <th></th>\n",
              "      <th></th>\n",
              "      <th></th>\n",
              "    </tr>\n",
              "  </thead>\n",
              "  <tbody>\n",
              "    <tr>\n",
              "      <th>2022-10-31</th>\n",
              "      <td>3575092</td>\n",
              "      <td>3</td>\n",
              "      <td>0</td>\n",
              "      <td>0.0</td>\n",
              "      <td>3.0</td>\n",
              "      <td>50</td>\n",
              "      <td>165900</td>\n",
              "      <td>165900</td>\n",
              "      <td>0</td>\n",
              "      <td>가구/인테리어</td>\n",
              "      <td>침실가구</td>\n",
              "      <td>장롱/붙박이장</td>\n",
              "      <td>드레스룸</td>\n",
              "      <td>0.000000</td>\n",
              "      <td>0.0</td>\n",
              "      <td>0.00</td>\n",
              "    </tr>\n",
              "    <tr>\n",
              "      <th>2022-10-31</th>\n",
              "      <td>3575637</td>\n",
              "      <td>6</td>\n",
              "      <td>0</td>\n",
              "      <td>0.0</td>\n",
              "      <td>3.0</td>\n",
              "      <td>50</td>\n",
              "      <td>10900</td>\n",
              "      <td>10900</td>\n",
              "      <td>0</td>\n",
              "      <td>가구/인테리어</td>\n",
              "      <td>인테리어소품</td>\n",
              "      <td>아로마/캔들용품</td>\n",
              "      <td>아로마방향제/디퓨저</td>\n",
              "      <td>0.000000</td>\n",
              "      <td>0.0</td>\n",
              "      <td>0.00</td>\n",
              "    </tr>\n",
              "    <tr>\n",
              "      <th>2022-10-31</th>\n",
              "      <td>4129259</td>\n",
              "      <td>7</td>\n",
              "      <td>0</td>\n",
              "      <td>0.0</td>\n",
              "      <td>8.0</td>\n",
              "      <td>50</td>\n",
              "      <td>255000</td>\n",
              "      <td>255000</td>\n",
              "      <td>-1</td>\n",
              "      <td>가구/인테리어</td>\n",
              "      <td>거실가구</td>\n",
              "      <td>소파</td>\n",
              "      <td>패브릭소파</td>\n",
              "      <td>0.000000</td>\n",
              "      <td>0.0</td>\n",
              "      <td>0.00</td>\n",
              "    </tr>\n",
              "    <tr>\n",
              "      <th>2022-10-31</th>\n",
              "      <td>4131479</td>\n",
              "      <td>36</td>\n",
              "      <td>3</td>\n",
              "      <td>150.0</td>\n",
              "      <td>4.0</td>\n",
              "      <td>140</td>\n",
              "      <td>190000</td>\n",
              "      <td>190000</td>\n",
              "      <td>20000</td>\n",
              "      <td>가구/인테리어</td>\n",
              "      <td>아동/주니어가구</td>\n",
              "      <td>책상의자세트</td>\n",
              "      <td>uncategory</td>\n",
              "      <td>8.333333</td>\n",
              "      <td>50.0</td>\n",
              "      <td>0.15</td>\n",
              "    </tr>\n",
              "    <tr>\n",
              "      <th>2022-10-31</th>\n",
              "      <td>4131482</td>\n",
              "      <td>224</td>\n",
              "      <td>0</td>\n",
              "      <td>0.0</td>\n",
              "      <td>6.0</td>\n",
              "      <td>50</td>\n",
              "      <td>129000</td>\n",
              "      <td>129000</td>\n",
              "      <td>0</td>\n",
              "      <td>가구/인테리어</td>\n",
              "      <td>아동/주니어가구</td>\n",
              "      <td>책상</td>\n",
              "      <td>uncategory</td>\n",
              "      <td>0.000000</td>\n",
              "      <td>0.0</td>\n",
              "      <td>0.00</td>\n",
              "    </tr>\n",
              "    <tr>\n",
              "      <th>...</th>\n",
              "      <td>...</td>\n",
              "      <td>...</td>\n",
              "      <td>...</td>\n",
              "      <td>...</td>\n",
              "      <td>...</td>\n",
              "      <td>...</td>\n",
              "      <td>...</td>\n",
              "      <td>...</td>\n",
              "      <td>...</td>\n",
              "      <td>...</td>\n",
              "      <td>...</td>\n",
              "      <td>...</td>\n",
              "      <td>...</td>\n",
              "      <td>...</td>\n",
              "      <td>...</td>\n",
              "      <td>...</td>\n",
              "    </tr>\n",
              "    <tr>\n",
              "      <th>2023-01-03</th>\n",
              "      <td>2566795</td>\n",
              "      <td>5</td>\n",
              "      <td>0</td>\n",
              "      <td>0.0</td>\n",
              "      <td>13.0</td>\n",
              "      <td>500</td>\n",
              "      <td>19900</td>\n",
              "      <td>19900</td>\n",
              "      <td>0</td>\n",
              "      <td>가구/인테리어</td>\n",
              "      <td>인테리어소품</td>\n",
              "      <td>아로마/캔들용품</td>\n",
              "      <td>아로마방향제/디퓨저</td>\n",
              "      <td>0.000000</td>\n",
              "      <td>0.0</td>\n",
              "      <td>0.00</td>\n",
              "    </tr>\n",
              "    <tr>\n",
              "      <th>2023-01-03</th>\n",
              "      <td>2566880</td>\n",
              "      <td>3</td>\n",
              "      <td>0</td>\n",
              "      <td>0.0</td>\n",
              "      <td>17.0</td>\n",
              "      <td>500</td>\n",
              "      <td>23900</td>\n",
              "      <td>23900</td>\n",
              "      <td>3000</td>\n",
              "      <td>생활/건강</td>\n",
              "      <td>문구/사무용품</td>\n",
              "      <td>이벤트/파티용품</td>\n",
              "      <td>데코용품</td>\n",
              "      <td>0.000000</td>\n",
              "      <td>0.0</td>\n",
              "      <td>0.00</td>\n",
              "    </tr>\n",
              "    <tr>\n",
              "      <th>2023-01-03</th>\n",
              "      <td>2566881</td>\n",
              "      <td>1</td>\n",
              "      <td>0</td>\n",
              "      <td>0.0</td>\n",
              "      <td>8.0</td>\n",
              "      <td>500</td>\n",
              "      <td>2500</td>\n",
              "      <td>2500</td>\n",
              "      <td>3000</td>\n",
              "      <td>가구/인테리어</td>\n",
              "      <td>인테리어소품</td>\n",
              "      <td>기타장식용품</td>\n",
              "      <td>uncategory</td>\n",
              "      <td>0.000000</td>\n",
              "      <td>0.0</td>\n",
              "      <td>0.00</td>\n",
              "    </tr>\n",
              "    <tr>\n",
              "      <th>2023-01-03</th>\n",
              "      <td>2566891</td>\n",
              "      <td>2</td>\n",
              "      <td>0</td>\n",
              "      <td>0.0</td>\n",
              "      <td>4.0</td>\n",
              "      <td>500</td>\n",
              "      <td>21000</td>\n",
              "      <td>21000</td>\n",
              "      <td>3000</td>\n",
              "      <td>생활/건강</td>\n",
              "      <td>정원/원예용품</td>\n",
              "      <td>화분받침</td>\n",
              "      <td>uncategory</td>\n",
              "      <td>0.000000</td>\n",
              "      <td>0.0</td>\n",
              "      <td>0.00</td>\n",
              "    </tr>\n",
              "    <tr>\n",
              "      <th>2023-01-03</th>\n",
              "      <td>2566923</td>\n",
              "      <td>14</td>\n",
              "      <td>0</td>\n",
              "      <td>0.0</td>\n",
              "      <td>12.0</td>\n",
              "      <td>500</td>\n",
              "      <td>128800</td>\n",
              "      <td>128800</td>\n",
              "      <td>0</td>\n",
              "      <td>가구/인테리어</td>\n",
              "      <td>인테리어소품</td>\n",
              "      <td>액자</td>\n",
              "      <td>퍼즐/그림/사진액자</td>\n",
              "      <td>0.000000</td>\n",
              "      <td>0.0</td>\n",
              "      <td>0.00</td>\n",
              "    </tr>\n",
              "  </tbody>\n",
              "</table>\n",
              "<p>1331211 rows × 16 columns</p>\n",
              "</div>\n",
              "      <button class=\"colab-df-convert\" onclick=\"convertToInteractive('df-76dd5758-85ef-4288-8edc-66ac43f68be3')\"\n",
              "              title=\"Convert this dataframe to an interactive table.\"\n",
              "              style=\"display:none;\">\n",
              "        \n",
              "  <svg xmlns=\"http://www.w3.org/2000/svg\" height=\"24px\"viewBox=\"0 0 24 24\"\n",
              "       width=\"24px\">\n",
              "    <path d=\"M0 0h24v24H0V0z\" fill=\"none\"/>\n",
              "    <path d=\"M18.56 5.44l.94 2.06.94-2.06 2.06-.94-2.06-.94-.94-2.06-.94 2.06-2.06.94zm-11 1L8.5 8.5l.94-2.06 2.06-.94-2.06-.94L8.5 2.5l-.94 2.06-2.06.94zm10 10l.94 2.06.94-2.06 2.06-.94-2.06-.94-.94-2.06-.94 2.06-2.06.94z\"/><path d=\"M17.41 7.96l-1.37-1.37c-.4-.4-.92-.59-1.43-.59-.52 0-1.04.2-1.43.59L10.3 9.45l-7.72 7.72c-.78.78-.78 2.05 0 2.83L4 21.41c.39.39.9.59 1.41.59.51 0 1.02-.2 1.41-.59l7.78-7.78 2.81-2.81c.8-.78.8-2.07 0-2.86zM5.41 20L4 18.59l7.72-7.72 1.47 1.35L5.41 20z\"/>\n",
              "  </svg>\n",
              "      </button>\n",
              "      \n",
              "  <style>\n",
              "    .colab-df-container {\n",
              "      display:flex;\n",
              "      flex-wrap:wrap;\n",
              "      gap: 12px;\n",
              "    }\n",
              "\n",
              "    .colab-df-convert {\n",
              "      background-color: #E8F0FE;\n",
              "      border: none;\n",
              "      border-radius: 50%;\n",
              "      cursor: pointer;\n",
              "      display: none;\n",
              "      fill: #1967D2;\n",
              "      height: 32px;\n",
              "      padding: 0 0 0 0;\n",
              "      width: 32px;\n",
              "    }\n",
              "\n",
              "    .colab-df-convert:hover {\n",
              "      background-color: #E2EBFA;\n",
              "      box-shadow: 0px 1px 2px rgba(60, 64, 67, 0.3), 0px 1px 3px 1px rgba(60, 64, 67, 0.15);\n",
              "      fill: #174EA6;\n",
              "    }\n",
              "\n",
              "    [theme=dark] .colab-df-convert {\n",
              "      background-color: #3B4455;\n",
              "      fill: #D2E3FC;\n",
              "    }\n",
              "\n",
              "    [theme=dark] .colab-df-convert:hover {\n",
              "      background-color: #434B5C;\n",
              "      box-shadow: 0px 1px 3px 1px rgba(0, 0, 0, 0.15);\n",
              "      filter: drop-shadow(0px 1px 2px rgba(0, 0, 0, 0.3));\n",
              "      fill: #FFFFFF;\n",
              "    }\n",
              "  </style>\n",
              "\n",
              "      <script>\n",
              "        const buttonEl =\n",
              "          document.querySelector('#df-76dd5758-85ef-4288-8edc-66ac43f68be3 button.colab-df-convert');\n",
              "        buttonEl.style.display =\n",
              "          google.colab.kernel.accessAllowed ? 'block' : 'none';\n",
              "\n",
              "        async function convertToInteractive(key) {\n",
              "          const element = document.querySelector('#df-76dd5758-85ef-4288-8edc-66ac43f68be3');\n",
              "          const dataTable =\n",
              "            await google.colab.kernel.invokeFunction('convertToInteractive',\n",
              "                                                     [key], {});\n",
              "          if (!dataTable) return;\n",
              "\n",
              "          const docLinkHtml = 'Like what you see? Visit the ' +\n",
              "            '<a target=\"_blank\" href=https://colab.research.google.com/notebooks/data_table.ipynb>data table notebook</a>'\n",
              "            + ' to learn more about interactive tables.';\n",
              "          element.innerHTML = '';\n",
              "          dataTable['output_type'] = 'display_data';\n",
              "          await google.colab.output.renderOutput(dataTable, element);\n",
              "          const docLink = document.createElement('div');\n",
              "          docLink.innerHTML = docLinkHtml;\n",
              "          element.appendChild(docLink);\n",
              "        }\n",
              "      </script>\n",
              "    </div>\n",
              "  </div>\n",
              "  "
            ]
          },
          "metadata": {},
          "execution_count": 12
        }
      ]
    },
    {
      "cell_type": "code",
      "source": [
        "# TIp\n",
        "# 베이지안 a/b test? 왜 베이지안을 선택했는가 를 포트폴리오로  쓰기 장점 -> \n",
        "# 상황에 대한 맞춤으로 포트폴리오 스토리 만들기"
      ],
      "metadata": {
        "id": "rGVb88OOO8R6"
      },
      "execution_count": 13,
      "outputs": []
    },
    {
      "cell_type": "code",
      "source": [
        "bidding3 = bidding2.drop_duplicates(['index'])\n",
        "bidding3"
      ],
      "metadata": {
        "id": "DCIGUxB4Pr7l",
        "colab": {
          "base_uri": "https://localhost:8080/",
          "height": 745
        },
        "outputId": "f9cece54-2254-4417-b133-7ba7fdd5b300"
      },
      "execution_count": 14,
      "outputs": [
        {
          "output_type": "execute_result",
          "data": {
            "text/plain": [
              "              index  Impression  Click   Cost  Sum of AD rank  Bid  Price(PC)  \\\n",
              "date                                                                            \n",
              "2022-10-31  3575092           3      0    0.0             3.0   50     165900   \n",
              "2022-10-31  3575637           6      0    0.0             3.0   50      10900   \n",
              "2022-10-31  4129259           7      0    0.0             8.0   50     255000   \n",
              "2022-10-31  4131479          36      3  150.0             4.0  140     190000   \n",
              "2022-10-31  4131482         224      0    0.0             6.0   50     129000   \n",
              "...             ...         ...    ...    ...             ...  ...        ...   \n",
              "2023-01-03  2566795           5      0    0.0            13.0  500      19900   \n",
              "2023-01-03  2566880           3      0    0.0            17.0  500      23900   \n",
              "2023-01-03  2566881           1      0    0.0             8.0  500       2500   \n",
              "2023-01-03  2566891           2      0    0.0             4.0  500      21000   \n",
              "2023-01-03  2566923          14      0    0.0            12.0  500     128800   \n",
              "\n",
              "            Price(Mobile)  Delivery Fee Category Name 1 Category Name 2  \\\n",
              "date                                                                      \n",
              "2022-10-31         165900             0         가구/인테리어            침실가구   \n",
              "2022-10-31          10900             0         가구/인테리어          인테리어소품   \n",
              "2022-10-31         255000            -1         가구/인테리어            거실가구   \n",
              "2022-10-31         190000         20000         가구/인테리어        아동/주니어가구   \n",
              "2022-10-31         129000             0         가구/인테리어        아동/주니어가구   \n",
              "...                   ...           ...             ...             ...   \n",
              "2023-01-03          19900             0         가구/인테리어          인테리어소품   \n",
              "2023-01-03          23900          3000           생활/건강         문구/사무용품   \n",
              "2023-01-03           2500          3000         가구/인테리어          인테리어소품   \n",
              "2023-01-03          21000          3000           생활/건강         정원/원예용품   \n",
              "2023-01-03         128800             0         가구/인테리어          인테리어소품   \n",
              "\n",
              "           Category Name 3 Category Name 4       CTR   CPC   CPM  \n",
              "date                                                              \n",
              "2022-10-31         장롱/붙박이장            드레스룸  0.000000   0.0  0.00  \n",
              "2022-10-31        아로마/캔들용품      아로마방향제/디퓨저  0.000000   0.0  0.00  \n",
              "2022-10-31              소파           패브릭소파  0.000000   0.0  0.00  \n",
              "2022-10-31          책상의자세트      uncategory  8.333333  50.0  0.15  \n",
              "2022-10-31              책상      uncategory  0.000000   0.0  0.00  \n",
              "...                    ...             ...       ...   ...   ...  \n",
              "2023-01-03        아로마/캔들용품      아로마방향제/디퓨저  0.000000   0.0  0.00  \n",
              "2023-01-03        이벤트/파티용품            데코용품  0.000000   0.0  0.00  \n",
              "2023-01-03          기타장식용품      uncategory  0.000000   0.0  0.00  \n",
              "2023-01-03            화분받침      uncategory  0.000000   0.0  0.00  \n",
              "2023-01-03              액자      퍼즐/그림/사진액자  0.000000   0.0  0.00  \n",
              "\n",
              "[48486 rows x 16 columns]"
            ],
            "text/html": [
              "\n",
              "  <div id=\"df-92a586db-1fb7-4d23-ae66-a60f6721ef9d\">\n",
              "    <div class=\"colab-df-container\">\n",
              "      <div>\n",
              "<style scoped>\n",
              "    .dataframe tbody tr th:only-of-type {\n",
              "        vertical-align: middle;\n",
              "    }\n",
              "\n",
              "    .dataframe tbody tr th {\n",
              "        vertical-align: top;\n",
              "    }\n",
              "\n",
              "    .dataframe thead th {\n",
              "        text-align: right;\n",
              "    }\n",
              "</style>\n",
              "<table border=\"1\" class=\"dataframe\">\n",
              "  <thead>\n",
              "    <tr style=\"text-align: right;\">\n",
              "      <th></th>\n",
              "      <th>index</th>\n",
              "      <th>Impression</th>\n",
              "      <th>Click</th>\n",
              "      <th>Cost</th>\n",
              "      <th>Sum of AD rank</th>\n",
              "      <th>Bid</th>\n",
              "      <th>Price(PC)</th>\n",
              "      <th>Price(Mobile)</th>\n",
              "      <th>Delivery Fee</th>\n",
              "      <th>Category Name 1</th>\n",
              "      <th>Category Name 2</th>\n",
              "      <th>Category Name 3</th>\n",
              "      <th>Category Name 4</th>\n",
              "      <th>CTR</th>\n",
              "      <th>CPC</th>\n",
              "      <th>CPM</th>\n",
              "    </tr>\n",
              "    <tr>\n",
              "      <th>date</th>\n",
              "      <th></th>\n",
              "      <th></th>\n",
              "      <th></th>\n",
              "      <th></th>\n",
              "      <th></th>\n",
              "      <th></th>\n",
              "      <th></th>\n",
              "      <th></th>\n",
              "      <th></th>\n",
              "      <th></th>\n",
              "      <th></th>\n",
              "      <th></th>\n",
              "      <th></th>\n",
              "      <th></th>\n",
              "      <th></th>\n",
              "      <th></th>\n",
              "    </tr>\n",
              "  </thead>\n",
              "  <tbody>\n",
              "    <tr>\n",
              "      <th>2022-10-31</th>\n",
              "      <td>3575092</td>\n",
              "      <td>3</td>\n",
              "      <td>0</td>\n",
              "      <td>0.0</td>\n",
              "      <td>3.0</td>\n",
              "      <td>50</td>\n",
              "      <td>165900</td>\n",
              "      <td>165900</td>\n",
              "      <td>0</td>\n",
              "      <td>가구/인테리어</td>\n",
              "      <td>침실가구</td>\n",
              "      <td>장롱/붙박이장</td>\n",
              "      <td>드레스룸</td>\n",
              "      <td>0.000000</td>\n",
              "      <td>0.0</td>\n",
              "      <td>0.00</td>\n",
              "    </tr>\n",
              "    <tr>\n",
              "      <th>2022-10-31</th>\n",
              "      <td>3575637</td>\n",
              "      <td>6</td>\n",
              "      <td>0</td>\n",
              "      <td>0.0</td>\n",
              "      <td>3.0</td>\n",
              "      <td>50</td>\n",
              "      <td>10900</td>\n",
              "      <td>10900</td>\n",
              "      <td>0</td>\n",
              "      <td>가구/인테리어</td>\n",
              "      <td>인테리어소품</td>\n",
              "      <td>아로마/캔들용품</td>\n",
              "      <td>아로마방향제/디퓨저</td>\n",
              "      <td>0.000000</td>\n",
              "      <td>0.0</td>\n",
              "      <td>0.00</td>\n",
              "    </tr>\n",
              "    <tr>\n",
              "      <th>2022-10-31</th>\n",
              "      <td>4129259</td>\n",
              "      <td>7</td>\n",
              "      <td>0</td>\n",
              "      <td>0.0</td>\n",
              "      <td>8.0</td>\n",
              "      <td>50</td>\n",
              "      <td>255000</td>\n",
              "      <td>255000</td>\n",
              "      <td>-1</td>\n",
              "      <td>가구/인테리어</td>\n",
              "      <td>거실가구</td>\n",
              "      <td>소파</td>\n",
              "      <td>패브릭소파</td>\n",
              "      <td>0.000000</td>\n",
              "      <td>0.0</td>\n",
              "      <td>0.00</td>\n",
              "    </tr>\n",
              "    <tr>\n",
              "      <th>2022-10-31</th>\n",
              "      <td>4131479</td>\n",
              "      <td>36</td>\n",
              "      <td>3</td>\n",
              "      <td>150.0</td>\n",
              "      <td>4.0</td>\n",
              "      <td>140</td>\n",
              "      <td>190000</td>\n",
              "      <td>190000</td>\n",
              "      <td>20000</td>\n",
              "      <td>가구/인테리어</td>\n",
              "      <td>아동/주니어가구</td>\n",
              "      <td>책상의자세트</td>\n",
              "      <td>uncategory</td>\n",
              "      <td>8.333333</td>\n",
              "      <td>50.0</td>\n",
              "      <td>0.15</td>\n",
              "    </tr>\n",
              "    <tr>\n",
              "      <th>2022-10-31</th>\n",
              "      <td>4131482</td>\n",
              "      <td>224</td>\n",
              "      <td>0</td>\n",
              "      <td>0.0</td>\n",
              "      <td>6.0</td>\n",
              "      <td>50</td>\n",
              "      <td>129000</td>\n",
              "      <td>129000</td>\n",
              "      <td>0</td>\n",
              "      <td>가구/인테리어</td>\n",
              "      <td>아동/주니어가구</td>\n",
              "      <td>책상</td>\n",
              "      <td>uncategory</td>\n",
              "      <td>0.000000</td>\n",
              "      <td>0.0</td>\n",
              "      <td>0.00</td>\n",
              "    </tr>\n",
              "    <tr>\n",
              "      <th>...</th>\n",
              "      <td>...</td>\n",
              "      <td>...</td>\n",
              "      <td>...</td>\n",
              "      <td>...</td>\n",
              "      <td>...</td>\n",
              "      <td>...</td>\n",
              "      <td>...</td>\n",
              "      <td>...</td>\n",
              "      <td>...</td>\n",
              "      <td>...</td>\n",
              "      <td>...</td>\n",
              "      <td>...</td>\n",
              "      <td>...</td>\n",
              "      <td>...</td>\n",
              "      <td>...</td>\n",
              "      <td>...</td>\n",
              "    </tr>\n",
              "    <tr>\n",
              "      <th>2023-01-03</th>\n",
              "      <td>2566795</td>\n",
              "      <td>5</td>\n",
              "      <td>0</td>\n",
              "      <td>0.0</td>\n",
              "      <td>13.0</td>\n",
              "      <td>500</td>\n",
              "      <td>19900</td>\n",
              "      <td>19900</td>\n",
              "      <td>0</td>\n",
              "      <td>가구/인테리어</td>\n",
              "      <td>인테리어소품</td>\n",
              "      <td>아로마/캔들용품</td>\n",
              "      <td>아로마방향제/디퓨저</td>\n",
              "      <td>0.000000</td>\n",
              "      <td>0.0</td>\n",
              "      <td>0.00</td>\n",
              "    </tr>\n",
              "    <tr>\n",
              "      <th>2023-01-03</th>\n",
              "      <td>2566880</td>\n",
              "      <td>3</td>\n",
              "      <td>0</td>\n",
              "      <td>0.0</td>\n",
              "      <td>17.0</td>\n",
              "      <td>500</td>\n",
              "      <td>23900</td>\n",
              "      <td>23900</td>\n",
              "      <td>3000</td>\n",
              "      <td>생활/건강</td>\n",
              "      <td>문구/사무용품</td>\n",
              "      <td>이벤트/파티용품</td>\n",
              "      <td>데코용품</td>\n",
              "      <td>0.000000</td>\n",
              "      <td>0.0</td>\n",
              "      <td>0.00</td>\n",
              "    </tr>\n",
              "    <tr>\n",
              "      <th>2023-01-03</th>\n",
              "      <td>2566881</td>\n",
              "      <td>1</td>\n",
              "      <td>0</td>\n",
              "      <td>0.0</td>\n",
              "      <td>8.0</td>\n",
              "      <td>500</td>\n",
              "      <td>2500</td>\n",
              "      <td>2500</td>\n",
              "      <td>3000</td>\n",
              "      <td>가구/인테리어</td>\n",
              "      <td>인테리어소품</td>\n",
              "      <td>기타장식용품</td>\n",
              "      <td>uncategory</td>\n",
              "      <td>0.000000</td>\n",
              "      <td>0.0</td>\n",
              "      <td>0.00</td>\n",
              "    </tr>\n",
              "    <tr>\n",
              "      <th>2023-01-03</th>\n",
              "      <td>2566891</td>\n",
              "      <td>2</td>\n",
              "      <td>0</td>\n",
              "      <td>0.0</td>\n",
              "      <td>4.0</td>\n",
              "      <td>500</td>\n",
              "      <td>21000</td>\n",
              "      <td>21000</td>\n",
              "      <td>3000</td>\n",
              "      <td>생활/건강</td>\n",
              "      <td>정원/원예용품</td>\n",
              "      <td>화분받침</td>\n",
              "      <td>uncategory</td>\n",
              "      <td>0.000000</td>\n",
              "      <td>0.0</td>\n",
              "      <td>0.00</td>\n",
              "    </tr>\n",
              "    <tr>\n",
              "      <th>2023-01-03</th>\n",
              "      <td>2566923</td>\n",
              "      <td>14</td>\n",
              "      <td>0</td>\n",
              "      <td>0.0</td>\n",
              "      <td>12.0</td>\n",
              "      <td>500</td>\n",
              "      <td>128800</td>\n",
              "      <td>128800</td>\n",
              "      <td>0</td>\n",
              "      <td>가구/인테리어</td>\n",
              "      <td>인테리어소품</td>\n",
              "      <td>액자</td>\n",
              "      <td>퍼즐/그림/사진액자</td>\n",
              "      <td>0.000000</td>\n",
              "      <td>0.0</td>\n",
              "      <td>0.00</td>\n",
              "    </tr>\n",
              "  </tbody>\n",
              "</table>\n",
              "<p>48486 rows × 16 columns</p>\n",
              "</div>\n",
              "      <button class=\"colab-df-convert\" onclick=\"convertToInteractive('df-92a586db-1fb7-4d23-ae66-a60f6721ef9d')\"\n",
              "              title=\"Convert this dataframe to an interactive table.\"\n",
              "              style=\"display:none;\">\n",
              "        \n",
              "  <svg xmlns=\"http://www.w3.org/2000/svg\" height=\"24px\"viewBox=\"0 0 24 24\"\n",
              "       width=\"24px\">\n",
              "    <path d=\"M0 0h24v24H0V0z\" fill=\"none\"/>\n",
              "    <path d=\"M18.56 5.44l.94 2.06.94-2.06 2.06-.94-2.06-.94-.94-2.06-.94 2.06-2.06.94zm-11 1L8.5 8.5l.94-2.06 2.06-.94-2.06-.94L8.5 2.5l-.94 2.06-2.06.94zm10 10l.94 2.06.94-2.06 2.06-.94-2.06-.94-.94-2.06-.94 2.06-2.06.94z\"/><path d=\"M17.41 7.96l-1.37-1.37c-.4-.4-.92-.59-1.43-.59-.52 0-1.04.2-1.43.59L10.3 9.45l-7.72 7.72c-.78.78-.78 2.05 0 2.83L4 21.41c.39.39.9.59 1.41.59.51 0 1.02-.2 1.41-.59l7.78-7.78 2.81-2.81c.8-.78.8-2.07 0-2.86zM5.41 20L4 18.59l7.72-7.72 1.47 1.35L5.41 20z\"/>\n",
              "  </svg>\n",
              "      </button>\n",
              "      \n",
              "  <style>\n",
              "    .colab-df-container {\n",
              "      display:flex;\n",
              "      flex-wrap:wrap;\n",
              "      gap: 12px;\n",
              "    }\n",
              "\n",
              "    .colab-df-convert {\n",
              "      background-color: #E8F0FE;\n",
              "      border: none;\n",
              "      border-radius: 50%;\n",
              "      cursor: pointer;\n",
              "      display: none;\n",
              "      fill: #1967D2;\n",
              "      height: 32px;\n",
              "      padding: 0 0 0 0;\n",
              "      width: 32px;\n",
              "    }\n",
              "\n",
              "    .colab-df-convert:hover {\n",
              "      background-color: #E2EBFA;\n",
              "      box-shadow: 0px 1px 2px rgba(60, 64, 67, 0.3), 0px 1px 3px 1px rgba(60, 64, 67, 0.15);\n",
              "      fill: #174EA6;\n",
              "    }\n",
              "\n",
              "    [theme=dark] .colab-df-convert {\n",
              "      background-color: #3B4455;\n",
              "      fill: #D2E3FC;\n",
              "    }\n",
              "\n",
              "    [theme=dark] .colab-df-convert:hover {\n",
              "      background-color: #434B5C;\n",
              "      box-shadow: 0px 1px 3px 1px rgba(0, 0, 0, 0.15);\n",
              "      filter: drop-shadow(0px 1px 2px rgba(0, 0, 0, 0.3));\n",
              "      fill: #FFFFFF;\n",
              "    }\n",
              "  </style>\n",
              "\n",
              "      <script>\n",
              "        const buttonEl =\n",
              "          document.querySelector('#df-92a586db-1fb7-4d23-ae66-a60f6721ef9d button.colab-df-convert');\n",
              "        buttonEl.style.display =\n",
              "          google.colab.kernel.accessAllowed ? 'block' : 'none';\n",
              "\n",
              "        async function convertToInteractive(key) {\n",
              "          const element = document.querySelector('#df-92a586db-1fb7-4d23-ae66-a60f6721ef9d');\n",
              "          const dataTable =\n",
              "            await google.colab.kernel.invokeFunction('convertToInteractive',\n",
              "                                                     [key], {});\n",
              "          if (!dataTable) return;\n",
              "\n",
              "          const docLinkHtml = 'Like what you see? Visit the ' +\n",
              "            '<a target=\"_blank\" href=https://colab.research.google.com/notebooks/data_table.ipynb>data table notebook</a>'\n",
              "            + ' to learn more about interactive tables.';\n",
              "          element.innerHTML = '';\n",
              "          dataTable['output_type'] = 'display_data';\n",
              "          await google.colab.output.renderOutput(dataTable, element);\n",
              "          const docLink = document.createElement('div');\n",
              "          docLink.innerHTML = docLinkHtml;\n",
              "          element.appendChild(docLink);\n",
              "        }\n",
              "      </script>\n",
              "    </div>\n",
              "  </div>\n",
              "  "
            ]
          },
          "metadata": {},
          "execution_count": 14
        }
      ]
    },
    {
      "cell_type": "code",
      "source": [
        "categorys1 = list(set(bidding3['Category Name 1'].to_list()))\n",
        "categorys2 = list(set(bidding3['Category Name 2'].to_list()))\n",
        "categorys3 = list(set(bidding3['Category Name 3'].to_list()))\n",
        "categorys4 = list(set(bidding3['Category Name 4'].to_list()))"
      ],
      "metadata": {
        "id": "atV1ANCgP2AX"
      },
      "execution_count": 15,
      "outputs": []
    },
    {
      "cell_type": "code",
      "source": [
        "# CTR = 클릭률\n",
        "# CPC = 클릭당 비용\n",
        "# CPM = 1000회 노출당 비용\n",
        "for cate in categorys1:\n",
        "    df = bidding3.loc[bidding3['Category Name 1'] == cate]\n",
        "    print(f\"CTR : {cate}: {df['CTR'].mean()}\")\n",
        "print('-' * 50)\n",
        "for cate in categorys1:\n",
        "    df = bidding3.loc[bidding3['Category Name 1'] == cate]\n",
        "    print(f\"CPC : {cate}: {df['CPC'].mean()}\")\n",
        "print('-' * 50)\n",
        "for cate in categorys1:\n",
        "    df = bidding3.loc[bidding3['Category Name 1'] == cate]\n",
        "    print(f\"CPM : {cate}: {df['CPM'].mean()}\")\n",
        "print('-' * 50)\n"
      ],
      "metadata": {
        "id": "ssbNTFOhO8UK",
        "colab": {
          "base_uri": "https://localhost:8080/"
        },
        "outputId": "2ce95794-ea3d-4ef2-8c1f-0417c5ff0cf6"
      },
      "execution_count": 16,
      "outputs": [
        {
          "output_type": "stream",
          "name": "stdout",
          "text": [
            "CTR : 패션잡화: 1.7142804235347056\n",
            "CTR : 디지털/가전: 1.916043896440929\n",
            "CTR : 출산/육아: 2.3485914213997328\n",
            "CTR : 식품: 0.0\n",
            "CTR : 여가/생활편의: 4.306358289042499\n",
            "CTR : 화장품/미용: 1.2639134068914868\n",
            "CTR : 스포츠/레저: 2.473615329335076\n",
            "CTR : 패션의류: 1.1696922649345287\n",
            "CTR : 가구/인테리어: 1.534402497955175\n",
            "CTR : 생활/건강: 1.816915281585836\n",
            "--------------------------------------------------\n",
            "CPC : 패션잡화: 68.05678756462889\n",
            "CPC : 디지털/가전: 32.55504258551301\n",
            "CPC : 출산/육아: 52.6338680538919\n",
            "CPC : 식품: 0.0\n",
            "CPC : 여가/생활편의: 38.62139917695473\n",
            "CPC : 화장품/미용: 65.26291993796862\n",
            "CPC : 스포츠/레저: 61.13637438132432\n",
            "CPC : 패션의류: 92.61124449779913\n",
            "CPC : 가구/인테리어: 47.029295871442436\n",
            "CPC : 생활/건강: 56.909235795186234\n",
            "--------------------------------------------------\n",
            "CPM : 패션잡화: 0.17357933579335794\n",
            "CPM : 디지털/가전: 0.15420765027322403\n",
            "CPM : 출산/육아: 0.2678363832077503\n",
            "CPM : 식품: 0.0\n",
            "CPM : 여가/생활편의: 0.19740740740740742\n",
            "CPM : 화장품/미용: 0.2642524916943521\n",
            "CPM : 스포츠/레저: 0.3193262411347518\n",
            "CPM : 패션의류: 0.5751260504201681\n",
            "CPM : 가구/인테리어: 0.15693206592831607\n",
            "CPM : 생활/건강: 0.21437473251733288\n",
            "--------------------------------------------------\n"
          ]
        }
      ]
    },
    {
      "cell_type": "code",
      "source": [
        "#CTR/CPC 해보고 싶습니다. ->가성비 좋은 상품을 찾기 위해 도움필요"
      ],
      "metadata": {
        "id": "nOZ9R8tEmjc8"
      },
      "execution_count": 17,
      "outputs": []
    },
    {
      "cell_type": "code",
      "source": [
        "bidding_rank = bidding2.sort_values(by = 'Sum of AD rank', ignore_index=True, ascending=True)\n",
        "bidding_rank"
      ],
      "metadata": {
        "id": "s68XJNn_O8We",
        "colab": {
          "base_uri": "https://localhost:8080/",
          "height": 678
        },
        "outputId": "aad82e02-6356-45fa-9f1e-fd9c2d4b5ba9"
      },
      "execution_count": 18,
      "outputs": [
        {
          "output_type": "execute_result",
          "data": {
            "text/plain": [
              "           index  Impression  Click   Cost  Sum of AD rank  Bid  Price(PC)  \\\n",
              "0        9190721          22      1  280.0             1.0   60       9900   \n",
              "1        3592074           1      0    0.0             1.0  300       9900   \n",
              "2        3592078           3      0    0.0             1.0   50       5900   \n",
              "3        3044310          39      0    0.0             1.0   50    1187500   \n",
              "4        3044301           1      0    0.0             1.0   50     799000   \n",
              "...          ...         ...    ...    ...             ...  ...        ...   \n",
              "1331206  3303386           1      0    0.0           100.0  360      39900   \n",
              "1331207   112516           1      0    0.0           100.0   50      97900   \n",
              "1331208  9190741           1      0    0.0           100.0  300      15840   \n",
              "1331209  9143558           2      0    0.0           100.0   50      22900   \n",
              "1331210  9142532           1      0    0.0           100.0  500      61900   \n",
              "\n",
              "         Price(Mobile)  Delivery Fee Category Name 1 Category Name 2  \\\n",
              "0                 9900          3000            패션잡화            여성신발   \n",
              "1                 9900          3000          화장품/미용            헤어케어   \n",
              "2                 5900          3000          화장품/미용            헤어케어   \n",
              "3              1187500            -1         가구/인테리어            주방가구   \n",
              "4               799000             0         가구/인테리어            주방가구   \n",
              "...                ...           ...             ...             ...   \n",
              "1331206          39900            -1         가구/인테리어            침실가구   \n",
              "1331207          97900             0         가구/인테리어            침실가구   \n",
              "1331208          15840          3000            패션잡화            남성신발   \n",
              "1331209          22900          4000         가구/인테리어        서재/사무용가구   \n",
              "1331210          61900            -1         가구/인테리어            주방가구   \n",
              "\n",
              "        Category Name 3 Category Name 4       CTR    CPC   CPM  \n",
              "0                   실내화      uncategory  4.545455  280.0  0.28  \n",
              "1                    린스      uncategory  0.000000    0.0  0.00  \n",
              "2                 헤어에센스      uncategory  0.000000    0.0  0.00  \n",
              "3                 식탁/의자           식탁테이블  0.000000    0.0  0.00  \n",
              "4                 식탁/의자           식탁테이블  0.000000    0.0  0.00  \n",
              "...                 ...             ...       ...    ...   ...  \n",
              "1331206              협탁      uncategory  0.000000    0.0  0.00  \n",
              "1331207             화장대              콘솔  0.000000    0.0  0.00  \n",
              "1331208             슬리퍼      uncategory  0.000000    0.0  0.00  \n",
              "1331209              의자              스툴  0.000000    0.0  0.00  \n",
              "1331210           식탁/의자           식탁테이블  0.000000    0.0  0.00  \n",
              "\n",
              "[1331211 rows x 16 columns]"
            ],
            "text/html": [
              "\n",
              "  <div id=\"df-3fc686c1-40e2-48dd-af6c-2d71dc56757f\">\n",
              "    <div class=\"colab-df-container\">\n",
              "      <div>\n",
              "<style scoped>\n",
              "    .dataframe tbody tr th:only-of-type {\n",
              "        vertical-align: middle;\n",
              "    }\n",
              "\n",
              "    .dataframe tbody tr th {\n",
              "        vertical-align: top;\n",
              "    }\n",
              "\n",
              "    .dataframe thead th {\n",
              "        text-align: right;\n",
              "    }\n",
              "</style>\n",
              "<table border=\"1\" class=\"dataframe\">\n",
              "  <thead>\n",
              "    <tr style=\"text-align: right;\">\n",
              "      <th></th>\n",
              "      <th>index</th>\n",
              "      <th>Impression</th>\n",
              "      <th>Click</th>\n",
              "      <th>Cost</th>\n",
              "      <th>Sum of AD rank</th>\n",
              "      <th>Bid</th>\n",
              "      <th>Price(PC)</th>\n",
              "      <th>Price(Mobile)</th>\n",
              "      <th>Delivery Fee</th>\n",
              "      <th>Category Name 1</th>\n",
              "      <th>Category Name 2</th>\n",
              "      <th>Category Name 3</th>\n",
              "      <th>Category Name 4</th>\n",
              "      <th>CTR</th>\n",
              "      <th>CPC</th>\n",
              "      <th>CPM</th>\n",
              "    </tr>\n",
              "  </thead>\n",
              "  <tbody>\n",
              "    <tr>\n",
              "      <th>0</th>\n",
              "      <td>9190721</td>\n",
              "      <td>22</td>\n",
              "      <td>1</td>\n",
              "      <td>280.0</td>\n",
              "      <td>1.0</td>\n",
              "      <td>60</td>\n",
              "      <td>9900</td>\n",
              "      <td>9900</td>\n",
              "      <td>3000</td>\n",
              "      <td>패션잡화</td>\n",
              "      <td>여성신발</td>\n",
              "      <td>실내화</td>\n",
              "      <td>uncategory</td>\n",
              "      <td>4.545455</td>\n",
              "      <td>280.0</td>\n",
              "      <td>0.28</td>\n",
              "    </tr>\n",
              "    <tr>\n",
              "      <th>1</th>\n",
              "      <td>3592074</td>\n",
              "      <td>1</td>\n",
              "      <td>0</td>\n",
              "      <td>0.0</td>\n",
              "      <td>1.0</td>\n",
              "      <td>300</td>\n",
              "      <td>9900</td>\n",
              "      <td>9900</td>\n",
              "      <td>3000</td>\n",
              "      <td>화장품/미용</td>\n",
              "      <td>헤어케어</td>\n",
              "      <td>린스</td>\n",
              "      <td>uncategory</td>\n",
              "      <td>0.000000</td>\n",
              "      <td>0.0</td>\n",
              "      <td>0.00</td>\n",
              "    </tr>\n",
              "    <tr>\n",
              "      <th>2</th>\n",
              "      <td>3592078</td>\n",
              "      <td>3</td>\n",
              "      <td>0</td>\n",
              "      <td>0.0</td>\n",
              "      <td>1.0</td>\n",
              "      <td>50</td>\n",
              "      <td>5900</td>\n",
              "      <td>5900</td>\n",
              "      <td>3000</td>\n",
              "      <td>화장품/미용</td>\n",
              "      <td>헤어케어</td>\n",
              "      <td>헤어에센스</td>\n",
              "      <td>uncategory</td>\n",
              "      <td>0.000000</td>\n",
              "      <td>0.0</td>\n",
              "      <td>0.00</td>\n",
              "    </tr>\n",
              "    <tr>\n",
              "      <th>3</th>\n",
              "      <td>3044310</td>\n",
              "      <td>39</td>\n",
              "      <td>0</td>\n",
              "      <td>0.0</td>\n",
              "      <td>1.0</td>\n",
              "      <td>50</td>\n",
              "      <td>1187500</td>\n",
              "      <td>1187500</td>\n",
              "      <td>-1</td>\n",
              "      <td>가구/인테리어</td>\n",
              "      <td>주방가구</td>\n",
              "      <td>식탁/의자</td>\n",
              "      <td>식탁테이블</td>\n",
              "      <td>0.000000</td>\n",
              "      <td>0.0</td>\n",
              "      <td>0.00</td>\n",
              "    </tr>\n",
              "    <tr>\n",
              "      <th>4</th>\n",
              "      <td>3044301</td>\n",
              "      <td>1</td>\n",
              "      <td>0</td>\n",
              "      <td>0.0</td>\n",
              "      <td>1.0</td>\n",
              "      <td>50</td>\n",
              "      <td>799000</td>\n",
              "      <td>799000</td>\n",
              "      <td>0</td>\n",
              "      <td>가구/인테리어</td>\n",
              "      <td>주방가구</td>\n",
              "      <td>식탁/의자</td>\n",
              "      <td>식탁테이블</td>\n",
              "      <td>0.000000</td>\n",
              "      <td>0.0</td>\n",
              "      <td>0.00</td>\n",
              "    </tr>\n",
              "    <tr>\n",
              "      <th>...</th>\n",
              "      <td>...</td>\n",
              "      <td>...</td>\n",
              "      <td>...</td>\n",
              "      <td>...</td>\n",
              "      <td>...</td>\n",
              "      <td>...</td>\n",
              "      <td>...</td>\n",
              "      <td>...</td>\n",
              "      <td>...</td>\n",
              "      <td>...</td>\n",
              "      <td>...</td>\n",
              "      <td>...</td>\n",
              "      <td>...</td>\n",
              "      <td>...</td>\n",
              "      <td>...</td>\n",
              "      <td>...</td>\n",
              "    </tr>\n",
              "    <tr>\n",
              "      <th>1331206</th>\n",
              "      <td>3303386</td>\n",
              "      <td>1</td>\n",
              "      <td>0</td>\n",
              "      <td>0.0</td>\n",
              "      <td>100.0</td>\n",
              "      <td>360</td>\n",
              "      <td>39900</td>\n",
              "      <td>39900</td>\n",
              "      <td>-1</td>\n",
              "      <td>가구/인테리어</td>\n",
              "      <td>침실가구</td>\n",
              "      <td>협탁</td>\n",
              "      <td>uncategory</td>\n",
              "      <td>0.000000</td>\n",
              "      <td>0.0</td>\n",
              "      <td>0.00</td>\n",
              "    </tr>\n",
              "    <tr>\n",
              "      <th>1331207</th>\n",
              "      <td>112516</td>\n",
              "      <td>1</td>\n",
              "      <td>0</td>\n",
              "      <td>0.0</td>\n",
              "      <td>100.0</td>\n",
              "      <td>50</td>\n",
              "      <td>97900</td>\n",
              "      <td>97900</td>\n",
              "      <td>0</td>\n",
              "      <td>가구/인테리어</td>\n",
              "      <td>침실가구</td>\n",
              "      <td>화장대</td>\n",
              "      <td>콘솔</td>\n",
              "      <td>0.000000</td>\n",
              "      <td>0.0</td>\n",
              "      <td>0.00</td>\n",
              "    </tr>\n",
              "    <tr>\n",
              "      <th>1331208</th>\n",
              "      <td>9190741</td>\n",
              "      <td>1</td>\n",
              "      <td>0</td>\n",
              "      <td>0.0</td>\n",
              "      <td>100.0</td>\n",
              "      <td>300</td>\n",
              "      <td>15840</td>\n",
              "      <td>15840</td>\n",
              "      <td>3000</td>\n",
              "      <td>패션잡화</td>\n",
              "      <td>남성신발</td>\n",
              "      <td>슬리퍼</td>\n",
              "      <td>uncategory</td>\n",
              "      <td>0.000000</td>\n",
              "      <td>0.0</td>\n",
              "      <td>0.00</td>\n",
              "    </tr>\n",
              "    <tr>\n",
              "      <th>1331209</th>\n",
              "      <td>9143558</td>\n",
              "      <td>2</td>\n",
              "      <td>0</td>\n",
              "      <td>0.0</td>\n",
              "      <td>100.0</td>\n",
              "      <td>50</td>\n",
              "      <td>22900</td>\n",
              "      <td>22900</td>\n",
              "      <td>4000</td>\n",
              "      <td>가구/인테리어</td>\n",
              "      <td>서재/사무용가구</td>\n",
              "      <td>의자</td>\n",
              "      <td>스툴</td>\n",
              "      <td>0.000000</td>\n",
              "      <td>0.0</td>\n",
              "      <td>0.00</td>\n",
              "    </tr>\n",
              "    <tr>\n",
              "      <th>1331210</th>\n",
              "      <td>9142532</td>\n",
              "      <td>1</td>\n",
              "      <td>0</td>\n",
              "      <td>0.0</td>\n",
              "      <td>100.0</td>\n",
              "      <td>500</td>\n",
              "      <td>61900</td>\n",
              "      <td>61900</td>\n",
              "      <td>-1</td>\n",
              "      <td>가구/인테리어</td>\n",
              "      <td>주방가구</td>\n",
              "      <td>식탁/의자</td>\n",
              "      <td>식탁테이블</td>\n",
              "      <td>0.000000</td>\n",
              "      <td>0.0</td>\n",
              "      <td>0.00</td>\n",
              "    </tr>\n",
              "  </tbody>\n",
              "</table>\n",
              "<p>1331211 rows × 16 columns</p>\n",
              "</div>\n",
              "      <button class=\"colab-df-convert\" onclick=\"convertToInteractive('df-3fc686c1-40e2-48dd-af6c-2d71dc56757f')\"\n",
              "              title=\"Convert this dataframe to an interactive table.\"\n",
              "              style=\"display:none;\">\n",
              "        \n",
              "  <svg xmlns=\"http://www.w3.org/2000/svg\" height=\"24px\"viewBox=\"0 0 24 24\"\n",
              "       width=\"24px\">\n",
              "    <path d=\"M0 0h24v24H0V0z\" fill=\"none\"/>\n",
              "    <path d=\"M18.56 5.44l.94 2.06.94-2.06 2.06-.94-2.06-.94-.94-2.06-.94 2.06-2.06.94zm-11 1L8.5 8.5l.94-2.06 2.06-.94-2.06-.94L8.5 2.5l-.94 2.06-2.06.94zm10 10l.94 2.06.94-2.06 2.06-.94-2.06-.94-.94-2.06-.94 2.06-2.06.94z\"/><path d=\"M17.41 7.96l-1.37-1.37c-.4-.4-.92-.59-1.43-.59-.52 0-1.04.2-1.43.59L10.3 9.45l-7.72 7.72c-.78.78-.78 2.05 0 2.83L4 21.41c.39.39.9.59 1.41.59.51 0 1.02-.2 1.41-.59l7.78-7.78 2.81-2.81c.8-.78.8-2.07 0-2.86zM5.41 20L4 18.59l7.72-7.72 1.47 1.35L5.41 20z\"/>\n",
              "  </svg>\n",
              "      </button>\n",
              "      \n",
              "  <style>\n",
              "    .colab-df-container {\n",
              "      display:flex;\n",
              "      flex-wrap:wrap;\n",
              "      gap: 12px;\n",
              "    }\n",
              "\n",
              "    .colab-df-convert {\n",
              "      background-color: #E8F0FE;\n",
              "      border: none;\n",
              "      border-radius: 50%;\n",
              "      cursor: pointer;\n",
              "      display: none;\n",
              "      fill: #1967D2;\n",
              "      height: 32px;\n",
              "      padding: 0 0 0 0;\n",
              "      width: 32px;\n",
              "    }\n",
              "\n",
              "    .colab-df-convert:hover {\n",
              "      background-color: #E2EBFA;\n",
              "      box-shadow: 0px 1px 2px rgba(60, 64, 67, 0.3), 0px 1px 3px 1px rgba(60, 64, 67, 0.15);\n",
              "      fill: #174EA6;\n",
              "    }\n",
              "\n",
              "    [theme=dark] .colab-df-convert {\n",
              "      background-color: #3B4455;\n",
              "      fill: #D2E3FC;\n",
              "    }\n",
              "\n",
              "    [theme=dark] .colab-df-convert:hover {\n",
              "      background-color: #434B5C;\n",
              "      box-shadow: 0px 1px 3px 1px rgba(0, 0, 0, 0.15);\n",
              "      filter: drop-shadow(0px 1px 2px rgba(0, 0, 0, 0.3));\n",
              "      fill: #FFFFFF;\n",
              "    }\n",
              "  </style>\n",
              "\n",
              "      <script>\n",
              "        const buttonEl =\n",
              "          document.querySelector('#df-3fc686c1-40e2-48dd-af6c-2d71dc56757f button.colab-df-convert');\n",
              "        buttonEl.style.display =\n",
              "          google.colab.kernel.accessAllowed ? 'block' : 'none';\n",
              "\n",
              "        async function convertToInteractive(key) {\n",
              "          const element = document.querySelector('#df-3fc686c1-40e2-48dd-af6c-2d71dc56757f');\n",
              "          const dataTable =\n",
              "            await google.colab.kernel.invokeFunction('convertToInteractive',\n",
              "                                                     [key], {});\n",
              "          if (!dataTable) return;\n",
              "\n",
              "          const docLinkHtml = 'Like what you see? Visit the ' +\n",
              "            '<a target=\"_blank\" href=https://colab.research.google.com/notebooks/data_table.ipynb>data table notebook</a>'\n",
              "            + ' to learn more about interactive tables.';\n",
              "          element.innerHTML = '';\n",
              "          dataTable['output_type'] = 'display_data';\n",
              "          await google.colab.output.renderOutput(dataTable, element);\n",
              "          const docLink = document.createElement('div');\n",
              "          docLink.innerHTML = docLinkHtml;\n",
              "          element.appendChild(docLink);\n",
              "        }\n",
              "      </script>\n",
              "    </div>\n",
              "  </div>\n",
              "  "
            ]
          },
          "metadata": {},
          "execution_count": 18
        }
      ]
    },
    {
      "cell_type": "code",
      "source": [
        "top_rank = list(set(bidding_rank['Sum of AD rank'].to_list()))\n",
        "top_rank = top_rank[:20]\n",
        "top_rank"
      ],
      "metadata": {
        "id": "ZV5MMtvZO8Yd",
        "colab": {
          "base_uri": "https://localhost:8080/"
        },
        "outputId": "081555fe-84db-4eea-850f-64631eef66eb"
      },
      "execution_count": 19,
      "outputs": [
        {
          "output_type": "execute_result",
          "data": {
            "text/plain": [
              "[1.0,\n",
              " 2.0,\n",
              " 3.0,\n",
              " 4.0,\n",
              " 5.0,\n",
              " 6.0,\n",
              " 7.0,\n",
              " 8.0,\n",
              " 9.0,\n",
              " 10.0,\n",
              " 11.0,\n",
              " 12.0,\n",
              " 13.0,\n",
              " 14.0,\n",
              " 15.0,\n",
              " 16.0,\n",
              " 17.0,\n",
              " 18.0,\n",
              " 19.0,\n",
              " 20.0]"
            ]
          },
          "metadata": {},
          "execution_count": 19
        }
      ]
    },
    {
      "cell_type": "markdown",
      "source": [
        "###1~8등 확인"
      ],
      "metadata": {
        "id": "1Mgzzim-tGOi"
      }
    },
    {
      "cell_type": "code",
      "source": [
        "design_A = bidding_rank[bidding_rank['Sum of AD rank'] <= 4] \n",
        "design_B = bidding_rank[bidding_rank['Sum of AD rank'] >= 5] "
      ],
      "metadata": {
        "id": "vSfQX29qP_PJ"
      },
      "execution_count": 20,
      "outputs": []
    },
    {
      "cell_type": "code",
      "source": [
        "design_A"
      ],
      "metadata": {
        "id": "9xxz2JaJQGK_",
        "colab": {
          "base_uri": "https://localhost:8080/",
          "height": 678
        },
        "outputId": "5794a276-c407-47e7-f777-3295b39a0a59"
      },
      "execution_count": 21,
      "outputs": [
        {
          "output_type": "execute_result",
          "data": {
            "text/plain": [
              "          index  Impression  Click   Cost  Sum of AD rank  Bid  Price(PC)  \\\n",
              "0       9190721          22      1  280.0             1.0   60       9900   \n",
              "1       3592074           1      0    0.0             1.0  300       9900   \n",
              "2       3592078           3      0    0.0             1.0   50       5900   \n",
              "3       3044310          39      0    0.0             1.0   50    1187500   \n",
              "4       3044301           1      0    0.0             1.0   50     799000   \n",
              "...         ...         ...    ...    ...             ...  ...        ...   \n",
              "422705  1661455         107      3  870.0             4.0   50      48900   \n",
              "422706  1857658           8      0    0.0             4.0  100     359000   \n",
              "422707  8284130           4      0    0.0             4.0   50      15600   \n",
              "422708  8128855           1      0    0.0             4.0   50      10700   \n",
              "422709  7373632           7      0    0.0             4.0   50      10500   \n",
              "\n",
              "        Price(Mobile)  Delivery Fee Category Name 1 Category Name 2  \\\n",
              "0                9900          3000            패션잡화            여성신발   \n",
              "1                9900          3000          화장품/미용            헤어케어   \n",
              "2                5900          3000          화장품/미용            헤어케어   \n",
              "3             1187500            -1         가구/인테리어            주방가구   \n",
              "4              799000             0         가구/인테리어            주방가구   \n",
              "...               ...           ...             ...             ...   \n",
              "422705          48900             0         가구/인테리어          인테리어소품   \n",
              "422706         359000            -1         가구/인테리어            거실가구   \n",
              "422707          15600          3000           생활/건강            주방용품   \n",
              "422708          10700             0           생활/건강         문구/사무용품   \n",
              "422709          10500             0           생활/건강            생활용품   \n",
              "\n",
              "       Category Name 3 Category Name 4       CTR    CPC   CPM  \n",
              "0                  실내화      uncategory  4.545455  280.0  0.28  \n",
              "1                   린스      uncategory  0.000000    0.0  0.00  \n",
              "2                헤어에센스      uncategory  0.000000    0.0  0.00  \n",
              "3                식탁/의자           식탁테이블  0.000000    0.0  0.00  \n",
              "4                식탁/의자           식탁테이블  0.000000    0.0  0.00  \n",
              "...                ...             ...       ...    ...   ...  \n",
              "422705             스탠드            장스탠드  2.803738  290.0  0.87  \n",
              "422706           TV거실장      uncategory  0.000000    0.0  0.00  \n",
              "422707            냄비/솥            전골냄비  0.000000    0.0  0.00  \n",
              "422708            문구용품           풀/접착제  0.000000    0.0  0.00  \n",
              "422709        제습/방향/탈취        섬유탈취스프레이  0.000000    0.0  0.00  \n",
              "\n",
              "[422710 rows x 16 columns]"
            ],
            "text/html": [
              "\n",
              "  <div id=\"df-5d148f6b-4cee-4696-bd86-ba83da05264d\">\n",
              "    <div class=\"colab-df-container\">\n",
              "      <div>\n",
              "<style scoped>\n",
              "    .dataframe tbody tr th:only-of-type {\n",
              "        vertical-align: middle;\n",
              "    }\n",
              "\n",
              "    .dataframe tbody tr th {\n",
              "        vertical-align: top;\n",
              "    }\n",
              "\n",
              "    .dataframe thead th {\n",
              "        text-align: right;\n",
              "    }\n",
              "</style>\n",
              "<table border=\"1\" class=\"dataframe\">\n",
              "  <thead>\n",
              "    <tr style=\"text-align: right;\">\n",
              "      <th></th>\n",
              "      <th>index</th>\n",
              "      <th>Impression</th>\n",
              "      <th>Click</th>\n",
              "      <th>Cost</th>\n",
              "      <th>Sum of AD rank</th>\n",
              "      <th>Bid</th>\n",
              "      <th>Price(PC)</th>\n",
              "      <th>Price(Mobile)</th>\n",
              "      <th>Delivery Fee</th>\n",
              "      <th>Category Name 1</th>\n",
              "      <th>Category Name 2</th>\n",
              "      <th>Category Name 3</th>\n",
              "      <th>Category Name 4</th>\n",
              "      <th>CTR</th>\n",
              "      <th>CPC</th>\n",
              "      <th>CPM</th>\n",
              "    </tr>\n",
              "  </thead>\n",
              "  <tbody>\n",
              "    <tr>\n",
              "      <th>0</th>\n",
              "      <td>9190721</td>\n",
              "      <td>22</td>\n",
              "      <td>1</td>\n",
              "      <td>280.0</td>\n",
              "      <td>1.0</td>\n",
              "      <td>60</td>\n",
              "      <td>9900</td>\n",
              "      <td>9900</td>\n",
              "      <td>3000</td>\n",
              "      <td>패션잡화</td>\n",
              "      <td>여성신발</td>\n",
              "      <td>실내화</td>\n",
              "      <td>uncategory</td>\n",
              "      <td>4.545455</td>\n",
              "      <td>280.0</td>\n",
              "      <td>0.28</td>\n",
              "    </tr>\n",
              "    <tr>\n",
              "      <th>1</th>\n",
              "      <td>3592074</td>\n",
              "      <td>1</td>\n",
              "      <td>0</td>\n",
              "      <td>0.0</td>\n",
              "      <td>1.0</td>\n",
              "      <td>300</td>\n",
              "      <td>9900</td>\n",
              "      <td>9900</td>\n",
              "      <td>3000</td>\n",
              "      <td>화장품/미용</td>\n",
              "      <td>헤어케어</td>\n",
              "      <td>린스</td>\n",
              "      <td>uncategory</td>\n",
              "      <td>0.000000</td>\n",
              "      <td>0.0</td>\n",
              "      <td>0.00</td>\n",
              "    </tr>\n",
              "    <tr>\n",
              "      <th>2</th>\n",
              "      <td>3592078</td>\n",
              "      <td>3</td>\n",
              "      <td>0</td>\n",
              "      <td>0.0</td>\n",
              "      <td>1.0</td>\n",
              "      <td>50</td>\n",
              "      <td>5900</td>\n",
              "      <td>5900</td>\n",
              "      <td>3000</td>\n",
              "      <td>화장품/미용</td>\n",
              "      <td>헤어케어</td>\n",
              "      <td>헤어에센스</td>\n",
              "      <td>uncategory</td>\n",
              "      <td>0.000000</td>\n",
              "      <td>0.0</td>\n",
              "      <td>0.00</td>\n",
              "    </tr>\n",
              "    <tr>\n",
              "      <th>3</th>\n",
              "      <td>3044310</td>\n",
              "      <td>39</td>\n",
              "      <td>0</td>\n",
              "      <td>0.0</td>\n",
              "      <td>1.0</td>\n",
              "      <td>50</td>\n",
              "      <td>1187500</td>\n",
              "      <td>1187500</td>\n",
              "      <td>-1</td>\n",
              "      <td>가구/인테리어</td>\n",
              "      <td>주방가구</td>\n",
              "      <td>식탁/의자</td>\n",
              "      <td>식탁테이블</td>\n",
              "      <td>0.000000</td>\n",
              "      <td>0.0</td>\n",
              "      <td>0.00</td>\n",
              "    </tr>\n",
              "    <tr>\n",
              "      <th>4</th>\n",
              "      <td>3044301</td>\n",
              "      <td>1</td>\n",
              "      <td>0</td>\n",
              "      <td>0.0</td>\n",
              "      <td>1.0</td>\n",
              "      <td>50</td>\n",
              "      <td>799000</td>\n",
              "      <td>799000</td>\n",
              "      <td>0</td>\n",
              "      <td>가구/인테리어</td>\n",
              "      <td>주방가구</td>\n",
              "      <td>식탁/의자</td>\n",
              "      <td>식탁테이블</td>\n",
              "      <td>0.000000</td>\n",
              "      <td>0.0</td>\n",
              "      <td>0.00</td>\n",
              "    </tr>\n",
              "    <tr>\n",
              "      <th>...</th>\n",
              "      <td>...</td>\n",
              "      <td>...</td>\n",
              "      <td>...</td>\n",
              "      <td>...</td>\n",
              "      <td>...</td>\n",
              "      <td>...</td>\n",
              "      <td>...</td>\n",
              "      <td>...</td>\n",
              "      <td>...</td>\n",
              "      <td>...</td>\n",
              "      <td>...</td>\n",
              "      <td>...</td>\n",
              "      <td>...</td>\n",
              "      <td>...</td>\n",
              "      <td>...</td>\n",
              "      <td>...</td>\n",
              "    </tr>\n",
              "    <tr>\n",
              "      <th>422705</th>\n",
              "      <td>1661455</td>\n",
              "      <td>107</td>\n",
              "      <td>3</td>\n",
              "      <td>870.0</td>\n",
              "      <td>4.0</td>\n",
              "      <td>50</td>\n",
              "      <td>48900</td>\n",
              "      <td>48900</td>\n",
              "      <td>0</td>\n",
              "      <td>가구/인테리어</td>\n",
              "      <td>인테리어소품</td>\n",
              "      <td>스탠드</td>\n",
              "      <td>장스탠드</td>\n",
              "      <td>2.803738</td>\n",
              "      <td>290.0</td>\n",
              "      <td>0.87</td>\n",
              "    </tr>\n",
              "    <tr>\n",
              "      <th>422706</th>\n",
              "      <td>1857658</td>\n",
              "      <td>8</td>\n",
              "      <td>0</td>\n",
              "      <td>0.0</td>\n",
              "      <td>4.0</td>\n",
              "      <td>100</td>\n",
              "      <td>359000</td>\n",
              "      <td>359000</td>\n",
              "      <td>-1</td>\n",
              "      <td>가구/인테리어</td>\n",
              "      <td>거실가구</td>\n",
              "      <td>TV거실장</td>\n",
              "      <td>uncategory</td>\n",
              "      <td>0.000000</td>\n",
              "      <td>0.0</td>\n",
              "      <td>0.00</td>\n",
              "    </tr>\n",
              "    <tr>\n",
              "      <th>422707</th>\n",
              "      <td>8284130</td>\n",
              "      <td>4</td>\n",
              "      <td>0</td>\n",
              "      <td>0.0</td>\n",
              "      <td>4.0</td>\n",
              "      <td>50</td>\n",
              "      <td>15600</td>\n",
              "      <td>15600</td>\n",
              "      <td>3000</td>\n",
              "      <td>생활/건강</td>\n",
              "      <td>주방용품</td>\n",
              "      <td>냄비/솥</td>\n",
              "      <td>전골냄비</td>\n",
              "      <td>0.000000</td>\n",
              "      <td>0.0</td>\n",
              "      <td>0.00</td>\n",
              "    </tr>\n",
              "    <tr>\n",
              "      <th>422708</th>\n",
              "      <td>8128855</td>\n",
              "      <td>1</td>\n",
              "      <td>0</td>\n",
              "      <td>0.0</td>\n",
              "      <td>4.0</td>\n",
              "      <td>50</td>\n",
              "      <td>10700</td>\n",
              "      <td>10700</td>\n",
              "      <td>0</td>\n",
              "      <td>생활/건강</td>\n",
              "      <td>문구/사무용품</td>\n",
              "      <td>문구용품</td>\n",
              "      <td>풀/접착제</td>\n",
              "      <td>0.000000</td>\n",
              "      <td>0.0</td>\n",
              "      <td>0.00</td>\n",
              "    </tr>\n",
              "    <tr>\n",
              "      <th>422709</th>\n",
              "      <td>7373632</td>\n",
              "      <td>7</td>\n",
              "      <td>0</td>\n",
              "      <td>0.0</td>\n",
              "      <td>4.0</td>\n",
              "      <td>50</td>\n",
              "      <td>10500</td>\n",
              "      <td>10500</td>\n",
              "      <td>0</td>\n",
              "      <td>생활/건강</td>\n",
              "      <td>생활용품</td>\n",
              "      <td>제습/방향/탈취</td>\n",
              "      <td>섬유탈취스프레이</td>\n",
              "      <td>0.000000</td>\n",
              "      <td>0.0</td>\n",
              "      <td>0.00</td>\n",
              "    </tr>\n",
              "  </tbody>\n",
              "</table>\n",
              "<p>422710 rows × 16 columns</p>\n",
              "</div>\n",
              "      <button class=\"colab-df-convert\" onclick=\"convertToInteractive('df-5d148f6b-4cee-4696-bd86-ba83da05264d')\"\n",
              "              title=\"Convert this dataframe to an interactive table.\"\n",
              "              style=\"display:none;\">\n",
              "        \n",
              "  <svg xmlns=\"http://www.w3.org/2000/svg\" height=\"24px\"viewBox=\"0 0 24 24\"\n",
              "       width=\"24px\">\n",
              "    <path d=\"M0 0h24v24H0V0z\" fill=\"none\"/>\n",
              "    <path d=\"M18.56 5.44l.94 2.06.94-2.06 2.06-.94-2.06-.94-.94-2.06-.94 2.06-2.06.94zm-11 1L8.5 8.5l.94-2.06 2.06-.94-2.06-.94L8.5 2.5l-.94 2.06-2.06.94zm10 10l.94 2.06.94-2.06 2.06-.94-2.06-.94-.94-2.06-.94 2.06-2.06.94z\"/><path d=\"M17.41 7.96l-1.37-1.37c-.4-.4-.92-.59-1.43-.59-.52 0-1.04.2-1.43.59L10.3 9.45l-7.72 7.72c-.78.78-.78 2.05 0 2.83L4 21.41c.39.39.9.59 1.41.59.51 0 1.02-.2 1.41-.59l7.78-7.78 2.81-2.81c.8-.78.8-2.07 0-2.86zM5.41 20L4 18.59l7.72-7.72 1.47 1.35L5.41 20z\"/>\n",
              "  </svg>\n",
              "      </button>\n",
              "      \n",
              "  <style>\n",
              "    .colab-df-container {\n",
              "      display:flex;\n",
              "      flex-wrap:wrap;\n",
              "      gap: 12px;\n",
              "    }\n",
              "\n",
              "    .colab-df-convert {\n",
              "      background-color: #E8F0FE;\n",
              "      border: none;\n",
              "      border-radius: 50%;\n",
              "      cursor: pointer;\n",
              "      display: none;\n",
              "      fill: #1967D2;\n",
              "      height: 32px;\n",
              "      padding: 0 0 0 0;\n",
              "      width: 32px;\n",
              "    }\n",
              "\n",
              "    .colab-df-convert:hover {\n",
              "      background-color: #E2EBFA;\n",
              "      box-shadow: 0px 1px 2px rgba(60, 64, 67, 0.3), 0px 1px 3px 1px rgba(60, 64, 67, 0.15);\n",
              "      fill: #174EA6;\n",
              "    }\n",
              "\n",
              "    [theme=dark] .colab-df-convert {\n",
              "      background-color: #3B4455;\n",
              "      fill: #D2E3FC;\n",
              "    }\n",
              "\n",
              "    [theme=dark] .colab-df-convert:hover {\n",
              "      background-color: #434B5C;\n",
              "      box-shadow: 0px 1px 3px 1px rgba(0, 0, 0, 0.15);\n",
              "      filter: drop-shadow(0px 1px 2px rgba(0, 0, 0, 0.3));\n",
              "      fill: #FFFFFF;\n",
              "    }\n",
              "  </style>\n",
              "\n",
              "      <script>\n",
              "        const buttonEl =\n",
              "          document.querySelector('#df-5d148f6b-4cee-4696-bd86-ba83da05264d button.colab-df-convert');\n",
              "        buttonEl.style.display =\n",
              "          google.colab.kernel.accessAllowed ? 'block' : 'none';\n",
              "\n",
              "        async function convertToInteractive(key) {\n",
              "          const element = document.querySelector('#df-5d148f6b-4cee-4696-bd86-ba83da05264d');\n",
              "          const dataTable =\n",
              "            await google.colab.kernel.invokeFunction('convertToInteractive',\n",
              "                                                     [key], {});\n",
              "          if (!dataTable) return;\n",
              "\n",
              "          const docLinkHtml = 'Like what you see? Visit the ' +\n",
              "            '<a target=\"_blank\" href=https://colab.research.google.com/notebooks/data_table.ipynb>data table notebook</a>'\n",
              "            + ' to learn more about interactive tables.';\n",
              "          element.innerHTML = '';\n",
              "          dataTable['output_type'] = 'display_data';\n",
              "          await google.colab.output.renderOutput(dataTable, element);\n",
              "          const docLink = document.createElement('div');\n",
              "          docLink.innerHTML = docLinkHtml;\n",
              "          element.appendChild(docLink);\n",
              "        }\n",
              "      </script>\n",
              "    </div>\n",
              "  </div>\n",
              "  "
            ]
          },
          "metadata": {},
          "execution_count": 21
        }
      ]
    },
    {
      "cell_type": "code",
      "source": [
        "bidding_rank[bidding_rank[\"Sum of AD rank\"] <= 4].groupby(\"Sum of AD rank\")[\"Cost\"].mean() # A\n",
        "# rank가 2등일 때 cost가 제일 높게 나왔는데, 가장 많은 카테고리는 무엇일까?"
      ],
      "metadata": {
        "id": "5gkId8J_AQwQ",
        "colab": {
          "base_uri": "https://localhost:8080/"
        },
        "outputId": "c37182d6-e713-4e68-8797-0f807bde3585"
      },
      "execution_count": 22,
      "outputs": [
        {
          "output_type": "execute_result",
          "data": {
            "text/plain": [
              "Sum of AD rank\n",
              "1.0    361.719708\n",
              "2.0    452.724223\n",
              "3.0    409.031622\n",
              "4.0    247.612626\n",
              "Name: Cost, dtype: float64"
            ]
          },
          "metadata": {},
          "execution_count": 22
        }
      ]
    },
    {
      "cell_type": "code",
      "source": [
        "bidding_rank[bidding_rank[\"Sum of AD rank\"] <= 4].groupby(\"Sum of AD rank\")[\"Impression\"].mean() # A\n"
      ],
      "metadata": {
        "id": "HrPPvIOaQwRa",
        "colab": {
          "base_uri": "https://localhost:8080/"
        },
        "outputId": "d6148358-ff57-4365-a55e-0b89e1023316"
      },
      "execution_count": 23,
      "outputs": [
        {
          "output_type": "execute_result",
          "data": {
            "text/plain": [
              "Sum of AD rank\n",
              "1.0    102.532235\n",
              "2.0    107.934922\n",
              "3.0     77.496370\n",
              "4.0     53.225136\n",
              "Name: Impression, dtype: float64"
            ]
          },
          "metadata": {},
          "execution_count": 23
        }
      ]
    },
    {
      "cell_type": "code",
      "source": [
        "bidding_rank[bidding_rank[\"Sum of AD rank\"] <= 4].groupby(\"Sum of AD rank\")[\"CTR\"].mean() # A\n"
      ],
      "metadata": {
        "id": "ktbBjLAXaaxs",
        "colab": {
          "base_uri": "https://localhost:8080/"
        },
        "outputId": "f4e15fc5-bc4e-43fd-ebd6-9a3b6947f7ea"
      },
      "execution_count": 24,
      "outputs": [
        {
          "output_type": "execute_result",
          "data": {
            "text/plain": [
              "Sum of AD rank\n",
              "1.0    3.863084\n",
              "2.0    2.782345\n",
              "3.0    2.244019\n",
              "4.0    1.882369\n",
              "Name: CTR, dtype: float64"
            ]
          },
          "metadata": {},
          "execution_count": 24
        }
      ]
    },
    {
      "cell_type": "code",
      "source": [
        "bidding_rank[bidding_rank[\"Sum of AD rank\"] == 2].groupby(\"Category Name 1\")[\"Category Name 2\"].value_counts()[:10] # A"
      ],
      "metadata": {
        "id": "nPl45GoFGNyq",
        "colab": {
          "base_uri": "https://localhost:8080/"
        },
        "outputId": "f7c45bc3-7779-4916-9726-7ef3afc9b3b7"
      },
      "execution_count": 25,
      "outputs": [
        {
          "output_type": "execute_result",
          "data": {
            "text/plain": [
              "Category Name 1  Category Name 2\n",
              "가구/인테리어          침실가구               17775\n",
              "                 거실가구               14018\n",
              "                 인테리어소품             11208\n",
              "                 서재/사무용가구            9448\n",
              "                 주방가구                9327\n",
              "                 커튼/블라인드             5897\n",
              "                 수납가구                5266\n",
              "                 카페트/러그              4681\n",
              "                 침구단품                4502\n",
              "                 홈데코                 3093\n",
              "Name: Category Name 2, dtype: int64"
            ]
          },
          "metadata": {},
          "execution_count": 25
        }
      ]
    },
    {
      "cell_type": "code",
      "source": [
        "plt.rcParams['font.family'] = 'NanumGothic'\n"
      ],
      "metadata": {
        "id": "N8Zd2IG6nxQj"
      },
      "execution_count": 26,
      "outputs": []
    },
    {
      "cell_type": "code",
      "source": [
        "cate_name = bidding_rank['Category Name 1'].unique()\n",
        "cate_name\n",
        "\n",
        "group_df = {}\n",
        "for cate in cate_name:\n",
        "    group_df[cate] = bidding_rank[bidding_rank['Category Name 1'] == cate]\n",
        "\n",
        "def barplot_df(bidding_rank, name):\n",
        "    plt.figure(figsize=(24, 12))\n",
        "    sns.barplot(x='Sum of AD rank', y='Click', data=bidding_rank)\n",
        "    plt.title(f\"Sum of AD rank of {name}\", fontsize=20)\n",
        "    plt.xlabel(\"Sum of AD rank\", fontsize=15)\n",
        "    plt.ylabel(\"Click\", fontsize=15)\n",
        "    plt.show()\n"
      ],
      "metadata": {
        "id": "PoYDMIYPeQz5"
      },
      "execution_count": 27,
      "outputs": []
    },
    {
      "cell_type": "code",
      "source": [
        "# array(['패션잡화', '화장품/미용', '가구/인테리어', '생활/건강', '출산/육아', '여가/생활편의', '디지털/가전',\n",
        "# '스포츠/레저', '패션의류', '식품'], dtype=object)"
      ],
      "metadata": {
        "id": "I0HW80KgflCO"
      },
      "execution_count": 28,
      "outputs": []
    },
    {
      "cell_type": "code",
      "source": [
        "for key, df in group_df.items():\n",
        "    barplot_df(df, name=key)"
      ],
      "metadata": {
        "id": "XoNUXAkGe9R-",
        "colab": {
          "base_uri": "https://localhost:8080/",
          "height": 1000
        },
        "outputId": "c5b8e8a9-712c-4de4-c2b7-d2bba6417496"
      },
      "execution_count": 29,
      "outputs": [
        {
          "output_type": "display_data",
          "data": {
            "text/plain": [
              "<Figure size 1728x864 with 1 Axes>"
            ],
            "image/png": "[encoded data removed]"
          },
          "metadata": {
            "needs_background": "light"
          }
        },
        {
          "output_type": "display_data",
          "data": {
            "text/plain": [
              "<Figure size 1728x864 with 1 Axes>"
            ],
            "image/png": "[encoded data removed]"
          },
          "metadata": {
            "needs_background": "light"
          }
        },
        {
          "output_type": "display_data",
          "data": {
            "text/plain": [
              "<Figure size 1728x864 with 1 Axes>"
            ],
            "image/png": "[encoded data removed]"
          },
          "metadata": {
            "needs_background": "light"
          }
        },
        {
          "output_type": "display_data",
          "data": {
            "text/plain": [
              "<Figure size 1728x864 with 1 Axes>"
            ],
            "image/png": "[encoded data removed]"
          },
          "metadata": {
            "needs_background": "light"
          }
        },
        {
          "output_type": "display_data",
          "data": {
            "text/plain": [
              "<Figure size 1728x864 with 1 Axes>"
            ],
            "image/png": "[encoded data removed]"
          },
          "metadata": {
            "needs_background": "light"
          }
        },
        {
          "output_type": "display_data",
          "data": {
            "text/plain": [
              "<Figure size 1728x864 with 1 Axes>"
            ],
            "image/png": "[encoded data removed]"
          },
          "metadata": {
            "needs_background": "light"
          }
        },
        {
          "output_type": "display_data",
          "data": {
            "text/plain": [
              "<Figure size 1728x864 with 1 Axes>"
            ],
            "image/png": "[encoded data removed]"
          },
          "metadata": {
            "needs_background": "light"
          }
        },
        {
          "output_type": "display_data",
          "data": {
            "text/plain": [
              "<Figure size 1728x864 with 1 Axes>"
            ],
            "image/png": "[encoded data removed]"
          },
          "metadata": {
            "needs_background": "light"
          }
        },
        {
          "output_type": "display_data",
          "data": {
            "text/plain": [
              "<Figure size 1728x864 with 1 Axes>"
            ],
            "image/png": "[encoded data removed]"
          },
          "metadata": {
            "needs_background": "light"
          }
        },
        {
          "output_type": "display_data",
          "data": {
            "text/plain": [
              "<Figure size 1728x864 with 1 Axes>"
            ],
            "image/png": "[encoded data removed]"
          },
          "metadata": {
            "needs_background": "light"
          }
        }
      ]
    },
    {
      "cell_type": "code",
      "source": [
        "bidding_rank_filtered = bidding_rank[(bidding_rank['Sum of AD rank'] >= 33) & (bidding_rank['Sum of AD rank'] <= 58)]\n",
        "plt.figure(figsize=(24, 12))  # set the size of the figure to be 12 inches wide and\n",
        "sns.barplot(x='Sum of AD rank', y='Click', hue='Category Name 1', data=bidding_rank_filtered)\n",
        "plt.show()\n"
      ],
      "metadata": {
        "id": "TlUcl9NDd123",
        "colab": {
          "base_uri": "https://localhost:8080/",
          "height": 569
        },
        "outputId": "05ad7777-76f7-4dcf-e5d5-d9a596ba1e70"
      },
      "execution_count": 30,
      "outputs": [
        {
          "output_type": "display_data",
          "data": {
            "text/plain": [
              "<Figure size 1728x864 with 1 Axes>"
            ],
            "image/png": "[encoded data removed]"
          },
          "metadata": {
            "needs_background": "light"
          }
        }
      ]
    },
    {
      "cell_type": "code",
      "source": [
        "bidding_rank_filtered = bidding_rank[bidding_rank[\"Sum of AD rank\"] <= 30]\n",
        "plt.figure(figsize=(24, 12))  # set the size of the figure to be 12 inches wide and\n",
        "sns.barplot(x='Sum of AD rank', y='Click', hue='Category Name 1', data=bidding_rank_filtered)\n",
        "plt.show()"
      ],
      "metadata": {
        "id": "llZosViGWTj-",
        "colab": {
          "base_uri": "https://localhost:8080/",
          "height": 573
        },
        "outputId": "4c80f46c-d6f9-4dfa-b4f2-f47176c3c884"
      },
      "execution_count": 31,
      "outputs": [
        {
          "output_type": "display_data",
          "data": {
            "text/plain": [
              "<Figure size 1728x864 with 1 Axes>"
            ],
            "image/png": "[encoded data removed]"
          },
          "metadata": {
            "needs_background": "light"
          }
        }
      ]
    },
    {
      "cell_type": "code",
      "source": [
        "bidding_rank[bidding_rank[\"Sum of AD rank\"] == 6].groupby(\"Sum of AD rank\")[\"Click\"].value_counts().plot.bar() # A\n"
      ],
      "metadata": {
        "id": "D-c0XMyQRQzZ",
        "colab": {
          "base_uri": "https://localhost:8080/",
          "height": 332
        },
        "outputId": "97576f25-ec20-4f04-fe7a-6c6214411b45"
      },
      "execution_count": 32,
      "outputs": [
        {
          "output_type": "execute_result",
          "data": {
            "text/plain": [
              "<matplotlib.axes._subplots.AxesSubplot at 0x7f1fa2fbfeb0>"
            ]
          },
          "metadata": {},
          "execution_count": 32
        },
        {
          "output_type": "display_data",
          "data": {
            "text/plain": [
              "<Figure size 432x288 with 1 Axes>"
            ],
            "image/png": "[encoded data removed]"
          },
          "metadata": {
            "needs_background": "light"
          }
        }
      ]
    },
    {
      "cell_type": "code",
      "source": [
        "bidding_rank[(bidding_rank['Category Name 1'] == '패션잡화') & (bidding_rank[\"Sum of AD rank\"] == 6) & (bidding_rank[\"Click\"] >= 1)].groupby(\"Sum of AD rank\")[\"Click\"].value_counts() #패션잡화 6위일때 상위 20%로보기"
      ],
      "metadata": {
        "colab": {
          "base_uri": "https://localhost:8080/"
        },
        "id": "Vwat5KZSoLK3",
        "outputId": "1bd564c6-5f22-4d28-ceb5-31ac3296220d"
      },
      "execution_count": 33,
      "outputs": [
        {
          "output_type": "execute_result",
          "data": {
            "text/plain": [
              "Sum of AD rank  Click\n",
              "6.0             1        104\n",
              "                2         33\n",
              "                3         26\n",
              "                5          6\n",
              "                4          4\n",
              "                9          2\n",
              "                15         2\n",
              "                7          1\n",
              "                8          1\n",
              "                11         1\n",
              "                13         1\n",
              "                14         1\n",
              "                72         1\n",
              "                85         1\n",
              "Name: Click, dtype: int64"
            ]
          },
          "metadata": {},
          "execution_count": 33
        }
      ]
    },
    {
      "cell_type": "code",
      "source": [
        "bidding_rank[(bidding_rank['Category Name 1'] == '화장품/미용') & (bidding_rank[\"Sum of AD rank\"] == 4) & (bidding_rank[\"Click\"] >= 1)].groupby(\"Sum of AD rank\")[\"Click\"].value_counts() #패션잡화 6위일때 상위 20%로보기"
      ],
      "metadata": {
        "colab": {
          "base_uri": "https://localhost:8080/"
        },
        "id": "b2QXYIrGQJBz",
        "outputId": "2c4a3f8d-f15f-4779-eb8c-73f2b8989015"
      },
      "execution_count": 34,
      "outputs": [
        {
          "output_type": "execute_result",
          "data": {
            "text/plain": [
              "Sum of AD rank  Click\n",
              "4.0             1        168\n",
              "                2         71\n",
              "                3         27\n",
              "                4         16\n",
              "                5         10\n",
              "                6          5\n",
              "                7          3\n",
              "                9          2\n",
              "                10         1\n",
              "                11         1\n",
              "                14         1\n",
              "Name: Click, dtype: int64"
            ]
          },
          "metadata": {},
          "execution_count": 34
        }
      ]
    },
    {
      "cell_type": "code",
      "source": [
        "cosmetic = bidding_rank[(bidding_rank['Category Name 1'] == '화장품/미용') & (bidding_rank[\"Sum of AD rank\"] > 4) & (bidding_rank[\"Click\"] >= 1)]\n",
        "cosmetic"
      ],
      "metadata": {
        "colab": {
          "base_uri": "https://localhost:8080/",
          "height": 713
        },
        "id": "1E44EWkRVYHP",
        "outputId": "c10df93d-e4d4-4452-8c48-881b32b80eb8"
      },
      "execution_count": 155,
      "outputs": [
        {
          "output_type": "execute_result",
          "data": {
            "text/plain": [
              "           index  Impression  Click   Cost  Sum of AD rank  Bid  Price(PC)  \\\n",
              "423636   4541465          50      2  840.0             5.0  350      10320   \n",
              "423642   4541454          12      1  210.0             5.0  300      12700   \n",
              "423898   4541471          64      2  420.0             5.0  240      19800   \n",
              "423915   4541455          58      2  680.0             5.0  480       8900   \n",
              "423947   4541468         118      1   50.0             5.0  150      98000   \n",
              "...          ...         ...    ...    ...             ...  ...        ...   \n",
              "1217248  3592032           2      1  190.0            28.0  210       7900   \n",
              "1221128  4541466           5      1   50.0            28.0   50      17800   \n",
              "1268224  4542193           7      1  130.0            39.0  350      23450   \n",
              "1289279  4542193           3      1  230.0            47.0  350      23450   \n",
              "1301733  7273682           1      1  230.0            54.0  350       5000   \n",
              "\n",
              "         Price(Mobile)  Delivery Fee Category Name 1 Category Name 2  \\\n",
              "423636           10320             0          화장품/미용            바디케어   \n",
              "423642           12700             0          화장품/미용            바디케어   \n",
              "423898           19800          3000          화장품/미용            바디케어   \n",
              "423915            8900             0          화장품/미용            바디케어   \n",
              "423947           98000             0          화장품/미용            바디케어   \n",
              "...                ...           ...             ...             ...   \n",
              "1217248           7900          3000          화장품/미용            스킨케어   \n",
              "1221128          17800             0          화장품/미용            바디케어   \n",
              "1268224          23450             0          화장품/미용            헤어케어   \n",
              "1289279          23450             0          화장품/미용            헤어케어   \n",
              "1301733           5000          3000          화장품/미용            네일케어   \n",
              "\n",
              "        Category Name 3 Category Name 4         CTR    CPC   CPM  \n",
              "423636            바디클렌저      uncategory    4.000000  420.0  0.84  \n",
              "423642             바디로션      uncategory    8.333333  210.0  0.21  \n",
              "423898            바디클렌저      uncategory    3.125000  210.0  0.42  \n",
              "423915             핸드케어      uncategory    3.448276  340.0  0.68  \n",
              "423947             핸드케어      uncategory    0.847458   50.0  0.05  \n",
              "...                 ...             ...         ...    ...   ...  \n",
              "1217248             에센스      uncategory   50.000000  190.0  0.19  \n",
              "1221128           바디클렌저      uncategory   20.000000   50.0  0.05  \n",
              "1268224              샴푸      uncategory   14.285714  130.0  0.13  \n",
              "1289279              샴푸      uncategory   33.333333  230.0  0.23  \n",
              "1301733          네일케어도구      uncategory  100.000000  230.0  0.23  \n",
              "\n",
              "[792 rows x 16 columns]"
            ],
            "text/html": [
              "\n",
              "  <div id=\"df-9964baa6-57f4-4db5-99f8-ce9caf6440fe\">\n",
              "    <div class=\"colab-df-container\">\n",
              "      <div>\n",
              "<style scoped>\n",
              "    .dataframe tbody tr th:only-of-type {\n",
              "        vertical-align: middle;\n",
              "    }\n",
              "\n",
              "    .dataframe tbody tr th {\n",
              "        vertical-align: top;\n",
              "    }\n",
              "\n",
              "    .dataframe thead th {\n",
              "        text-align: right;\n",
              "    }\n",
              "</style>\n",
              "<table border=\"1\" class=\"dataframe\">\n",
              "  <thead>\n",
              "    <tr style=\"text-align: right;\">\n",
              "      <th></th>\n",
              "      <th>index</th>\n",
              "      <th>Impression</th>\n",
              "      <th>Click</th>\n",
              "      <th>Cost</th>\n",
              "      <th>Sum of AD rank</th>\n",
              "      <th>Bid</th>\n",
              "      <th>Price(PC)</th>\n",
              "      <th>Price(Mobile)</th>\n",
              "      <th>Delivery Fee</th>\n",
              "      <th>Category Name 1</th>\n",
              "      <th>Category Name 2</th>\n",
              "      <th>Category Name 3</th>\n",
              "      <th>Category Name 4</th>\n",
              "      <th>CTR</th>\n",
              "      <th>CPC</th>\n",
              "      <th>CPM</th>\n",
              "    </tr>\n",
              "  </thead>\n",
              "  <tbody>\n",
              "    <tr>\n",
              "      <th>423636</th>\n",
              "      <td>4541465</td>\n",
              "      <td>50</td>\n",
              "      <td>2</td>\n",
              "      <td>840.0</td>\n",
              "      <td>5.0</td>\n",
              "      <td>350</td>\n",
              "      <td>10320</td>\n",
              "      <td>10320</td>\n",
              "      <td>0</td>\n",
              "      <td>화장품/미용</td>\n",
              "      <td>바디케어</td>\n",
              "      <td>바디클렌저</td>\n",
              "      <td>uncategory</td>\n",
              "      <td>4.000000</td>\n",
              "      <td>420.0</td>\n",
              "      <td>0.84</td>\n",
              "    </tr>\n",
              "    <tr>\n",
              "      <th>423642</th>\n",
              "      <td>4541454</td>\n",
              "      <td>12</td>\n",
              "      <td>1</td>\n",
              "      <td>210.0</td>\n",
              "      <td>5.0</td>\n",
              "      <td>300</td>\n",
              "      <td>12700</td>\n",
              "      <td>12700</td>\n",
              "      <td>0</td>\n",
              "      <td>화장품/미용</td>\n",
              "      <td>바디케어</td>\n",
              "      <td>바디로션</td>\n",
              "      <td>uncategory</td>\n",
              "      <td>8.333333</td>\n",
              "      <td>210.0</td>\n",
              "      <td>0.21</td>\n",
              "    </tr>\n",
              "    <tr>\n",
              "      <th>423898</th>\n",
              "      <td>4541471</td>\n",
              "      <td>64</td>\n",
              "      <td>2</td>\n",
              "      <td>420.0</td>\n",
              "      <td>5.0</td>\n",
              "      <td>240</td>\n",
              "      <td>19800</td>\n",
              "      <td>19800</td>\n",
              "      <td>3000</td>\n",
              "      <td>화장품/미용</td>\n",
              "      <td>바디케어</td>\n",
              "      <td>바디클렌저</td>\n",
              "      <td>uncategory</td>\n",
              "      <td>3.125000</td>\n",
              "      <td>210.0</td>\n",
              "      <td>0.42</td>\n",
              "    </tr>\n",
              "    <tr>\n",
              "      <th>423915</th>\n",
              "      <td>4541455</td>\n",
              "      <td>58</td>\n",
              "      <td>2</td>\n",
              "      <td>680.0</td>\n",
              "      <td>5.0</td>\n",
              "      <td>480</td>\n",
              "      <td>8900</td>\n",
              "      <td>8900</td>\n",
              "      <td>0</td>\n",
              "      <td>화장품/미용</td>\n",
              "      <td>바디케어</td>\n",
              "      <td>핸드케어</td>\n",
              "      <td>uncategory</td>\n",
              "      <td>3.448276</td>\n",
              "      <td>340.0</td>\n",
              "      <td>0.68</td>\n",
              "    </tr>\n",
              "    <tr>\n",
              "      <th>423947</th>\n",
              "      <td>4541468</td>\n",
              "      <td>118</td>\n",
              "      <td>1</td>\n",
              "      <td>50.0</td>\n",
              "      <td>5.0</td>\n",
              "      <td>150</td>\n",
              "      <td>98000</td>\n",
              "      <td>98000</td>\n",
              "      <td>0</td>\n",
              "      <td>화장품/미용</td>\n",
              "      <td>바디케어</td>\n",
              "      <td>핸드케어</td>\n",
              "      <td>uncategory</td>\n",
              "      <td>0.847458</td>\n",
              "      <td>50.0</td>\n",
              "      <td>0.05</td>\n",
              "    </tr>\n",
              "    <tr>\n",
              "      <th>...</th>\n",
              "      <td>...</td>\n",
              "      <td>...</td>\n",
              "      <td>...</td>\n",
              "      <td>...</td>\n",
              "      <td>...</td>\n",
              "      <td>...</td>\n",
              "      <td>...</td>\n",
              "      <td>...</td>\n",
              "      <td>...</td>\n",
              "      <td>...</td>\n",
              "      <td>...</td>\n",
              "      <td>...</td>\n",
              "      <td>...</td>\n",
              "      <td>...</td>\n",
              "      <td>...</td>\n",
              "      <td>...</td>\n",
              "    </tr>\n",
              "    <tr>\n",
              "      <th>1217248</th>\n",
              "      <td>3592032</td>\n",
              "      <td>2</td>\n",
              "      <td>1</td>\n",
              "      <td>190.0</td>\n",
              "      <td>28.0</td>\n",
              "      <td>210</td>\n",
              "      <td>7900</td>\n",
              "      <td>7900</td>\n",
              "      <td>3000</td>\n",
              "      <td>화장품/미용</td>\n",
              "      <td>스킨케어</td>\n",
              "      <td>에센스</td>\n",
              "      <td>uncategory</td>\n",
              "      <td>50.000000</td>\n",
              "      <td>190.0</td>\n",
              "      <td>0.19</td>\n",
              "    </tr>\n",
              "    <tr>\n",
              "      <th>1221128</th>\n",
              "      <td>4541466</td>\n",
              "      <td>5</td>\n",
              "      <td>1</td>\n",
              "      <td>50.0</td>\n",
              "      <td>28.0</td>\n",
              "      <td>50</td>\n",
              "      <td>17800</td>\n",
              "      <td>17800</td>\n",
              "      <td>0</td>\n",
              "      <td>화장품/미용</td>\n",
              "      <td>바디케어</td>\n",
              "      <td>바디클렌저</td>\n",
              "      <td>uncategory</td>\n",
              "      <td>20.000000</td>\n",
              "      <td>50.0</td>\n",
              "      <td>0.05</td>\n",
              "    </tr>\n",
              "    <tr>\n",
              "      <th>1268224</th>\n",
              "      <td>4542193</td>\n",
              "      <td>7</td>\n",
              "      <td>1</td>\n",
              "      <td>130.0</td>\n",
              "      <td>39.0</td>\n",
              "      <td>350</td>\n",
              "      <td>23450</td>\n",
              "      <td>23450</td>\n",
              "      <td>0</td>\n",
              "      <td>화장품/미용</td>\n",
              "      <td>헤어케어</td>\n",
              "      <td>샴푸</td>\n",
              "      <td>uncategory</td>\n",
              "      <td>14.285714</td>\n",
              "      <td>130.0</td>\n",
              "      <td>0.13</td>\n",
              "    </tr>\n",
              "    <tr>\n",
              "      <th>1289279</th>\n",
              "      <td>4542193</td>\n",
              "      <td>3</td>\n",
              "      <td>1</td>\n",
              "      <td>230.0</td>\n",
              "      <td>47.0</td>\n",
              "      <td>350</td>\n",
              "      <td>23450</td>\n",
              "      <td>23450</td>\n",
              "      <td>0</td>\n",
              "      <td>화장품/미용</td>\n",
              "      <td>헤어케어</td>\n",
              "      <td>샴푸</td>\n",
              "      <td>uncategory</td>\n",
              "      <td>33.333333</td>\n",
              "      <td>230.0</td>\n",
              "      <td>0.23</td>\n",
              "    </tr>\n",
              "    <tr>\n",
              "      <th>1301733</th>\n",
              "      <td>7273682</td>\n",
              "      <td>1</td>\n",
              "      <td>1</td>\n",
              "      <td>230.0</td>\n",
              "      <td>54.0</td>\n",
              "      <td>350</td>\n",
              "      <td>5000</td>\n",
              "      <td>5000</td>\n",
              "      <td>3000</td>\n",
              "      <td>화장품/미용</td>\n",
              "      <td>네일케어</td>\n",
              "      <td>네일케어도구</td>\n",
              "      <td>uncategory</td>\n",
              "      <td>100.000000</td>\n",
              "      <td>230.0</td>\n",
              "      <td>0.23</td>\n",
              "    </tr>\n",
              "  </tbody>\n",
              "</table>\n",
              "<p>792 rows × 16 columns</p>\n",
              "</div>\n",
              "      <button class=\"colab-df-convert\" onclick=\"convertToInteractive('df-9964baa6-57f4-4db5-99f8-ce9caf6440fe')\"\n",
              "              title=\"Convert this dataframe to an interactive table.\"\n",
              "              style=\"display:none;\">\n",
              "        \n",
              "  <svg xmlns=\"http://www.w3.org/2000/svg\" height=\"24px\"viewBox=\"0 0 24 24\"\n",
              "       width=\"24px\">\n",
              "    <path d=\"M0 0h24v24H0V0z\" fill=\"none\"/>\n",
              "    <path d=\"M18.56 5.44l.94 2.06.94-2.06 2.06-.94-2.06-.94-.94-2.06-.94 2.06-2.06.94zm-11 1L8.5 8.5l.94-2.06 2.06-.94-2.06-.94L8.5 2.5l-.94 2.06-2.06.94zm10 10l.94 2.06.94-2.06 2.06-.94-2.06-.94-.94-2.06-.94 2.06-2.06.94z\"/><path d=\"M17.41 7.96l-1.37-1.37c-.4-.4-.92-.59-1.43-.59-.52 0-1.04.2-1.43.59L10.3 9.45l-7.72 7.72c-.78.78-.78 2.05 0 2.83L4 21.41c.39.39.9.59 1.41.59.51 0 1.02-.2 1.41-.59l7.78-7.78 2.81-2.81c.8-.78.8-2.07 0-2.86zM5.41 20L4 18.59l7.72-7.72 1.47 1.35L5.41 20z\"/>\n",
              "  </svg>\n",
              "      </button>\n",
              "      \n",
              "  <style>\n",
              "    .colab-df-container {\n",
              "      display:flex;\n",
              "      flex-wrap:wrap;\n",
              "      gap: 12px;\n",
              "    }\n",
              "\n",
              "    .colab-df-convert {\n",
              "      background-color: #E8F0FE;\n",
              "      border: none;\n",
              "      border-radius: 50%;\n",
              "      cursor: pointer;\n",
              "      display: none;\n",
              "      fill: #1967D2;\n",
              "      height: 32px;\n",
              "      padding: 0 0 0 0;\n",
              "      width: 32px;\n",
              "    }\n",
              "\n",
              "    .colab-df-convert:hover {\n",
              "      background-color: #E2EBFA;\n",
              "      box-shadow: 0px 1px 2px rgba(60, 64, 67, 0.3), 0px 1px 3px 1px rgba(60, 64, 67, 0.15);\n",
              "      fill: #174EA6;\n",
              "    }\n",
              "\n",
              "    [theme=dark] .colab-df-convert {\n",
              "      background-color: #3B4455;\n",
              "      fill: #D2E3FC;\n",
              "    }\n",
              "\n",
              "    [theme=dark] .colab-df-convert:hover {\n",
              "      background-color: #434B5C;\n",
              "      box-shadow: 0px 1px 3px 1px rgba(0, 0, 0, 0.15);\n",
              "      filter: drop-shadow(0px 1px 2px rgba(0, 0, 0, 0.3));\n",
              "      fill: #FFFFFF;\n",
              "    }\n",
              "  </style>\n",
              "\n",
              "      <script>\n",
              "        const buttonEl =\n",
              "          document.querySelector('#df-9964baa6-57f4-4db5-99f8-ce9caf6440fe button.colab-df-convert');\n",
              "        buttonEl.style.display =\n",
              "          google.colab.kernel.accessAllowed ? 'block' : 'none';\n",
              "\n",
              "        async function convertToInteractive(key) {\n",
              "          const element = document.querySelector('#df-9964baa6-57f4-4db5-99f8-ce9caf6440fe');\n",
              "          const dataTable =\n",
              "            await google.colab.kernel.invokeFunction('convertToInteractive',\n",
              "                                                     [key], {});\n",
              "          if (!dataTable) return;\n",
              "\n",
              "          const docLinkHtml = 'Like what you see? Visit the ' +\n",
              "            '<a target=\"_blank\" href=https://colab.research.google.com/notebooks/data_table.ipynb>data table notebook</a>'\n",
              "            + ' to learn more about interactive tables.';\n",
              "          element.innerHTML = '';\n",
              "          dataTable['output_type'] = 'display_data';\n",
              "          await google.colab.output.renderOutput(dataTable, element);\n",
              "          const docLink = document.createElement('div');\n",
              "          docLink.innerHTML = docLinkHtml;\n",
              "          element.appendChild(docLink);\n",
              "        }\n",
              "      </script>\n",
              "    </div>\n",
              "  </div>\n",
              "  "
            ]
          },
          "metadata": {},
          "execution_count": 155
        }
      ]
    },
    {
      "cell_type": "code",
      "source": [
        "cosmetic_B = bidding_rank[(bidding_rank['Category Name 1'] == '화장품/미용') & (bidding_rank[\"Sum of AD rank\"] <= 4) & (bidding_rank[\"Click\"] >= 1)]\n",
        "cosmetic_B #1~4등"
      ],
      "metadata": {
        "colab": {
          "base_uri": "https://localhost:8080/",
          "height": 713
        },
        "id": "GuqihbQVDWY2",
        "outputId": "0227ad63-c11d-4c43-a96a-0fad016e5f59"
      },
      "execution_count": 162,
      "outputs": [
        {
          "output_type": "execute_result",
          "data": {
            "text/plain": [
              "          index  Impression  Click   Cost  Sum of AD rank  Bid  Price(PC)  \\\n",
              "404     3592077          39      1  310.0             1.0   50      14900   \n",
              "410     9849669           3      1   50.0             1.0   50      11000   \n",
              "481     9849669           6      2  100.0             1.0   50      11000   \n",
              "511     3894177          59      6  300.0             1.0   50       8900   \n",
              "600      112618          47      4  270.0             1.0  250      49000   \n",
              "...         ...         ...    ...    ...             ...  ...        ...   \n",
              "421817  3592070          14      1   50.0             4.0   50       9900   \n",
              "421927  1652517          36      1  550.0             4.0   50      13700   \n",
              "421992  7827039          48      3  180.0             4.0  150      10500   \n",
              "422282  3592062           7      1  340.0             4.0   50       7900   \n",
              "422650  7250662          54      4  230.0             4.0   70       9900   \n",
              "\n",
              "        Price(Mobile)  Delivery Fee Category Name 1 Category Name 2  \\\n",
              "404             14900          3000          화장품/미용            헤어케어   \n",
              "410             11000          3000          화장품/미용            스킨케어   \n",
              "481             11000          3000          화장품/미용            스킨케어   \n",
              "511              8900          2500          화장품/미용            바디케어   \n",
              "600             49000             0          화장품/미용            뷰티소품   \n",
              "...               ...           ...             ...             ...   \n",
              "421817           9900          3000          화장품/미용            헤어케어   \n",
              "421927          13700             0          화장품/미용            헤어케어   \n",
              "421992          10500             0          화장품/미용            바디케어   \n",
              "422282           7900          3000          화장품/미용            헤어케어   \n",
              "422650           9900             0          화장품/미용             클렌징   \n",
              "\n",
              "       Category Name 3 Category Name 4        CTR    CPC   CPM  \n",
              "404              트리트먼트      uncategory   2.564103  310.0  0.31  \n",
              "410                에센스      uncategory  33.333333   50.0  0.05  \n",
              "481                에센스      uncategory  33.333333   50.0  0.10  \n",
              "511              바디미스트      uncategory  10.169492   50.0  0.30  \n",
              "600              페이스소품           마사지도구   8.510638   67.5  0.27  \n",
              "...                ...             ...        ...    ...   ...  \n",
              "421817              샴푸      uncategory   7.142857   50.0  0.05  \n",
              "421927              샴푸      uncategory   2.777778  550.0  0.55  \n",
              "421992           바디미스트      uncategory   6.250000   60.0  0.18  \n",
              "422282              샴푸      uncategory  14.285714  340.0  0.34  \n",
              "422650           클렌징비누      uncategory   7.407407   57.5  0.23  \n",
              "\n",
              "[1374 rows x 16 columns]"
            ],
            "text/html": [
              "\n",
              "  <div id=\"df-8d62ae94-6852-47a8-9cb4-cd2c2003ca5a\">\n",
              "    <div class=\"colab-df-container\">\n",
              "      <div>\n",
              "<style scoped>\n",
              "    .dataframe tbody tr th:only-of-type {\n",
              "        vertical-align: middle;\n",
              "    }\n",
              "\n",
              "    .dataframe tbody tr th {\n",
              "        vertical-align: top;\n",
              "    }\n",
              "\n",
              "    .dataframe thead th {\n",
              "        text-align: right;\n",
              "    }\n",
              "</style>\n",
              "<table border=\"1\" class=\"dataframe\">\n",
              "  <thead>\n",
              "    <tr style=\"text-align: right;\">\n",
              "      <th></th>\n",
              "      <th>index</th>\n",
              "      <th>Impression</th>\n",
              "      <th>Click</th>\n",
              "      <th>Cost</th>\n",
              "      <th>Sum of AD rank</th>\n",
              "      <th>Bid</th>\n",
              "      <th>Price(PC)</th>\n",
              "      <th>Price(Mobile)</th>\n",
              "      <th>Delivery Fee</th>\n",
              "      <th>Category Name 1</th>\n",
              "      <th>Category Name 2</th>\n",
              "      <th>Category Name 3</th>\n",
              "      <th>Category Name 4</th>\n",
              "      <th>CTR</th>\n",
              "      <th>CPC</th>\n",
              "      <th>CPM</th>\n",
              "    </tr>\n",
              "  </thead>\n",
              "  <tbody>\n",
              "    <tr>\n",
              "      <th>404</th>\n",
              "      <td>3592077</td>\n",
              "      <td>39</td>\n",
              "      <td>1</td>\n",
              "      <td>310.0</td>\n",
              "      <td>1.0</td>\n",
              "      <td>50</td>\n",
              "      <td>14900</td>\n",
              "      <td>14900</td>\n",
              "      <td>3000</td>\n",
              "      <td>화장품/미용</td>\n",
              "      <td>헤어케어</td>\n",
              "      <td>트리트먼트</td>\n",
              "      <td>uncategory</td>\n",
              "      <td>2.564103</td>\n",
              "      <td>310.0</td>\n",
              "      <td>0.31</td>\n",
              "    </tr>\n",
              "    <tr>\n",
              "      <th>410</th>\n",
              "      <td>9849669</td>\n",
              "      <td>3</td>\n",
              "      <td>1</td>\n",
              "      <td>50.0</td>\n",
              "      <td>1.0</td>\n",
              "      <td>50</td>\n",
              "      <td>11000</td>\n",
              "      <td>11000</td>\n",
              "      <td>3000</td>\n",
              "      <td>화장품/미용</td>\n",
              "      <td>스킨케어</td>\n",
              "      <td>에센스</td>\n",
              "      <td>uncategory</td>\n",
              "      <td>33.333333</td>\n",
              "      <td>50.0</td>\n",
              "      <td>0.05</td>\n",
              "    </tr>\n",
              "    <tr>\n",
              "      <th>481</th>\n",
              "      <td>9849669</td>\n",
              "      <td>6</td>\n",
              "      <td>2</td>\n",
              "      <td>100.0</td>\n",
              "      <td>1.0</td>\n",
              "      <td>50</td>\n",
              "      <td>11000</td>\n",
              "      <td>11000</td>\n",
              "      <td>3000</td>\n",
              "      <td>화장품/미용</td>\n",
              "      <td>스킨케어</td>\n",
              "      <td>에센스</td>\n",
              "      <td>uncategory</td>\n",
              "      <td>33.333333</td>\n",
              "      <td>50.0</td>\n",
              "      <td>0.10</td>\n",
              "    </tr>\n",
              "    <tr>\n",
              "      <th>511</th>\n",
              "      <td>3894177</td>\n",
              "      <td>59</td>\n",
              "      <td>6</td>\n",
              "      <td>300.0</td>\n",
              "      <td>1.0</td>\n",
              "      <td>50</td>\n",
              "      <td>8900</td>\n",
              "      <td>8900</td>\n",
              "      <td>2500</td>\n",
              "      <td>화장품/미용</td>\n",
              "      <td>바디케어</td>\n",
              "      <td>바디미스트</td>\n",
              "      <td>uncategory</td>\n",
              "      <td>10.169492</td>\n",
              "      <td>50.0</td>\n",
              "      <td>0.30</td>\n",
              "    </tr>\n",
              "    <tr>\n",
              "      <th>600</th>\n",
              "      <td>112618</td>\n",
              "      <td>47</td>\n",
              "      <td>4</td>\n",
              "      <td>270.0</td>\n",
              "      <td>1.0</td>\n",
              "      <td>250</td>\n",
              "      <td>49000</td>\n",
              "      <td>49000</td>\n",
              "      <td>0</td>\n",
              "      <td>화장품/미용</td>\n",
              "      <td>뷰티소품</td>\n",
              "      <td>페이스소품</td>\n",
              "      <td>마사지도구</td>\n",
              "      <td>8.510638</td>\n",
              "      <td>67.5</td>\n",
              "      <td>0.27</td>\n",
              "    </tr>\n",
              "    <tr>\n",
              "      <th>...</th>\n",
              "      <td>...</td>\n",
              "      <td>...</td>\n",
              "      <td>...</td>\n",
              "      <td>...</td>\n",
              "      <td>...</td>\n",
              "      <td>...</td>\n",
              "      <td>...</td>\n",
              "      <td>...</td>\n",
              "      <td>...</td>\n",
              "      <td>...</td>\n",
              "      <td>...</td>\n",
              "      <td>...</td>\n",
              "      <td>...</td>\n",
              "      <td>...</td>\n",
              "      <td>...</td>\n",
              "      <td>...</td>\n",
              "    </tr>\n",
              "    <tr>\n",
              "      <th>421817</th>\n",
              "      <td>3592070</td>\n",
              "      <td>14</td>\n",
              "      <td>1</td>\n",
              "      <td>50.0</td>\n",
              "      <td>4.0</td>\n",
              "      <td>50</td>\n",
              "      <td>9900</td>\n",
              "      <td>9900</td>\n",
              "      <td>3000</td>\n",
              "      <td>화장품/미용</td>\n",
              "      <td>헤어케어</td>\n",
              "      <td>샴푸</td>\n",
              "      <td>uncategory</td>\n",
              "      <td>7.142857</td>\n",
              "      <td>50.0</td>\n",
              "      <td>0.05</td>\n",
              "    </tr>\n",
              "    <tr>\n",
              "      <th>421927</th>\n",
              "      <td>1652517</td>\n",
              "      <td>36</td>\n",
              "      <td>1</td>\n",
              "      <td>550.0</td>\n",
              "      <td>4.0</td>\n",
              "      <td>50</td>\n",
              "      <td>13700</td>\n",
              "      <td>13700</td>\n",
              "      <td>0</td>\n",
              "      <td>화장품/미용</td>\n",
              "      <td>헤어케어</td>\n",
              "      <td>샴푸</td>\n",
              "      <td>uncategory</td>\n",
              "      <td>2.777778</td>\n",
              "      <td>550.0</td>\n",
              "      <td>0.55</td>\n",
              "    </tr>\n",
              "    <tr>\n",
              "      <th>421992</th>\n",
              "      <td>7827039</td>\n",
              "      <td>48</td>\n",
              "      <td>3</td>\n",
              "      <td>180.0</td>\n",
              "      <td>4.0</td>\n",
              "      <td>150</td>\n",
              "      <td>10500</td>\n",
              "      <td>10500</td>\n",
              "      <td>0</td>\n",
              "      <td>화장품/미용</td>\n",
              "      <td>바디케어</td>\n",
              "      <td>바디미스트</td>\n",
              "      <td>uncategory</td>\n",
              "      <td>6.250000</td>\n",
              "      <td>60.0</td>\n",
              "      <td>0.18</td>\n",
              "    </tr>\n",
              "    <tr>\n",
              "      <th>422282</th>\n",
              "      <td>3592062</td>\n",
              "      <td>7</td>\n",
              "      <td>1</td>\n",
              "      <td>340.0</td>\n",
              "      <td>4.0</td>\n",
              "      <td>50</td>\n",
              "      <td>7900</td>\n",
              "      <td>7900</td>\n",
              "      <td>3000</td>\n",
              "      <td>화장품/미용</td>\n",
              "      <td>헤어케어</td>\n",
              "      <td>샴푸</td>\n",
              "      <td>uncategory</td>\n",
              "      <td>14.285714</td>\n",
              "      <td>340.0</td>\n",
              "      <td>0.34</td>\n",
              "    </tr>\n",
              "    <tr>\n",
              "      <th>422650</th>\n",
              "      <td>7250662</td>\n",
              "      <td>54</td>\n",
              "      <td>4</td>\n",
              "      <td>230.0</td>\n",
              "      <td>4.0</td>\n",
              "      <td>70</td>\n",
              "      <td>9900</td>\n",
              "      <td>9900</td>\n",
              "      <td>0</td>\n",
              "      <td>화장품/미용</td>\n",
              "      <td>클렌징</td>\n",
              "      <td>클렌징비누</td>\n",
              "      <td>uncategory</td>\n",
              "      <td>7.407407</td>\n",
              "      <td>57.5</td>\n",
              "      <td>0.23</td>\n",
              "    </tr>\n",
              "  </tbody>\n",
              "</table>\n",
              "<p>1374 rows × 16 columns</p>\n",
              "</div>\n",
              "      <button class=\"colab-df-convert\" onclick=\"convertToInteractive('df-8d62ae94-6852-47a8-9cb4-cd2c2003ca5a')\"\n",
              "              title=\"Convert this dataframe to an interactive table.\"\n",
              "              style=\"display:none;\">\n",
              "        \n",
              "  <svg xmlns=\"http://www.w3.org/2000/svg\" height=\"24px\"viewBox=\"0 0 24 24\"\n",
              "       width=\"24px\">\n",
              "    <path d=\"M0 0h24v24H0V0z\" fill=\"none\"/>\n",
              "    <path d=\"M18.56 5.44l.94 2.06.94-2.06 2.06-.94-2.06-.94-.94-2.06-.94 2.06-2.06.94zm-11 1L8.5 8.5l.94-2.06 2.06-.94-2.06-.94L8.5 2.5l-.94 2.06-2.06.94zm10 10l.94 2.06.94-2.06 2.06-.94-2.06-.94-.94-2.06-.94 2.06-2.06.94z\"/><path d=\"M17.41 7.96l-1.37-1.37c-.4-.4-.92-.59-1.43-.59-.52 0-1.04.2-1.43.59L10.3 9.45l-7.72 7.72c-.78.78-.78 2.05 0 2.83L4 21.41c.39.39.9.59 1.41.59.51 0 1.02-.2 1.41-.59l7.78-7.78 2.81-2.81c.8-.78.8-2.07 0-2.86zM5.41 20L4 18.59l7.72-7.72 1.47 1.35L5.41 20z\"/>\n",
              "  </svg>\n",
              "      </button>\n",
              "      \n",
              "  <style>\n",
              "    .colab-df-container {\n",
              "      display:flex;\n",
              "      flex-wrap:wrap;\n",
              "      gap: 12px;\n",
              "    }\n",
              "\n",
              "    .colab-df-convert {\n",
              "      background-color: #E8F0FE;\n",
              "      border: none;\n",
              "      border-radius: 50%;\n",
              "      cursor: pointer;\n",
              "      display: none;\n",
              "      fill: #1967D2;\n",
              "      height: 32px;\n",
              "      padding: 0 0 0 0;\n",
              "      width: 32px;\n",
              "    }\n",
              "\n",
              "    .colab-df-convert:hover {\n",
              "      background-color: #E2EBFA;\n",
              "      box-shadow: 0px 1px 2px rgba(60, 64, 67, 0.3), 0px 1px 3px 1px rgba(60, 64, 67, 0.15);\n",
              "      fill: #174EA6;\n",
              "    }\n",
              "\n",
              "    [theme=dark] .colab-df-convert {\n",
              "      background-color: #3B4455;\n",
              "      fill: #D2E3FC;\n",
              "    }\n",
              "\n",
              "    [theme=dark] .colab-df-convert:hover {\n",
              "      background-color: #434B5C;\n",
              "      box-shadow: 0px 1px 3px 1px rgba(0, 0, 0, 0.15);\n",
              "      filter: drop-shadow(0px 1px 2px rgba(0, 0, 0, 0.3));\n",
              "      fill: #FFFFFF;\n",
              "    }\n",
              "  </style>\n",
              "\n",
              "      <script>\n",
              "        const buttonEl =\n",
              "          document.querySelector('#df-8d62ae94-6852-47a8-9cb4-cd2c2003ca5a button.colab-df-convert');\n",
              "        buttonEl.style.display =\n",
              "          google.colab.kernel.accessAllowed ? 'block' : 'none';\n",
              "\n",
              "        async function convertToInteractive(key) {\n",
              "          const element = document.querySelector('#df-8d62ae94-6852-47a8-9cb4-cd2c2003ca5a');\n",
              "          const dataTable =\n",
              "            await google.colab.kernel.invokeFunction('convertToInteractive',\n",
              "                                                     [key], {});\n",
              "          if (!dataTable) return;\n",
              "\n",
              "          const docLinkHtml = 'Like what you see? Visit the ' +\n",
              "            '<a target=\"_blank\" href=https://colab.research.google.com/notebooks/data_table.ipynb>data table notebook</a>'\n",
              "            + ' to learn more about interactive tables.';\n",
              "          element.innerHTML = '';\n",
              "          dataTable['output_type'] = 'display_data';\n",
              "          await google.colab.output.renderOutput(dataTable, element);\n",
              "          const docLink = document.createElement('div');\n",
              "          docLink.innerHTML = docLinkHtml;\n",
              "          element.appendChild(docLink);\n",
              "        }\n",
              "      </script>\n",
              "    </div>\n",
              "  </div>\n",
              "  "
            ]
          },
          "metadata": {},
          "execution_count": 162
        }
      ]
    },
    {
      "cell_type": "code",
      "source": [
        "cosmetic['CTR'].mean()"
      ],
      "metadata": {
        "colab": {
          "base_uri": "https://localhost:8080/"
        },
        "id": "nkviLVjq70YW",
        "outputId": "9f1d987f-8729-4ac9-b5cf-6332cae85cd6"
      },
      "execution_count": 160,
      "outputs": [
        {
          "output_type": "execute_result",
          "data": {
            "text/plain": [
              "5.285167811606388"
            ]
          },
          "metadata": {},
          "execution_count": 160
        }
      ]
    },
    {
      "cell_type": "code",
      "source": [
        "cosmetic_B['CTR'].mean() # CTR 차이가 별로 없음 ->why?"
      ],
      "metadata": {
        "colab": {
          "base_uri": "https://localhost:8080/"
        },
        "id": "g7-hsZNsDk3y",
        "outputId": "17d1cf99-465a-4e2e-8cea-4b25df32c30b"
      },
      "execution_count": 164,
      "outputs": [
        {
          "output_type": "execute_result",
          "data": {
            "text/plain": [
              "6.214630521425501"
            ]
          },
          "metadata": {},
          "execution_count": 164
        }
      ]
    },
    {
      "cell_type": "code",
      "source": [
        "cosmetic['CPC'].mean()"
      ],
      "metadata": {
        "colab": {
          "base_uri": "https://localhost:8080/"
        },
        "id": "9U3FMAEIDwk4",
        "outputId": "39d042f1-df58-422e-da4a-3894be974dc5"
      },
      "execution_count": 167,
      "outputs": [
        {
          "output_type": "execute_result",
          "data": {
            "text/plain": [
              "185.035755042425"
            ]
          },
          "metadata": {},
          "execution_count": 167
        }
      ]
    },
    {
      "cell_type": "code",
      "source": [
        "cosmetic_B['CPC'].mean()"
      ],
      "metadata": {
        "colab": {
          "base_uri": "https://localhost:8080/"
        },
        "id": "y1a6f-tkWg1L",
        "outputId": "ce6cd884-72f1-4206-f209-00d66c11bad6"
      },
      "execution_count": 177,
      "outputs": [
        {
          "output_type": "execute_result",
          "data": {
            "text/plain": [
              "168.05092333689626"
            ]
          },
          "metadata": {},
          "execution_count": 177
        }
      ]
    },
    {
      "cell_type": "code",
      "source": [
        "cosmetic['Cost'].mean() "
      ],
      "metadata": {
        "colab": {
          "base_uri": "https://localhost:8080/"
        },
        "id": "gxzSVftaD7Em",
        "outputId": "5c863946-a20c-4840-a441-981447fcf4a9"
      },
      "execution_count": 172,
      "outputs": [
        {
          "output_type": "execute_result",
          "data": {
            "text/plain": [
              "362.2348484848485"
            ]
          },
          "metadata": {},
          "execution_count": 172
        }
      ]
    },
    {
      "cell_type": "code",
      "source": [
        "cosmetic_B['Cost'].mean()"
      ],
      "metadata": {
        "colab": {
          "base_uri": "https://localhost:8080/"
        },
        "id": "ITwKopJSDwsX",
        "outputId": "0e4c7a0c-6261-4d5d-8dfa-e2c50e92de29"
      },
      "execution_count": 171,
      "outputs": [
        {
          "output_type": "execute_result",
          "data": {
            "text/plain": [
              "787.372634643377"
            ]
          },
          "metadata": {},
          "execution_count": 171
        }
      ]
    },
    {
      "cell_type": "code",
      "source": [
        "cosmetic['Impression'].mean()"
      ],
      "metadata": {
        "colab": {
          "base_uri": "https://localhost:8080/"
        },
        "id": "7_AUsP-sMNnS",
        "outputId": "00dea921-f0a1-4cb0-d5e7-95e7b6800507"
      },
      "execution_count": 175,
      "outputs": [
        {
          "output_type": "execute_result",
          "data": {
            "text/plain": [
              "82.27020202020202"
            ]
          },
          "metadata": {},
          "execution_count": 175
        }
      ]
    },
    {
      "cell_type": "code",
      "source": [
        "cosmetic_B['Impression'].mean()"
      ],
      "metadata": {
        "colab": {
          "base_uri": "https://localhost:8080/"
        },
        "id": "1R0xW9IEMNrf",
        "outputId": "58d78003-a834-412c-fed4-ead12eb3d7bf"
      },
      "execution_count": 176,
      "outputs": [
        {
          "output_type": "execute_result",
          "data": {
            "text/plain": [
              "108.6193595342067"
            ]
          },
          "metadata": {},
          "execution_count": 176
        }
      ]
    },
    {
      "cell_type": "code",
      "source": [
        "cosmetic_B['Price(Mobile)'].mean()"
      ],
      "metadata": {
        "colab": {
          "base_uri": "https://localhost:8080/"
        },
        "id": "IYQARkZHD7dK",
        "outputId": "13967657-7fe8-40c1-aad4-41ee1761489b"
      },
      "execution_count": 173,
      "outputs": [
        {
          "output_type": "execute_result",
          "data": {
            "text/plain": [
              "21068.369723435226"
            ]
          },
          "metadata": {},
          "execution_count": 173
        }
      ]
    },
    {
      "cell_type": "code",
      "source": [
        "cosmetic['Price(Mobile)'].mean()  #가격차이 도 안나 근데 왜 상위 1~4위는 클릭률이 높을까?"
      ],
      "metadata": {
        "colab": {
          "base_uri": "https://localhost:8080/"
        },
        "id": "eEJlL-mNL76F",
        "outputId": "2a722e73-1c79-47e7-9312-da864e65c7c9"
      },
      "execution_count": 174,
      "outputs": [
        {
          "output_type": "execute_result",
          "data": {
            "text/plain": [
              "25568.68686868687"
            ]
          },
          "metadata": {},
          "execution_count": 174
        }
      ]
    },
    {
      "cell_type": "code",
      "source": [
        "Clothes = bidding_rank[(bidding_rank['Category Name 1'] == '패션의류') & (bidding_rank[\"Sum of AD rank\"] == 44) & (bidding_rank[\"Click\"] >= 1)]\n",
        "Clothes"
      ],
      "metadata": {
        "colab": {
          "base_uri": "https://localhost:8080/",
          "height": 263
        },
        "id": "GVr1hzLE_jww",
        "outputId": "9a5c2fda-9fac-426b-ccdf-8339af7c9e32"
      },
      "execution_count": 145,
      "outputs": [
        {
          "output_type": "execute_result",
          "data": {
            "text/plain": [
              "           index  Impression  Click   Cost  Sum of AD rank  Bid  Price(PC)  \\\n",
              "1280886  3768329          30      3  360.0            44.0  150      24900   \n",
              "1283078  5368281          12      1   80.0            44.0   80      24900   \n",
              "\n",
              "         Price(Mobile)  Delivery Fee Category Name 1 Category Name 2  \\\n",
              "1280886          24900          3000            패션의류       여성언더웨어/잠옷   \n",
              "1283078          24900          3000            패션의류       여성언더웨어/잠옷   \n",
              "\n",
              "        Category Name 3 Category Name 4        CTR    CPC   CPM  \n",
              "1280886          잠옷/홈웨어      uncategory  10.000000  120.0  0.36  \n",
              "1283078          잠옷/홈웨어      uncategory   8.333333   80.0  0.08  "
            ],
            "text/html": [
              "\n",
              "  <div id=\"df-0158a407-af52-440c-a329-c3d936c88926\">\n",
              "    <div class=\"colab-df-container\">\n",
              "      <div>\n",
              "<style scoped>\n",
              "    .dataframe tbody tr th:only-of-type {\n",
              "        vertical-align: middle;\n",
              "    }\n",
              "\n",
              "    .dataframe tbody tr th {\n",
              "        vertical-align: top;\n",
              "    }\n",
              "\n",
              "    .dataframe thead th {\n",
              "        text-align: right;\n",
              "    }\n",
              "</style>\n",
              "<table border=\"1\" class=\"dataframe\">\n",
              "  <thead>\n",
              "    <tr style=\"text-align: right;\">\n",
              "      <th></th>\n",
              "      <th>index</th>\n",
              "      <th>Impression</th>\n",
              "      <th>Click</th>\n",
              "      <th>Cost</th>\n",
              "      <th>Sum of AD rank</th>\n",
              "      <th>Bid</th>\n",
              "      <th>Price(PC)</th>\n",
              "      <th>Price(Mobile)</th>\n",
              "      <th>Delivery Fee</th>\n",
              "      <th>Category Name 1</th>\n",
              "      <th>Category Name 2</th>\n",
              "      <th>Category Name 3</th>\n",
              "      <th>Category Name 4</th>\n",
              "      <th>CTR</th>\n",
              "      <th>CPC</th>\n",
              "      <th>CPM</th>\n",
              "    </tr>\n",
              "  </thead>\n",
              "  <tbody>\n",
              "    <tr>\n",
              "      <th>1280886</th>\n",
              "      <td>3768329</td>\n",
              "      <td>30</td>\n",
              "      <td>3</td>\n",
              "      <td>360.0</td>\n",
              "      <td>44.0</td>\n",
              "      <td>150</td>\n",
              "      <td>24900</td>\n",
              "      <td>24900</td>\n",
              "      <td>3000</td>\n",
              "      <td>패션의류</td>\n",
              "      <td>여성언더웨어/잠옷</td>\n",
              "      <td>잠옷/홈웨어</td>\n",
              "      <td>uncategory</td>\n",
              "      <td>10.000000</td>\n",
              "      <td>120.0</td>\n",
              "      <td>0.36</td>\n",
              "    </tr>\n",
              "    <tr>\n",
              "      <th>1283078</th>\n",
              "      <td>5368281</td>\n",
              "      <td>12</td>\n",
              "      <td>1</td>\n",
              "      <td>80.0</td>\n",
              "      <td>44.0</td>\n",
              "      <td>80</td>\n",
              "      <td>24900</td>\n",
              "      <td>24900</td>\n",
              "      <td>3000</td>\n",
              "      <td>패션의류</td>\n",
              "      <td>여성언더웨어/잠옷</td>\n",
              "      <td>잠옷/홈웨어</td>\n",
              "      <td>uncategory</td>\n",
              "      <td>8.333333</td>\n",
              "      <td>80.0</td>\n",
              "      <td>0.08</td>\n",
              "    </tr>\n",
              "  </tbody>\n",
              "</table>\n",
              "</div>\n",
              "      <button class=\"colab-df-convert\" onclick=\"convertToInteractive('df-0158a407-af52-440c-a329-c3d936c88926')\"\n",
              "              title=\"Convert this dataframe to an interactive table.\"\n",
              "              style=\"display:none;\">\n",
              "        \n",
              "  <svg xmlns=\"http://www.w3.org/2000/svg\" height=\"24px\"viewBox=\"0 0 24 24\"\n",
              "       width=\"24px\">\n",
              "    <path d=\"M0 0h24v24H0V0z\" fill=\"none\"/>\n",
              "    <path d=\"M18.56 5.44l.94 2.06.94-2.06 2.06-.94-2.06-.94-.94-2.06-.94 2.06-2.06.94zm-11 1L8.5 8.5l.94-2.06 2.06-.94-2.06-.94L8.5 2.5l-.94 2.06-2.06.94zm10 10l.94 2.06.94-2.06 2.06-.94-2.06-.94-.94-2.06-.94 2.06-2.06.94z\"/><path d=\"M17.41 7.96l-1.37-1.37c-.4-.4-.92-.59-1.43-.59-.52 0-1.04.2-1.43.59L10.3 9.45l-7.72 7.72c-.78.78-.78 2.05 0 2.83L4 21.41c.39.39.9.59 1.41.59.51 0 1.02-.2 1.41-.59l7.78-7.78 2.81-2.81c.8-.78.8-2.07 0-2.86zM5.41 20L4 18.59l7.72-7.72 1.47 1.35L5.41 20z\"/>\n",
              "  </svg>\n",
              "      </button>\n",
              "      \n",
              "  <style>\n",
              "    .colab-df-container {\n",
              "      display:flex;\n",
              "      flex-wrap:wrap;\n",
              "      gap: 12px;\n",
              "    }\n",
              "\n",
              "    .colab-df-convert {\n",
              "      background-color: #E8F0FE;\n",
              "      border: none;\n",
              "      border-radius: 50%;\n",
              "      cursor: pointer;\n",
              "      display: none;\n",
              "      fill: #1967D2;\n",
              "      height: 32px;\n",
              "      padding: 0 0 0 0;\n",
              "      width: 32px;\n",
              "    }\n",
              "\n",
              "    .colab-df-convert:hover {\n",
              "      background-color: #E2EBFA;\n",
              "      box-shadow: 0px 1px 2px rgba(60, 64, 67, 0.3), 0px 1px 3px 1px rgba(60, 64, 67, 0.15);\n",
              "      fill: #174EA6;\n",
              "    }\n",
              "\n",
              "    [theme=dark] .colab-df-convert {\n",
              "      background-color: #3B4455;\n",
              "      fill: #D2E3FC;\n",
              "    }\n",
              "\n",
              "    [theme=dark] .colab-df-convert:hover {\n",
              "      background-color: #434B5C;\n",
              "      box-shadow: 0px 1px 3px 1px rgba(0, 0, 0, 0.15);\n",
              "      filter: drop-shadow(0px 1px 2px rgba(0, 0, 0, 0.3));\n",
              "      fill: #FFFFFF;\n",
              "    }\n",
              "  </style>\n",
              "\n",
              "      <script>\n",
              "        const buttonEl =\n",
              "          document.querySelector('#df-0158a407-af52-440c-a329-c3d936c88926 button.colab-df-convert');\n",
              "        buttonEl.style.display =\n",
              "          google.colab.kernel.accessAllowed ? 'block' : 'none';\n",
              "\n",
              "        async function convertToInteractive(key) {\n",
              "          const element = document.querySelector('#df-0158a407-af52-440c-a329-c3d936c88926');\n",
              "          const dataTable =\n",
              "            await google.colab.kernel.invokeFunction('convertToInteractive',\n",
              "                                                     [key], {});\n",
              "          if (!dataTable) return;\n",
              "\n",
              "          const docLinkHtml = 'Like what you see? Visit the ' +\n",
              "            '<a target=\"_blank\" href=https://colab.research.google.com/notebooks/data_table.ipynb>data table notebook</a>'\n",
              "            + ' to learn more about interactive tables.';\n",
              "          element.innerHTML = '';\n",
              "          dataTable['output_type'] = 'display_data';\n",
              "          await google.colab.output.renderOutput(dataTable, element);\n",
              "          const docLink = document.createElement('div');\n",
              "          docLink.innerHTML = docLinkHtml;\n",
              "          element.appendChild(docLink);\n",
              "        }\n",
              "      </script>\n",
              "    </div>\n",
              "  </div>\n",
              "  "
            ]
          },
          "metadata": {},
          "execution_count": 145
        }
      ]
    },
    {
      "cell_type": "code",
      "source": [
        "Clothes = bidding_rank[(bidding_rank['Category Name 1'] == '패션의류') & (bidding_rank[\"Sum of AD rank\"] == 2) & (bidding_rank[\"Click\"] >= 1)]\n",
        "Clothes['Impression'].mean()"
      ],
      "metadata": {
        "colab": {
          "base_uri": "https://localhost:8080/"
        },
        "id": "37iltoWzAl54",
        "outputId": "4e82f568-e9fa-4086-e5c2-b51649f2caa2"
      },
      "execution_count": 149,
      "outputs": [
        {
          "output_type": "execute_result",
          "data": {
            "text/plain": [
              "184.1"
            ]
          },
          "metadata": {},
          "execution_count": 149
        }
      ]
    },
    {
      "cell_type": "code",
      "source": [],
      "metadata": {
        "id": "ZO_3HLzr9REX"
      },
      "execution_count": null,
      "outputs": []
    },
    {
      "cell_type": "code",
      "source": [
        "bidding_rank[(bidding_rank['Category Name 1'] == '화장품/미용') & (bidding_rank[\"Sum of AD rank\"] == 4) & (bidding_rank[\"Click\"] >= 1)][\"CTR\"].value_counts() #Click\n"
      ],
      "metadata": {
        "colab": {
          "base_uri": "https://localhost:8080/"
        },
        "id": "oSc2gmfUW5gk",
        "outputId": "17386861-d419-4add-cd5d-bdd4b22f2082"
      },
      "execution_count": 37,
      "outputs": [
        {
          "output_type": "execute_result",
          "data": {
            "text/plain": [
              "7.142857    9\n",
              "4.347826    8\n",
              "5.555556    8\n",
              "3.225806    7\n",
              "2.631579    7\n",
              "           ..\n",
              "1.351351    1\n",
              "1.657459    1\n",
              "3.125000    1\n",
              "0.487805    1\n",
              "1.744186    1\n",
              "Name: CTR, Length: 156, dtype: int64"
            ]
          },
          "metadata": {},
          "execution_count": 37
        }
      ]
    },
    {
      "cell_type": "code",
      "source": [],
      "metadata": {
        "id": "7kGRPFxdTjyO"
      },
      "execution_count": 37,
      "outputs": []
    },
    {
      "cell_type": "code",
      "source": [],
      "metadata": {
        "id": "gHADI378iyH7"
      },
      "execution_count": 37,
      "outputs": []
    },
    {
      "cell_type": "code",
      "source": [
        "def test2(category):\n",
        "    df = bidding_rank.loc[bidding_rank['Sum of AD rank'] == 6 ]\n",
        "    print(df.loc[bidding_rank['Category Name 1'] == category, 'CTR'].mean())"
      ],
      "metadata": {
        "id": "-uLAylOGsMlZ"
      },
      "execution_count": 38,
      "outputs": []
    },
    {
      "cell_type": "code",
      "source": [
        "test2('패션잡화')"
      ],
      "metadata": {
        "colab": {
          "base_uri": "https://localhost:8080/"
        },
        "id": "5dq8b2J6scVe",
        "outputId": "b487cc01-8475-4fc5-afdd-1bb1adfaffe4"
      },
      "execution_count": 39,
      "outputs": [
        {
          "output_type": "stream",
          "name": "stdout",
          "text": [
            "2.1641842468781642\n"
          ]
        }
      ]
    },
    {
      "cell_type": "code",
      "source": [
        "plt.figure(figsize=(24, 12))  # set the size of the figure to be 12 inches wide and\n",
        "sns.barplot(x='Sum of AD rank', y='Click', hue='Category Name 1', data=bidding_rank)\n",
        "plt.title(\"Sum of AD rank by category\", fontsize=20)\n",
        "plt.xlabel(\"Sum of AD rank\", fontsize=15)\n",
        "plt.ylabel(\"Click\", fontsize=15)\n",
        "plt.show()"
      ],
      "metadata": {
        "id": "lKctju6DZBav",
        "colab": {
          "base_uri": "https://localhost:8080/",
          "height": 589
        },
        "outputId": "6efd62f4-a5db-473b-f340-6c821f167818"
      },
      "execution_count": 40,
      "outputs": [
        {
          "output_type": "display_data",
          "data": {
            "text/plain": [
              "<Figure size 1728x864 with 1 Axes>"
            ],
            "image/png": "[encoded data removed]"
          },
          "metadata": {
            "needs_background": "light"
          }
        }
      ]
    },
    {
      "cell_type": "code",
      "source": [
        "bidding_rank[bidding_rank[\"Sum of AD rank\"] == 100].groupby(\"Sum of AD rank\")[\"Category Name 2\"].value_counts() # 광고비가 제일 많이 들어간 것은 침실가구,"
      ],
      "metadata": {
        "id": "-Im3LfSDlcse",
        "colab": {
          "base_uri": "https://localhost:8080/"
        },
        "outputId": "b9f11ca1-b7c2-4ce5-b0ba-1b5d8b81e0e8"
      },
      "execution_count": 41,
      "outputs": [
        {
          "output_type": "execute_result",
          "data": {
            "text/plain": [
              "Sum of AD rank  Category Name 2\n",
              "100.0           침실가구               46\n",
              "                주방용품               38\n",
              "                거실가구               27\n",
              "                주방가구               25\n",
              "                수납가구               23\n",
              "                커튼/블라인드            21\n",
              "                인테리어소품             18\n",
              "                서재/사무용가구           13\n",
              "                청소용품               11\n",
              "                카페트/러그              9\n",
              "                홈데코                 7\n",
              "                DIY자재/용품            5\n",
              "                생활용품                5\n",
              "                수납/정리용품             5\n",
              "                침구단품                5\n",
              "                문구/사무용품             4\n",
              "                캠핑                  4\n",
              "                공구                  3\n",
              "                반려동물                3\n",
              "                욕실용품                3\n",
              "                주얼리                 3\n",
              "                세탁용품                2\n",
              "                원예/식물               2\n",
              "                건강관리용품              1\n",
              "                남성신발                1\n",
              "                모니터주변기기             1\n",
              "                물티슈                 1\n",
              "                바디케어                1\n",
              "                뷰티소품                1\n",
              "                솜류                  1\n",
              "                아동/주니어가구            1\n",
              "                여성신발                1\n",
              "                이유식용품               1\n",
              "                자전거                 1\n",
              "                좌욕/좌훈용품             1\n",
              "Name: Category Name 2, dtype: int64"
            ]
          },
          "metadata": {},
          "execution_count": 41
        }
      ]
    },
    {
      "cell_type": "code",
      "source": [
        "bidding_rank[bidding_rank[\"Sum of AD rank\"] == 2].groupby(\"Sum of AD rank\")[\"Category Name 3\"].value_counts() # 광고비가 제일 많이 들어간 것은 침실가구,"
      ],
      "metadata": {
        "id": "6Y_S45m4meYz",
        "colab": {
          "base_uri": "https://localhost:8080/"
        },
        "outputId": "08613380-c613-420e-fd55-e758a4664a28"
      },
      "execution_count": 42,
      "outputs": [
        {
          "output_type": "execute_result",
          "data": {
            "text/plain": [
              "Sum of AD rank  Category Name 3\n",
              "2.0             소파                 7240\n",
              "                식탁/의자              7016\n",
              "                침대                 5572\n",
              "                식기                 4803\n",
              "                커튼                 4556\n",
              "                                   ... \n",
              "                쿨매트                   1\n",
              "                클렌징크림                 1\n",
              "                파마약                   1\n",
              "                페인트용품                 1\n",
              "                힙시트                   1\n",
              "Name: Category Name 3, Length: 455, dtype: int64"
            ]
          },
          "metadata": {},
          "execution_count": 42
        }
      ]
    },
    {
      "cell_type": "code",
      "source": [
        "bidding_rank[bidding_rank[\"Sum of AD rank\"] == 2].groupby(\"Sum of AD rank\")[\"Category Name 1\"].value_counts()[:10]"
      ],
      "metadata": {
        "id": "YFWecfkeL5Hq",
        "colab": {
          "base_uri": "https://localhost:8080/"
        },
        "outputId": "042899a9-3ea0-4777-f14b-06aba8e06db4"
      },
      "execution_count": 43,
      "outputs": [
        {
          "output_type": "execute_result",
          "data": {
            "text/plain": [
              "Sum of AD rank  Category Name 1\n",
              "2.0             가구/인테리어            90790\n",
              "                생활/건강              33958\n",
              "                출산/육아               3751\n",
              "                스포츠/레저              1725\n",
              "                화장품/미용               956\n",
              "                디지털/가전               793\n",
              "                패션잡화                 566\n",
              "                패션의류                 217\n",
              "                여가/생활편의              181\n",
              "                식품                    11\n",
              "Name: Category Name 1, dtype: int64"
            ]
          },
          "metadata": {},
          "execution_count": 43
        }
      ]
    },
    {
      "cell_type": "code",
      "source": [
        "bidding_rank[bidding_rank[\"Sum of AD rank\"] == 3].groupby(\"Category Name 1\")[\"Category Name 2\"].value_counts()[:10] # A"
      ],
      "metadata": {
        "id": "rEtVwf2YLfNJ",
        "colab": {
          "base_uri": "https://localhost:8080/"
        },
        "outputId": "710273e7-1ac9-41d8-c018-e54613bc8231"
      },
      "execution_count": 44,
      "outputs": [
        {
          "output_type": "execute_result",
          "data": {
            "text/plain": [
              "Category Name 1  Category Name 2\n",
              "가구/인테리어          침실가구               14942\n",
              "                 거실가구               11505\n",
              "                 주방가구                8419\n",
              "                 인테리어소품              8123\n",
              "                 서재/사무용가구            8023\n",
              "                 수납가구                4598\n",
              "                 커튼/블라인드             4157\n",
              "                 침구단품                3213\n",
              "                 카페트/러그              3105\n",
              "                 홈데코                 2196\n",
              "Name: Category Name 2, dtype: int64"
            ]
          },
          "metadata": {},
          "execution_count": 44
        }
      ]
    },
    {
      "cell_type": "code",
      "source": [
        "bidding_rank[bidding_rank[\"Sum of AD rank\"] >= 5].groupby(\"Sum of AD rank\")[\"Cost\"].mean()[:10] # B"
      ],
      "metadata": {
        "id": "HNR4zBsLARVF",
        "colab": {
          "base_uri": "https://localhost:8080/"
        },
        "outputId": "a450d8da-5633-49b6-d2d4-dac5ff73613a"
      },
      "execution_count": 45,
      "outputs": [
        {
          "output_type": "execute_result",
          "data": {
            "text/plain": [
              "Sum of AD rank\n",
              "5.0     214.882991\n",
              "6.0     158.937013\n",
              "7.0     147.214796\n",
              "8.0     108.420377\n",
              "9.0      94.896310\n",
              "10.0     72.892972\n",
              "Name: Cost, dtype: float64"
            ]
          },
          "metadata": {},
          "execution_count": 45
        }
      ]
    },
    {
      "cell_type": "code",
      "source": [
        "bidding_rank[bidding_rank[\"Sum of AD rank\"] >= 5].groupby(\"Sum of AD rank\")[\"Impression\"].mean()[:10] # B\n"
      ],
      "metadata": {
        "id": "ozhleck6Q5Pr",
        "colab": {
          "base_uri": "https://localhost:8080/"
        },
        "outputId": "1ab2db70-de53-4888-dbac-50a6e2e9e971"
      },
      "execution_count": 46,
      "outputs": [
        {
          "output_type": "execute_result",
          "data": {
            "text/plain": [
              "Sum of AD rank\n",
              "5.0     48.662604\n",
              "6.0     40.295189\n",
              "7.0     39.800962\n",
              "8.0     32.444396\n",
              "9.0     30.422775\n",
              "10.0    23.736753\n",
              "Name: Impression, dtype: float64"
            ]
          },
          "metadata": {},
          "execution_count": 46
        }
      ]
    },
    {
      "cell_type": "code",
      "source": [
        "bidding_rank[bidding_rank[\"Sum of AD rank\"] >= 5].groupby(\"Sum of AD rank\")[\"CTR\"].mean()# B\n"
      ],
      "metadata": {
        "id": "_F-r190ZbF-_",
        "colab": {
          "base_uri": "https://localhost:8080/"
        },
        "outputId": "5d299dad-a0fd-4c46-d057-ca378ab530ba"
      },
      "execution_count": 47,
      "outputs": [
        {
          "output_type": "execute_result",
          "data": {
            "text/plain": [
              "Sum of AD rank\n",
              "5.0      1.698055\n",
              "6.0      1.515973\n",
              "7.0      1.363668\n",
              "8.0      1.220257\n",
              "9.0      1.167487\n",
              "           ...   \n",
              "96.0     0.126582\n",
              "97.0     1.060071\n",
              "98.0     1.129032\n",
              "99.0     0.000000\n",
              "100.0    0.566893\n",
              "Name: CTR, Length: 96, dtype: float64"
            ]
          },
          "metadata": {},
          "execution_count": 47
        }
      ]
    },
    {
      "cell_type": "code",
      "source": [
        "def test(category):\n",
        "    df = bidding_rank.loc[bidding_rank['Sum of AD rank'] <= 4]\n",
        "    print(df.loc[bidding_rank['Category Name 1'] == category, 'CTR'].mean())"
      ],
      "metadata": {
        "id": "075tYj7sB_Ud"
      },
      "execution_count": 48,
      "outputs": []
    },
    {
      "cell_type": "code",
      "source": [
        "#Design A CTR 확인\n",
        "test('가구/인테리어')\n",
        "test('생활/건강')\n",
        "test('출산/육아')\n",
        "#category 순위에서 어떤품목이 1등일까"
      ],
      "metadata": {
        "id": "xOo_YeYCFt1b",
        "colab": {
          "base_uri": "https://localhost:8080/"
        },
        "outputId": "a01155fb-26a2-4cef-e972-e1b397087f92"
      },
      "execution_count": 49,
      "outputs": [
        {
          "output_type": "stream",
          "name": "stdout",
          "text": [
            "2.461420578189372\n",
            "2.8264950081946005\n",
            "3.34307822055886\n"
          ]
        }
      ]
    },
    {
      "cell_type": "code",
      "source": [
        "bidding_rank[bidding_rank[\"Sum of AD rank\"] >= 5].groupby(\"Sum of AD rank\")[\"Cost\"].mean()[:10] # B"
      ],
      "metadata": {
        "id": "NbcZcJJWMB6O",
        "colab": {
          "base_uri": "https://localhost:8080/"
        },
        "outputId": "e667049f-bffd-4cf7-878d-3c01ec25f23c"
      },
      "execution_count": 50,
      "outputs": [
        {
          "output_type": "execute_result",
          "data": {
            "text/plain": [
              "Sum of AD rank\n",
              "5.0     214.882991\n",
              "6.0     158.937013\n",
              "7.0     147.214796\n",
              "8.0     108.420377\n",
              "9.0      94.896310\n",
              "10.0     72.892972\n",
              "Name: Cost, dtype: float64"
            ]
          },
          "metadata": {},
          "execution_count": 50
        }
      ]
    },
    {
      "cell_type": "code",
      "source": [
        "bidding_rank[bidding_rank[\"Sum of AD rank\"] == 5].groupby(\"Sum of AD rank\")[\"Category Name 1\"].value_counts()[:10] # B\n",
        "# 1~5등(A에서는 Category Name 2 침실가구가 높은 반면, 5~10등은 가구/인테리어가 높았다. )"
      ],
      "metadata": {
        "id": "0j-9jEQlMCAy",
        "colab": {
          "base_uri": "https://localhost:8080/"
        },
        "outputId": "800d83ee-44e5-4ea1-c327-b1f9e0f87cb2"
      },
      "execution_count": 51,
      "outputs": [
        {
          "output_type": "execute_result",
          "data": {
            "text/plain": [
              "Sum of AD rank  Category Name 1\n",
              "5.0             가구/인테리어            67310\n",
              "                생활/건강              22815\n",
              "                출산/육아               2165\n",
              "                스포츠/레저              1147\n",
              "                화장품/미용               773\n",
              "                패션잡화                 578\n",
              "                디지털/가전               548\n",
              "                패션의류                 182\n",
              "                여가/생활편의               65\n",
              "                식품                     8\n",
              "Name: Category Name 1, dtype: int64"
            ]
          },
          "metadata": {},
          "execution_count": 51
        }
      ]
    },
    {
      "cell_type": "code",
      "source": [
        "bidding_rank[bidding_rank[\"Sum of AD rank\"] == 5].groupby(\"Category Name 1\")[\"Category Name 2\"].value_counts()[:10] # B"
      ],
      "metadata": {
        "id": "8T5npuQBMCHx",
        "colab": {
          "base_uri": "https://localhost:8080/"
        },
        "outputId": "59a5ba5f-8879-4535-c82b-bc9d15821e38"
      },
      "execution_count": 52,
      "outputs": [
        {
          "output_type": "execute_result",
          "data": {
            "text/plain": [
              "Category Name 1  Category Name 2\n",
              "가구/인테리어          침실가구               14453\n",
              "                 거실가구                9952\n",
              "                 주방가구                8348\n",
              "                 서재/사무용가구            8012\n",
              "                 인테리어소품              6469\n",
              "                 수납가구                4519\n",
              "                 커튼/블라인드             3560\n",
              "                 카페트/러그              3038\n",
              "                 침구단품                2530\n",
              "                 홈데코                 2218\n",
              "Name: Category Name 2, dtype: int64"
            ]
          },
          "metadata": {},
          "execution_count": 52
        }
      ]
    },
    {
      "cell_type": "code",
      "source": [
        "def test(category):\n",
        "    df = bidding_rank.loc[bidding_rank['Sum of AD rank'] >= 5][:10]\n",
        "    print(df.loc[bidding_rank['Category Name 1'] == category, 'CTR'].mean())"
      ],
      "metadata": {
        "id": "dP5I3ux-MCN6"
      },
      "execution_count": 53,
      "outputs": []
    },
    {
      "cell_type": "code",
      "source": [
        "#Design B CTR 확인\n",
        "test('가구/인테리어')\n",
        "test('생활/건강')\n",
        "test('출산/육아')\n",
        "\n",
        "#1~5등에 비해 현저하게 CTR이 낮음"
      ],
      "metadata": {
        "id": "PgjZwMDnMeT8",
        "colab": {
          "base_uri": "https://localhost:8080/"
        },
        "outputId": "7ae5a0ee-6034-414f-e023-cfb92c26e069"
      },
      "execution_count": 54,
      "outputs": [
        {
          "output_type": "stream",
          "name": "stdout",
          "text": [
            "0.0\n",
            "0.3024803387779795\n",
            "1.550387596899225\n"
          ]
        }
      ]
    },
    {
      "cell_type": "code",
      "source": [
        "from scipy import stats\n"
      ],
      "metadata": {
        "id": "8SnZfUF-KjEv"
      },
      "execution_count": 55,
      "outputs": []
    },
    {
      "cell_type": "code",
      "source": [
        "#design_A = design_A.drop(columns=['index','CPC','Cost','Bid','Price(PC)','Price(Mobile)','Delivery Fee','Category Name 1','Category Name 2','Category Name 3','Category Name 4','Impression'])\n",
        "rank_A = design_A['Sum of AD rank']\n",
        "rank_A"
      ],
      "metadata": {
        "id": "KrLzwnHKQY7n",
        "colab": {
          "base_uri": "https://localhost:8080/"
        },
        "outputId": "79229d6f-2714-4a0d-fd24-65f030525b09"
      },
      "execution_count": 56,
      "outputs": [
        {
          "output_type": "execute_result",
          "data": {
            "text/plain": [
              "0         1.0\n",
              "1         1.0\n",
              "2         1.0\n",
              "3         1.0\n",
              "4         1.0\n",
              "         ... \n",
              "422705    4.0\n",
              "422706    4.0\n",
              "422707    4.0\n",
              "422708    4.0\n",
              "422709    4.0\n",
              "Name: Sum of AD rank, Length: 422710, dtype: float64"
            ]
          },
          "metadata": {},
          "execution_count": 56
        }
      ]
    },
    {
      "cell_type": "code",
      "source": [
        "Click_A= design_A['Click']\n",
        "Click_A # A의 클릭"
      ],
      "metadata": {
        "id": "ZqDaOQ72YAQb",
        "colab": {
          "base_uri": "https://localhost:8080/"
        },
        "outputId": "46b934b7-ad2f-49f1-9677-c192c94d3ef9"
      },
      "execution_count": 57,
      "outputs": [
        {
          "output_type": "execute_result",
          "data": {
            "text/plain": [
              "0         1\n",
              "1         0\n",
              "2         0\n",
              "3         0\n",
              "4         0\n",
              "         ..\n",
              "422705    3\n",
              "422706    0\n",
              "422707    0\n",
              "422708    0\n",
              "422709    0\n",
              "Name: Click, Length: 422710, dtype: int64"
            ]
          },
          "metadata": {},
          "execution_count": 57
        }
      ]
    },
    {
      "cell_type": "code",
      "source": [
        "Click_A.mean()"
      ],
      "metadata": {
        "id": "1EP7-NUiW5dR",
        "colab": {
          "base_uri": "https://localhost:8080/"
        },
        "outputId": "40aba114-56b3-4f8a-a7d0-1ef0b7a11db8"
      },
      "execution_count": 58,
      "outputs": [
        {
          "output_type": "execute_result",
          "data": {
            "text/plain": [
              "1.561391970854723"
            ]
          },
          "metadata": {},
          "execution_count": 58
        }
      ]
    },
    {
      "cell_type": "code",
      "source": [
        "#design_B = design_B.drop(columns=['index','CPC','Cost','Bid','Price(PC)','Price(Mobile)','Delivery Fee','Category Name 1','Category Name 2','Category Name 3','Category Name 4'])\n",
        "rank_B= design_B['Sum of AD rank']\n",
        "rank_B.sum()"
      ],
      "metadata": {
        "id": "V8A5g-57RAJD",
        "colab": {
          "base_uri": "https://localhost:8080/"
        },
        "outputId": "3e5932d3-55ad-4c3b-9668-e301ce83b4b6"
      },
      "execution_count": 59,
      "outputs": [
        {
          "output_type": "execute_result",
          "data": {
            "text/plain": [
              "14066088.0"
            ]
          },
          "metadata": {},
          "execution_count": 59
        }
      ]
    },
    {
      "cell_type": "code",
      "source": [
        "Click_B= design_B['Click']\n",
        "Click_B"
      ],
      "metadata": {
        "id": "OePTgqQAZSr4",
        "colab": {
          "base_uri": "https://localhost:8080/"
        },
        "outputId": "4168780b-f1bd-4090-c4ca-d69f973dd7d9"
      },
      "execution_count": 60,
      "outputs": [
        {
          "output_type": "execute_result",
          "data": {
            "text/plain": [
              "422710     5\n",
              "422711     0\n",
              "422712     0\n",
              "422713     0\n",
              "422714     0\n",
              "          ..\n",
              "1331206    0\n",
              "1331207    0\n",
              "1331208    0\n",
              "1331209    0\n",
              "1331210    0\n",
              "Name: Click, Length: 908501, dtype: int64"
            ]
          },
          "metadata": {},
          "execution_count": 60
        }
      ]
    },
    {
      "cell_type": "code",
      "source": [
        "Click_B.mean()"
      ],
      "metadata": {
        "id": "2l_fVd2yXI9l",
        "colab": {
          "base_uri": "https://localhost:8080/"
        },
        "outputId": "55116987-8f67-4e69-d926-d7064bd349cb"
      },
      "execution_count": 61,
      "outputs": [
        {
          "output_type": "execute_result",
          "data": {
            "text/plain": [
              "0.33124674601348814"
            ]
          },
          "metadata": {},
          "execution_count": 61
        }
      ]
    },
    {
      "cell_type": "code",
      "source": [
        "rank_B"
      ],
      "metadata": {
        "id": "Krombft5WxZJ",
        "colab": {
          "base_uri": "https://localhost:8080/"
        },
        "outputId": "8ea19400-5ceb-4696-dd76-cfce43f2b257"
      },
      "execution_count": 62,
      "outputs": [
        {
          "output_type": "execute_result",
          "data": {
            "text/plain": [
              "422710       5.0\n",
              "422711       5.0\n",
              "422712       5.0\n",
              "422713       5.0\n",
              "422714       5.0\n",
              "           ...  \n",
              "1331206    100.0\n",
              "1331207    100.0\n",
              "1331208    100.0\n",
              "1331209    100.0\n",
              "1331210    100.0\n",
              "Name: Sum of AD rank, Length: 908501, dtype: float64"
            ]
          },
          "metadata": {},
          "execution_count": 62
        }
      ]
    },
    {
      "cell_type": "code",
      "source": [
        "print(rank_A.sum(), Click_A.sum())\n",
        "print(rank_B.sum(), Click_B.sum())"
      ],
      "metadata": {
        "id": "Khk5NZaFbm3D",
        "colab": {
          "base_uri": "https://localhost:8080/"
        },
        "outputId": "e000ad95-53e5-4905-b62f-e77357f5cca5"
      },
      "execution_count": 63,
      "outputs": [
        {
          "output_type": "stream",
          "name": "stdout",
          "text": [
            "1103673.0 660016\n",
            "14066088.0 300938\n"
          ]
        }
      ]
    },
    {
      "cell_type": "code",
      "source": [
        "bidding_rank"
      ],
      "metadata": {
        "id": "AIHPhxQ2YvD4",
        "colab": {
          "base_uri": "https://localhost:8080/",
          "height": 678
        },
        "outputId": "eb12f5b1-294d-48e4-ff76-1276d802526d"
      },
      "execution_count": 64,
      "outputs": [
        {
          "output_type": "execute_result",
          "data": {
            "text/plain": [
              "           index  Impression  Click   Cost  Sum of AD rank  Bid  Price(PC)  \\\n",
              "0        9190721          22      1  280.0             1.0   60       9900   \n",
              "1        3592074           1      0    0.0             1.0  300       9900   \n",
              "2        3592078           3      0    0.0             1.0   50       5900   \n",
              "3        3044310          39      0    0.0             1.0   50    1187500   \n",
              "4        3044301           1      0    0.0             1.0   50     799000   \n",
              "...          ...         ...    ...    ...             ...  ...        ...   \n",
              "1331206  3303386           1      0    0.0           100.0  360      39900   \n",
              "1331207   112516           1      0    0.0           100.0   50      97900   \n",
              "1331208  9190741           1      0    0.0           100.0  300      15840   \n",
              "1331209  9143558           2      0    0.0           100.0   50      22900   \n",
              "1331210  9142532           1      0    0.0           100.0  500      61900   \n",
              "\n",
              "         Price(Mobile)  Delivery Fee Category Name 1 Category Name 2  \\\n",
              "0                 9900          3000            패션잡화            여성신발   \n",
              "1                 9900          3000          화장품/미용            헤어케어   \n",
              "2                 5900          3000          화장품/미용            헤어케어   \n",
              "3              1187500            -1         가구/인테리어            주방가구   \n",
              "4               799000             0         가구/인테리어            주방가구   \n",
              "...                ...           ...             ...             ...   \n",
              "1331206          39900            -1         가구/인테리어            침실가구   \n",
              "1331207          97900             0         가구/인테리어            침실가구   \n",
              "1331208          15840          3000            패션잡화            남성신발   \n",
              "1331209          22900          4000         가구/인테리어        서재/사무용가구   \n",
              "1331210          61900            -1         가구/인테리어            주방가구   \n",
              "\n",
              "        Category Name 3 Category Name 4       CTR    CPC   CPM  \n",
              "0                   실내화      uncategory  4.545455  280.0  0.28  \n",
              "1                    린스      uncategory  0.000000    0.0  0.00  \n",
              "2                 헤어에센스      uncategory  0.000000    0.0  0.00  \n",
              "3                 식탁/의자           식탁테이블  0.000000    0.0  0.00  \n",
              "4                 식탁/의자           식탁테이블  0.000000    0.0  0.00  \n",
              "...                 ...             ...       ...    ...   ...  \n",
              "1331206              협탁      uncategory  0.000000    0.0  0.00  \n",
              "1331207             화장대              콘솔  0.000000    0.0  0.00  \n",
              "1331208             슬리퍼      uncategory  0.000000    0.0  0.00  \n",
              "1331209              의자              스툴  0.000000    0.0  0.00  \n",
              "1331210           식탁/의자           식탁테이블  0.000000    0.0  0.00  \n",
              "\n",
              "[1331211 rows x 16 columns]"
            ],
            "text/html": [
              "\n",
              "  <div id=\"df-d0c52683-629d-41bf-ab58-bc9a6d2ec243\">\n",
              "    <div class=\"colab-df-container\">\n",
              "      <div>\n",
              "<style scoped>\n",
              "    .dataframe tbody tr th:only-of-type {\n",
              "        vertical-align: middle;\n",
              "    }\n",
              "\n",
              "    .dataframe tbody tr th {\n",
              "        vertical-align: top;\n",
              "    }\n",
              "\n",
              "    .dataframe thead th {\n",
              "        text-align: right;\n",
              "    }\n",
              "</style>\n",
              "<table border=\"1\" class=\"dataframe\">\n",
              "  <thead>\n",
              "    <tr style=\"text-align: right;\">\n",
              "      <th></th>\n",
              "      <th>index</th>\n",
              "      <th>Impression</th>\n",
              "      <th>Click</th>\n",
              "      <th>Cost</th>\n",
              "      <th>Sum of AD rank</th>\n",
              "      <th>Bid</th>\n",
              "      <th>Price(PC)</th>\n",
              "      <th>Price(Mobile)</th>\n",
              "      <th>Delivery Fee</th>\n",
              "      <th>Category Name 1</th>\n",
              "      <th>Category Name 2</th>\n",
              "      <th>Category Name 3</th>\n",
              "      <th>Category Name 4</th>\n",
              "      <th>CTR</th>\n",
              "      <th>CPC</th>\n",
              "      <th>CPM</th>\n",
              "    </tr>\n",
              "  </thead>\n",
              "  <tbody>\n",
              "    <tr>\n",
              "      <th>0</th>\n",
              "      <td>9190721</td>\n",
              "      <td>22</td>\n",
              "      <td>1</td>\n",
              "      <td>280.0</td>\n",
              "      <td>1.0</td>\n",
              "      <td>60</td>\n",
              "      <td>9900</td>\n",
              "      <td>9900</td>\n",
              "      <td>3000</td>\n",
              "      <td>패션잡화</td>\n",
              "      <td>여성신발</td>\n",
              "      <td>실내화</td>\n",
              "      <td>uncategory</td>\n",
              "      <td>4.545455</td>\n",
              "      <td>280.0</td>\n",
              "      <td>0.28</td>\n",
              "    </tr>\n",
              "    <tr>\n",
              "      <th>1</th>\n",
              "      <td>3592074</td>\n",
              "      <td>1</td>\n",
              "      <td>0</td>\n",
              "      <td>0.0</td>\n",
              "      <td>1.0</td>\n",
              "      <td>300</td>\n",
              "      <td>9900</td>\n",
              "      <td>9900</td>\n",
              "      <td>3000</td>\n",
              "      <td>화장품/미용</td>\n",
              "      <td>헤어케어</td>\n",
              "      <td>린스</td>\n",
              "      <td>uncategory</td>\n",
              "      <td>0.000000</td>\n",
              "      <td>0.0</td>\n",
              "      <td>0.00</td>\n",
              "    </tr>\n",
              "    <tr>\n",
              "      <th>2</th>\n",
              "      <td>3592078</td>\n",
              "      <td>3</td>\n",
              "      <td>0</td>\n",
              "      <td>0.0</td>\n",
              "      <td>1.0</td>\n",
              "      <td>50</td>\n",
              "      <td>5900</td>\n",
              "      <td>5900</td>\n",
              "      <td>3000</td>\n",
              "      <td>화장품/미용</td>\n",
              "      <td>헤어케어</td>\n",
              "      <td>헤어에센스</td>\n",
              "      <td>uncategory</td>\n",
              "      <td>0.000000</td>\n",
              "      <td>0.0</td>\n",
              "      <td>0.00</td>\n",
              "    </tr>\n",
              "    <tr>\n",
              "      <th>3</th>\n",
              "      <td>3044310</td>\n",
              "      <td>39</td>\n",
              "      <td>0</td>\n",
              "      <td>0.0</td>\n",
              "      <td>1.0</td>\n",
              "      <td>50</td>\n",
              "      <td>1187500</td>\n",
              "      <td>1187500</td>\n",
              "      <td>-1</td>\n",
              "      <td>가구/인테리어</td>\n",
              "      <td>주방가구</td>\n",
              "      <td>식탁/의자</td>\n",
              "      <td>식탁테이블</td>\n",
              "      <td>0.000000</td>\n",
              "      <td>0.0</td>\n",
              "      <td>0.00</td>\n",
              "    </tr>\n",
              "    <tr>\n",
              "      <th>4</th>\n",
              "      <td>3044301</td>\n",
              "      <td>1</td>\n",
              "      <td>0</td>\n",
              "      <td>0.0</td>\n",
              "      <td>1.0</td>\n",
              "      <td>50</td>\n",
              "      <td>799000</td>\n",
              "      <td>799000</td>\n",
              "      <td>0</td>\n",
              "      <td>가구/인테리어</td>\n",
              "      <td>주방가구</td>\n",
              "      <td>식탁/의자</td>\n",
              "      <td>식탁테이블</td>\n",
              "      <td>0.000000</td>\n",
              "      <td>0.0</td>\n",
              "      <td>0.00</td>\n",
              "    </tr>\n",
              "    <tr>\n",
              "      <th>...</th>\n",
              "      <td>...</td>\n",
              "      <td>...</td>\n",
              "      <td>...</td>\n",
              "      <td>...</td>\n",
              "      <td>...</td>\n",
              "      <td>...</td>\n",
              "      <td>...</td>\n",
              "      <td>...</td>\n",
              "      <td>...</td>\n",
              "      <td>...</td>\n",
              "      <td>...</td>\n",
              "      <td>...</td>\n",
              "      <td>...</td>\n",
              "      <td>...</td>\n",
              "      <td>...</td>\n",
              "      <td>...</td>\n",
              "    </tr>\n",
              "    <tr>\n",
              "      <th>1331206</th>\n",
              "      <td>3303386</td>\n",
              "      <td>1</td>\n",
              "      <td>0</td>\n",
              "      <td>0.0</td>\n",
              "      <td>100.0</td>\n",
              "      <td>360</td>\n",
              "      <td>39900</td>\n",
              "      <td>39900</td>\n",
              "      <td>-1</td>\n",
              "      <td>가구/인테리어</td>\n",
              "      <td>침실가구</td>\n",
              "      <td>협탁</td>\n",
              "      <td>uncategory</td>\n",
              "      <td>0.000000</td>\n",
              "      <td>0.0</td>\n",
              "      <td>0.00</td>\n",
              "    </tr>\n",
              "    <tr>\n",
              "      <th>1331207</th>\n",
              "      <td>112516</td>\n",
              "      <td>1</td>\n",
              "      <td>0</td>\n",
              "      <td>0.0</td>\n",
              "      <td>100.0</td>\n",
              "      <td>50</td>\n",
              "      <td>97900</td>\n",
              "      <td>97900</td>\n",
              "      <td>0</td>\n",
              "      <td>가구/인테리어</td>\n",
              "      <td>침실가구</td>\n",
              "      <td>화장대</td>\n",
              "      <td>콘솔</td>\n",
              "      <td>0.000000</td>\n",
              "      <td>0.0</td>\n",
              "      <td>0.00</td>\n",
              "    </tr>\n",
              "    <tr>\n",
              "      <th>1331208</th>\n",
              "      <td>9190741</td>\n",
              "      <td>1</td>\n",
              "      <td>0</td>\n",
              "      <td>0.0</td>\n",
              "      <td>100.0</td>\n",
              "      <td>300</td>\n",
              "      <td>15840</td>\n",
              "      <td>15840</td>\n",
              "      <td>3000</td>\n",
              "      <td>패션잡화</td>\n",
              "      <td>남성신발</td>\n",
              "      <td>슬리퍼</td>\n",
              "      <td>uncategory</td>\n",
              "      <td>0.000000</td>\n",
              "      <td>0.0</td>\n",
              "      <td>0.00</td>\n",
              "    </tr>\n",
              "    <tr>\n",
              "      <th>1331209</th>\n",
              "      <td>9143558</td>\n",
              "      <td>2</td>\n",
              "      <td>0</td>\n",
              "      <td>0.0</td>\n",
              "      <td>100.0</td>\n",
              "      <td>50</td>\n",
              "      <td>22900</td>\n",
              "      <td>22900</td>\n",
              "      <td>4000</td>\n",
              "      <td>가구/인테리어</td>\n",
              "      <td>서재/사무용가구</td>\n",
              "      <td>의자</td>\n",
              "      <td>스툴</td>\n",
              "      <td>0.000000</td>\n",
              "      <td>0.0</td>\n",
              "      <td>0.00</td>\n",
              "    </tr>\n",
              "    <tr>\n",
              "      <th>1331210</th>\n",
              "      <td>9142532</td>\n",
              "      <td>1</td>\n",
              "      <td>0</td>\n",
              "      <td>0.0</td>\n",
              "      <td>100.0</td>\n",
              "      <td>500</td>\n",
              "      <td>61900</td>\n",
              "      <td>61900</td>\n",
              "      <td>-1</td>\n",
              "      <td>가구/인테리어</td>\n",
              "      <td>주방가구</td>\n",
              "      <td>식탁/의자</td>\n",
              "      <td>식탁테이블</td>\n",
              "      <td>0.000000</td>\n",
              "      <td>0.0</td>\n",
              "      <td>0.00</td>\n",
              "    </tr>\n",
              "  </tbody>\n",
              "</table>\n",
              "<p>1331211 rows × 16 columns</p>\n",
              "</div>\n",
              "      <button class=\"colab-df-convert\" onclick=\"convertToInteractive('df-d0c52683-629d-41bf-ab58-bc9a6d2ec243')\"\n",
              "              title=\"Convert this dataframe to an interactive table.\"\n",
              "              style=\"display:none;\">\n",
              "        \n",
              "  <svg xmlns=\"http://www.w3.org/2000/svg\" height=\"24px\"viewBox=\"0 0 24 24\"\n",
              "       width=\"24px\">\n",
              "    <path d=\"M0 0h24v24H0V0z\" fill=\"none\"/>\n",
              "    <path d=\"M18.56 5.44l.94 2.06.94-2.06 2.06-.94-2.06-.94-.94-2.06-.94 2.06-2.06.94zm-11 1L8.5 8.5l.94-2.06 2.06-.94-2.06-.94L8.5 2.5l-.94 2.06-2.06.94zm10 10l.94 2.06.94-2.06 2.06-.94-2.06-.94-.94-2.06-.94 2.06-2.06.94z\"/><path d=\"M17.41 7.96l-1.37-1.37c-.4-.4-.92-.59-1.43-.59-.52 0-1.04.2-1.43.59L10.3 9.45l-7.72 7.72c-.78.78-.78 2.05 0 2.83L4 21.41c.39.39.9.59 1.41.59.51 0 1.02-.2 1.41-.59l7.78-7.78 2.81-2.81c.8-.78.8-2.07 0-2.86zM5.41 20L4 18.59l7.72-7.72 1.47 1.35L5.41 20z\"/>\n",
              "  </svg>\n",
              "      </button>\n",
              "      \n",
              "  <style>\n",
              "    .colab-df-container {\n",
              "      display:flex;\n",
              "      flex-wrap:wrap;\n",
              "      gap: 12px;\n",
              "    }\n",
              "\n",
              "    .colab-df-convert {\n",
              "      background-color: #E8F0FE;\n",
              "      border: none;\n",
              "      border-radius: 50%;\n",
              "      cursor: pointer;\n",
              "      display: none;\n",
              "      fill: #1967D2;\n",
              "      height: 32px;\n",
              "      padding: 0 0 0 0;\n",
              "      width: 32px;\n",
              "    }\n",
              "\n",
              "    .colab-df-convert:hover {\n",
              "      background-color: #E2EBFA;\n",
              "      box-shadow: 0px 1px 2px rgba(60, 64, 67, 0.3), 0px 1px 3px 1px rgba(60, 64, 67, 0.15);\n",
              "      fill: #174EA6;\n",
              "    }\n",
              "\n",
              "    [theme=dark] .colab-df-convert {\n",
              "      background-color: #3B4455;\n",
              "      fill: #D2E3FC;\n",
              "    }\n",
              "\n",
              "    [theme=dark] .colab-df-convert:hover {\n",
              "      background-color: #434B5C;\n",
              "      box-shadow: 0px 1px 3px 1px rgba(0, 0, 0, 0.15);\n",
              "      filter: drop-shadow(0px 1px 2px rgba(0, 0, 0, 0.3));\n",
              "      fill: #FFFFFF;\n",
              "    }\n",
              "  </style>\n",
              "\n",
              "      <script>\n",
              "        const buttonEl =\n",
              "          document.querySelector('#df-d0c52683-629d-41bf-ab58-bc9a6d2ec243 button.colab-df-convert');\n",
              "        buttonEl.style.display =\n",
              "          google.colab.kernel.accessAllowed ? 'block' : 'none';\n",
              "\n",
              "        async function convertToInteractive(key) {\n",
              "          const element = document.querySelector('#df-d0c52683-629d-41bf-ab58-bc9a6d2ec243');\n",
              "          const dataTable =\n",
              "            await google.colab.kernel.invokeFunction('convertToInteractive',\n",
              "                                                     [key], {});\n",
              "          if (!dataTable) return;\n",
              "\n",
              "          const docLinkHtml = 'Like what you see? Visit the ' +\n",
              "            '<a target=\"_blank\" href=https://colab.research.google.com/notebooks/data_table.ipynb>data table notebook</a>'\n",
              "            + ' to learn more about interactive tables.';\n",
              "          element.innerHTML = '';\n",
              "          dataTable['output_type'] = 'display_data';\n",
              "          await google.colab.output.renderOutput(dataTable, element);\n",
              "          const docLink = document.createElement('div');\n",
              "          docLink.innerHTML = docLinkHtml;\n",
              "          element.appendChild(docLink);\n",
              "        }\n",
              "      </script>\n",
              "    </div>\n",
              "  </div>\n",
              "  "
            ]
          },
          "metadata": {},
          "execution_count": 64
        }
      ]
    },
    {
      "cell_type": "code",
      "source": [
        "#1~!00등 자르기\n",
        "design__50 = bidding_rank[bidding_rank['Sum of AD rank'] <= 50] \n",
        "design_100 = bidding_rank[bidding_rank['Sum of AD rank'] >= 51] "
      ],
      "metadata": {
        "id": "CiQX0Ec8YS0z"
      },
      "execution_count": 65,
      "outputs": []
    },
    {
      "cell_type": "code",
      "source": [
        "design__50['Impression'].mean()"
      ],
      "metadata": {
        "id": "cPzXTPgRYS3k",
        "colab": {
          "base_uri": "https://localhost:8080/"
        },
        "outputId": "0916e977-fb75-498f-d5ed-ecbddaebb465"
      },
      "execution_count": 66,
      "outputs": [
        {
          "output_type": "execute_result",
          "data": {
            "text/plain": [
              "45.41886428204372"
            ]
          },
          "metadata": {},
          "execution_count": 66
        }
      ]
    },
    {
      "cell_type": "code",
      "source": [
        "design_100['Impression'].mean()"
      ],
      "metadata": {
        "id": "WycuZIlaYS7m",
        "colab": {
          "base_uri": "https://localhost:8080/"
        },
        "outputId": "0695b08c-e163-49f3-dbda-de70a27810e5"
      },
      "execution_count": 67,
      "outputs": [
        {
          "output_type": "execute_result",
          "data": {
            "text/plain": [
              "2.3771777746198666"
            ]
          },
          "metadata": {},
          "execution_count": 67
        }
      ]
    },
    {
      "cell_type": "code",
      "source": [
        "design__50['Click'].mean()"
      ],
      "metadata": {
        "id": "nV_t7AuZYS-V",
        "colab": {
          "base_uri": "https://localhost:8080/"
        },
        "outputId": "004bf8d0-9be1-4a31-d71e-54d1737468cc"
      },
      "execution_count": 68,
      "outputs": [
        {
          "output_type": "execute_result",
          "data": {
            "text/plain": [
              "0.7410121401885456"
            ]
          },
          "metadata": {},
          "execution_count": 68
        }
      ]
    },
    {
      "cell_type": "code",
      "source": [
        "design_100['Click'].mean()"
      ],
      "metadata": {
        "id": "nTNXVZwpYTAt",
        "colab": {
          "base_uri": "https://localhost:8080/"
        },
        "outputId": "556eb412-e6d1-4442-fa7d-0d2b791276cc"
      },
      "execution_count": 69,
      "outputs": [
        {
          "output_type": "execute_result",
          "data": {
            "text/plain": [
              "0.01656956089242575"
            ]
          },
          "metadata": {},
          "execution_count": 69
        }
      ]
    },
    {
      "cell_type": "code",
      "source": [
        "design__50['CTR'].mean()"
      ],
      "metadata": {
        "id": "NNB9NFc0YTDj",
        "colab": {
          "base_uri": "https://localhost:8080/"
        },
        "outputId": "164dd15e-12c7-47a8-b77a-3ed79841405f"
      },
      "execution_count": 70,
      "outputs": [
        {
          "output_type": "execute_result",
          "data": {
            "text/plain": [
              "1.705337291009736"
            ]
          },
          "metadata": {},
          "execution_count": 70
        }
      ]
    },
    {
      "cell_type": "code",
      "source": [
        "design_100['CTR'].mean()"
      ],
      "metadata": {
        "id": "p3b4zU2VdarP",
        "colab": {
          "base_uri": "https://localhost:8080/"
        },
        "outputId": "b798f12d-0f35-4607-f796-ed88474e7f08"
      },
      "execution_count": 71,
      "outputs": [
        {
          "output_type": "execute_result",
          "data": {
            "text/plain": [
              "0.6676726271576163"
            ]
          },
          "metadata": {},
          "execution_count": 71
        }
      ]
    },
    {
      "cell_type": "code",
      "source": [
        "design__50['Cost'].mean()"
      ],
      "metadata": {
        "id": "SiS5dOqLdatp",
        "colab": {
          "base_uri": "https://localhost:8080/"
        },
        "outputId": "4bcc85ab-16b6-4de5-d26d-f5fb1ebdb8f6"
      },
      "execution_count": 72,
      "outputs": [
        {
          "output_type": "execute_result",
          "data": {
            "text/plain": [
              "185.55248120022284"
            ]
          },
          "metadata": {},
          "execution_count": 72
        }
      ]
    },
    {
      "cell_type": "code",
      "source": [
        "design_100['Cost'].mean()"
      ],
      "metadata": {
        "id": "pwLUy83XdawS",
        "colab": {
          "base_uri": "https://localhost:8080/"
        },
        "outputId": "06072a24-eb2b-4d6c-84b7-c6e68ecdc4c9"
      },
      "execution_count": 73,
      "outputs": [
        {
          "output_type": "execute_result",
          "data": {
            "text/plain": [
              "4.029273838283359"
            ]
          },
          "metadata": {},
          "execution_count": 73
        }
      ]
    },
    {
      "cell_type": "code",
      "source": [
        "design__50['Delivery Fee'].mean()"
      ],
      "metadata": {
        "id": "kYxwoBocdays",
        "colab": {
          "base_uri": "https://localhost:8080/"
        },
        "outputId": "957eb67d-f548-46d6-9cce-4c8d60927252"
      },
      "execution_count": 74,
      "outputs": [
        {
          "output_type": "execute_result",
          "data": {
            "text/plain": [
              "2000.6552075344168"
            ]
          },
          "metadata": {},
          "execution_count": 74
        }
      ]
    },
    {
      "cell_type": "code",
      "source": [
        "design_100['Delivery Fee'].mean()"
      ],
      "metadata": {
        "id": "hgPzVZTUda0J",
        "colab": {
          "base_uri": "https://localhost:8080/"
        },
        "outputId": "c6dd1138-0c69-492d-9970-2727231418a6"
      },
      "execution_count": 75,
      "outputs": [
        {
          "output_type": "execute_result",
          "data": {
            "text/plain": [
              "1978.1095068921416"
            ]
          },
          "metadata": {},
          "execution_count": 75
        }
      ]
    },
    {
      "cell_type": "code",
      "source": [
        "design__50['Category Name 1'].value_counts() #"
      ],
      "metadata": {
        "id": "F1peF-ltjrVy",
        "colab": {
          "base_uri": "https://localhost:8080/"
        },
        "outputId": "50a69762-3d1c-4c96-ea61-45d8a3ae5509"
      },
      "execution_count": 76,
      "outputs": [
        {
          "output_type": "execute_result",
          "data": {
            "text/plain": [
              "가구/인테리어    928822\n",
              "생활/건강      302968\n",
              "출산/육아       24757\n",
              "스포츠/레저      15495\n",
              "패션잡화         7569\n",
              "화장품/미용       7400\n",
              "디지털/가전       5694\n",
              "패션의류         2299\n",
              "여가/생활편의       814\n",
              "식품            208\n",
              "Name: Category Name 1, dtype: int64"
            ]
          },
          "metadata": {},
          "execution_count": 76
        }
      ]
    },
    {
      "cell_type": "code",
      "source": [
        "design_100['Category Name 1'].value_counts() #"
      ],
      "metadata": {
        "id": "uKZKyE_0jrXw",
        "colab": {
          "base_uri": "https://localhost:8080/"
        },
        "outputId": "370333f5-b46a-4009-bea9-d3716044328b"
      },
      "execution_count": 77,
      "outputs": [
        {
          "output_type": "execute_result",
          "data": {
            "text/plain": [
              "가구/인테리어    25075\n",
              "생활/건강       9041\n",
              "스포츠/레저       481\n",
              "패션잡화         219\n",
              "출산/육아        200\n",
              "화장품/미용        71\n",
              "디지털/가전        40\n",
              "패션의류          32\n",
              "여가/생활편의       24\n",
              "식품             2\n",
              "Name: Category Name 1, dtype: int64"
            ]
          },
          "metadata": {},
          "execution_count": 77
        }
      ]
    },
    {
      "cell_type": "markdown",
      "source": [
        "###1~64등\n"
      ],
      "metadata": {
        "id": "XOXpOa0_fSt5"
      }
    },
    {
      "cell_type": "code",
      "source": [
        "design_32 = bidding_rank[bidding_rank['Sum of AD rank'] <= 32] \n",
        "design_64 = bidding_rank[(bidding_rank['Sum of AD rank'] >= 33) & (bidding_rank['Sum of AD rank'] <= 64)]"
      ],
      "metadata": {
        "id": "ZrSUwEYTeQug"
      },
      "execution_count": 78,
      "outputs": []
    },
    {
      "cell_type": "code",
      "source": [
        "design_32['Impression'].mean()"
      ],
      "metadata": {
        "id": "-masgMhleQ1n",
        "colab": {
          "base_uri": "https://localhost:8080/"
        },
        "outputId": "79e50776-de1d-4e6c-be39-a268f5ff0237"
      },
      "execution_count": 79,
      "outputs": [
        {
          "output_type": "execute_result",
          "data": {
            "text/plain": [
              "47.143666439334474"
            ]
          },
          "metadata": {},
          "execution_count": 79
        }
      ]
    },
    {
      "cell_type": "code",
      "source": [
        "design_64['Impression'].mean()"
      ],
      "metadata": {
        "id": "ZwKSMTsKeQ3q",
        "colab": {
          "base_uri": "https://localhost:8080/"
        },
        "outputId": "43fb62c3-6678-4ec7-d0dd-1297ae37afa5"
      },
      "execution_count": 80,
      "outputs": [
        {
          "output_type": "execute_result",
          "data": {
            "text/plain": [
              "4.260000575572695"
            ]
          },
          "metadata": {},
          "execution_count": 80
        }
      ]
    },
    {
      "cell_type": "code",
      "source": [
        "design_32['Click'].mean()"
      ],
      "metadata": {
        "id": "5dCb2ObPeQ5w",
        "colab": {
          "base_uri": "https://localhost:8080/"
        },
        "outputId": "a2a29b53-aa39-489a-f023-8a72e4223259"
      },
      "execution_count": 81,
      "outputs": [
        {
          "output_type": "execute_result",
          "data": {
            "text/plain": [
              "0.7703754519835806"
            ]
          },
          "metadata": {},
          "execution_count": 81
        }
      ]
    },
    {
      "cell_type": "code",
      "source": [
        "design_64['Click'].mean()"
      ],
      "metadata": {
        "id": "f1GmHWnOeQ8I",
        "colab": {
          "base_uri": "https://localhost:8080/"
        },
        "outputId": "494465a3-f0e4-483e-e6cc-845601dc9859"
      },
      "execution_count": 82,
      "outputs": [
        {
          "output_type": "execute_result",
          "data": {
            "text/plain": [
              "0.041729020375273394"
            ]
          },
          "metadata": {},
          "execution_count": 82
        }
      ]
    },
    {
      "cell_type": "code",
      "source": [
        "design_32['CTR'].mean()"
      ],
      "metadata": {
        "id": "cmPtzPbneQ-c",
        "colab": {
          "base_uri": "https://localhost:8080/"
        },
        "outputId": "259291ac-aac7-4faf-b1db-e7a87b00e5c8"
      },
      "execution_count": 83,
      "outputs": [
        {
          "output_type": "execute_result",
          "data": {
            "text/plain": [
              "1.7326605375945185"
            ]
          },
          "metadata": {},
          "execution_count": 83
        }
      ]
    },
    {
      "cell_type": "code",
      "source": [
        "design_64['CTR'].mean()"
      ],
      "metadata": {
        "id": "WSjXyQSDeRAg",
        "colab": {
          "base_uri": "https://localhost:8080/"
        },
        "outputId": "fe9c7f94-6811-4bf4-eab2-ff932eabf14d"
      },
      "execution_count": 84,
      "outputs": [
        {
          "output_type": "execute_result",
          "data": {
            "text/plain": [
              "1.0069418429191674"
            ]
          },
          "metadata": {},
          "execution_count": 84
        }
      ]
    },
    {
      "cell_type": "code",
      "source": [
        "design_32['Cost'].mean()"
      ],
      "metadata": {
        "id": "C2MjRamCeRC5",
        "colab": {
          "base_uri": "https://localhost:8080/"
        },
        "outputId": "1d65c6fd-96fe-4e72-87c8-994b7df8c87f"
      },
      "execution_count": 85,
      "outputs": [
        {
          "output_type": "execute_result",
          "data": {
            "text/plain": [
              "192.845212512707"
            ]
          },
          "metadata": {},
          "execution_count": 85
        }
      ]
    },
    {
      "cell_type": "code",
      "source": [
        "design_64['Cost'].mean()"
      ],
      "metadata": {
        "id": "bxeOP24leRFB",
        "colab": {
          "base_uri": "https://localhost:8080/"
        },
        "outputId": "90c62c6c-64b2-4402-e928-4ce03bacdbc0"
      },
      "execution_count": 86,
      "outputs": [
        {
          "output_type": "execute_result",
          "data": {
            "text/plain": [
              "11.570593991021067"
            ]
          },
          "metadata": {},
          "execution_count": 86
        }
      ]
    },
    {
      "cell_type": "code",
      "source": [
        "design_32['Delivery Fee'].mean()"
      ],
      "metadata": {
        "id": "32C7wRPeeRHS",
        "colab": {
          "base_uri": "https://localhost:8080/"
        },
        "outputId": "1c67dab5-abf0-4a50-91d3-ad5fae774e9a"
      },
      "execution_count": 87,
      "outputs": [
        {
          "output_type": "execute_result",
          "data": {
            "text/plain": [
              "1999.359918868143"
            ]
          },
          "metadata": {},
          "execution_count": 87
        }
      ]
    },
    {
      "cell_type": "code",
      "source": [
        "design_64['Delivery Fee'].mean()"
      ],
      "metadata": {
        "id": "8qnnXtmKeRJn",
        "colab": {
          "base_uri": "https://localhost:8080/"
        },
        "outputId": "73efd9e4-68c7-4cfb-be06-3e4f6c82bfc9"
      },
      "execution_count": 88,
      "outputs": [
        {
          "output_type": "execute_result",
          "data": {
            "text/plain": [
              "2030.7284735812134"
            ]
          },
          "metadata": {},
          "execution_count": 88
        }
      ]
    },
    {
      "cell_type": "code",
      "source": [
        "design_32['Category Name 1'].value_counts() #"
      ],
      "metadata": {
        "id": "17rTEkXweRLc",
        "colab": {
          "base_uri": "https://localhost:8080/"
        },
        "outputId": "fe1d5211-25ab-47db-84a5-c549a079f556"
      },
      "execution_count": 89,
      "outputs": [
        {
          "output_type": "execute_result",
          "data": {
            "text/plain": [
              "가구/인테리어    890617\n",
              "생활/건강      290225\n",
              "출산/육아       24417\n",
              "스포츠/레저      14784\n",
              "화장품/미용       7320\n",
              "패션잡화         7195\n",
              "디지털/가전       5605\n",
              "패션의류         2232\n",
              "여가/생활편의       805\n",
              "식품            208\n",
              "Name: Category Name 1, dtype: int64"
            ]
          },
          "metadata": {},
          "execution_count": 89
        }
      ]
    },
    {
      "cell_type": "code",
      "source": [
        "design_64['Category Name 1'].value_counts()"
      ],
      "metadata": {
        "id": "hpWEHQZEgop_",
        "colab": {
          "base_uri": "https://localhost:8080/"
        },
        "outputId": "c5cafc29-e075-411c-aff2-f06cbabc1a8f"
      },
      "execution_count": 90,
      "outputs": [
        {
          "output_type": "execute_result",
          "data": {
            "text/plain": [
              "가구/인테리어    50274\n",
              "생활/건강      17040\n",
              "스포츠/레저       950\n",
              "패션잡화         480\n",
              "출산/육아        424\n",
              "화장품/미용       118\n",
              "디지털/가전       112\n",
              "패션의류          84\n",
              "여가/생활편의       13\n",
              "식품             1\n",
              "Name: Category Name 1, dtype: int64"
            ]
          },
          "metadata": {},
          "execution_count": 90
        }
      ]
    },
    {
      "cell_type": "markdown",
      "source": [
        "### 1~32등"
      ],
      "metadata": {
        "id": "vEUH-Og6n7J7"
      }
    },
    {
      "cell_type": "code",
      "source": [
        "design_16 = bidding_rank[bidding_rank['Sum of AD rank'] <= 16] \n",
        "design_32 = bidding_rank[(bidding_rank['Sum of AD rank'] >= 17) & (bidding_rank['Sum of AD rank'] <= 32)]"
      ],
      "metadata": {
        "id": "fmNNyZc8jWR6"
      },
      "execution_count": 91,
      "outputs": []
    },
    {
      "cell_type": "code",
      "source": [
        "design_16['Impression'].mean()"
      ],
      "metadata": {
        "id": "9Ebyz6JPn-_Q",
        "colab": {
          "base_uri": "https://localhost:8080/"
        },
        "outputId": "aec7a56a-d65f-4a17-971e-734b043909c7"
      },
      "execution_count": 92,
      "outputs": [
        {
          "output_type": "execute_result",
          "data": {
            "text/plain": [
              "52.7723022248547"
            ]
          },
          "metadata": {},
          "execution_count": 92
        }
      ]
    },
    {
      "cell_type": "code",
      "source": [
        "design_32['Impression'].mean()"
      ],
      "metadata": {
        "id": "qeticS_Ln_Bz",
        "colab": {
          "base_uri": "https://localhost:8080/"
        },
        "outputId": "a5395392-1cce-46d8-9091-834ddf9f88e3"
      },
      "execution_count": 93,
      "outputs": [
        {
          "output_type": "execute_result",
          "data": {
            "text/plain": [
              "9.806026226609696"
            ]
          },
          "metadata": {},
          "execution_count": 93
        }
      ]
    },
    {
      "cell_type": "code",
      "source": [
        "design_16['Click'].mean()"
      ],
      "metadata": {
        "id": "5gYBlHW5n_EE",
        "colab": {
          "base_uri": "https://localhost:8080/"
        },
        "outputId": "3bbd0402-d8f0-449d-9e89-984516ac72c4"
      },
      "execution_count": 94,
      "outputs": [
        {
          "output_type": "execute_result",
          "data": {
            "text/plain": [
              "0.8699246659016029"
            ]
          },
          "metadata": {},
          "execution_count": 94
        }
      ]
    },
    {
      "cell_type": "code",
      "source": [
        "design_32['Click'].mean()"
      ],
      "metadata": {
        "id": "u2WtEpdZn_Gc",
        "colab": {
          "base_uri": "https://localhost:8080/"
        },
        "outputId": "972bbf24-6633-49b3-de1e-e3a974315275"
      },
      "execution_count": 95,
      "outputs": [
        {
          "output_type": "execute_result",
          "data": {
            "text/plain": [
              "0.11001424291537744"
            ]
          },
          "metadata": {},
          "execution_count": 95
        }
      ]
    },
    {
      "cell_type": "code",
      "source": [
        "design_16['CTR'].mean()"
      ],
      "metadata": {
        "id": "2pAXKijpn_Il",
        "colab": {
          "base_uri": "https://localhost:8080/"
        },
        "outputId": "80452643-acfe-4cfe-ad83-9d156af2aee1"
      },
      "execution_count": 96,
      "outputs": [
        {
          "output_type": "execute_result",
          "data": {
            "text/plain": [
              "1.8155053702337236"
            ]
          },
          "metadata": {},
          "execution_count": 96
        }
      ]
    },
    {
      "cell_type": "code",
      "source": [
        "design_32['CTR'].mean()"
      ],
      "metadata": {
        "id": "1TNOKSaXoidu",
        "colab": {
          "base_uri": "https://localhost:8080/"
        },
        "outputId": "7a72c8a6-71dd-41ed-95e9-04ac2aea0d79"
      },
      "execution_count": 97,
      "outputs": [
        {
          "output_type": "execute_result",
          "data": {
            "text/plain": [
              "1.1831080931952156"
            ]
          },
          "metadata": {},
          "execution_count": 97
        }
      ]
    },
    {
      "cell_type": "code",
      "source": [
        "design_16['Cost'].mean()"
      ],
      "metadata": {
        "id": "GnAmkKYRoigG",
        "colab": {
          "base_uri": "https://localhost:8080/"
        },
        "outputId": "7747920b-e69e-4210-89ab-a5699b5215a0"
      },
      "execution_count": 98,
      "outputs": [
        {
          "output_type": "execute_result",
          "data": {
            "text/plain": [
              "216.9633324695517"
            ]
          },
          "metadata": {},
          "execution_count": 98
        }
      ]
    },
    {
      "cell_type": "code",
      "source": [
        "design_32['Cost'].mean()"
      ],
      "metadata": {
        "id": "YfC6VpaDoiiM",
        "colab": {
          "base_uri": "https://localhost:8080/"
        },
        "outputId": "b8f75447-709f-4e6d-d959-d218fe5d23cc"
      },
      "execution_count": 99,
      "outputs": [
        {
          "output_type": "execute_result",
          "data": {
            "text/plain": [
              "32.85730072196847"
            ]
          },
          "metadata": {},
          "execution_count": 99
        }
      ]
    },
    {
      "cell_type": "code",
      "source": [
        "design_16['Delivery Fee'].mean()"
      ],
      "metadata": {
        "id": "dyLx4UmPoikm",
        "colab": {
          "base_uri": "https://localhost:8080/"
        },
        "outputId": "9ed9caf5-ce78-4d14-8ba4-dd2715e6f649"
      },
      "execution_count": 100,
      "outputs": [
        {
          "output_type": "execute_result",
          "data": {
            "text/plain": [
              "1989.5719931144263"
            ]
          },
          "metadata": {},
          "execution_count": 100
        }
      ]
    },
    {
      "cell_type": "code",
      "source": [
        "design_32['Delivery Fee'].mean()"
      ],
      "metadata": {
        "id": "FT36OIjJoiml",
        "colab": {
          "base_uri": "https://localhost:8080/"
        },
        "outputId": "d2ad2863-3d54-4cd5-8437-37d56ce17bd1"
      },
      "execution_count": 101,
      "outputs": [
        {
          "output_type": "execute_result",
          "data": {
            "text/plain": [
              "2064.2882716958893"
            ]
          },
          "metadata": {},
          "execution_count": 101
        }
      ]
    },
    {
      "cell_type": "code",
      "source": [
        "design_16['Category Name 1'].value_counts()"
      ],
      "metadata": {
        "id": "Fi5NrSpvoipB",
        "colab": {
          "base_uri": "https://localhost:8080/"
        },
        "outputId": "dcb4f64d-b8cd-47e6-d4df-953c86c53d06"
      },
      "execution_count": 102,
      "outputs": [
        {
          "output_type": "execute_result",
          "data": {
            "text/plain": [
              "가구/인테리어    769233\n",
              "생활/건강      254014\n",
              "출산/육아       23093\n",
              "스포츠/레저      12946\n",
              "화장품/미용       7036\n",
              "패션잡화         6108\n",
              "디지털/가전       5209\n",
              "패션의류         1919\n",
              "여가/생활편의       781\n",
              "식품            181\n",
              "Name: Category Name 1, dtype: int64"
            ]
          },
          "metadata": {},
          "execution_count": 102
        }
      ]
    },
    {
      "cell_type": "code",
      "source": [
        "design_32['Category Name 1'].value_counts()"
      ],
      "metadata": {
        "id": "tBXr3Zl9oirH",
        "colab": {
          "base_uri": "https://localhost:8080/"
        },
        "outputId": "c351a710-8a31-45b3-9861-00824c3b56e0"
      },
      "execution_count": 103,
      "outputs": [
        {
          "output_type": "execute_result",
          "data": {
            "text/plain": [
              "가구/인테리어    121384\n",
              "생활/건강       36211\n",
              "스포츠/레저       1838\n",
              "출산/육아        1324\n",
              "패션잡화         1087\n",
              "디지털/가전        396\n",
              "패션의류          313\n",
              "화장품/미용        284\n",
              "식품             27\n",
              "여가/생활편의        24\n",
              "Name: Category Name 1, dtype: int64"
            ]
          },
          "metadata": {},
          "execution_count": 103
        }
      ]
    },
    {
      "cell_type": "markdown",
      "source": [
        "### 1~16등 확인"
      ],
      "metadata": {
        "id": "afctEtcvq170"
      }
    },
    {
      "cell_type": "code",
      "source": [
        "design_8 = bidding_rank[bidding_rank['Sum of AD rank'] <= 8] \n",
        "design_16 = bidding_rank[(bidding_rank['Sum of AD rank'] >= 9) & (bidding_rank['Sum of AD rank'] <= 16)]"
      ],
      "metadata": {
        "id": "xgS_IQ7eqxon"
      },
      "execution_count": 104,
      "outputs": []
    },
    {
      "cell_type": "code",
      "source": [
        "design_8['Impression'].mean()"
      ],
      "metadata": {
        "id": "6O5L6pEDqx29",
        "colab": {
          "base_uri": "https://localhost:8080/"
        },
        "outputId": "77cd7005-2015-42ff-b673-3b52951149c0"
      },
      "execution_count": 105,
      "outputs": [
        {
          "output_type": "execute_result",
          "data": {
            "text/plain": [
              "65.07268632028436"
            ]
          },
          "metadata": {},
          "execution_count": 105
        }
      ]
    },
    {
      "cell_type": "code",
      "source": [
        "design_16['Impression'].mean()"
      ],
      "metadata": {
        "id": "Xd2KK8O2qyCq",
        "colab": {
          "base_uri": "https://localhost:8080/"
        },
        "outputId": "47d42cc0-62af-49c7-d837-dab00190800c"
      },
      "execution_count": 106,
      "outputs": [
        {
          "output_type": "execute_result",
          "data": {
            "text/plain": [
              "22.65515920761618"
            ]
          },
          "metadata": {},
          "execution_count": 106
        }
      ]
    },
    {
      "cell_type": "code",
      "source": [
        "design_8['Click'].mean()"
      ],
      "metadata": {
        "id": "LFCyeBumqyLp",
        "colab": {
          "base_uri": "https://localhost:8080/"
        },
        "outputId": "a7887279-4891-4704-faaf-c152248f0b19"
      },
      "execution_count": 107,
      "outputs": [
        {
          "output_type": "execute_result",
          "data": {
            "text/plain": [
              "1.1248339713785558"
            ]
          },
          "metadata": {},
          "execution_count": 107
        }
      ]
    },
    {
      "cell_type": "code",
      "source": [
        "design_16['Click'].mean()"
      ],
      "metadata": {
        "id": "XQm_cnKysg5E",
        "colab": {
          "base_uri": "https://localhost:8080/"
        },
        "outputId": "59c3b124-51bc-4c12-9a90-6c2c94478ec4"
      },
      "execution_count": 108,
      "outputs": [
        {
          "output_type": "execute_result",
          "data": {
            "text/plain": [
              "0.2457864316876933"
            ]
          },
          "metadata": {},
          "execution_count": 108
        }
      ]
    },
    {
      "cell_type": "code",
      "source": [
        "design_8['CTR'].mean()"
      ],
      "metadata": {
        "id": "laDy2FXNsg7U",
        "colab": {
          "base_uri": "https://localhost:8080/"
        },
        "outputId": "510c3a66-7006-45b0-939a-32e60ff9d67f"
      },
      "execution_count": 109,
      "outputs": [
        {
          "output_type": "execute_result",
          "data": {
            "text/plain": [
              "2.087535569754123"
            ]
          },
          "metadata": {},
          "execution_count": 109
        }
      ]
    },
    {
      "cell_type": "code",
      "source": [
        "design_16['CTR'].mean()"
      ],
      "metadata": {
        "id": "tDGbam2Qsg9m",
        "colab": {
          "base_uri": "https://localhost:8080/"
        },
        "outputId": "2a5b3c1b-a097-40cc-a27b-c743b2839af2"
      },
      "execution_count": 110,
      "outputs": [
        {
          "output_type": "execute_result",
          "data": {
            "text/plain": [
              "1.1494471105564579"
            ]
          },
          "metadata": {},
          "execution_count": 110
        }
      ]
    },
    {
      "cell_type": "code",
      "source": [
        "design_8['Cost'].mean()"
      ],
      "metadata": {
        "id": "NG7PKIijsg_z",
        "colab": {
          "base_uri": "https://localhost:8080/"
        },
        "outputId": "cc235240-caa1-4e50-c862-6ccbcda4a460"
      },
      "execution_count": 111,
      "outputs": [
        {
          "output_type": "execute_result",
          "data": {
            "text/plain": [
              "277.0252754543547"
            ]
          },
          "metadata": {},
          "execution_count": 111
        }
      ]
    },
    {
      "cell_type": "code",
      "source": [
        "design_16['Cost'].mean()"
      ],
      "metadata": {
        "id": "QHyH11kjshCO",
        "colab": {
          "base_uri": "https://localhost:8080/"
        },
        "outputId": "2d1146c5-4b3f-4be9-fb28-a7a12c753650"
      },
      "execution_count": 112,
      "outputs": [
        {
          "output_type": "execute_result",
          "data": {
            "text/plain": [
              "69.90336159932085"
            ]
          },
          "metadata": {},
          "execution_count": 112
        }
      ]
    },
    {
      "cell_type": "code",
      "source": [
        "design_8['Delivery Fee'].mean()"
      ],
      "metadata": {
        "id": "AUqScFBZshEb",
        "colab": {
          "base_uri": "https://localhost:8080/"
        },
        "outputId": "1009c113-fe73-4f4a-cd4f-1815813fae3f"
      },
      "execution_count": 113,
      "outputs": [
        {
          "output_type": "execute_result",
          "data": {
            "text/plain": [
              "1970.8127483912006"
            ]
          },
          "metadata": {},
          "execution_count": 113
        }
      ]
    },
    {
      "cell_type": "code",
      "source": [
        "design_16['Delivery Fee'].mean()"
      ],
      "metadata": {
        "id": "SVE7J4nQshGz",
        "colab": {
          "base_uri": "https://localhost:8080/"
        },
        "outputId": "4875408c-cb57-4abe-ff50-a3aa81794a87"
      },
      "execution_count": 114,
      "outputs": [
        {
          "output_type": "execute_result",
          "data": {
            "text/plain": [
              "2035.503473939866"
            ]
          },
          "metadata": {},
          "execution_count": 114
        }
      ]
    },
    {
      "cell_type": "code",
      "source": [
        "design_8['Category Name 1'].value_counts()"
      ],
      "metadata": {
        "id": "TtU_x3rvqyR4",
        "colab": {
          "base_uri": "https://localhost:8080/"
        },
        "outputId": "5b8b7f66-2e98-4475-a035-822ad7ff83bf"
      },
      "execution_count": 115,
      "outputs": [
        {
          "output_type": "execute_result",
          "data": {
            "text/plain": [
              "가구/인테리어    534381\n",
              "생활/건강      188574\n",
              "출산/육아       18450\n",
              "스포츠/레저       9496\n",
              "화장품/미용       5737\n",
              "디지털/가전       4243\n",
              "패션잡화         4196\n",
              "패션의류         1294\n",
              "여가/생활편의       720\n",
              "식품             96\n",
              "Name: Category Name 1, dtype: int64"
            ]
          },
          "metadata": {},
          "execution_count": 115
        }
      ]
    },
    {
      "cell_type": "code",
      "source": [
        "design_16['Category Name 1'].value_counts()"
      ],
      "metadata": {
        "id": "xdzRYyrCqyYR",
        "colab": {
          "base_uri": "https://localhost:8080/"
        },
        "outputId": "19175f68-fbe8-4c29-b3b6-32ca683865c0"
      },
      "execution_count": 116,
      "outputs": [
        {
          "output_type": "execute_result",
          "data": {
            "text/plain": [
              "가구/인테리어    234852\n",
              "생활/건강       65440\n",
              "출산/육아        4643\n",
              "스포츠/레저       3450\n",
              "패션잡화         1912\n",
              "화장품/미용       1299\n",
              "디지털/가전        966\n",
              "패션의류          625\n",
              "식품             85\n",
              "여가/생활편의        61\n",
              "Name: Category Name 1, dtype: int64"
            ]
          },
          "metadata": {},
          "execution_count": 116
        }
      ]
    },
    {
      "cell_type": "markdown",
      "source": [
        "###1~8등"
      ],
      "metadata": {
        "id": "ZdZPjA7Wh7_1"
      }
    },
    {
      "cell_type": "code",
      "source": [
        "design_4 = bidding_rank[bidding_rank['Sum of AD rank'] <= 4] \n",
        "design_8 = bidding_rank[(bidding_rank['Sum of AD rank'] >= 5) & (bidding_rank['Sum of AD rank'] <= 8)]"
      ],
      "metadata": {
        "id": "jIW_yLzUh7W7"
      },
      "execution_count": 117,
      "outputs": []
    },
    {
      "cell_type": "code",
      "source": [
        "design_4['Impression'].mean()"
      ],
      "metadata": {
        "id": "bOzLgwJvh7ZU",
        "colab": {
          "base_uri": "https://localhost:8080/"
        },
        "outputId": "5789d099-4049-4efd-b6c3-7835071ff4a2"
      },
      "execution_count": 118,
      "outputs": [
        {
          "output_type": "execute_result",
          "data": {
            "text/plain": [
              "84.87919613919709"
            ]
          },
          "metadata": {},
          "execution_count": 118
        }
      ]
    },
    {
      "cell_type": "code",
      "source": [
        "design_8['Impression'].mean()"
      ],
      "metadata": {
        "id": "1AAK9adtilMi",
        "colab": {
          "base_uri": "https://localhost:8080/"
        },
        "outputId": "b280f0e2-4741-45e0-ccea-35b67c9218ff"
      },
      "execution_count": 119,
      "outputs": [
        {
          "output_type": "execute_result",
          "data": {
            "text/plain": [
              "40.7679874128026"
            ]
          },
          "metadata": {},
          "execution_count": 119
        }
      ]
    },
    {
      "cell_type": "code",
      "source": [
        "design_4['Click'].mean()"
      ],
      "metadata": {
        "id": "QhhBNUvvitVj",
        "colab": {
          "base_uri": "https://localhost:8080/"
        },
        "outputId": "e06c4d3a-8e7a-4aa2-83dd-a098cb3772db"
      },
      "execution_count": 120,
      "outputs": [
        {
          "output_type": "execute_result",
          "data": {
            "text/plain": [
              "1.561391970854723"
            ]
          },
          "metadata": {},
          "execution_count": 120
        }
      ]
    },
    {
      "cell_type": "code",
      "source": [
        "design_8['Click'].mean()"
      ],
      "metadata": {
        "id": "8lQ6ocZSilO3",
        "colab": {
          "base_uri": "https://localhost:8080/"
        },
        "outputId": "95455203-6c26-4f7a-a808-5518ee0296c7"
      },
      "execution_count": 121,
      "outputs": [
        {
          "output_type": "execute_result",
          "data": {
            "text/plain": [
              "0.5891307692530996"
            ]
          },
          "metadata": {},
          "execution_count": 121
        }
      ]
    },
    {
      "cell_type": "code",
      "source": [
        "design_4['CTR'].mean()"
      ],
      "metadata": {
        "id": "rnozd0YYilRJ",
        "colab": {
          "base_uri": "https://localhost:8080/"
        },
        "outputId": "cfdb6620-5f0f-411a-e43b-fb1d528df6c8"
      },
      "execution_count": 122,
      "outputs": [
        {
          "output_type": "execute_result",
          "data": {
            "text/plain": [
              "2.592703831679"
            ]
          },
          "metadata": {},
          "execution_count": 122
        }
      ]
    },
    {
      "cell_type": "code",
      "source": [
        "design_8['CTR'].mean()"
      ],
      "metadata": {
        "id": "aqVzq0qhilTp",
        "colab": {
          "base_uri": "https://localhost:8080/"
        },
        "outputId": "3fdc0faf-f313-4c1f-b2a8-7273fe68ec0b"
      },
      "execution_count": 123,
      "outputs": [
        {
          "output_type": "execute_result",
          "data": {
            "text/plain": [
              "1.4676402617995576"
            ]
          },
          "metadata": {},
          "execution_count": 123
        }
      ]
    },
    {
      "cell_type": "code",
      "source": [
        "design_4['Cost'].mean()"
      ],
      "metadata": {
        "id": "JZyzppKIilV_",
        "colab": {
          "base_uri": "https://localhost:8080/"
        },
        "outputId": "a1efcd77-2f9a-410a-f5f1-2e6503c003f4"
      },
      "execution_count": 124,
      "outputs": [
        {
          "output_type": "execute_result",
          "data": {
            "text/plain": [
              "371.8239928083083"
            ]
          },
          "metadata": {},
          "execution_count": 124
        }
      ]
    },
    {
      "cell_type": "code",
      "source": [
        "design_8['Cost'].mean()"
      ],
      "metadata": {
        "id": "6WBvuL1Th7bs",
        "colab": {
          "base_uri": "https://localhost:8080/"
        },
        "outputId": "7ec5f038-dddc-408c-89f3-e1d35ae924ce"
      },
      "execution_count": 125,
      "outputs": [
        {
          "output_type": "execute_result",
          "data": {
            "text/plain": [
              "160.6971437860873"
            ]
          },
          "metadata": {},
          "execution_count": 125
        }
      ]
    },
    {
      "cell_type": "code",
      "source": [
        "design_4['Delivery Fee'].mean()"
      ],
      "metadata": {
        "id": "QIh2GfZyh7eS",
        "colab": {
          "base_uri": "https://localhost:8080/"
        },
        "outputId": "35e1a8e6-c627-4daa-bdae-5390e7627d54"
      },
      "execution_count": 126,
      "outputs": [
        {
          "output_type": "execute_result",
          "data": {
            "text/plain": [
              "1982.689101275106"
            ]
          },
          "metadata": {},
          "execution_count": 126
        }
      ]
    },
    {
      "cell_type": "code",
      "source": [
        "design_8['Delivery Fee'].mean()"
      ],
      "metadata": {
        "id": "1o4cyloGh7hO",
        "colab": {
          "base_uri": "https://localhost:8080/"
        },
        "outputId": "e804a5aa-3eee-46fe-d639-fcc1dbcf36c1"
      },
      "execution_count": 127,
      "outputs": [
        {
          "output_type": "execute_result",
          "data": {
            "text/plain": [
              "1956.2391973919885"
            ]
          },
          "metadata": {},
          "execution_count": 127
        }
      ]
    },
    {
      "cell_type": "code",
      "source": [
        "design_4['Category Name 1'].value_counts()"
      ],
      "metadata": {
        "id": "EVsRkDvQi8hp",
        "colab": {
          "base_uri": "https://localhost:8080/"
        },
        "outputId": "c3e8c5b9-3aa6-4f87-cdcc-f4f294b41472"
      },
      "execution_count": 128,
      "outputs": [
        {
          "output_type": "execute_result",
          "data": {
            "text/plain": [
              "가구/인테리어    289721\n",
              "생활/건강      107581\n",
              "출산/육아       11152\n",
              "스포츠/레저       5398\n",
              "화장품/미용       3079\n",
              "디지털/가전       2447\n",
              "패션잡화         2056\n",
              "패션의류          696\n",
              "여가/생활편의       540\n",
              "식품             40\n",
              "Name: Category Name 1, dtype: int64"
            ]
          },
          "metadata": {},
          "execution_count": 128
        }
      ]
    },
    {
      "cell_type": "code",
      "source": [
        "design_8['Category Name 1'].value_counts()"
      ],
      "metadata": {
        "id": "6F70tWKMi8kF",
        "colab": {
          "base_uri": "https://localhost:8080/"
        },
        "outputId": "16ef47fe-a0d0-4440-f285-9c0a0c37b267"
      },
      "execution_count": 129,
      "outputs": [
        {
          "output_type": "execute_result",
          "data": {
            "text/plain": [
              "가구/인테리어    244660\n",
              "생활/건강       80993\n",
              "출산/육아        7298\n",
              "스포츠/레저       4098\n",
              "화장품/미용       2658\n",
              "패션잡화         2140\n",
              "디지털/가전       1796\n",
              "패션의류          598\n",
              "여가/생활편의       180\n",
              "식품             56\n",
              "Name: Category Name 1, dtype: int64"
            ]
          },
          "metadata": {},
          "execution_count": 129
        }
      ]
    },
    {
      "cell_type": "code",
      "source": [
        "design_4['Price(PC)'].mean()"
      ],
      "metadata": {
        "id": "mTHH8477jyZE",
        "colab": {
          "base_uri": "https://localhost:8080/"
        },
        "outputId": "64c0d807-b17e-4d8f-d516-3a4be69fd7c3"
      },
      "execution_count": 130,
      "outputs": [
        {
          "output_type": "execute_result",
          "data": {
            "text/plain": [
              "179589.96985640272"
            ]
          },
          "metadata": {},
          "execution_count": 130
        }
      ]
    },
    {
      "cell_type": "code",
      "source": [
        "design_8['Price(PC)'].mean()"
      ],
      "metadata": {
        "id": "yXWWLTkIi8-Z",
        "colab": {
          "base_uri": "https://localhost:8080/"
        },
        "outputId": "e5e26fb1-2a31-4edf-b426-49f40f6e388d"
      },
      "execution_count": 131,
      "outputs": [
        {
          "output_type": "execute_result",
          "data": {
            "text/plain": [
              "193102.774730969"
            ]
          },
          "metadata": {},
          "execution_count": 131
        }
      ]
    },
    {
      "cell_type": "code",
      "source": [
        "design_4['Price(Mobile)'].mean()"
      ],
      "metadata": {
        "id": "WUQXbVTSj-FB",
        "colab": {
          "base_uri": "https://localhost:8080/"
        },
        "outputId": "74d25d5b-f22a-4431-a275-55b052994256"
      },
      "execution_count": 132,
      "outputs": [
        {
          "output_type": "execute_result",
          "data": {
            "text/plain": [
              "179589.96985640272"
            ]
          },
          "metadata": {},
          "execution_count": 132
        }
      ]
    },
    {
      "cell_type": "code",
      "source": [
        "design_8['Price(Mobile)'].mean()"
      ],
      "metadata": {
        "id": "cXZNZnGRj-H3",
        "colab": {
          "base_uri": "https://localhost:8080/"
        },
        "outputId": "646dc5e2-f174-4407-8d82-198b845359e5"
      },
      "execution_count": 133,
      "outputs": [
        {
          "output_type": "execute_result",
          "data": {
            "text/plain": [
              "193102.774730969"
            ]
          },
          "metadata": {},
          "execution_count": 133
        }
      ]
    },
    {
      "cell_type": "code",
      "source": [
        "# stats.ttest_ind(design_A,\n",
        "#                 design_B,\n",
        "#                 equal_var=False)\n",
        "# # https://data101.oopy.io/ab-test-python-or-without-code"
      ],
      "metadata": {
        "id": "KsNHD7ViDPDB"
      },
      "execution_count": 134,
      "outputs": []
    },
    {
      "cell_type": "code",
      "source": [
        "# from IPython.core.pylabtools import figsize\n",
        "# from matplotlib import pyplot as plt\n",
        "# from scipy import stats as st \n",
        "# import numpy as np\n",
        "\n",
        "# visit_A = rank_A.sum()\n",
        "# visit_B = rank_B.sum()\n",
        "\n",
        "# conversion_A = Click_A.sum()\n",
        "# conversion_B = Click_B.sum()\n",
        "\n",
        "# alpha = 1\n",
        "# beta  = 1\n",
        "# n_samples = 1000\n",
        "# print(alpha)\n",
        "\n",
        "# posterior_A = st.beta(alpha+conversion_A,beta+visit_A-conversion_A)\n",
        "# posterior_B = st.beta(alpha+conversion_B,beta+visit_B-conversion_B)\n",
        "# posterior_samples_A = st.beta(alpha+conversion_A,beta+visit_A-conversion_A).rvs(n_samples)\n",
        "# posterior_samples_B = st.beta(alpha+conversion_B,beta+visit_B-conversion_B).rvs(n_samples)\n",
        "\n",
        "# # posterior mean \n",
        "# print((posterior_samples_A > posterior_samples_B).mean())"
      ],
      "metadata": {
        "id": "IsUJWOVXDPmm"
      },
      "execution_count": 135,
      "outputs": []
    },
    {
      "cell_type": "code",
      "source": [
        "# # Posterior Dist of A and B\n",
        "# fig,axes = plt.subplots(1,2,figsize=(10,4))\n",
        "# x = np.linspace(0,1,1000)\n",
        "# i=0\n",
        "# for ax in axes:\n",
        "#     ax.plot(x, posterior_A.pdf(x), label = \"posterior of A: Beta(121,1181)\")\n",
        "#     ax.plot(x, posterior_B.pdf(x), label = \"posterior of B: Beta(126,1151)\")\n",
        "#     ax.set_xlabel(\"Value\")\n",
        "#     ax.set_ylabel(\"Density\")\n",
        "#     if i==1:\n",
        "#         ax.set_xlim(0.05, 0.15)\n",
        "#     i+=1\n",
        "# axes[0].legend()"
      ],
      "metadata": {
        "id": "97dSNI7HDPxk"
      },
      "execution_count": 136,
      "outputs": []
    },
    {
      "cell_type": "code",
      "source": [
        "purchase_counts = df.groupby(['group', 'is_purchase']).user_id.count().reset_index()\n"
      ],
      "metadata": {
        "id": "VH3MH6fnaBQQ",
        "colab": {
          "base_uri": "https://localhost:8080/",
          "height": 345
        },
        "outputId": "7f02648f-3e3c-47b5-ba26-88f339f062a6"
      },
      "execution_count": 137,
      "outputs": [
        {
          "output_type": "error",
          "ename": "KeyError",
          "evalue": "ignored",
          "traceback": [
            "\u001b[0;31m---------------------------------------------------------------------------\u001b[0m",
            "\u001b[0;31mKeyError\u001b[0m                                  Traceback (most recent call last)",
            "\u001b[0;32m<ipython-input-137-dd996fcfc99c>\u001b[0m in \u001b[0;36m<module>\u001b[0;34m\u001b[0m\n\u001b[0;32m----> 1\u001b[0;31m \u001b[0mpurchase_counts\u001b[0m \u001b[0;34m=\u001b[0m \u001b[0mdf\u001b[0m\u001b[0;34m.\u001b[0m\u001b[0mgroupby\u001b[0m\u001b[0;34m(\u001b[0m\u001b[0;34m[\u001b[0m\u001b[0;34m'group'\u001b[0m\u001b[0;34m,\u001b[0m \u001b[0;34m'is_purchase'\u001b[0m\u001b[0;34m]\u001b[0m\u001b[0;34m)\u001b[0m\u001b[0;34m.\u001b[0m\u001b[0muser_id\u001b[0m\u001b[0;34m.\u001b[0m\u001b[0mcount\u001b[0m\u001b[0;34m(\u001b[0m\u001b[0;34m)\u001b[0m\u001b[0;34m.\u001b[0m\u001b[0mreset_index\u001b[0m\u001b[0;34m(\u001b[0m\u001b[0;34m)\u001b[0m\u001b[0;34m\u001b[0m\u001b[0;34m\u001b[0m\u001b[0m\n\u001b[0m",
            "\u001b[0;32m/usr/local/lib/python3.8/dist-packages/pandas/core/frame.py\u001b[0m in \u001b[0;36mgroupby\u001b[0;34m(self, by, axis, level, as_index, sort, group_keys, squeeze, observed, dropna)\u001b[0m\n\u001b[1;32m   7629\u001b[0m         \u001b[0;31m# error: Argument \"squeeze\" to \"DataFrameGroupBy\" has incompatible type\u001b[0m\u001b[0;34m\u001b[0m\u001b[0;34m\u001b[0m\u001b[0;34m\u001b[0m\u001b[0m\n\u001b[1;32m   7630\u001b[0m         \u001b[0;31m# \"Union[bool, NoDefault]\"; expected \"bool\"\u001b[0m\u001b[0;34m\u001b[0m\u001b[0;34m\u001b[0m\u001b[0;34m\u001b[0m\u001b[0m\n\u001b[0;32m-> 7631\u001b[0;31m         return DataFrameGroupBy(\n\u001b[0m\u001b[1;32m   7632\u001b[0m             \u001b[0mobj\u001b[0m\u001b[0;34m=\u001b[0m\u001b[0mself\u001b[0m\u001b[0;34m,\u001b[0m\u001b[0;34m\u001b[0m\u001b[0;34m\u001b[0m\u001b[0m\n\u001b[1;32m   7633\u001b[0m             \u001b[0mkeys\u001b[0m\u001b[0;34m=\u001b[0m\u001b[0mby\u001b[0m\u001b[0;34m,\u001b[0m\u001b[0;34m\u001b[0m\u001b[0;34m\u001b[0m\u001b[0m\n",
            "\u001b[0;32m/usr/local/lib/python3.8/dist-packages/pandas/core/groupby/groupby.py\u001b[0m in \u001b[0;36m__init__\u001b[0;34m(self, obj, keys, axis, level, grouper, exclusions, selection, as_index, sort, group_keys, squeeze, observed, mutated, dropna)\u001b[0m\n\u001b[1;32m    887\u001b[0m             \u001b[0;32mfrom\u001b[0m \u001b[0mpandas\u001b[0m\u001b[0;34m.\u001b[0m\u001b[0mcore\u001b[0m\u001b[0;34m.\u001b[0m\u001b[0mgroupby\u001b[0m\u001b[0;34m.\u001b[0m\u001b[0mgrouper\u001b[0m \u001b[0;32mimport\u001b[0m \u001b[0mget_grouper\u001b[0m\u001b[0;34m\u001b[0m\u001b[0;34m\u001b[0m\u001b[0m\n\u001b[1;32m    888\u001b[0m \u001b[0;34m\u001b[0m\u001b[0m\n\u001b[0;32m--> 889\u001b[0;31m             grouper, exclusions, obj = get_grouper(\n\u001b[0m\u001b[1;32m    890\u001b[0m                 \u001b[0mobj\u001b[0m\u001b[0;34m,\u001b[0m\u001b[0;34m\u001b[0m\u001b[0;34m\u001b[0m\u001b[0m\n\u001b[1;32m    891\u001b[0m                 \u001b[0mkeys\u001b[0m\u001b[0;34m,\u001b[0m\u001b[0;34m\u001b[0m\u001b[0;34m\u001b[0m\u001b[0m\n",
            "\u001b[0;32m/usr/local/lib/python3.8/dist-packages/pandas/core/groupby/grouper.py\u001b[0m in \u001b[0;36mget_grouper\u001b[0;34m(obj, key, axis, level, sort, observed, mutated, validate, dropna)\u001b[0m\n\u001b[1;32m    860\u001b[0m                 \u001b[0min_axis\u001b[0m\u001b[0;34m,\u001b[0m \u001b[0mlevel\u001b[0m\u001b[0;34m,\u001b[0m \u001b[0mgpr\u001b[0m \u001b[0;34m=\u001b[0m \u001b[0;32mFalse\u001b[0m\u001b[0;34m,\u001b[0m \u001b[0mgpr\u001b[0m\u001b[0;34m,\u001b[0m \u001b[0;32mNone\u001b[0m\u001b[0;34m\u001b[0m\u001b[0;34m\u001b[0m\u001b[0m\n\u001b[1;32m    861\u001b[0m             \u001b[0;32melse\u001b[0m\u001b[0;34m:\u001b[0m\u001b[0;34m\u001b[0m\u001b[0;34m\u001b[0m\u001b[0m\n\u001b[0;32m--> 862\u001b[0;31m                 \u001b[0;32mraise\u001b[0m \u001b[0mKeyError\u001b[0m\u001b[0;34m(\u001b[0m\u001b[0mgpr\u001b[0m\u001b[0;34m)\u001b[0m\u001b[0;34m\u001b[0m\u001b[0;34m\u001b[0m\u001b[0m\n\u001b[0m\u001b[1;32m    863\u001b[0m         \u001b[0;32melif\u001b[0m \u001b[0misinstance\u001b[0m\u001b[0;34m(\u001b[0m\u001b[0mgpr\u001b[0m\u001b[0;34m,\u001b[0m \u001b[0mGrouper\u001b[0m\u001b[0;34m)\u001b[0m \u001b[0;32mand\u001b[0m \u001b[0mgpr\u001b[0m\u001b[0;34m.\u001b[0m\u001b[0mkey\u001b[0m \u001b[0;32mis\u001b[0m \u001b[0;32mnot\u001b[0m \u001b[0;32mNone\u001b[0m\u001b[0;34m:\u001b[0m\u001b[0;34m\u001b[0m\u001b[0;34m\u001b[0m\u001b[0m\n\u001b[1;32m    864\u001b[0m             \u001b[0;31m# Add key to exclusions\u001b[0m\u001b[0;34m\u001b[0m\u001b[0;34m\u001b[0m\u001b[0;34m\u001b[0m\u001b[0m\n",
            "\u001b[0;31mKeyError\u001b[0m: 'group'"
          ]
        }
      ]
    },
    {
      "cell_type": "code",
      "source": [
        "Cost_A= design_A['Cost']\n",
        "Cost_A.sum()\n",
        "print(rank_A.sum())"
      ],
      "metadata": {
        "id": "Pm8zuWSThk6o"
      },
      "execution_count": null,
      "outputs": []
    },
    {
      "cell_type": "code",
      "source": [
        "Cost_B= design_B['Cost']\n",
        "Cost_B.sum()"
      ],
      "metadata": {
        "id": "5ItYOVLriDRP"
      },
      "execution_count": null,
      "outputs": []
    },
    {
      "cell_type": "code",
      "source": [
        "from IPython.core.pylabtools import figsize\n",
        "from matplotlib import pyplot as plt\n",
        "from scipy import stats as st \n",
        "import numpy as np\n",
        "\n",
        "visit_A = rank_A.sum()\n",
        "visit_B = rank_B.sum()\n",
        "\n",
        "conversion_A = Cost_A.sum()\n",
        "conversion_B = Cost_B.sum()\n",
        "\n",
        "alpha = 1\n",
        "beta  = 1\n",
        "n_samples = 1000\n",
        "print(alpha)\n",
        "\n",
        "posterior_A = st.beta(alpha+conversion_A,beta+visit_A-conversion_A)\n",
        "posterior_B = st.beta(alpha+conversion_B,beta+visit_B-conversion_B)\n",
        "posterior_samples_A = st.beta(alpha+conversion_A,beta+visit_A-conversion_A).rvs(n_samples)\n",
        "posterior_samples_B = st.beta(alpha+conversion_B,beta+visit_B-conversion_B).rvs(n_samples)\n",
        "\n",
        "# posterior mean \n",
        "print((posterior_samples_A > posterior_samples_B).mean())"
      ],
      "metadata": {
        "id": "Nbrz4sYtiKQF"
      },
      "execution_count": null,
      "outputs": []
    },
    {
      "cell_type": "code",
      "source": [],
      "metadata": {
        "id": "wmRj-9jhioft"
      },
      "execution_count": null,
      "outputs": []
    }
  ]
}