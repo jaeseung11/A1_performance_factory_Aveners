{
  "nbformat": 4,
  "nbformat_minor": 0,
  "metadata": {
    "colab": {
      "provenance": [],
      "authorship_tag": "ABX9TyMuDynU4PKig/5Ra7fTAh9y",
      "include_colab_link": true
    },
    "kernelspec": {
      "name": "python3",
      "display_name": "Python 3"
    },
    "language_info": {
      "name": "python"
    },
    "accelerator": "GPU",
    "gpuClass": "standard"
  },
  "cells": [
    {
      "cell_type": "markdown",
      "metadata": {
        "id": "view-in-github",
        "colab_type": "text"
      },
      "source": [
        "<a href=\"https://colab.research.google.com/github/rapu34/A1_performance_factory_Aveners/blob/main/A_B_Test.ipynb\" target=\"_parent\"><img src=\"https://colab.research.google.com/assets/colab-badge.svg\" alt=\"Open In Colab\"/></a>"
      ]
    },
    {
      "cell_type": "code",
      "execution_count": 1,
      "metadata": {
        "id": "O-9gwDXpOF5A"
      },
      "outputs": [],
      "source": [
        "import pandas as pd\n",
        "import numpy as np\n",
        "import matplotlib.pyplot as plt\n",
        "\n",
        "import seaborn as sns\n",
        "from sklearn.preprocessing import LabelEncoder\n",
        "import lightgbm as lgb\n",
        "import gc"
      ]
    },
    {
      "cell_type": "code",
      "source": [
        "from google.colab import drive\n",
        "drive.mount('/content/drive')"
      ],
      "metadata": {
        "colab": {
          "base_uri": "https://localhost:8080/"
        },
        "id": "un_zwA15OOUF",
        "outputId": "e4e2eb8e-93bd-4c53-d7bf-254f671be3e5"
      },
      "execution_count": 2,
      "outputs": [
        {
          "output_type": "stream",
          "name": "stdout",
          "text": [
            "Drive already mounted at /content/drive; to attempt to forcibly remount, call drive.mount(\"/content/drive\", force_remount=True).\n"
          ]
        }
      ]
    },
    {
      "cell_type": "code",
      "source": [
        "bidding = pd.read_csv(\"/content/drive/MyDrive/A1project/bidding_result.csv\", encoding='UTF8')"
      ],
      "metadata": {
        "id": "Lc3MYs5qOOWu"
      },
      "execution_count": 3,
      "outputs": []
    },
    {
      "cell_type": "code",
      "source": [
        "indexs = list(set(bidding['index'].to_list()))\n",
        "print(len(indexs))"
      ],
      "metadata": {
        "colab": {
          "base_uri": "https://localhost:8080/"
        },
        "id": "eIz_5UcYo1q5",
        "outputId": "dbdfa882-168d-42f8-ea8b-9ec87c9f4cdd"
      },
      "execution_count": 4,
      "outputs": [
        {
          "output_type": "stream",
          "name": "stdout",
          "text": [
            "48896\n"
          ]
        }
      ]
    },
    {
      "cell_type": "code",
      "source": [
        "idx_distinct_df = bidding.drop_duplicates(['index'])\n",
        "idx_distinct_df"
      ],
      "metadata": {
        "colab": {
          "base_uri": "https://localhost:8080/",
          "height": 423
        },
        "id": "g_dLQAhAo4vo",
        "outputId": "8a3d0bd2-8978-435a-e867-c4e2d0a8386b"
      },
      "execution_count": 5,
      "outputs": [
        {
          "output_type": "execute_result",
          "data": {
            "text/plain": [
              "           index  Impression  Click   Cost  Sum of AD rank  Bid  Price(PC)  \\\n",
              "0        3575092           3      0    0.0        3.000000   50     165900   \n",
              "1        3575637           6      0    0.0        3.333333   50      10900   \n",
              "2        4129259           7      0    0.0        8.000000   50     255000   \n",
              "3        4131479          36      3  150.0        4.416667  140     190000   \n",
              "4        4131482         224      0    0.0        5.696429   50     129000   \n",
              "...          ...         ...    ...    ...             ...  ...        ...   \n",
              "1337083  2566795           5      0    0.0       13.200000  500      19900   \n",
              "1337084  2566880           3      0    0.0       17.000000  500      23900   \n",
              "1337085  2566881           1      0    0.0        8.000000  500       2500   \n",
              "1337086  2566891           2      0    0.0        4.000000  500      21000   \n",
              "1337087  2566923          14      0    0.0       12.428571  500     128800   \n",
              "\n",
              "         Price(Mobile)  Delivery Fee Category Name 1 Category Name 2  \\\n",
              "0               165900             0         가구/인테리어            침실가구   \n",
              "1                10900             0         가구/인테리어          인테리어소품   \n",
              "2               255000            -1         가구/인테리어            거실가구   \n",
              "3               190000         20000         가구/인테리어        아동/주니어가구   \n",
              "4               129000             0         가구/인테리어        아동/주니어가구   \n",
              "...                ...           ...             ...             ...   \n",
              "1337083          19900             0         가구/인테리어          인테리어소품   \n",
              "1337084          23900          3000           생활/건강         문구/사무용품   \n",
              "1337085           2500          3000         가구/인테리어          인테리어소품   \n",
              "1337086          21000          3000           생활/건강         정원/원예용품   \n",
              "1337087         128800             0         가구/인테리어          인테리어소품   \n",
              "\n",
              "        Category Name 3 Category Name 4      date  \n",
              "0               장롱/붙박이장            드레스룸  20221031  \n",
              "1              아로마/캔들용품      아로마방향제/디퓨저  20221031  \n",
              "2                    소파           패브릭소파  20221031  \n",
              "3                책상의자세트             NaN  20221031  \n",
              "4                    책상             NaN  20221031  \n",
              "...                 ...             ...       ...  \n",
              "1337083        아로마/캔들용품      아로마방향제/디퓨저  20230103  \n",
              "1337084        이벤트/파티용품            데코용품  20230103  \n",
              "1337085          기타장식용품             NaN  20230103  \n",
              "1337086            화분받침             NaN  20230103  \n",
              "1337087              액자      퍼즐/그림/사진액자  20230103  \n",
              "\n",
              "[48896 rows x 14 columns]"
            ],
            "text/html": [
              "\n",
              "  <div id=\"df-61cd3af8-6135-425a-b0fb-a46d1f05e7cf\">\n",
              "    <div class=\"colab-df-container\">\n",
              "      <div>\n",
              "<style scoped>\n",
              "    .dataframe tbody tr th:only-of-type {\n",
              "        vertical-align: middle;\n",
              "    }\n",
              "\n",
              "    .dataframe tbody tr th {\n",
              "        vertical-align: top;\n",
              "    }\n",
              "\n",
              "    .dataframe thead th {\n",
              "        text-align: right;\n",
              "    }\n",
              "</style>\n",
              "<table border=\"1\" class=\"dataframe\">\n",
              "  <thead>\n",
              "    <tr style=\"text-align: right;\">\n",
              "      <th></th>\n",
              "      <th>index</th>\n",
              "      <th>Impression</th>\n",
              "      <th>Click</th>\n",
              "      <th>Cost</th>\n",
              "      <th>Sum of AD rank</th>\n",
              "      <th>Bid</th>\n",
              "      <th>Price(PC)</th>\n",
              "      <th>Price(Mobile)</th>\n",
              "      <th>Delivery Fee</th>\n",
              "      <th>Category Name 1</th>\n",
              "      <th>Category Name 2</th>\n",
              "      <th>Category Name 3</th>\n",
              "      <th>Category Name 4</th>\n",
              "      <th>date</th>\n",
              "    </tr>\n",
              "  </thead>\n",
              "  <tbody>\n",
              "    <tr>\n",
              "      <th>0</th>\n",
              "      <td>3575092</td>\n",
              "      <td>3</td>\n",
              "      <td>0</td>\n",
              "      <td>0.0</td>\n",
              "      <td>3.000000</td>\n",
              "      <td>50</td>\n",
              "      <td>165900</td>\n",
              "      <td>165900</td>\n",
              "      <td>0</td>\n",
              "      <td>가구/인테리어</td>\n",
              "      <td>침실가구</td>\n",
              "      <td>장롱/붙박이장</td>\n",
              "      <td>드레스룸</td>\n",
              "      <td>20221031</td>\n",
              "    </tr>\n",
              "    <tr>\n",
              "      <th>1</th>\n",
              "      <td>3575637</td>\n",
              "      <td>6</td>\n",
              "      <td>0</td>\n",
              "      <td>0.0</td>\n",
              "      <td>3.333333</td>\n",
              "      <td>50</td>\n",
              "      <td>10900</td>\n",
              "      <td>10900</td>\n",
              "      <td>0</td>\n",
              "      <td>가구/인테리어</td>\n",
              "      <td>인테리어소품</td>\n",
              "      <td>아로마/캔들용품</td>\n",
              "      <td>아로마방향제/디퓨저</td>\n",
              "      <td>20221031</td>\n",
              "    </tr>\n",
              "    <tr>\n",
              "      <th>2</th>\n",
              "      <td>4129259</td>\n",
              "      <td>7</td>\n",
              "      <td>0</td>\n",
              "      <td>0.0</td>\n",
              "      <td>8.000000</td>\n",
              "      <td>50</td>\n",
              "      <td>255000</td>\n",
              "      <td>255000</td>\n",
              "      <td>-1</td>\n",
              "      <td>가구/인테리어</td>\n",
              "      <td>거실가구</td>\n",
              "      <td>소파</td>\n",
              "      <td>패브릭소파</td>\n",
              "      <td>20221031</td>\n",
              "    </tr>\n",
              "    <tr>\n",
              "      <th>3</th>\n",
              "      <td>4131479</td>\n",
              "      <td>36</td>\n",
              "      <td>3</td>\n",
              "      <td>150.0</td>\n",
              "      <td>4.416667</td>\n",
              "      <td>140</td>\n",
              "      <td>190000</td>\n",
              "      <td>190000</td>\n",
              "      <td>20000</td>\n",
              "      <td>가구/인테리어</td>\n",
              "      <td>아동/주니어가구</td>\n",
              "      <td>책상의자세트</td>\n",
              "      <td>NaN</td>\n",
              "      <td>20221031</td>\n",
              "    </tr>\n",
              "    <tr>\n",
              "      <th>4</th>\n",
              "      <td>4131482</td>\n",
              "      <td>224</td>\n",
              "      <td>0</td>\n",
              "      <td>0.0</td>\n",
              "      <td>5.696429</td>\n",
              "      <td>50</td>\n",
              "      <td>129000</td>\n",
              "      <td>129000</td>\n",
              "      <td>0</td>\n",
              "      <td>가구/인테리어</td>\n",
              "      <td>아동/주니어가구</td>\n",
              "      <td>책상</td>\n",
              "      <td>NaN</td>\n",
              "      <td>20221031</td>\n",
              "    </tr>\n",
              "    <tr>\n",
              "      <th>...</th>\n",
              "      <td>...</td>\n",
              "      <td>...</td>\n",
              "      <td>...</td>\n",
              "      <td>...</td>\n",
              "      <td>...</td>\n",
              "      <td>...</td>\n",
              "      <td>...</td>\n",
              "      <td>...</td>\n",
              "      <td>...</td>\n",
              "      <td>...</td>\n",
              "      <td>...</td>\n",
              "      <td>...</td>\n",
              "      <td>...</td>\n",
              "      <td>...</td>\n",
              "    </tr>\n",
              "    <tr>\n",
              "      <th>1337083</th>\n",
              "      <td>2566795</td>\n",
              "      <td>5</td>\n",
              "      <td>0</td>\n",
              "      <td>0.0</td>\n",
              "      <td>13.200000</td>\n",
              "      <td>500</td>\n",
              "      <td>19900</td>\n",
              "      <td>19900</td>\n",
              "      <td>0</td>\n",
              "      <td>가구/인테리어</td>\n",
              "      <td>인테리어소품</td>\n",
              "      <td>아로마/캔들용품</td>\n",
              "      <td>아로마방향제/디퓨저</td>\n",
              "      <td>20230103</td>\n",
              "    </tr>\n",
              "    <tr>\n",
              "      <th>1337084</th>\n",
              "      <td>2566880</td>\n",
              "      <td>3</td>\n",
              "      <td>0</td>\n",
              "      <td>0.0</td>\n",
              "      <td>17.000000</td>\n",
              "      <td>500</td>\n",
              "      <td>23900</td>\n",
              "      <td>23900</td>\n",
              "      <td>3000</td>\n",
              "      <td>생활/건강</td>\n",
              "      <td>문구/사무용품</td>\n",
              "      <td>이벤트/파티용품</td>\n",
              "      <td>데코용품</td>\n",
              "      <td>20230103</td>\n",
              "    </tr>\n",
              "    <tr>\n",
              "      <th>1337085</th>\n",
              "      <td>2566881</td>\n",
              "      <td>1</td>\n",
              "      <td>0</td>\n",
              "      <td>0.0</td>\n",
              "      <td>8.000000</td>\n",
              "      <td>500</td>\n",
              "      <td>2500</td>\n",
              "      <td>2500</td>\n",
              "      <td>3000</td>\n",
              "      <td>가구/인테리어</td>\n",
              "      <td>인테리어소품</td>\n",
              "      <td>기타장식용품</td>\n",
              "      <td>NaN</td>\n",
              "      <td>20230103</td>\n",
              "    </tr>\n",
              "    <tr>\n",
              "      <th>1337086</th>\n",
              "      <td>2566891</td>\n",
              "      <td>2</td>\n",
              "      <td>0</td>\n",
              "      <td>0.0</td>\n",
              "      <td>4.000000</td>\n",
              "      <td>500</td>\n",
              "      <td>21000</td>\n",
              "      <td>21000</td>\n",
              "      <td>3000</td>\n",
              "      <td>생활/건강</td>\n",
              "      <td>정원/원예용품</td>\n",
              "      <td>화분받침</td>\n",
              "      <td>NaN</td>\n",
              "      <td>20230103</td>\n",
              "    </tr>\n",
              "    <tr>\n",
              "      <th>1337087</th>\n",
              "      <td>2566923</td>\n",
              "      <td>14</td>\n",
              "      <td>0</td>\n",
              "      <td>0.0</td>\n",
              "      <td>12.428571</td>\n",
              "      <td>500</td>\n",
              "      <td>128800</td>\n",
              "      <td>128800</td>\n",
              "      <td>0</td>\n",
              "      <td>가구/인테리어</td>\n",
              "      <td>인테리어소품</td>\n",
              "      <td>액자</td>\n",
              "      <td>퍼즐/그림/사진액자</td>\n",
              "      <td>20230103</td>\n",
              "    </tr>\n",
              "  </tbody>\n",
              "</table>\n",
              "<p>48896 rows × 14 columns</p>\n",
              "</div>\n",
              "      <button class=\"colab-df-convert\" onclick=\"convertToInteractive('df-61cd3af8-6135-425a-b0fb-a46d1f05e7cf')\"\n",
              "              title=\"Convert this dataframe to an interactive table.\"\n",
              "              style=\"display:none;\">\n",
              "        \n",
              "  <svg xmlns=\"http://www.w3.org/2000/svg\" height=\"24px\"viewBox=\"0 0 24 24\"\n",
              "       width=\"24px\">\n",
              "    <path d=\"M0 0h24v24H0V0z\" fill=\"none\"/>\n",
              "    <path d=\"M18.56 5.44l.94 2.06.94-2.06 2.06-.94-2.06-.94-.94-2.06-.94 2.06-2.06.94zm-11 1L8.5 8.5l.94-2.06 2.06-.94-2.06-.94L8.5 2.5l-.94 2.06-2.06.94zm10 10l.94 2.06.94-2.06 2.06-.94-2.06-.94-.94-2.06-.94 2.06-2.06.94z\"/><path d=\"M17.41 7.96l-1.37-1.37c-.4-.4-.92-.59-1.43-.59-.52 0-1.04.2-1.43.59L10.3 9.45l-7.72 7.72c-.78.78-.78 2.05 0 2.83L4 21.41c.39.39.9.59 1.41.59.51 0 1.02-.2 1.41-.59l7.78-7.78 2.81-2.81c.8-.78.8-2.07 0-2.86zM5.41 20L4 18.59l7.72-7.72 1.47 1.35L5.41 20z\"/>\n",
              "  </svg>\n",
              "      </button>\n",
              "      \n",
              "  <style>\n",
              "    .colab-df-container {\n",
              "      display:flex;\n",
              "      flex-wrap:wrap;\n",
              "      gap: 12px;\n",
              "    }\n",
              "\n",
              "    .colab-df-convert {\n",
              "      background-color: #E8F0FE;\n",
              "      border: none;\n",
              "      border-radius: 50%;\n",
              "      cursor: pointer;\n",
              "      display: none;\n",
              "      fill: #1967D2;\n",
              "      height: 32px;\n",
              "      padding: 0 0 0 0;\n",
              "      width: 32px;\n",
              "    }\n",
              "\n",
              "    .colab-df-convert:hover {\n",
              "      background-color: #E2EBFA;\n",
              "      box-shadow: 0px 1px 2px rgba(60, 64, 67, 0.3), 0px 1px 3px 1px rgba(60, 64, 67, 0.15);\n",
              "      fill: #174EA6;\n",
              "    }\n",
              "\n",
              "    [theme=dark] .colab-df-convert {\n",
              "      background-color: #3B4455;\n",
              "      fill: #D2E3FC;\n",
              "    }\n",
              "\n",
              "    [theme=dark] .colab-df-convert:hover {\n",
              "      background-color: #434B5C;\n",
              "      box-shadow: 0px 1px 3px 1px rgba(0, 0, 0, 0.15);\n",
              "      filter: drop-shadow(0px 1px 2px rgba(0, 0, 0, 0.3));\n",
              "      fill: #FFFFFF;\n",
              "    }\n",
              "  </style>\n",
              "\n",
              "      <script>\n",
              "        const buttonEl =\n",
              "          document.querySelector('#df-61cd3af8-6135-425a-b0fb-a46d1f05e7cf button.colab-df-convert');\n",
              "        buttonEl.style.display =\n",
              "          google.colab.kernel.accessAllowed ? 'block' : 'none';\n",
              "\n",
              "        async function convertToInteractive(key) {\n",
              "          const element = document.querySelector('#df-61cd3af8-6135-425a-b0fb-a46d1f05e7cf');\n",
              "          const dataTable =\n",
              "            await google.colab.kernel.invokeFunction('convertToInteractive',\n",
              "                                                     [key], {});\n",
              "          if (!dataTable) return;\n",
              "\n",
              "          const docLinkHtml = 'Like what you see? Visit the ' +\n",
              "            '<a target=\"_blank\" href=https://colab.research.google.com/notebooks/data_table.ipynb>data table notebook</a>'\n",
              "            + ' to learn more about interactive tables.';\n",
              "          element.innerHTML = '';\n",
              "          dataTable['output_type'] = 'display_data';\n",
              "          await google.colab.output.renderOutput(dataTable, element);\n",
              "          const docLink = document.createElement('div');\n",
              "          docLink.innerHTML = docLinkHtml;\n",
              "          element.appendChild(docLink);\n",
              "        }\n",
              "      </script>\n",
              "    </div>\n",
              "  </div>\n",
              "  "
            ]
          },
          "metadata": {},
          "execution_count": 5
        }
      ]
    },
    {
      "cell_type": "code",
      "source": [
        "bidding['Sum of AD rank'] = bidding['Sum of AD rank'].round(0)\n",
        "bidding['Sum of AD rank'] # rank 살리자 -가설: 특정 rank 구간에 click 까지만 유의미한 결과가 나타났다. \n",
        "#확인 2-4등일때 click 이 가장 많음\n",
        "# 여성 상품의 경우 유의미한 순위 확인"
      ],
      "metadata": {
        "colab": {
          "base_uri": "https://localhost:8080/"
        },
        "id": "0SkOlRgvQQGS",
        "outputId": "f9386850-182c-4b90-f22f-9f2d131955fd"
      },
      "execution_count": 6,
      "outputs": [
        {
          "output_type": "execute_result",
          "data": {
            "text/plain": [
              "0           3.0\n",
              "1           3.0\n",
              "2           8.0\n",
              "3           4.0\n",
              "4           6.0\n",
              "           ... \n",
              "1337083    13.0\n",
              "1337084    17.0\n",
              "1337085     8.0\n",
              "1337086     4.0\n",
              "1337087    12.0\n",
              "Name: Sum of AD rank, Length: 1337088, dtype: float64"
            ]
          },
          "metadata": {},
          "execution_count": 6
        }
      ]
    },
    {
      "cell_type": "code",
      "source": [
        "# 날짜 데이터 테이트타임으로 바꾸기\n",
        "def _trans_date_time(bidding):\n",
        "    bidding.index = pd.to_datetime(bidding['date'], format='%Y%m%d')\n",
        "    bidding.drop('date', axis=1, inplace=True)\n",
        "    return bidding"
      ],
      "metadata": {
        "id": "bo_E9aN4OOZE"
      },
      "execution_count": 7,
      "outputs": []
    },
    {
      "cell_type": "code",
      "source": [
        "_trans_date_time(bidding)\n"
      ],
      "metadata": {
        "colab": {
          "base_uri": "https://localhost:8080/",
          "height": 455
        },
        "id": "sxabPF06OOa-",
        "outputId": "f41fd375-af07-4b02-8a78-3fc5a53856ff"
      },
      "execution_count": 8,
      "outputs": [
        {
          "output_type": "execute_result",
          "data": {
            "text/plain": [
              "              index  Impression  Click   Cost  Sum of AD rank  Bid  Price(PC)  \\\n",
              "date                                                                            \n",
              "2022-10-31  3575092           3      0    0.0             3.0   50     165900   \n",
              "2022-10-31  3575637           6      0    0.0             3.0   50      10900   \n",
              "2022-10-31  4129259           7      0    0.0             8.0   50     255000   \n",
              "2022-10-31  4131479          36      3  150.0             4.0  140     190000   \n",
              "2022-10-31  4131482         224      0    0.0             6.0   50     129000   \n",
              "...             ...         ...    ...    ...             ...  ...        ...   \n",
              "2023-01-03  2566795           5      0    0.0            13.0  500      19900   \n",
              "2023-01-03  2566880           3      0    0.0            17.0  500      23900   \n",
              "2023-01-03  2566881           1      0    0.0             8.0  500       2500   \n",
              "2023-01-03  2566891           2      0    0.0             4.0  500      21000   \n",
              "2023-01-03  2566923          14      0    0.0            12.0  500     128800   \n",
              "\n",
              "            Price(Mobile)  Delivery Fee Category Name 1 Category Name 2  \\\n",
              "date                                                                      \n",
              "2022-10-31         165900             0         가구/인테리어            침실가구   \n",
              "2022-10-31          10900             0         가구/인테리어          인테리어소품   \n",
              "2022-10-31         255000            -1         가구/인테리어            거실가구   \n",
              "2022-10-31         190000         20000         가구/인테리어        아동/주니어가구   \n",
              "2022-10-31         129000             0         가구/인테리어        아동/주니어가구   \n",
              "...                   ...           ...             ...             ...   \n",
              "2023-01-03          19900             0         가구/인테리어          인테리어소품   \n",
              "2023-01-03          23900          3000           생활/건강         문구/사무용품   \n",
              "2023-01-03           2500          3000         가구/인테리어          인테리어소품   \n",
              "2023-01-03          21000          3000           생활/건강         정원/원예용품   \n",
              "2023-01-03         128800             0         가구/인테리어          인테리어소품   \n",
              "\n",
              "           Category Name 3 Category Name 4  \n",
              "date                                        \n",
              "2022-10-31         장롱/붙박이장            드레스룸  \n",
              "2022-10-31        아로마/캔들용품      아로마방향제/디퓨저  \n",
              "2022-10-31              소파           패브릭소파  \n",
              "2022-10-31          책상의자세트             NaN  \n",
              "2022-10-31              책상             NaN  \n",
              "...                    ...             ...  \n",
              "2023-01-03        아로마/캔들용품      아로마방향제/디퓨저  \n",
              "2023-01-03        이벤트/파티용품            데코용품  \n",
              "2023-01-03          기타장식용품             NaN  \n",
              "2023-01-03            화분받침             NaN  \n",
              "2023-01-03              액자      퍼즐/그림/사진액자  \n",
              "\n",
              "[1337088 rows x 13 columns]"
            ],
            "text/html": [
              "\n",
              "  <div id=\"df-c596e2fd-8ca7-4510-9edf-2725224df292\">\n",
              "    <div class=\"colab-df-container\">\n",
              "      <div>\n",
              "<style scoped>\n",
              "    .dataframe tbody tr th:only-of-type {\n",
              "        vertical-align: middle;\n",
              "    }\n",
              "\n",
              "    .dataframe tbody tr th {\n",
              "        vertical-align: top;\n",
              "    }\n",
              "\n",
              "    .dataframe thead th {\n",
              "        text-align: right;\n",
              "    }\n",
              "</style>\n",
              "<table border=\"1\" class=\"dataframe\">\n",
              "  <thead>\n",
              "    <tr style=\"text-align: right;\">\n",
              "      <th></th>\n",
              "      <th>index</th>\n",
              "      <th>Impression</th>\n",
              "      <th>Click</th>\n",
              "      <th>Cost</th>\n",
              "      <th>Sum of AD rank</th>\n",
              "      <th>Bid</th>\n",
              "      <th>Price(PC)</th>\n",
              "      <th>Price(Mobile)</th>\n",
              "      <th>Delivery Fee</th>\n",
              "      <th>Category Name 1</th>\n",
              "      <th>Category Name 2</th>\n",
              "      <th>Category Name 3</th>\n",
              "      <th>Category Name 4</th>\n",
              "    </tr>\n",
              "    <tr>\n",
              "      <th>date</th>\n",
              "      <th></th>\n",
              "      <th></th>\n",
              "      <th></th>\n",
              "      <th></th>\n",
              "      <th></th>\n",
              "      <th></th>\n",
              "      <th></th>\n",
              "      <th></th>\n",
              "      <th></th>\n",
              "      <th></th>\n",
              "      <th></th>\n",
              "      <th></th>\n",
              "      <th></th>\n",
              "    </tr>\n",
              "  </thead>\n",
              "  <tbody>\n",
              "    <tr>\n",
              "      <th>2022-10-31</th>\n",
              "      <td>3575092</td>\n",
              "      <td>3</td>\n",
              "      <td>0</td>\n",
              "      <td>0.0</td>\n",
              "      <td>3.0</td>\n",
              "      <td>50</td>\n",
              "      <td>165900</td>\n",
              "      <td>165900</td>\n",
              "      <td>0</td>\n",
              "      <td>가구/인테리어</td>\n",
              "      <td>침실가구</td>\n",
              "      <td>장롱/붙박이장</td>\n",
              "      <td>드레스룸</td>\n",
              "    </tr>\n",
              "    <tr>\n",
              "      <th>2022-10-31</th>\n",
              "      <td>3575637</td>\n",
              "      <td>6</td>\n",
              "      <td>0</td>\n",
              "      <td>0.0</td>\n",
              "      <td>3.0</td>\n",
              "      <td>50</td>\n",
              "      <td>10900</td>\n",
              "      <td>10900</td>\n",
              "      <td>0</td>\n",
              "      <td>가구/인테리어</td>\n",
              "      <td>인테리어소품</td>\n",
              "      <td>아로마/캔들용품</td>\n",
              "      <td>아로마방향제/디퓨저</td>\n",
              "    </tr>\n",
              "    <tr>\n",
              "      <th>2022-10-31</th>\n",
              "      <td>4129259</td>\n",
              "      <td>7</td>\n",
              "      <td>0</td>\n",
              "      <td>0.0</td>\n",
              "      <td>8.0</td>\n",
              "      <td>50</td>\n",
              "      <td>255000</td>\n",
              "      <td>255000</td>\n",
              "      <td>-1</td>\n",
              "      <td>가구/인테리어</td>\n",
              "      <td>거실가구</td>\n",
              "      <td>소파</td>\n",
              "      <td>패브릭소파</td>\n",
              "    </tr>\n",
              "    <tr>\n",
              "      <th>2022-10-31</th>\n",
              "      <td>4131479</td>\n",
              "      <td>36</td>\n",
              "      <td>3</td>\n",
              "      <td>150.0</td>\n",
              "      <td>4.0</td>\n",
              "      <td>140</td>\n",
              "      <td>190000</td>\n",
              "      <td>190000</td>\n",
              "      <td>20000</td>\n",
              "      <td>가구/인테리어</td>\n",
              "      <td>아동/주니어가구</td>\n",
              "      <td>책상의자세트</td>\n",
              "      <td>NaN</td>\n",
              "    </tr>\n",
              "    <tr>\n",
              "      <th>2022-10-31</th>\n",
              "      <td>4131482</td>\n",
              "      <td>224</td>\n",
              "      <td>0</td>\n",
              "      <td>0.0</td>\n",
              "      <td>6.0</td>\n",
              "      <td>50</td>\n",
              "      <td>129000</td>\n",
              "      <td>129000</td>\n",
              "      <td>0</td>\n",
              "      <td>가구/인테리어</td>\n",
              "      <td>아동/주니어가구</td>\n",
              "      <td>책상</td>\n",
              "      <td>NaN</td>\n",
              "    </tr>\n",
              "    <tr>\n",
              "      <th>...</th>\n",
              "      <td>...</td>\n",
              "      <td>...</td>\n",
              "      <td>...</td>\n",
              "      <td>...</td>\n",
              "      <td>...</td>\n",
              "      <td>...</td>\n",
              "      <td>...</td>\n",
              "      <td>...</td>\n",
              "      <td>...</td>\n",
              "      <td>...</td>\n",
              "      <td>...</td>\n",
              "      <td>...</td>\n",
              "      <td>...</td>\n",
              "    </tr>\n",
              "    <tr>\n",
              "      <th>2023-01-03</th>\n",
              "      <td>2566795</td>\n",
              "      <td>5</td>\n",
              "      <td>0</td>\n",
              "      <td>0.0</td>\n",
              "      <td>13.0</td>\n",
              "      <td>500</td>\n",
              "      <td>19900</td>\n",
              "      <td>19900</td>\n",
              "      <td>0</td>\n",
              "      <td>가구/인테리어</td>\n",
              "      <td>인테리어소품</td>\n",
              "      <td>아로마/캔들용품</td>\n",
              "      <td>아로마방향제/디퓨저</td>\n",
              "    </tr>\n",
              "    <tr>\n",
              "      <th>2023-01-03</th>\n",
              "      <td>2566880</td>\n",
              "      <td>3</td>\n",
              "      <td>0</td>\n",
              "      <td>0.0</td>\n",
              "      <td>17.0</td>\n",
              "      <td>500</td>\n",
              "      <td>23900</td>\n",
              "      <td>23900</td>\n",
              "      <td>3000</td>\n",
              "      <td>생활/건강</td>\n",
              "      <td>문구/사무용품</td>\n",
              "      <td>이벤트/파티용품</td>\n",
              "      <td>데코용품</td>\n",
              "    </tr>\n",
              "    <tr>\n",
              "      <th>2023-01-03</th>\n",
              "      <td>2566881</td>\n",
              "      <td>1</td>\n",
              "      <td>0</td>\n",
              "      <td>0.0</td>\n",
              "      <td>8.0</td>\n",
              "      <td>500</td>\n",
              "      <td>2500</td>\n",
              "      <td>2500</td>\n",
              "      <td>3000</td>\n",
              "      <td>가구/인테리어</td>\n",
              "      <td>인테리어소품</td>\n",
              "      <td>기타장식용품</td>\n",
              "      <td>NaN</td>\n",
              "    </tr>\n",
              "    <tr>\n",
              "      <th>2023-01-03</th>\n",
              "      <td>2566891</td>\n",
              "      <td>2</td>\n",
              "      <td>0</td>\n",
              "      <td>0.0</td>\n",
              "      <td>4.0</td>\n",
              "      <td>500</td>\n",
              "      <td>21000</td>\n",
              "      <td>21000</td>\n",
              "      <td>3000</td>\n",
              "      <td>생활/건강</td>\n",
              "      <td>정원/원예용품</td>\n",
              "      <td>화분받침</td>\n",
              "      <td>NaN</td>\n",
              "    </tr>\n",
              "    <tr>\n",
              "      <th>2023-01-03</th>\n",
              "      <td>2566923</td>\n",
              "      <td>14</td>\n",
              "      <td>0</td>\n",
              "      <td>0.0</td>\n",
              "      <td>12.0</td>\n",
              "      <td>500</td>\n",
              "      <td>128800</td>\n",
              "      <td>128800</td>\n",
              "      <td>0</td>\n",
              "      <td>가구/인테리어</td>\n",
              "      <td>인테리어소품</td>\n",
              "      <td>액자</td>\n",
              "      <td>퍼즐/그림/사진액자</td>\n",
              "    </tr>\n",
              "  </tbody>\n",
              "</table>\n",
              "<p>1337088 rows × 13 columns</p>\n",
              "</div>\n",
              "      <button class=\"colab-df-convert\" onclick=\"convertToInteractive('df-c596e2fd-8ca7-4510-9edf-2725224df292')\"\n",
              "              title=\"Convert this dataframe to an interactive table.\"\n",
              "              style=\"display:none;\">\n",
              "        \n",
              "  <svg xmlns=\"http://www.w3.org/2000/svg\" height=\"24px\"viewBox=\"0 0 24 24\"\n",
              "       width=\"24px\">\n",
              "    <path d=\"M0 0h24v24H0V0z\" fill=\"none\"/>\n",
              "    <path d=\"M18.56 5.44l.94 2.06.94-2.06 2.06-.94-2.06-.94-.94-2.06-.94 2.06-2.06.94zm-11 1L8.5 8.5l.94-2.06 2.06-.94-2.06-.94L8.5 2.5l-.94 2.06-2.06.94zm10 10l.94 2.06.94-2.06 2.06-.94-2.06-.94-.94-2.06-.94 2.06-2.06.94z\"/><path d=\"M17.41 7.96l-1.37-1.37c-.4-.4-.92-.59-1.43-.59-.52 0-1.04.2-1.43.59L10.3 9.45l-7.72 7.72c-.78.78-.78 2.05 0 2.83L4 21.41c.39.39.9.59 1.41.59.51 0 1.02-.2 1.41-.59l7.78-7.78 2.81-2.81c.8-.78.8-2.07 0-2.86zM5.41 20L4 18.59l7.72-7.72 1.47 1.35L5.41 20z\"/>\n",
              "  </svg>\n",
              "      </button>\n",
              "      \n",
              "  <style>\n",
              "    .colab-df-container {\n",
              "      display:flex;\n",
              "      flex-wrap:wrap;\n",
              "      gap: 12px;\n",
              "    }\n",
              "\n",
              "    .colab-df-convert {\n",
              "      background-color: #E8F0FE;\n",
              "      border: none;\n",
              "      border-radius: 50%;\n",
              "      cursor: pointer;\n",
              "      display: none;\n",
              "      fill: #1967D2;\n",
              "      height: 32px;\n",
              "      padding: 0 0 0 0;\n",
              "      width: 32px;\n",
              "    }\n",
              "\n",
              "    .colab-df-convert:hover {\n",
              "      background-color: #E2EBFA;\n",
              "      box-shadow: 0px 1px 2px rgba(60, 64, 67, 0.3), 0px 1px 3px 1px rgba(60, 64, 67, 0.15);\n",
              "      fill: #174EA6;\n",
              "    }\n",
              "\n",
              "    [theme=dark] .colab-df-convert {\n",
              "      background-color: #3B4455;\n",
              "      fill: #D2E3FC;\n",
              "    }\n",
              "\n",
              "    [theme=dark] .colab-df-convert:hover {\n",
              "      background-color: #434B5C;\n",
              "      box-shadow: 0px 1px 3px 1px rgba(0, 0, 0, 0.15);\n",
              "      filter: drop-shadow(0px 1px 2px rgba(0, 0, 0, 0.3));\n",
              "      fill: #FFFFFF;\n",
              "    }\n",
              "  </style>\n",
              "\n",
              "      <script>\n",
              "        const buttonEl =\n",
              "          document.querySelector('#df-c596e2fd-8ca7-4510-9edf-2725224df292 button.colab-df-convert');\n",
              "        buttonEl.style.display =\n",
              "          google.colab.kernel.accessAllowed ? 'block' : 'none';\n",
              "\n",
              "        async function convertToInteractive(key) {\n",
              "          const element = document.querySelector('#df-c596e2fd-8ca7-4510-9edf-2725224df292');\n",
              "          const dataTable =\n",
              "            await google.colab.kernel.invokeFunction('convertToInteractive',\n",
              "                                                     [key], {});\n",
              "          if (!dataTable) return;\n",
              "\n",
              "          const docLinkHtml = 'Like what you see? Visit the ' +\n",
              "            '<a target=\"_blank\" href=https://colab.research.google.com/notebooks/data_table.ipynb>data table notebook</a>'\n",
              "            + ' to learn more about interactive tables.';\n",
              "          element.innerHTML = '';\n",
              "          dataTable['output_type'] = 'display_data';\n",
              "          await google.colab.output.renderOutput(dataTable, element);\n",
              "          const docLink = document.createElement('div');\n",
              "          docLink.innerHTML = docLinkHtml;\n",
              "          element.appendChild(docLink);\n",
              "        }\n",
              "      </script>\n",
              "    </div>\n",
              "  </div>\n",
              "  "
            ]
          },
          "metadata": {},
          "execution_count": 8
        }
      ]
    },
    {
      "cell_type": "code",
      "source": [
        "# CTR = 클릭률\n",
        "# CPC = 클릭당 비용\n",
        "# CPM = 1000회 노출당 비용\n",
        "bidding[\"CTR\"] = (bidding[\"Click\"]/bidding[\"Impression\"]) * 100\n",
        "bidding[\"CPC\"] = (bidding[\"Cost\"]/bidding[\"Click\"])\n",
        "bidding[\"CPM\"] = (bidding[\"Cost\"]/1000)"
      ],
      "metadata": {
        "id": "rMyw3_djOOfS"
      },
      "execution_count": 9,
      "outputs": []
    },
    {
      "cell_type": "markdown",
      "source": [
        "###결측치 처리"
      ],
      "metadata": {
        "id": "17TmAJvLO2Cm"
      }
    },
    {
      "cell_type": "code",
      "source": [
        "# null값 퍼센트로 보기\n",
        "(bidding.isnull().sum()/ bidding.shape[0]).sort_values(ascending=False)"
      ],
      "metadata": {
        "colab": {
          "base_uri": "https://localhost:8080/"
        },
        "id": "d4GjkUi4OOg5",
        "outputId": "36cb0fa7-dcd7-45ec-8d79-04b43139f16e"
      },
      "execution_count": 10,
      "outputs": [
        {
          "output_type": "execute_result",
          "data": {
            "text/plain": [
              "CPC                0.753309\n",
              "Category Name 4    0.304360\n",
              "Category Name 3    0.004388\n",
              "Sum of AD rank     0.000007\n",
              "index              0.000000\n",
              "Impression         0.000000\n",
              "Click              0.000000\n",
              "Cost               0.000000\n",
              "Bid                0.000000\n",
              "Price(PC)          0.000000\n",
              "Price(Mobile)      0.000000\n",
              "Delivery Fee       0.000000\n",
              "Category Name 1    0.000000\n",
              "Category Name 2    0.000000\n",
              "CTR                0.000000\n",
              "CPM                0.000000\n",
              "dtype: float64"
            ]
          },
          "metadata": {},
          "execution_count": 10
        }
      ]
    },
    {
      "cell_type": "code",
      "source": [
        "\"\"\"\n",
        "Category Name 3, Sum of AD rank 는 결측치 자료가 적어서 drop한다\n",
        "CPC의 결측치는 우선 0 으로 처리하고 다른 EDA를 해본다\n",
        "\n",
        "\"\"\"\n",
        "\n",
        "bidding2 = bidding.copy()\n",
        "bidding2['Category Name 4'].fillna('uncategory', inplace = True)\n",
        "bidding2['CPC'].fillna(0, inplace = True)\n",
        "bidding2.dropna(axis = 0, inplace = True)\n",
        "print(bidding2.isnull().sum().sort_values(ascending=False)) # null값 퍼센트로 표현\n",
        "bidding2"
      ],
      "metadata": {
        "colab": {
          "base_uri": "https://localhost:8080/",
          "height": 769
        },
        "id": "YPCNs4evO7ya",
        "outputId": "73b2771a-a263-4e16-cf7d-f05c65621073"
      },
      "execution_count": 11,
      "outputs": [
        {
          "output_type": "stream",
          "name": "stdout",
          "text": [
            "index              0\n",
            "Impression         0\n",
            "Click              0\n",
            "Cost               0\n",
            "Sum of AD rank     0\n",
            "Bid                0\n",
            "Price(PC)          0\n",
            "Price(Mobile)      0\n",
            "Delivery Fee       0\n",
            "Category Name 1    0\n",
            "Category Name 2    0\n",
            "Category Name 3    0\n",
            "Category Name 4    0\n",
            "CTR                0\n",
            "CPC                0\n",
            "CPM                0\n",
            "dtype: int64\n"
          ]
        },
        {
          "output_type": "execute_result",
          "data": {
            "text/plain": [
              "              index  Impression  Click   Cost  Sum of AD rank  Bid  Price(PC)  \\\n",
              "date                                                                            \n",
              "2022-10-31  3575092           3      0    0.0             3.0   50     165900   \n",
              "2022-10-31  3575637           6      0    0.0             3.0   50      10900   \n",
              "2022-10-31  4129259           7      0    0.0             8.0   50     255000   \n",
              "2022-10-31  4131479          36      3  150.0             4.0  140     190000   \n",
              "2022-10-31  4131482         224      0    0.0             6.0   50     129000   \n",
              "...             ...         ...    ...    ...             ...  ...        ...   \n",
              "2023-01-03  2566795           5      0    0.0            13.0  500      19900   \n",
              "2023-01-03  2566880           3      0    0.0            17.0  500      23900   \n",
              "2023-01-03  2566881           1      0    0.0             8.0  500       2500   \n",
              "2023-01-03  2566891           2      0    0.0             4.0  500      21000   \n",
              "2023-01-03  2566923          14      0    0.0            12.0  500     128800   \n",
              "\n",
              "            Price(Mobile)  Delivery Fee Category Name 1 Category Name 2  \\\n",
              "date                                                                      \n",
              "2022-10-31         165900             0         가구/인테리어            침실가구   \n",
              "2022-10-31          10900             0         가구/인테리어          인테리어소품   \n",
              "2022-10-31         255000            -1         가구/인테리어            거실가구   \n",
              "2022-10-31         190000         20000         가구/인테리어        아동/주니어가구   \n",
              "2022-10-31         129000             0         가구/인테리어        아동/주니어가구   \n",
              "...                   ...           ...             ...             ...   \n",
              "2023-01-03          19900             0         가구/인테리어          인테리어소품   \n",
              "2023-01-03          23900          3000           생활/건강         문구/사무용품   \n",
              "2023-01-03           2500          3000         가구/인테리어          인테리어소품   \n",
              "2023-01-03          21000          3000           생활/건강         정원/원예용품   \n",
              "2023-01-03         128800             0         가구/인테리어          인테리어소품   \n",
              "\n",
              "           Category Name 3 Category Name 4       CTR   CPC   CPM  \n",
              "date                                                              \n",
              "2022-10-31         장롱/붙박이장            드레스룸  0.000000   0.0  0.00  \n",
              "2022-10-31        아로마/캔들용품      아로마방향제/디퓨저  0.000000   0.0  0.00  \n",
              "2022-10-31              소파           패브릭소파  0.000000   0.0  0.00  \n",
              "2022-10-31          책상의자세트      uncategory  8.333333  50.0  0.15  \n",
              "2022-10-31              책상      uncategory  0.000000   0.0  0.00  \n",
              "...                    ...             ...       ...   ...   ...  \n",
              "2023-01-03        아로마/캔들용품      아로마방향제/디퓨저  0.000000   0.0  0.00  \n",
              "2023-01-03        이벤트/파티용품            데코용품  0.000000   0.0  0.00  \n",
              "2023-01-03          기타장식용품      uncategory  0.000000   0.0  0.00  \n",
              "2023-01-03            화분받침      uncategory  0.000000   0.0  0.00  \n",
              "2023-01-03              액자      퍼즐/그림/사진액자  0.000000   0.0  0.00  \n",
              "\n",
              "[1331211 rows x 16 columns]"
            ],
            "text/html": [
              "\n",
              "  <div id=\"df-9badeef0-79f3-4431-b7a0-2803d69381e0\">\n",
              "    <div class=\"colab-df-container\">\n",
              "      <div>\n",
              "<style scoped>\n",
              "    .dataframe tbody tr th:only-of-type {\n",
              "        vertical-align: middle;\n",
              "    }\n",
              "\n",
              "    .dataframe tbody tr th {\n",
              "        vertical-align: top;\n",
              "    }\n",
              "\n",
              "    .dataframe thead th {\n",
              "        text-align: right;\n",
              "    }\n",
              "</style>\n",
              "<table border=\"1\" class=\"dataframe\">\n",
              "  <thead>\n",
              "    <tr style=\"text-align: right;\">\n",
              "      <th></th>\n",
              "      <th>index</th>\n",
              "      <th>Impression</th>\n",
              "      <th>Click</th>\n",
              "      <th>Cost</th>\n",
              "      <th>Sum of AD rank</th>\n",
              "      <th>Bid</th>\n",
              "      <th>Price(PC)</th>\n",
              "      <th>Price(Mobile)</th>\n",
              "      <th>Delivery Fee</th>\n",
              "      <th>Category Name 1</th>\n",
              "      <th>Category Name 2</th>\n",
              "      <th>Category Name 3</th>\n",
              "      <th>Category Name 4</th>\n",
              "      <th>CTR</th>\n",
              "      <th>CPC</th>\n",
              "      <th>CPM</th>\n",
              "    </tr>\n",
              "    <tr>\n",
              "      <th>date</th>\n",
              "      <th></th>\n",
              "      <th></th>\n",
              "      <th></th>\n",
              "      <th></th>\n",
              "      <th></th>\n",
              "      <th></th>\n",
              "      <th></th>\n",
              "      <th></th>\n",
              "      <th></th>\n",
              "      <th></th>\n",
              "      <th></th>\n",
              "      <th></th>\n",
              "      <th></th>\n",
              "      <th></th>\n",
              "      <th></th>\n",
              "      <th></th>\n",
              "    </tr>\n",
              "  </thead>\n",
              "  <tbody>\n",
              "    <tr>\n",
              "      <th>2022-10-31</th>\n",
              "      <td>3575092</td>\n",
              "      <td>3</td>\n",
              "      <td>0</td>\n",
              "      <td>0.0</td>\n",
              "      <td>3.0</td>\n",
              "      <td>50</td>\n",
              "      <td>165900</td>\n",
              "      <td>165900</td>\n",
              "      <td>0</td>\n",
              "      <td>가구/인테리어</td>\n",
              "      <td>침실가구</td>\n",
              "      <td>장롱/붙박이장</td>\n",
              "      <td>드레스룸</td>\n",
              "      <td>0.000000</td>\n",
              "      <td>0.0</td>\n",
              "      <td>0.00</td>\n",
              "    </tr>\n",
              "    <tr>\n",
              "      <th>2022-10-31</th>\n",
              "      <td>3575637</td>\n",
              "      <td>6</td>\n",
              "      <td>0</td>\n",
              "      <td>0.0</td>\n",
              "      <td>3.0</td>\n",
              "      <td>50</td>\n",
              "      <td>10900</td>\n",
              "      <td>10900</td>\n",
              "      <td>0</td>\n",
              "      <td>가구/인테리어</td>\n",
              "      <td>인테리어소품</td>\n",
              "      <td>아로마/캔들용품</td>\n",
              "      <td>아로마방향제/디퓨저</td>\n",
              "      <td>0.000000</td>\n",
              "      <td>0.0</td>\n",
              "      <td>0.00</td>\n",
              "    </tr>\n",
              "    <tr>\n",
              "      <th>2022-10-31</th>\n",
              "      <td>4129259</td>\n",
              "      <td>7</td>\n",
              "      <td>0</td>\n",
              "      <td>0.0</td>\n",
              "      <td>8.0</td>\n",
              "      <td>50</td>\n",
              "      <td>255000</td>\n",
              "      <td>255000</td>\n",
              "      <td>-1</td>\n",
              "      <td>가구/인테리어</td>\n",
              "      <td>거실가구</td>\n",
              "      <td>소파</td>\n",
              "      <td>패브릭소파</td>\n",
              "      <td>0.000000</td>\n",
              "      <td>0.0</td>\n",
              "      <td>0.00</td>\n",
              "    </tr>\n",
              "    <tr>\n",
              "      <th>2022-10-31</th>\n",
              "      <td>4131479</td>\n",
              "      <td>36</td>\n",
              "      <td>3</td>\n",
              "      <td>150.0</td>\n",
              "      <td>4.0</td>\n",
              "      <td>140</td>\n",
              "      <td>190000</td>\n",
              "      <td>190000</td>\n",
              "      <td>20000</td>\n",
              "      <td>가구/인테리어</td>\n",
              "      <td>아동/주니어가구</td>\n",
              "      <td>책상의자세트</td>\n",
              "      <td>uncategory</td>\n",
              "      <td>8.333333</td>\n",
              "      <td>50.0</td>\n",
              "      <td>0.15</td>\n",
              "    </tr>\n",
              "    <tr>\n",
              "      <th>2022-10-31</th>\n",
              "      <td>4131482</td>\n",
              "      <td>224</td>\n",
              "      <td>0</td>\n",
              "      <td>0.0</td>\n",
              "      <td>6.0</td>\n",
              "      <td>50</td>\n",
              "      <td>129000</td>\n",
              "      <td>129000</td>\n",
              "      <td>0</td>\n",
              "      <td>가구/인테리어</td>\n",
              "      <td>아동/주니어가구</td>\n",
              "      <td>책상</td>\n",
              "      <td>uncategory</td>\n",
              "      <td>0.000000</td>\n",
              "      <td>0.0</td>\n",
              "      <td>0.00</td>\n",
              "    </tr>\n",
              "    <tr>\n",
              "      <th>...</th>\n",
              "      <td>...</td>\n",
              "      <td>...</td>\n",
              "      <td>...</td>\n",
              "      <td>...</td>\n",
              "      <td>...</td>\n",
              "      <td>...</td>\n",
              "      <td>...</td>\n",
              "      <td>...</td>\n",
              "      <td>...</td>\n",
              "      <td>...</td>\n",
              "      <td>...</td>\n",
              "      <td>...</td>\n",
              "      <td>...</td>\n",
              "      <td>...</td>\n",
              "      <td>...</td>\n",
              "      <td>...</td>\n",
              "    </tr>\n",
              "    <tr>\n",
              "      <th>2023-01-03</th>\n",
              "      <td>2566795</td>\n",
              "      <td>5</td>\n",
              "      <td>0</td>\n",
              "      <td>0.0</td>\n",
              "      <td>13.0</td>\n",
              "      <td>500</td>\n",
              "      <td>19900</td>\n",
              "      <td>19900</td>\n",
              "      <td>0</td>\n",
              "      <td>가구/인테리어</td>\n",
              "      <td>인테리어소품</td>\n",
              "      <td>아로마/캔들용품</td>\n",
              "      <td>아로마방향제/디퓨저</td>\n",
              "      <td>0.000000</td>\n",
              "      <td>0.0</td>\n",
              "      <td>0.00</td>\n",
              "    </tr>\n",
              "    <tr>\n",
              "      <th>2023-01-03</th>\n",
              "      <td>2566880</td>\n",
              "      <td>3</td>\n",
              "      <td>0</td>\n",
              "      <td>0.0</td>\n",
              "      <td>17.0</td>\n",
              "      <td>500</td>\n",
              "      <td>23900</td>\n",
              "      <td>23900</td>\n",
              "      <td>3000</td>\n",
              "      <td>생활/건강</td>\n",
              "      <td>문구/사무용품</td>\n",
              "      <td>이벤트/파티용품</td>\n",
              "      <td>데코용품</td>\n",
              "      <td>0.000000</td>\n",
              "      <td>0.0</td>\n",
              "      <td>0.00</td>\n",
              "    </tr>\n",
              "    <tr>\n",
              "      <th>2023-01-03</th>\n",
              "      <td>2566881</td>\n",
              "      <td>1</td>\n",
              "      <td>0</td>\n",
              "      <td>0.0</td>\n",
              "      <td>8.0</td>\n",
              "      <td>500</td>\n",
              "      <td>2500</td>\n",
              "      <td>2500</td>\n",
              "      <td>3000</td>\n",
              "      <td>가구/인테리어</td>\n",
              "      <td>인테리어소품</td>\n",
              "      <td>기타장식용품</td>\n",
              "      <td>uncategory</td>\n",
              "      <td>0.000000</td>\n",
              "      <td>0.0</td>\n",
              "      <td>0.00</td>\n",
              "    </tr>\n",
              "    <tr>\n",
              "      <th>2023-01-03</th>\n",
              "      <td>2566891</td>\n",
              "      <td>2</td>\n",
              "      <td>0</td>\n",
              "      <td>0.0</td>\n",
              "      <td>4.0</td>\n",
              "      <td>500</td>\n",
              "      <td>21000</td>\n",
              "      <td>21000</td>\n",
              "      <td>3000</td>\n",
              "      <td>생활/건강</td>\n",
              "      <td>정원/원예용품</td>\n",
              "      <td>화분받침</td>\n",
              "      <td>uncategory</td>\n",
              "      <td>0.000000</td>\n",
              "      <td>0.0</td>\n",
              "      <td>0.00</td>\n",
              "    </tr>\n",
              "    <tr>\n",
              "      <th>2023-01-03</th>\n",
              "      <td>2566923</td>\n",
              "      <td>14</td>\n",
              "      <td>0</td>\n",
              "      <td>0.0</td>\n",
              "      <td>12.0</td>\n",
              "      <td>500</td>\n",
              "      <td>128800</td>\n",
              "      <td>128800</td>\n",
              "      <td>0</td>\n",
              "      <td>가구/인테리어</td>\n",
              "      <td>인테리어소품</td>\n",
              "      <td>액자</td>\n",
              "      <td>퍼즐/그림/사진액자</td>\n",
              "      <td>0.000000</td>\n",
              "      <td>0.0</td>\n",
              "      <td>0.00</td>\n",
              "    </tr>\n",
              "  </tbody>\n",
              "</table>\n",
              "<p>1331211 rows × 16 columns</p>\n",
              "</div>\n",
              "      <button class=\"colab-df-convert\" onclick=\"convertToInteractive('df-9badeef0-79f3-4431-b7a0-2803d69381e0')\"\n",
              "              title=\"Convert this dataframe to an interactive table.\"\n",
              "              style=\"display:none;\">\n",
              "        \n",
              "  <svg xmlns=\"http://www.w3.org/2000/svg\" height=\"24px\"viewBox=\"0 0 24 24\"\n",
              "       width=\"24px\">\n",
              "    <path d=\"M0 0h24v24H0V0z\" fill=\"none\"/>\n",
              "    <path d=\"M18.56 5.44l.94 2.06.94-2.06 2.06-.94-2.06-.94-.94-2.06-.94 2.06-2.06.94zm-11 1L8.5 8.5l.94-2.06 2.06-.94-2.06-.94L8.5 2.5l-.94 2.06-2.06.94zm10 10l.94 2.06.94-2.06 2.06-.94-2.06-.94-.94-2.06-.94 2.06-2.06.94z\"/><path d=\"M17.41 7.96l-1.37-1.37c-.4-.4-.92-.59-1.43-.59-.52 0-1.04.2-1.43.59L10.3 9.45l-7.72 7.72c-.78.78-.78 2.05 0 2.83L4 21.41c.39.39.9.59 1.41.59.51 0 1.02-.2 1.41-.59l7.78-7.78 2.81-2.81c.8-.78.8-2.07 0-2.86zM5.41 20L4 18.59l7.72-7.72 1.47 1.35L5.41 20z\"/>\n",
              "  </svg>\n",
              "      </button>\n",
              "      \n",
              "  <style>\n",
              "    .colab-df-container {\n",
              "      display:flex;\n",
              "      flex-wrap:wrap;\n",
              "      gap: 12px;\n",
              "    }\n",
              "\n",
              "    .colab-df-convert {\n",
              "      background-color: #E8F0FE;\n",
              "      border: none;\n",
              "      border-radius: 50%;\n",
              "      cursor: pointer;\n",
              "      display: none;\n",
              "      fill: #1967D2;\n",
              "      height: 32px;\n",
              "      padding: 0 0 0 0;\n",
              "      width: 32px;\n",
              "    }\n",
              "\n",
              "    .colab-df-convert:hover {\n",
              "      background-color: #E2EBFA;\n",
              "      box-shadow: 0px 1px 2px rgba(60, 64, 67, 0.3), 0px 1px 3px 1px rgba(60, 64, 67, 0.15);\n",
              "      fill: #174EA6;\n",
              "    }\n",
              "\n",
              "    [theme=dark] .colab-df-convert {\n",
              "      background-color: #3B4455;\n",
              "      fill: #D2E3FC;\n",
              "    }\n",
              "\n",
              "    [theme=dark] .colab-df-convert:hover {\n",
              "      background-color: #434B5C;\n",
              "      box-shadow: 0px 1px 3px 1px rgba(0, 0, 0, 0.15);\n",
              "      filter: drop-shadow(0px 1px 2px rgba(0, 0, 0, 0.3));\n",
              "      fill: #FFFFFF;\n",
              "    }\n",
              "  </style>\n",
              "\n",
              "      <script>\n",
              "        const buttonEl =\n",
              "          document.querySelector('#df-9badeef0-79f3-4431-b7a0-2803d69381e0 button.colab-df-convert');\n",
              "        buttonEl.style.display =\n",
              "          google.colab.kernel.accessAllowed ? 'block' : 'none';\n",
              "\n",
              "        async function convertToInteractive(key) {\n",
              "          const element = document.querySelector('#df-9badeef0-79f3-4431-b7a0-2803d69381e0');\n",
              "          const dataTable =\n",
              "            await google.colab.kernel.invokeFunction('convertToInteractive',\n",
              "                                                     [key], {});\n",
              "          if (!dataTable) return;\n",
              "\n",
              "          const docLinkHtml = 'Like what you see? Visit the ' +\n",
              "            '<a target=\"_blank\" href=https://colab.research.google.com/notebooks/data_table.ipynb>data table notebook</a>'\n",
              "            + ' to learn more about interactive tables.';\n",
              "          element.innerHTML = '';\n",
              "          dataTable['output_type'] = 'display_data';\n",
              "          await google.colab.output.renderOutput(dataTable, element);\n",
              "          const docLink = document.createElement('div');\n",
              "          docLink.innerHTML = docLinkHtml;\n",
              "          element.appendChild(docLink);\n",
              "        }\n",
              "      </script>\n",
              "    </div>\n",
              "  </div>\n",
              "  "
            ]
          },
          "metadata": {},
          "execution_count": 11
        }
      ]
    },
    {
      "cell_type": "code",
      "source": [
        "# TIp\n",
        "# 베이지안 a/b test? 왜 베이지안을 선택했는가 를 포트폴리오로  쓰기 장점 -> \n",
        "# 상황에 대한 맞춤으로 포트폴리오 스토리 만들기"
      ],
      "metadata": {
        "id": "rGVb88OOO8R6"
      },
      "execution_count": 12,
      "outputs": []
    },
    {
      "cell_type": "code",
      "source": [
        "bidding3 = bidding2.drop_duplicates(['index'])\n",
        "bidding3"
      ],
      "metadata": {
        "colab": {
          "base_uri": "https://localhost:8080/",
          "height": 455
        },
        "id": "DCIGUxB4Pr7l",
        "outputId": "2cb42286-7dab-4804-880f-5fb6753cb4ac"
      },
      "execution_count": 13,
      "outputs": [
        {
          "output_type": "execute_result",
          "data": {
            "text/plain": [
              "              index  Impression  Click   Cost  Sum of AD rank  Bid  Price(PC)  \\\n",
              "date                                                                            \n",
              "2022-10-31  3575092           3      0    0.0             3.0   50     165900   \n",
              "2022-10-31  3575637           6      0    0.0             3.0   50      10900   \n",
              "2022-10-31  4129259           7      0    0.0             8.0   50     255000   \n",
              "2022-10-31  4131479          36      3  150.0             4.0  140     190000   \n",
              "2022-10-31  4131482         224      0    0.0             6.0   50     129000   \n",
              "...             ...         ...    ...    ...             ...  ...        ...   \n",
              "2023-01-03  2566795           5      0    0.0            13.0  500      19900   \n",
              "2023-01-03  2566880           3      0    0.0            17.0  500      23900   \n",
              "2023-01-03  2566881           1      0    0.0             8.0  500       2500   \n",
              "2023-01-03  2566891           2      0    0.0             4.0  500      21000   \n",
              "2023-01-03  2566923          14      0    0.0            12.0  500     128800   \n",
              "\n",
              "            Price(Mobile)  Delivery Fee Category Name 1 Category Name 2  \\\n",
              "date                                                                      \n",
              "2022-10-31         165900             0         가구/인테리어            침실가구   \n",
              "2022-10-31          10900             0         가구/인테리어          인테리어소품   \n",
              "2022-10-31         255000            -1         가구/인테리어            거실가구   \n",
              "2022-10-31         190000         20000         가구/인테리어        아동/주니어가구   \n",
              "2022-10-31         129000             0         가구/인테리어        아동/주니어가구   \n",
              "...                   ...           ...             ...             ...   \n",
              "2023-01-03          19900             0         가구/인테리어          인테리어소품   \n",
              "2023-01-03          23900          3000           생활/건강         문구/사무용품   \n",
              "2023-01-03           2500          3000         가구/인테리어          인테리어소품   \n",
              "2023-01-03          21000          3000           생활/건강         정원/원예용품   \n",
              "2023-01-03         128800             0         가구/인테리어          인테리어소품   \n",
              "\n",
              "           Category Name 3 Category Name 4       CTR   CPC   CPM  \n",
              "date                                                              \n",
              "2022-10-31         장롱/붙박이장            드레스룸  0.000000   0.0  0.00  \n",
              "2022-10-31        아로마/캔들용품      아로마방향제/디퓨저  0.000000   0.0  0.00  \n",
              "2022-10-31              소파           패브릭소파  0.000000   0.0  0.00  \n",
              "2022-10-31          책상의자세트      uncategory  8.333333  50.0  0.15  \n",
              "2022-10-31              책상      uncategory  0.000000   0.0  0.00  \n",
              "...                    ...             ...       ...   ...   ...  \n",
              "2023-01-03        아로마/캔들용품      아로마방향제/디퓨저  0.000000   0.0  0.00  \n",
              "2023-01-03        이벤트/파티용품            데코용품  0.000000   0.0  0.00  \n",
              "2023-01-03          기타장식용품      uncategory  0.000000   0.0  0.00  \n",
              "2023-01-03            화분받침      uncategory  0.000000   0.0  0.00  \n",
              "2023-01-03              액자      퍼즐/그림/사진액자  0.000000   0.0  0.00  \n",
              "\n",
              "[48486 rows x 16 columns]"
            ],
            "text/html": [
              "\n",
              "  <div id=\"df-55a09a72-5c80-4b8c-a3ac-90969ac8e6ac\">\n",
              "    <div class=\"colab-df-container\">\n",
              "      <div>\n",
              "<style scoped>\n",
              "    .dataframe tbody tr th:only-of-type {\n",
              "        vertical-align: middle;\n",
              "    }\n",
              "\n",
              "    .dataframe tbody tr th {\n",
              "        vertical-align: top;\n",
              "    }\n",
              "\n",
              "    .dataframe thead th {\n",
              "        text-align: right;\n",
              "    }\n",
              "</style>\n",
              "<table border=\"1\" class=\"dataframe\">\n",
              "  <thead>\n",
              "    <tr style=\"text-align: right;\">\n",
              "      <th></th>\n",
              "      <th>index</th>\n",
              "      <th>Impression</th>\n",
              "      <th>Click</th>\n",
              "      <th>Cost</th>\n",
              "      <th>Sum of AD rank</th>\n",
              "      <th>Bid</th>\n",
              "      <th>Price(PC)</th>\n",
              "      <th>Price(Mobile)</th>\n",
              "      <th>Delivery Fee</th>\n",
              "      <th>Category Name 1</th>\n",
              "      <th>Category Name 2</th>\n",
              "      <th>Category Name 3</th>\n",
              "      <th>Category Name 4</th>\n",
              "      <th>CTR</th>\n",
              "      <th>CPC</th>\n",
              "      <th>CPM</th>\n",
              "    </tr>\n",
              "    <tr>\n",
              "      <th>date</th>\n",
              "      <th></th>\n",
              "      <th></th>\n",
              "      <th></th>\n",
              "      <th></th>\n",
              "      <th></th>\n",
              "      <th></th>\n",
              "      <th></th>\n",
              "      <th></th>\n",
              "      <th></th>\n",
              "      <th></th>\n",
              "      <th></th>\n",
              "      <th></th>\n",
              "      <th></th>\n",
              "      <th></th>\n",
              "      <th></th>\n",
              "      <th></th>\n",
              "    </tr>\n",
              "  </thead>\n",
              "  <tbody>\n",
              "    <tr>\n",
              "      <th>2022-10-31</th>\n",
              "      <td>3575092</td>\n",
              "      <td>3</td>\n",
              "      <td>0</td>\n",
              "      <td>0.0</td>\n",
              "      <td>3.0</td>\n",
              "      <td>50</td>\n",
              "      <td>165900</td>\n",
              "      <td>165900</td>\n",
              "      <td>0</td>\n",
              "      <td>가구/인테리어</td>\n",
              "      <td>침실가구</td>\n",
              "      <td>장롱/붙박이장</td>\n",
              "      <td>드레스룸</td>\n",
              "      <td>0.000000</td>\n",
              "      <td>0.0</td>\n",
              "      <td>0.00</td>\n",
              "    </tr>\n",
              "    <tr>\n",
              "      <th>2022-10-31</th>\n",
              "      <td>3575637</td>\n",
              "      <td>6</td>\n",
              "      <td>0</td>\n",
              "      <td>0.0</td>\n",
              "      <td>3.0</td>\n",
              "      <td>50</td>\n",
              "      <td>10900</td>\n",
              "      <td>10900</td>\n",
              "      <td>0</td>\n",
              "      <td>가구/인테리어</td>\n",
              "      <td>인테리어소품</td>\n",
              "      <td>아로마/캔들용품</td>\n",
              "      <td>아로마방향제/디퓨저</td>\n",
              "      <td>0.000000</td>\n",
              "      <td>0.0</td>\n",
              "      <td>0.00</td>\n",
              "    </tr>\n",
              "    <tr>\n",
              "      <th>2022-10-31</th>\n",
              "      <td>4129259</td>\n",
              "      <td>7</td>\n",
              "      <td>0</td>\n",
              "      <td>0.0</td>\n",
              "      <td>8.0</td>\n",
              "      <td>50</td>\n",
              "      <td>255000</td>\n",
              "      <td>255000</td>\n",
              "      <td>-1</td>\n",
              "      <td>가구/인테리어</td>\n",
              "      <td>거실가구</td>\n",
              "      <td>소파</td>\n",
              "      <td>패브릭소파</td>\n",
              "      <td>0.000000</td>\n",
              "      <td>0.0</td>\n",
              "      <td>0.00</td>\n",
              "    </tr>\n",
              "    <tr>\n",
              "      <th>2022-10-31</th>\n",
              "      <td>4131479</td>\n",
              "      <td>36</td>\n",
              "      <td>3</td>\n",
              "      <td>150.0</td>\n",
              "      <td>4.0</td>\n",
              "      <td>140</td>\n",
              "      <td>190000</td>\n",
              "      <td>190000</td>\n",
              "      <td>20000</td>\n",
              "      <td>가구/인테리어</td>\n",
              "      <td>아동/주니어가구</td>\n",
              "      <td>책상의자세트</td>\n",
              "      <td>uncategory</td>\n",
              "      <td>8.333333</td>\n",
              "      <td>50.0</td>\n",
              "      <td>0.15</td>\n",
              "    </tr>\n",
              "    <tr>\n",
              "      <th>2022-10-31</th>\n",
              "      <td>4131482</td>\n",
              "      <td>224</td>\n",
              "      <td>0</td>\n",
              "      <td>0.0</td>\n",
              "      <td>6.0</td>\n",
              "      <td>50</td>\n",
              "      <td>129000</td>\n",
              "      <td>129000</td>\n",
              "      <td>0</td>\n",
              "      <td>가구/인테리어</td>\n",
              "      <td>아동/주니어가구</td>\n",
              "      <td>책상</td>\n",
              "      <td>uncategory</td>\n",
              "      <td>0.000000</td>\n",
              "      <td>0.0</td>\n",
              "      <td>0.00</td>\n",
              "    </tr>\n",
              "    <tr>\n",
              "      <th>...</th>\n",
              "      <td>...</td>\n",
              "      <td>...</td>\n",
              "      <td>...</td>\n",
              "      <td>...</td>\n",
              "      <td>...</td>\n",
              "      <td>...</td>\n",
              "      <td>...</td>\n",
              "      <td>...</td>\n",
              "      <td>...</td>\n",
              "      <td>...</td>\n",
              "      <td>...</td>\n",
              "      <td>...</td>\n",
              "      <td>...</td>\n",
              "      <td>...</td>\n",
              "      <td>...</td>\n",
              "      <td>...</td>\n",
              "    </tr>\n",
              "    <tr>\n",
              "      <th>2023-01-03</th>\n",
              "      <td>2566795</td>\n",
              "      <td>5</td>\n",
              "      <td>0</td>\n",
              "      <td>0.0</td>\n",
              "      <td>13.0</td>\n",
              "      <td>500</td>\n",
              "      <td>19900</td>\n",
              "      <td>19900</td>\n",
              "      <td>0</td>\n",
              "      <td>가구/인테리어</td>\n",
              "      <td>인테리어소품</td>\n",
              "      <td>아로마/캔들용품</td>\n",
              "      <td>아로마방향제/디퓨저</td>\n",
              "      <td>0.000000</td>\n",
              "      <td>0.0</td>\n",
              "      <td>0.00</td>\n",
              "    </tr>\n",
              "    <tr>\n",
              "      <th>2023-01-03</th>\n",
              "      <td>2566880</td>\n",
              "      <td>3</td>\n",
              "      <td>0</td>\n",
              "      <td>0.0</td>\n",
              "      <td>17.0</td>\n",
              "      <td>500</td>\n",
              "      <td>23900</td>\n",
              "      <td>23900</td>\n",
              "      <td>3000</td>\n",
              "      <td>생활/건강</td>\n",
              "      <td>문구/사무용품</td>\n",
              "      <td>이벤트/파티용품</td>\n",
              "      <td>데코용품</td>\n",
              "      <td>0.000000</td>\n",
              "      <td>0.0</td>\n",
              "      <td>0.00</td>\n",
              "    </tr>\n",
              "    <tr>\n",
              "      <th>2023-01-03</th>\n",
              "      <td>2566881</td>\n",
              "      <td>1</td>\n",
              "      <td>0</td>\n",
              "      <td>0.0</td>\n",
              "      <td>8.0</td>\n",
              "      <td>500</td>\n",
              "      <td>2500</td>\n",
              "      <td>2500</td>\n",
              "      <td>3000</td>\n",
              "      <td>가구/인테리어</td>\n",
              "      <td>인테리어소품</td>\n",
              "      <td>기타장식용품</td>\n",
              "      <td>uncategory</td>\n",
              "      <td>0.000000</td>\n",
              "      <td>0.0</td>\n",
              "      <td>0.00</td>\n",
              "    </tr>\n",
              "    <tr>\n",
              "      <th>2023-01-03</th>\n",
              "      <td>2566891</td>\n",
              "      <td>2</td>\n",
              "      <td>0</td>\n",
              "      <td>0.0</td>\n",
              "      <td>4.0</td>\n",
              "      <td>500</td>\n",
              "      <td>21000</td>\n",
              "      <td>21000</td>\n",
              "      <td>3000</td>\n",
              "      <td>생활/건강</td>\n",
              "      <td>정원/원예용품</td>\n",
              "      <td>화분받침</td>\n",
              "      <td>uncategory</td>\n",
              "      <td>0.000000</td>\n",
              "      <td>0.0</td>\n",
              "      <td>0.00</td>\n",
              "    </tr>\n",
              "    <tr>\n",
              "      <th>2023-01-03</th>\n",
              "      <td>2566923</td>\n",
              "      <td>14</td>\n",
              "      <td>0</td>\n",
              "      <td>0.0</td>\n",
              "      <td>12.0</td>\n",
              "      <td>500</td>\n",
              "      <td>128800</td>\n",
              "      <td>128800</td>\n",
              "      <td>0</td>\n",
              "      <td>가구/인테리어</td>\n",
              "      <td>인테리어소품</td>\n",
              "      <td>액자</td>\n",
              "      <td>퍼즐/그림/사진액자</td>\n",
              "      <td>0.000000</td>\n",
              "      <td>0.0</td>\n",
              "      <td>0.00</td>\n",
              "    </tr>\n",
              "  </tbody>\n",
              "</table>\n",
              "<p>48486 rows × 16 columns</p>\n",
              "</div>\n",
              "      <button class=\"colab-df-convert\" onclick=\"convertToInteractive('df-55a09a72-5c80-4b8c-a3ac-90969ac8e6ac')\"\n",
              "              title=\"Convert this dataframe to an interactive table.\"\n",
              "              style=\"display:none;\">\n",
              "        \n",
              "  <svg xmlns=\"http://www.w3.org/2000/svg\" height=\"24px\"viewBox=\"0 0 24 24\"\n",
              "       width=\"24px\">\n",
              "    <path d=\"M0 0h24v24H0V0z\" fill=\"none\"/>\n",
              "    <path d=\"M18.56 5.44l.94 2.06.94-2.06 2.06-.94-2.06-.94-.94-2.06-.94 2.06-2.06.94zm-11 1L8.5 8.5l.94-2.06 2.06-.94-2.06-.94L8.5 2.5l-.94 2.06-2.06.94zm10 10l.94 2.06.94-2.06 2.06-.94-2.06-.94-.94-2.06-.94 2.06-2.06.94z\"/><path d=\"M17.41 7.96l-1.37-1.37c-.4-.4-.92-.59-1.43-.59-.52 0-1.04.2-1.43.59L10.3 9.45l-7.72 7.72c-.78.78-.78 2.05 0 2.83L4 21.41c.39.39.9.59 1.41.59.51 0 1.02-.2 1.41-.59l7.78-7.78 2.81-2.81c.8-.78.8-2.07 0-2.86zM5.41 20L4 18.59l7.72-7.72 1.47 1.35L5.41 20z\"/>\n",
              "  </svg>\n",
              "      </button>\n",
              "      \n",
              "  <style>\n",
              "    .colab-df-container {\n",
              "      display:flex;\n",
              "      flex-wrap:wrap;\n",
              "      gap: 12px;\n",
              "    }\n",
              "\n",
              "    .colab-df-convert {\n",
              "      background-color: #E8F0FE;\n",
              "      border: none;\n",
              "      border-radius: 50%;\n",
              "      cursor: pointer;\n",
              "      display: none;\n",
              "      fill: #1967D2;\n",
              "      height: 32px;\n",
              "      padding: 0 0 0 0;\n",
              "      width: 32px;\n",
              "    }\n",
              "\n",
              "    .colab-df-convert:hover {\n",
              "      background-color: #E2EBFA;\n",
              "      box-shadow: 0px 1px 2px rgba(60, 64, 67, 0.3), 0px 1px 3px 1px rgba(60, 64, 67, 0.15);\n",
              "      fill: #174EA6;\n",
              "    }\n",
              "\n",
              "    [theme=dark] .colab-df-convert {\n",
              "      background-color: #3B4455;\n",
              "      fill: #D2E3FC;\n",
              "    }\n",
              "\n",
              "    [theme=dark] .colab-df-convert:hover {\n",
              "      background-color: #434B5C;\n",
              "      box-shadow: 0px 1px 3px 1px rgba(0, 0, 0, 0.15);\n",
              "      filter: drop-shadow(0px 1px 2px rgba(0, 0, 0, 0.3));\n",
              "      fill: #FFFFFF;\n",
              "    }\n",
              "  </style>\n",
              "\n",
              "      <script>\n",
              "        const buttonEl =\n",
              "          document.querySelector('#df-55a09a72-5c80-4b8c-a3ac-90969ac8e6ac button.colab-df-convert');\n",
              "        buttonEl.style.display =\n",
              "          google.colab.kernel.accessAllowed ? 'block' : 'none';\n",
              "\n",
              "        async function convertToInteractive(key) {\n",
              "          const element = document.querySelector('#df-55a09a72-5c80-4b8c-a3ac-90969ac8e6ac');\n",
              "          const dataTable =\n",
              "            await google.colab.kernel.invokeFunction('convertToInteractive',\n",
              "                                                     [key], {});\n",
              "          if (!dataTable) return;\n",
              "\n",
              "          const docLinkHtml = 'Like what you see? Visit the ' +\n",
              "            '<a target=\"_blank\" href=https://colab.research.google.com/notebooks/data_table.ipynb>data table notebook</a>'\n",
              "            + ' to learn more about interactive tables.';\n",
              "          element.innerHTML = '';\n",
              "          dataTable['output_type'] = 'display_data';\n",
              "          await google.colab.output.renderOutput(dataTable, element);\n",
              "          const docLink = document.createElement('div');\n",
              "          docLink.innerHTML = docLinkHtml;\n",
              "          element.appendChild(docLink);\n",
              "        }\n",
              "      </script>\n",
              "    </div>\n",
              "  </div>\n",
              "  "
            ]
          },
          "metadata": {},
          "execution_count": 13
        }
      ]
    },
    {
      "cell_type": "code",
      "source": [
        "categorys1 = list(set(bidding3['Category Name 1'].to_list()))\n",
        "categorys2 = list(set(bidding3['Category Name 2'].to_list()))\n",
        "categorys3 = list(set(bidding3['Category Name 3'].to_list()))\n",
        "categorys4 = list(set(bidding3['Category Name 4'].to_list()))"
      ],
      "metadata": {
        "id": "atV1ANCgP2AX"
      },
      "execution_count": 14,
      "outputs": []
    },
    {
      "cell_type": "code",
      "source": [
        "# CTR = 클릭률\n",
        "# CPC = 클릭당 비용\n",
        "# CPM = 1000회 노출당 비용\n",
        "for cate in categorys1:\n",
        "    df = bidding3.loc[bidding3['Category Name 1'] == cate]\n",
        "    print(f\"CTR : {cate}: {df['CTR'].mean()}\")\n",
        "print('-' * 50)\n",
        "for cate in categorys1:\n",
        "    df = bidding3.loc[bidding3['Category Name 1'] == cate]\n",
        "    print(f\"CPC : {cate}: {df['CPC'].mean()}\")\n",
        "print('-' * 50)\n",
        "for cate in categorys1:\n",
        "    df = bidding3.loc[bidding3['Category Name 1'] == cate]\n",
        "    print(f\"CPM : {cate}: {df['CPM'].mean()}\")\n",
        "print('-' * 50)\n"
      ],
      "metadata": {
        "colab": {
          "base_uri": "https://localhost:8080/"
        },
        "id": "ssbNTFOhO8UK",
        "outputId": "bcfd9770-5e25-4f1e-c513-af715fbb8f47"
      },
      "execution_count": 15,
      "outputs": [
        {
          "output_type": "stream",
          "name": "stdout",
          "text": [
            "CTR : 가구/인테리어: 1.534402497955175\n",
            "CTR : 출산/육아: 2.3485914213997328\n",
            "CTR : 패션잡화: 1.7142804235347056\n",
            "CTR : 식품: 0.0\n",
            "CTR : 생활/건강: 1.816915281585836\n",
            "CTR : 스포츠/레저: 2.473615329335076\n",
            "CTR : 화장품/미용: 1.2639134068914868\n",
            "CTR : 여가/생활편의: 4.306358289042499\n",
            "CTR : 디지털/가전: 1.916043896440929\n",
            "CTR : 패션의류: 1.1696922649345287\n",
            "--------------------------------------------------\n",
            "CPC : 가구/인테리어: 47.029295871442436\n",
            "CPC : 출산/육아: 52.6338680538919\n",
            "CPC : 패션잡화: 68.05678756462889\n",
            "CPC : 식품: 0.0\n",
            "CPC : 생활/건강: 56.909235795186234\n",
            "CPC : 스포츠/레저: 61.13637438132432\n",
            "CPC : 화장품/미용: 65.26291993796862\n",
            "CPC : 여가/생활편의: 38.62139917695473\n",
            "CPC : 디지털/가전: 32.55504258551301\n",
            "CPC : 패션의류: 92.61124449779913\n",
            "--------------------------------------------------\n",
            "CPM : 가구/인테리어: 0.15693206592831607\n",
            "CPM : 출산/육아: 0.2678363832077503\n",
            "CPM : 패션잡화: 0.17357933579335794\n",
            "CPM : 식품: 0.0\n",
            "CPM : 생활/건강: 0.21437473251733288\n",
            "CPM : 스포츠/레저: 0.3193262411347518\n",
            "CPM : 화장품/미용: 0.2642524916943521\n",
            "CPM : 여가/생활편의: 0.19740740740740742\n",
            "CPM : 디지털/가전: 0.15420765027322403\n",
            "CPM : 패션의류: 0.5751260504201681\n",
            "--------------------------------------------------\n"
          ]
        }
      ]
    },
    {
      "cell_type": "code",
      "source": [
        "#CTR/CPC 해보고 싶습니다. ->가성비 좋은 상품을 찾기 위해 도움필요"
      ],
      "metadata": {
        "id": "nOZ9R8tEmjc8"
      },
      "execution_count": 16,
      "outputs": []
    },
    {
      "cell_type": "code",
      "source": [
        "bidding_rank = bidding2.sort_values(by = 'Sum of AD rank', ignore_index=True, ascending=True)\n",
        "bidding_rank"
      ],
      "metadata": {
        "colab": {
          "base_uri": "https://localhost:8080/",
          "height": 423
        },
        "id": "s68XJNn_O8We",
        "outputId": "d32cb265-3f78-4cfd-82f4-ac4d0a2f90d9"
      },
      "execution_count": 17,
      "outputs": [
        {
          "output_type": "execute_result",
          "data": {
            "text/plain": [
              "           index  Impression  Click   Cost  Sum of AD rank  Bid  Price(PC)  \\\n",
              "0        9190721          22      1  280.0             1.0   60       9900   \n",
              "1        3592074           1      0    0.0             1.0  300       9900   \n",
              "2        3592078           3      0    0.0             1.0   50       5900   \n",
              "3        3044310          39      0    0.0             1.0   50    1187500   \n",
              "4        3044301           1      0    0.0             1.0   50     799000   \n",
              "...          ...         ...    ...    ...             ...  ...        ...   \n",
              "1331206  3303386           1      0    0.0           100.0  360      39900   \n",
              "1331207   112516           1      0    0.0           100.0   50      97900   \n",
              "1331208  9190741           1      0    0.0           100.0  300      15840   \n",
              "1331209  9143558           2      0    0.0           100.0   50      22900   \n",
              "1331210  9142532           1      0    0.0           100.0  500      61900   \n",
              "\n",
              "         Price(Mobile)  Delivery Fee Category Name 1 Category Name 2  \\\n",
              "0                 9900          3000            패션잡화            여성신발   \n",
              "1                 9900          3000          화장품/미용            헤어케어   \n",
              "2                 5900          3000          화장품/미용            헤어케어   \n",
              "3              1187500            -1         가구/인테리어            주방가구   \n",
              "4               799000             0         가구/인테리어            주방가구   \n",
              "...                ...           ...             ...             ...   \n",
              "1331206          39900            -1         가구/인테리어            침실가구   \n",
              "1331207          97900             0         가구/인테리어            침실가구   \n",
              "1331208          15840          3000            패션잡화            남성신발   \n",
              "1331209          22900          4000         가구/인테리어        서재/사무용가구   \n",
              "1331210          61900            -1         가구/인테리어            주방가구   \n",
              "\n",
              "        Category Name 3 Category Name 4       CTR    CPC   CPM  \n",
              "0                   실내화      uncategory  4.545455  280.0  0.28  \n",
              "1                    린스      uncategory  0.000000    0.0  0.00  \n",
              "2                 헤어에센스      uncategory  0.000000    0.0  0.00  \n",
              "3                 식탁/의자           식탁테이블  0.000000    0.0  0.00  \n",
              "4                 식탁/의자           식탁테이블  0.000000    0.0  0.00  \n",
              "...                 ...             ...       ...    ...   ...  \n",
              "1331206              협탁      uncategory  0.000000    0.0  0.00  \n",
              "1331207             화장대              콘솔  0.000000    0.0  0.00  \n",
              "1331208             슬리퍼      uncategory  0.000000    0.0  0.00  \n",
              "1331209              의자              스툴  0.000000    0.0  0.00  \n",
              "1331210           식탁/의자           식탁테이블  0.000000    0.0  0.00  \n",
              "\n",
              "[1331211 rows x 16 columns]"
            ],
            "text/html": [
              "\n",
              "  <div id=\"df-c9564ad7-4516-496f-853e-30658f86b48c\">\n",
              "    <div class=\"colab-df-container\">\n",
              "      <div>\n",
              "<style scoped>\n",
              "    .dataframe tbody tr th:only-of-type {\n",
              "        vertical-align: middle;\n",
              "    }\n",
              "\n",
              "    .dataframe tbody tr th {\n",
              "        vertical-align: top;\n",
              "    }\n",
              "\n",
              "    .dataframe thead th {\n",
              "        text-align: right;\n",
              "    }\n",
              "</style>\n",
              "<table border=\"1\" class=\"dataframe\">\n",
              "  <thead>\n",
              "    <tr style=\"text-align: right;\">\n",
              "      <th></th>\n",
              "      <th>index</th>\n",
              "      <th>Impression</th>\n",
              "      <th>Click</th>\n",
              "      <th>Cost</th>\n",
              "      <th>Sum of AD rank</th>\n",
              "      <th>Bid</th>\n",
              "      <th>Price(PC)</th>\n",
              "      <th>Price(Mobile)</th>\n",
              "      <th>Delivery Fee</th>\n",
              "      <th>Category Name 1</th>\n",
              "      <th>Category Name 2</th>\n",
              "      <th>Category Name 3</th>\n",
              "      <th>Category Name 4</th>\n",
              "      <th>CTR</th>\n",
              "      <th>CPC</th>\n",
              "      <th>CPM</th>\n",
              "    </tr>\n",
              "  </thead>\n",
              "  <tbody>\n",
              "    <tr>\n",
              "      <th>0</th>\n",
              "      <td>9190721</td>\n",
              "      <td>22</td>\n",
              "      <td>1</td>\n",
              "      <td>280.0</td>\n",
              "      <td>1.0</td>\n",
              "      <td>60</td>\n",
              "      <td>9900</td>\n",
              "      <td>9900</td>\n",
              "      <td>3000</td>\n",
              "      <td>패션잡화</td>\n",
              "      <td>여성신발</td>\n",
              "      <td>실내화</td>\n",
              "      <td>uncategory</td>\n",
              "      <td>4.545455</td>\n",
              "      <td>280.0</td>\n",
              "      <td>0.28</td>\n",
              "    </tr>\n",
              "    <tr>\n",
              "      <th>1</th>\n",
              "      <td>3592074</td>\n",
              "      <td>1</td>\n",
              "      <td>0</td>\n",
              "      <td>0.0</td>\n",
              "      <td>1.0</td>\n",
              "      <td>300</td>\n",
              "      <td>9900</td>\n",
              "      <td>9900</td>\n",
              "      <td>3000</td>\n",
              "      <td>화장품/미용</td>\n",
              "      <td>헤어케어</td>\n",
              "      <td>린스</td>\n",
              "      <td>uncategory</td>\n",
              "      <td>0.000000</td>\n",
              "      <td>0.0</td>\n",
              "      <td>0.00</td>\n",
              "    </tr>\n",
              "    <tr>\n",
              "      <th>2</th>\n",
              "      <td>3592078</td>\n",
              "      <td>3</td>\n",
              "      <td>0</td>\n",
              "      <td>0.0</td>\n",
              "      <td>1.0</td>\n",
              "      <td>50</td>\n",
              "      <td>5900</td>\n",
              "      <td>5900</td>\n",
              "      <td>3000</td>\n",
              "      <td>화장품/미용</td>\n",
              "      <td>헤어케어</td>\n",
              "      <td>헤어에센스</td>\n",
              "      <td>uncategory</td>\n",
              "      <td>0.000000</td>\n",
              "      <td>0.0</td>\n",
              "      <td>0.00</td>\n",
              "    </tr>\n",
              "    <tr>\n",
              "      <th>3</th>\n",
              "      <td>3044310</td>\n",
              "      <td>39</td>\n",
              "      <td>0</td>\n",
              "      <td>0.0</td>\n",
              "      <td>1.0</td>\n",
              "      <td>50</td>\n",
              "      <td>1187500</td>\n",
              "      <td>1187500</td>\n",
              "      <td>-1</td>\n",
              "      <td>가구/인테리어</td>\n",
              "      <td>주방가구</td>\n",
              "      <td>식탁/의자</td>\n",
              "      <td>식탁테이블</td>\n",
              "      <td>0.000000</td>\n",
              "      <td>0.0</td>\n",
              "      <td>0.00</td>\n",
              "    </tr>\n",
              "    <tr>\n",
              "      <th>4</th>\n",
              "      <td>3044301</td>\n",
              "      <td>1</td>\n",
              "      <td>0</td>\n",
              "      <td>0.0</td>\n",
              "      <td>1.0</td>\n",
              "      <td>50</td>\n",
              "      <td>799000</td>\n",
              "      <td>799000</td>\n",
              "      <td>0</td>\n",
              "      <td>가구/인테리어</td>\n",
              "      <td>주방가구</td>\n",
              "      <td>식탁/의자</td>\n",
              "      <td>식탁테이블</td>\n",
              "      <td>0.000000</td>\n",
              "      <td>0.0</td>\n",
              "      <td>0.00</td>\n",
              "    </tr>\n",
              "    <tr>\n",
              "      <th>...</th>\n",
              "      <td>...</td>\n",
              "      <td>...</td>\n",
              "      <td>...</td>\n",
              "      <td>...</td>\n",
              "      <td>...</td>\n",
              "      <td>...</td>\n",
              "      <td>...</td>\n",
              "      <td>...</td>\n",
              "      <td>...</td>\n",
              "      <td>...</td>\n",
              "      <td>...</td>\n",
              "      <td>...</td>\n",
              "      <td>...</td>\n",
              "      <td>...</td>\n",
              "      <td>...</td>\n",
              "      <td>...</td>\n",
              "    </tr>\n",
              "    <tr>\n",
              "      <th>1331206</th>\n",
              "      <td>3303386</td>\n",
              "      <td>1</td>\n",
              "      <td>0</td>\n",
              "      <td>0.0</td>\n",
              "      <td>100.0</td>\n",
              "      <td>360</td>\n",
              "      <td>39900</td>\n",
              "      <td>39900</td>\n",
              "      <td>-1</td>\n",
              "      <td>가구/인테리어</td>\n",
              "      <td>침실가구</td>\n",
              "      <td>협탁</td>\n",
              "      <td>uncategory</td>\n",
              "      <td>0.000000</td>\n",
              "      <td>0.0</td>\n",
              "      <td>0.00</td>\n",
              "    </tr>\n",
              "    <tr>\n",
              "      <th>1331207</th>\n",
              "      <td>112516</td>\n",
              "      <td>1</td>\n",
              "      <td>0</td>\n",
              "      <td>0.0</td>\n",
              "      <td>100.0</td>\n",
              "      <td>50</td>\n",
              "      <td>97900</td>\n",
              "      <td>97900</td>\n",
              "      <td>0</td>\n",
              "      <td>가구/인테리어</td>\n",
              "      <td>침실가구</td>\n",
              "      <td>화장대</td>\n",
              "      <td>콘솔</td>\n",
              "      <td>0.000000</td>\n",
              "      <td>0.0</td>\n",
              "      <td>0.00</td>\n",
              "    </tr>\n",
              "    <tr>\n",
              "      <th>1331208</th>\n",
              "      <td>9190741</td>\n",
              "      <td>1</td>\n",
              "      <td>0</td>\n",
              "      <td>0.0</td>\n",
              "      <td>100.0</td>\n",
              "      <td>300</td>\n",
              "      <td>15840</td>\n",
              "      <td>15840</td>\n",
              "      <td>3000</td>\n",
              "      <td>패션잡화</td>\n",
              "      <td>남성신발</td>\n",
              "      <td>슬리퍼</td>\n",
              "      <td>uncategory</td>\n",
              "      <td>0.000000</td>\n",
              "      <td>0.0</td>\n",
              "      <td>0.00</td>\n",
              "    </tr>\n",
              "    <tr>\n",
              "      <th>1331209</th>\n",
              "      <td>9143558</td>\n",
              "      <td>2</td>\n",
              "      <td>0</td>\n",
              "      <td>0.0</td>\n",
              "      <td>100.0</td>\n",
              "      <td>50</td>\n",
              "      <td>22900</td>\n",
              "      <td>22900</td>\n",
              "      <td>4000</td>\n",
              "      <td>가구/인테리어</td>\n",
              "      <td>서재/사무용가구</td>\n",
              "      <td>의자</td>\n",
              "      <td>스툴</td>\n",
              "      <td>0.000000</td>\n",
              "      <td>0.0</td>\n",
              "      <td>0.00</td>\n",
              "    </tr>\n",
              "    <tr>\n",
              "      <th>1331210</th>\n",
              "      <td>9142532</td>\n",
              "      <td>1</td>\n",
              "      <td>0</td>\n",
              "      <td>0.0</td>\n",
              "      <td>100.0</td>\n",
              "      <td>500</td>\n",
              "      <td>61900</td>\n",
              "      <td>61900</td>\n",
              "      <td>-1</td>\n",
              "      <td>가구/인테리어</td>\n",
              "      <td>주방가구</td>\n",
              "      <td>식탁/의자</td>\n",
              "      <td>식탁테이블</td>\n",
              "      <td>0.000000</td>\n",
              "      <td>0.0</td>\n",
              "      <td>0.00</td>\n",
              "    </tr>\n",
              "  </tbody>\n",
              "</table>\n",
              "<p>1331211 rows × 16 columns</p>\n",
              "</div>\n",
              "      <button class=\"colab-df-convert\" onclick=\"convertToInteractive('df-c9564ad7-4516-496f-853e-30658f86b48c')\"\n",
              "              title=\"Convert this dataframe to an interactive table.\"\n",
              "              style=\"display:none;\">\n",
              "        \n",
              "  <svg xmlns=\"http://www.w3.org/2000/svg\" height=\"24px\"viewBox=\"0 0 24 24\"\n",
              "       width=\"24px\">\n",
              "    <path d=\"M0 0h24v24H0V0z\" fill=\"none\"/>\n",
              "    <path d=\"M18.56 5.44l.94 2.06.94-2.06 2.06-.94-2.06-.94-.94-2.06-.94 2.06-2.06.94zm-11 1L8.5 8.5l.94-2.06 2.06-.94-2.06-.94L8.5 2.5l-.94 2.06-2.06.94zm10 10l.94 2.06.94-2.06 2.06-.94-2.06-.94-.94-2.06-.94 2.06-2.06.94z\"/><path d=\"M17.41 7.96l-1.37-1.37c-.4-.4-.92-.59-1.43-.59-.52 0-1.04.2-1.43.59L10.3 9.45l-7.72 7.72c-.78.78-.78 2.05 0 2.83L4 21.41c.39.39.9.59 1.41.59.51 0 1.02-.2 1.41-.59l7.78-7.78 2.81-2.81c.8-.78.8-2.07 0-2.86zM5.41 20L4 18.59l7.72-7.72 1.47 1.35L5.41 20z\"/>\n",
              "  </svg>\n",
              "      </button>\n",
              "      \n",
              "  <style>\n",
              "    .colab-df-container {\n",
              "      display:flex;\n",
              "      flex-wrap:wrap;\n",
              "      gap: 12px;\n",
              "    }\n",
              "\n",
              "    .colab-df-convert {\n",
              "      background-color: #E8F0FE;\n",
              "      border: none;\n",
              "      border-radius: 50%;\n",
              "      cursor: pointer;\n",
              "      display: none;\n",
              "      fill: #1967D2;\n",
              "      height: 32px;\n",
              "      padding: 0 0 0 0;\n",
              "      width: 32px;\n",
              "    }\n",
              "\n",
              "    .colab-df-convert:hover {\n",
              "      background-color: #E2EBFA;\n",
              "      box-shadow: 0px 1px 2px rgba(60, 64, 67, 0.3), 0px 1px 3px 1px rgba(60, 64, 67, 0.15);\n",
              "      fill: #174EA6;\n",
              "    }\n",
              "\n",
              "    [theme=dark] .colab-df-convert {\n",
              "      background-color: #3B4455;\n",
              "      fill: #D2E3FC;\n",
              "    }\n",
              "\n",
              "    [theme=dark] .colab-df-convert:hover {\n",
              "      background-color: #434B5C;\n",
              "      box-shadow: 0px 1px 3px 1px rgba(0, 0, 0, 0.15);\n",
              "      filter: drop-shadow(0px 1px 2px rgba(0, 0, 0, 0.3));\n",
              "      fill: #FFFFFF;\n",
              "    }\n",
              "  </style>\n",
              "\n",
              "      <script>\n",
              "        const buttonEl =\n",
              "          document.querySelector('#df-c9564ad7-4516-496f-853e-30658f86b48c button.colab-df-convert');\n",
              "        buttonEl.style.display =\n",
              "          google.colab.kernel.accessAllowed ? 'block' : 'none';\n",
              "\n",
              "        async function convertToInteractive(key) {\n",
              "          const element = document.querySelector('#df-c9564ad7-4516-496f-853e-30658f86b48c');\n",
              "          const dataTable =\n",
              "            await google.colab.kernel.invokeFunction('convertToInteractive',\n",
              "                                                     [key], {});\n",
              "          if (!dataTable) return;\n",
              "\n",
              "          const docLinkHtml = 'Like what you see? Visit the ' +\n",
              "            '<a target=\"_blank\" href=https://colab.research.google.com/notebooks/data_table.ipynb>data table notebook</a>'\n",
              "            + ' to learn more about interactive tables.';\n",
              "          element.innerHTML = '';\n",
              "          dataTable['output_type'] = 'display_data';\n",
              "          await google.colab.output.renderOutput(dataTable, element);\n",
              "          const docLink = document.createElement('div');\n",
              "          docLink.innerHTML = docLinkHtml;\n",
              "          element.appendChild(docLink);\n",
              "        }\n",
              "      </script>\n",
              "    </div>\n",
              "  </div>\n",
              "  "
            ]
          },
          "metadata": {},
          "execution_count": 17
        }
      ]
    },
    {
      "cell_type": "code",
      "source": [
        "top_rank = list(set(bidding_rank['Sum of AD rank'].to_list()))\n",
        "top_rank = top_rank[:20]\n",
        "top_rank"
      ],
      "metadata": {
        "colab": {
          "base_uri": "https://localhost:8080/"
        },
        "id": "ZV5MMtvZO8Yd",
        "outputId": "7e7dcbcf-4f67-4ab9-9bbd-ded622c218ab"
      },
      "execution_count": 18,
      "outputs": [
        {
          "output_type": "execute_result",
          "data": {
            "text/plain": [
              "[1.0,\n",
              " 2.0,\n",
              " 3.0,\n",
              " 4.0,\n",
              " 5.0,\n",
              " 6.0,\n",
              " 7.0,\n",
              " 8.0,\n",
              " 9.0,\n",
              " 10.0,\n",
              " 11.0,\n",
              " 12.0,\n",
              " 13.0,\n",
              " 14.0,\n",
              " 15.0,\n",
              " 16.0,\n",
              " 17.0,\n",
              " 18.0,\n",
              " 19.0,\n",
              " 20.0]"
            ]
          },
          "metadata": {},
          "execution_count": 18
        }
      ]
    },
    {
      "cell_type": "markdown",
      "source": [
        "###1~8등 확인"
      ],
      "metadata": {
        "id": "1Mgzzim-tGOi"
      }
    },
    {
      "cell_type": "code",
      "source": [
        "design_A = bidding_rank[bidding_rank['Sum of AD rank'] <= 4] \n",
        "design_B = bidding_rank[bidding_rank['Sum of AD rank'] >= 5] "
      ],
      "metadata": {
        "id": "vSfQX29qP_PJ"
      },
      "execution_count": 19,
      "outputs": []
    },
    {
      "cell_type": "code",
      "source": [
        "design_A"
      ],
      "metadata": {
        "colab": {
          "base_uri": "https://localhost:8080/",
          "height": 423
        },
        "id": "9xxz2JaJQGK_",
        "outputId": "9557cf5f-8f73-45cf-cc44-29c91e30d3cd"
      },
      "execution_count": 20,
      "outputs": [
        {
          "output_type": "execute_result",
          "data": {
            "text/plain": [
              "          index  Impression  Click   Cost  Sum of AD rank  Bid  Price(PC)  \\\n",
              "0       9190721          22      1  280.0             1.0   60       9900   \n",
              "1       3592074           1      0    0.0             1.0  300       9900   \n",
              "2       3592078           3      0    0.0             1.0   50       5900   \n",
              "3       3044310          39      0    0.0             1.0   50    1187500   \n",
              "4       3044301           1      0    0.0             1.0   50     799000   \n",
              "...         ...         ...    ...    ...             ...  ...        ...   \n",
              "422705  1661455         107      3  870.0             4.0   50      48900   \n",
              "422706  1857658           8      0    0.0             4.0  100     359000   \n",
              "422707  8284130           4      0    0.0             4.0   50      15600   \n",
              "422708  8128855           1      0    0.0             4.0   50      10700   \n",
              "422709  7373632           7      0    0.0             4.0   50      10500   \n",
              "\n",
              "        Price(Mobile)  Delivery Fee Category Name 1 Category Name 2  \\\n",
              "0                9900          3000            패션잡화            여성신발   \n",
              "1                9900          3000          화장품/미용            헤어케어   \n",
              "2                5900          3000          화장품/미용            헤어케어   \n",
              "3             1187500            -1         가구/인테리어            주방가구   \n",
              "4              799000             0         가구/인테리어            주방가구   \n",
              "...               ...           ...             ...             ...   \n",
              "422705          48900             0         가구/인테리어          인테리어소품   \n",
              "422706         359000            -1         가구/인테리어            거실가구   \n",
              "422707          15600          3000           생활/건강            주방용품   \n",
              "422708          10700             0           생활/건강         문구/사무용품   \n",
              "422709          10500             0           생활/건강            생활용품   \n",
              "\n",
              "       Category Name 3 Category Name 4       CTR    CPC   CPM  \n",
              "0                  실내화      uncategory  4.545455  280.0  0.28  \n",
              "1                   린스      uncategory  0.000000    0.0  0.00  \n",
              "2                헤어에센스      uncategory  0.000000    0.0  0.00  \n",
              "3                식탁/의자           식탁테이블  0.000000    0.0  0.00  \n",
              "4                식탁/의자           식탁테이블  0.000000    0.0  0.00  \n",
              "...                ...             ...       ...    ...   ...  \n",
              "422705             스탠드            장스탠드  2.803738  290.0  0.87  \n",
              "422706           TV거실장      uncategory  0.000000    0.0  0.00  \n",
              "422707            냄비/솥            전골냄비  0.000000    0.0  0.00  \n",
              "422708            문구용품           풀/접착제  0.000000    0.0  0.00  \n",
              "422709        제습/방향/탈취        섬유탈취스프레이  0.000000    0.0  0.00  \n",
              "\n",
              "[422710 rows x 16 columns]"
            ],
            "text/html": [
              "\n",
              "  <div id=\"df-5341e25e-8d13-407a-a4e3-728874b77767\">\n",
              "    <div class=\"colab-df-container\">\n",
              "      <div>\n",
              "<style scoped>\n",
              "    .dataframe tbody tr th:only-of-type {\n",
              "        vertical-align: middle;\n",
              "    }\n",
              "\n",
              "    .dataframe tbody tr th {\n",
              "        vertical-align: top;\n",
              "    }\n",
              "\n",
              "    .dataframe thead th {\n",
              "        text-align: right;\n",
              "    }\n",
              "</style>\n",
              "<table border=\"1\" class=\"dataframe\">\n",
              "  <thead>\n",
              "    <tr style=\"text-align: right;\">\n",
              "      <th></th>\n",
              "      <th>index</th>\n",
              "      <th>Impression</th>\n",
              "      <th>Click</th>\n",
              "      <th>Cost</th>\n",
              "      <th>Sum of AD rank</th>\n",
              "      <th>Bid</th>\n",
              "      <th>Price(PC)</th>\n",
              "      <th>Price(Mobile)</th>\n",
              "      <th>Delivery Fee</th>\n",
              "      <th>Category Name 1</th>\n",
              "      <th>Category Name 2</th>\n",
              "      <th>Category Name 3</th>\n",
              "      <th>Category Name 4</th>\n",
              "      <th>CTR</th>\n",
              "      <th>CPC</th>\n",
              "      <th>CPM</th>\n",
              "    </tr>\n",
              "  </thead>\n",
              "  <tbody>\n",
              "    <tr>\n",
              "      <th>0</th>\n",
              "      <td>9190721</td>\n",
              "      <td>22</td>\n",
              "      <td>1</td>\n",
              "      <td>280.0</td>\n",
              "      <td>1.0</td>\n",
              "      <td>60</td>\n",
              "      <td>9900</td>\n",
              "      <td>9900</td>\n",
              "      <td>3000</td>\n",
              "      <td>패션잡화</td>\n",
              "      <td>여성신발</td>\n",
              "      <td>실내화</td>\n",
              "      <td>uncategory</td>\n",
              "      <td>4.545455</td>\n",
              "      <td>280.0</td>\n",
              "      <td>0.28</td>\n",
              "    </tr>\n",
              "    <tr>\n",
              "      <th>1</th>\n",
              "      <td>3592074</td>\n",
              "      <td>1</td>\n",
              "      <td>0</td>\n",
              "      <td>0.0</td>\n",
              "      <td>1.0</td>\n",
              "      <td>300</td>\n",
              "      <td>9900</td>\n",
              "      <td>9900</td>\n",
              "      <td>3000</td>\n",
              "      <td>화장품/미용</td>\n",
              "      <td>헤어케어</td>\n",
              "      <td>린스</td>\n",
              "      <td>uncategory</td>\n",
              "      <td>0.000000</td>\n",
              "      <td>0.0</td>\n",
              "      <td>0.00</td>\n",
              "    </tr>\n",
              "    <tr>\n",
              "      <th>2</th>\n",
              "      <td>3592078</td>\n",
              "      <td>3</td>\n",
              "      <td>0</td>\n",
              "      <td>0.0</td>\n",
              "      <td>1.0</td>\n",
              "      <td>50</td>\n",
              "      <td>5900</td>\n",
              "      <td>5900</td>\n",
              "      <td>3000</td>\n",
              "      <td>화장품/미용</td>\n",
              "      <td>헤어케어</td>\n",
              "      <td>헤어에센스</td>\n",
              "      <td>uncategory</td>\n",
              "      <td>0.000000</td>\n",
              "      <td>0.0</td>\n",
              "      <td>0.00</td>\n",
              "    </tr>\n",
              "    <tr>\n",
              "      <th>3</th>\n",
              "      <td>3044310</td>\n",
              "      <td>39</td>\n",
              "      <td>0</td>\n",
              "      <td>0.0</td>\n",
              "      <td>1.0</td>\n",
              "      <td>50</td>\n",
              "      <td>1187500</td>\n",
              "      <td>1187500</td>\n",
              "      <td>-1</td>\n",
              "      <td>가구/인테리어</td>\n",
              "      <td>주방가구</td>\n",
              "      <td>식탁/의자</td>\n",
              "      <td>식탁테이블</td>\n",
              "      <td>0.000000</td>\n",
              "      <td>0.0</td>\n",
              "      <td>0.00</td>\n",
              "    </tr>\n",
              "    <tr>\n",
              "      <th>4</th>\n",
              "      <td>3044301</td>\n",
              "      <td>1</td>\n",
              "      <td>0</td>\n",
              "      <td>0.0</td>\n",
              "      <td>1.0</td>\n",
              "      <td>50</td>\n",
              "      <td>799000</td>\n",
              "      <td>799000</td>\n",
              "      <td>0</td>\n",
              "      <td>가구/인테리어</td>\n",
              "      <td>주방가구</td>\n",
              "      <td>식탁/의자</td>\n",
              "      <td>식탁테이블</td>\n",
              "      <td>0.000000</td>\n",
              "      <td>0.0</td>\n",
              "      <td>0.00</td>\n",
              "    </tr>\n",
              "    <tr>\n",
              "      <th>...</th>\n",
              "      <td>...</td>\n",
              "      <td>...</td>\n",
              "      <td>...</td>\n",
              "      <td>...</td>\n",
              "      <td>...</td>\n",
              "      <td>...</td>\n",
              "      <td>...</td>\n",
              "      <td>...</td>\n",
              "      <td>...</td>\n",
              "      <td>...</td>\n",
              "      <td>...</td>\n",
              "      <td>...</td>\n",
              "      <td>...</td>\n",
              "      <td>...</td>\n",
              "      <td>...</td>\n",
              "      <td>...</td>\n",
              "    </tr>\n",
              "    <tr>\n",
              "      <th>422705</th>\n",
              "      <td>1661455</td>\n",
              "      <td>107</td>\n",
              "      <td>3</td>\n",
              "      <td>870.0</td>\n",
              "      <td>4.0</td>\n",
              "      <td>50</td>\n",
              "      <td>48900</td>\n",
              "      <td>48900</td>\n",
              "      <td>0</td>\n",
              "      <td>가구/인테리어</td>\n",
              "      <td>인테리어소품</td>\n",
              "      <td>스탠드</td>\n",
              "      <td>장스탠드</td>\n",
              "      <td>2.803738</td>\n",
              "      <td>290.0</td>\n",
              "      <td>0.87</td>\n",
              "    </tr>\n",
              "    <tr>\n",
              "      <th>422706</th>\n",
              "      <td>1857658</td>\n",
              "      <td>8</td>\n",
              "      <td>0</td>\n",
              "      <td>0.0</td>\n",
              "      <td>4.0</td>\n",
              "      <td>100</td>\n",
              "      <td>359000</td>\n",
              "      <td>359000</td>\n",
              "      <td>-1</td>\n",
              "      <td>가구/인테리어</td>\n",
              "      <td>거실가구</td>\n",
              "      <td>TV거실장</td>\n",
              "      <td>uncategory</td>\n",
              "      <td>0.000000</td>\n",
              "      <td>0.0</td>\n",
              "      <td>0.00</td>\n",
              "    </tr>\n",
              "    <tr>\n",
              "      <th>422707</th>\n",
              "      <td>8284130</td>\n",
              "      <td>4</td>\n",
              "      <td>0</td>\n",
              "      <td>0.0</td>\n",
              "      <td>4.0</td>\n",
              "      <td>50</td>\n",
              "      <td>15600</td>\n",
              "      <td>15600</td>\n",
              "      <td>3000</td>\n",
              "      <td>생활/건강</td>\n",
              "      <td>주방용품</td>\n",
              "      <td>냄비/솥</td>\n",
              "      <td>전골냄비</td>\n",
              "      <td>0.000000</td>\n",
              "      <td>0.0</td>\n",
              "      <td>0.00</td>\n",
              "    </tr>\n",
              "    <tr>\n",
              "      <th>422708</th>\n",
              "      <td>8128855</td>\n",
              "      <td>1</td>\n",
              "      <td>0</td>\n",
              "      <td>0.0</td>\n",
              "      <td>4.0</td>\n",
              "      <td>50</td>\n",
              "      <td>10700</td>\n",
              "      <td>10700</td>\n",
              "      <td>0</td>\n",
              "      <td>생활/건강</td>\n",
              "      <td>문구/사무용품</td>\n",
              "      <td>문구용품</td>\n",
              "      <td>풀/접착제</td>\n",
              "      <td>0.000000</td>\n",
              "      <td>0.0</td>\n",
              "      <td>0.00</td>\n",
              "    </tr>\n",
              "    <tr>\n",
              "      <th>422709</th>\n",
              "      <td>7373632</td>\n",
              "      <td>7</td>\n",
              "      <td>0</td>\n",
              "      <td>0.0</td>\n",
              "      <td>4.0</td>\n",
              "      <td>50</td>\n",
              "      <td>10500</td>\n",
              "      <td>10500</td>\n",
              "      <td>0</td>\n",
              "      <td>생활/건강</td>\n",
              "      <td>생활용품</td>\n",
              "      <td>제습/방향/탈취</td>\n",
              "      <td>섬유탈취스프레이</td>\n",
              "      <td>0.000000</td>\n",
              "      <td>0.0</td>\n",
              "      <td>0.00</td>\n",
              "    </tr>\n",
              "  </tbody>\n",
              "</table>\n",
              "<p>422710 rows × 16 columns</p>\n",
              "</div>\n",
              "      <button class=\"colab-df-convert\" onclick=\"convertToInteractive('df-5341e25e-8d13-407a-a4e3-728874b77767')\"\n",
              "              title=\"Convert this dataframe to an interactive table.\"\n",
              "              style=\"display:none;\">\n",
              "        \n",
              "  <svg xmlns=\"http://www.w3.org/2000/svg\" height=\"24px\"viewBox=\"0 0 24 24\"\n",
              "       width=\"24px\">\n",
              "    <path d=\"M0 0h24v24H0V0z\" fill=\"none\"/>\n",
              "    <path d=\"M18.56 5.44l.94 2.06.94-2.06 2.06-.94-2.06-.94-.94-2.06-.94 2.06-2.06.94zm-11 1L8.5 8.5l.94-2.06 2.06-.94-2.06-.94L8.5 2.5l-.94 2.06-2.06.94zm10 10l.94 2.06.94-2.06 2.06-.94-2.06-.94-.94-2.06-.94 2.06-2.06.94z\"/><path d=\"M17.41 7.96l-1.37-1.37c-.4-.4-.92-.59-1.43-.59-.52 0-1.04.2-1.43.59L10.3 9.45l-7.72 7.72c-.78.78-.78 2.05 0 2.83L4 21.41c.39.39.9.59 1.41.59.51 0 1.02-.2 1.41-.59l7.78-7.78 2.81-2.81c.8-.78.8-2.07 0-2.86zM5.41 20L4 18.59l7.72-7.72 1.47 1.35L5.41 20z\"/>\n",
              "  </svg>\n",
              "      </button>\n",
              "      \n",
              "  <style>\n",
              "    .colab-df-container {\n",
              "      display:flex;\n",
              "      flex-wrap:wrap;\n",
              "      gap: 12px;\n",
              "    }\n",
              "\n",
              "    .colab-df-convert {\n",
              "      background-color: #E8F0FE;\n",
              "      border: none;\n",
              "      border-radius: 50%;\n",
              "      cursor: pointer;\n",
              "      display: none;\n",
              "      fill: #1967D2;\n",
              "      height: 32px;\n",
              "      padding: 0 0 0 0;\n",
              "      width: 32px;\n",
              "    }\n",
              "\n",
              "    .colab-df-convert:hover {\n",
              "      background-color: #E2EBFA;\n",
              "      box-shadow: 0px 1px 2px rgba(60, 64, 67, 0.3), 0px 1px 3px 1px rgba(60, 64, 67, 0.15);\n",
              "      fill: #174EA6;\n",
              "    }\n",
              "\n",
              "    [theme=dark] .colab-df-convert {\n",
              "      background-color: #3B4455;\n",
              "      fill: #D2E3FC;\n",
              "    }\n",
              "\n",
              "    [theme=dark] .colab-df-convert:hover {\n",
              "      background-color: #434B5C;\n",
              "      box-shadow: 0px 1px 3px 1px rgba(0, 0, 0, 0.15);\n",
              "      filter: drop-shadow(0px 1px 2px rgba(0, 0, 0, 0.3));\n",
              "      fill: #FFFFFF;\n",
              "    }\n",
              "  </style>\n",
              "\n",
              "      <script>\n",
              "        const buttonEl =\n",
              "          document.querySelector('#df-5341e25e-8d13-407a-a4e3-728874b77767 button.colab-df-convert');\n",
              "        buttonEl.style.display =\n",
              "          google.colab.kernel.accessAllowed ? 'block' : 'none';\n",
              "\n",
              "        async function convertToInteractive(key) {\n",
              "          const element = document.querySelector('#df-5341e25e-8d13-407a-a4e3-728874b77767');\n",
              "          const dataTable =\n",
              "            await google.colab.kernel.invokeFunction('convertToInteractive',\n",
              "                                                     [key], {});\n",
              "          if (!dataTable) return;\n",
              "\n",
              "          const docLinkHtml = 'Like what you see? Visit the ' +\n",
              "            '<a target=\"_blank\" href=https://colab.research.google.com/notebooks/data_table.ipynb>data table notebook</a>'\n",
              "            + ' to learn more about interactive tables.';\n",
              "          element.innerHTML = '';\n",
              "          dataTable['output_type'] = 'display_data';\n",
              "          await google.colab.output.renderOutput(dataTable, element);\n",
              "          const docLink = document.createElement('div');\n",
              "          docLink.innerHTML = docLinkHtml;\n",
              "          element.appendChild(docLink);\n",
              "        }\n",
              "      </script>\n",
              "    </div>\n",
              "  </div>\n",
              "  "
            ]
          },
          "metadata": {},
          "execution_count": 20
        }
      ]
    },
    {
      "cell_type": "code",
      "source": [
        "bidding_rank[bidding_rank[\"Sum of AD rank\"] <= 4].groupby(\"Sum of AD rank\")[\"Cost\"].mean() # A\n",
        "# rank가 2등일 때 cost가 제일 높게 나왔는데, 가장 많은 카테고리는 무엇일까?(help)"
      ],
      "metadata": {
        "colab": {
          "base_uri": "https://localhost:8080/"
        },
        "id": "5gkId8J_AQwQ",
        "outputId": "a04de2df-bc30-4b37-9c9b-8f4ad260c11d"
      },
      "execution_count": 21,
      "outputs": [
        {
          "output_type": "execute_result",
          "data": {
            "text/plain": [
              "Sum of AD rank\n",
              "1.0    361.719708\n",
              "2.0    452.724223\n",
              "3.0    409.031622\n",
              "4.0    247.612626\n",
              "Name: Cost, dtype: float64"
            ]
          },
          "metadata": {},
          "execution_count": 21
        }
      ]
    },
    {
      "cell_type": "code",
      "source": [
        "bidding_rank[bidding_rank[\"Sum of AD rank\"] <= 4].groupby(\"Sum of AD rank\")[\"Impression\"].mean() # A\n"
      ],
      "metadata": {
        "colab": {
          "base_uri": "https://localhost:8080/"
        },
        "id": "HrPPvIOaQwRa",
        "outputId": "90690330-5c6f-41bb-fbd8-443d19469723"
      },
      "execution_count": 22,
      "outputs": [
        {
          "output_type": "execute_result",
          "data": {
            "text/plain": [
              "Sum of AD rank\n",
              "1.0    102.532235\n",
              "2.0    107.934922\n",
              "3.0     77.496370\n",
              "4.0     53.225136\n",
              "Name: Impression, dtype: float64"
            ]
          },
          "metadata": {},
          "execution_count": 22
        }
      ]
    },
    {
      "cell_type": "code",
      "source": [
        "bidding_rank[bidding_rank[\"Sum of AD rank\"] <= 4].groupby(\"Sum of AD rank\")[\"CTR\"].mean() # A\n"
      ],
      "metadata": {
        "colab": {
          "base_uri": "https://localhost:8080/"
        },
        "id": "ktbBjLAXaaxs",
        "outputId": "ac85e23c-d3f2-4584-f917-f0bb8d0c1b2e"
      },
      "execution_count": 23,
      "outputs": [
        {
          "output_type": "execute_result",
          "data": {
            "text/plain": [
              "Sum of AD rank\n",
              "1.0    3.863084\n",
              "2.0    2.782345\n",
              "3.0    2.244019\n",
              "4.0    1.882369\n",
              "Name: CTR, dtype: float64"
            ]
          },
          "metadata": {},
          "execution_count": 23
        }
      ]
    },
    {
      "cell_type": "code",
      "source": [
        "bidding_rank[bidding_rank[\"Sum of AD rank\"] == 2].groupby(\"Category Name 1\")[\"Category Name 2\"].value_counts()[:10] # A"
      ],
      "metadata": {
        "colab": {
          "base_uri": "https://localhost:8080/"
        },
        "id": "nPl45GoFGNyq",
        "outputId": "f51fb5b8-819e-4aae-8bc2-5f7636bdb25e"
      },
      "execution_count": 24,
      "outputs": [
        {
          "output_type": "execute_result",
          "data": {
            "text/plain": [
              "Category Name 1  Category Name 2\n",
              "가구/인테리어          침실가구               17775\n",
              "                 거실가구               14018\n",
              "                 인테리어소품             11208\n",
              "                 서재/사무용가구            9448\n",
              "                 주방가구                9327\n",
              "                 커튼/블라인드             5897\n",
              "                 수납가구                5266\n",
              "                 카페트/러그              4681\n",
              "                 침구단품                4502\n",
              "                 홈데코                 3093\n",
              "Name: Category Name 2, dtype: int64"
            ]
          },
          "metadata": {},
          "execution_count": 24
        }
      ]
    },
    {
      "cell_type": "code",
      "source": [
        "bidding_rank[bidding_rank[\"Sum of AD rank\"] == 2].groupby(\"Sum of AD rank\")[\"Category Name 1\"].value_counts()[:10]"
      ],
      "metadata": {
        "colab": {
          "base_uri": "https://localhost:8080/"
        },
        "id": "YFWecfkeL5Hq",
        "outputId": "cd0e669e-b8b5-44be-f956-d4456aa38099"
      },
      "execution_count": 25,
      "outputs": [
        {
          "output_type": "execute_result",
          "data": {
            "text/plain": [
              "Sum of AD rank  Category Name 1\n",
              "2.0             가구/인테리어            90790\n",
              "                생활/건강              33958\n",
              "                출산/육아               3751\n",
              "                스포츠/레저              1725\n",
              "                화장품/미용               956\n",
              "                디지털/가전               793\n",
              "                패션잡화                 566\n",
              "                패션의류                 217\n",
              "                여가/생활편의              181\n",
              "                식품                    11\n",
              "Name: Category Name 1, dtype: int64"
            ]
          },
          "metadata": {},
          "execution_count": 25
        }
      ]
    },
    {
      "cell_type": "code",
      "source": [
        "bidding_rank[bidding_rank[\"Sum of AD rank\"] == 3].groupby(\"Category Name 1\")[\"Category Name 2\"].value_counts()[:10] # A"
      ],
      "metadata": {
        "colab": {
          "base_uri": "https://localhost:8080/"
        },
        "id": "rEtVwf2YLfNJ",
        "outputId": "9f87df1b-4700-41eb-a504-d94c0007e423"
      },
      "execution_count": 26,
      "outputs": [
        {
          "output_type": "execute_result",
          "data": {
            "text/plain": [
              "Category Name 1  Category Name 2\n",
              "가구/인테리어          침실가구               14942\n",
              "                 거실가구               11505\n",
              "                 주방가구                8419\n",
              "                 인테리어소품              8123\n",
              "                 서재/사무용가구            8023\n",
              "                 수납가구                4598\n",
              "                 커튼/블라인드             4157\n",
              "                 침구단품                3213\n",
              "                 카페트/러그              3105\n",
              "                 홈데코                 2196\n",
              "Name: Category Name 2, dtype: int64"
            ]
          },
          "metadata": {},
          "execution_count": 26
        }
      ]
    },
    {
      "cell_type": "code",
      "source": [
        "bidding_rank[bidding_rank[\"Sum of AD rank\"] >= 5].groupby(\"Sum of AD rank\")[\"Cost\"].mean()[:10] # B"
      ],
      "metadata": {
        "colab": {
          "base_uri": "https://localhost:8080/"
        },
        "id": "HNR4zBsLARVF",
        "outputId": "56623d26-930f-4923-f072-eab39d57ba29"
      },
      "execution_count": 27,
      "outputs": [
        {
          "output_type": "execute_result",
          "data": {
            "text/plain": [
              "Sum of AD rank\n",
              "5.0     214.882991\n",
              "6.0     158.937013\n",
              "7.0     147.214796\n",
              "8.0     108.420377\n",
              "9.0      94.896310\n",
              "10.0     72.892972\n",
              "Name: Cost, dtype: float64"
            ]
          },
          "metadata": {},
          "execution_count": 27
        }
      ]
    },
    {
      "cell_type": "code",
      "source": [
        "bidding_rank[bidding_rank[\"Sum of AD rank\"] >= 5].groupby(\"Sum of AD rank\")[\"Impression\"].mean()[:10] # B\n"
      ],
      "metadata": {
        "colab": {
          "base_uri": "https://localhost:8080/"
        },
        "id": "ozhleck6Q5Pr",
        "outputId": "97762bab-d740-445c-ffdc-b7af1404fd73"
      },
      "execution_count": 28,
      "outputs": [
        {
          "output_type": "execute_result",
          "data": {
            "text/plain": [
              "Sum of AD rank\n",
              "5.0     48.662604\n",
              "6.0     40.295189\n",
              "7.0     39.800962\n",
              "8.0     32.444396\n",
              "9.0     30.422775\n",
              "10.0    23.736753\n",
              "Name: Impression, dtype: float64"
            ]
          },
          "metadata": {},
          "execution_count": 28
        }
      ]
    },
    {
      "cell_type": "code",
      "source": [
        "bidding_rank[bidding_rank[\"Sum of AD rank\"] >= 5].groupby(\"Sum of AD rank\")[\"CTR\"].mean()# B\n"
      ],
      "metadata": {
        "colab": {
          "base_uri": "https://localhost:8080/"
        },
        "id": "_F-r190ZbF-_",
        "outputId": "3434eabd-7cef-4716-b9fa-f9c50841bad5"
      },
      "execution_count": 29,
      "outputs": [
        {
          "output_type": "execute_result",
          "data": {
            "text/plain": [
              "Sum of AD rank\n",
              "5.0      1.698055\n",
              "6.0      1.515973\n",
              "7.0      1.363668\n",
              "8.0      1.220257\n",
              "9.0      1.167487\n",
              "           ...   \n",
              "96.0     0.126582\n",
              "97.0     1.060071\n",
              "98.0     1.129032\n",
              "99.0     0.000000\n",
              "100.0    0.566893\n",
              "Name: CTR, Length: 96, dtype: float64"
            ]
          },
          "metadata": {},
          "execution_count": 29
        }
      ]
    },
    {
      "cell_type": "code",
      "source": [
        "def test(category):\n",
        "    df = bidding_rank.loc[bidding_rank['Sum of AD rank'] <= 4]\n",
        "    print(df.loc[bidding_rank['Category Name 1'] == category, 'CTR'].mean())"
      ],
      "metadata": {
        "id": "075tYj7sB_Ud"
      },
      "execution_count": 30,
      "outputs": []
    },
    {
      "cell_type": "code",
      "source": [
        "#Design A CTR 확인\n",
        "test('가구/인테리어')\n",
        "test('생활/건강')\n",
        "test('출산/육아')\n",
        "#category 순위에서 어떤품목이 1등일까"
      ],
      "metadata": {
        "colab": {
          "base_uri": "https://localhost:8080/"
        },
        "id": "xOo_YeYCFt1b",
        "outputId": "a55e2f96-aa65-4b2f-cb29-0d7e1a9ed881"
      },
      "execution_count": 31,
      "outputs": [
        {
          "output_type": "stream",
          "name": "stdout",
          "text": [
            "2.461420578189372\n",
            "2.8264950081946005\n",
            "3.34307822055886\n"
          ]
        }
      ]
    },
    {
      "cell_type": "code",
      "source": [
        "bidding_rank[bidding_rank[\"Sum of AD rank\"] >= 5].groupby(\"Sum of AD rank\")[\"Cost\"].mean()[:10] # B"
      ],
      "metadata": {
        "colab": {
          "base_uri": "https://localhost:8080/"
        },
        "id": "NbcZcJJWMB6O",
        "outputId": "11113bfd-f6cc-4ab3-99a1-657c8334b5f2"
      },
      "execution_count": 32,
      "outputs": [
        {
          "output_type": "execute_result",
          "data": {
            "text/plain": [
              "Sum of AD rank\n",
              "5.0     214.882991\n",
              "6.0     158.937013\n",
              "7.0     147.214796\n",
              "8.0     108.420377\n",
              "9.0      94.896310\n",
              "10.0     72.892972\n",
              "Name: Cost, dtype: float64"
            ]
          },
          "metadata": {},
          "execution_count": 32
        }
      ]
    },
    {
      "cell_type": "code",
      "source": [
        "bidding_rank[bidding_rank[\"Sum of AD rank\"] == 5].groupby(\"Sum of AD rank\")[\"Category Name 1\"].value_counts()[:10] # B\n",
        "# 1~5등(A에서는 Category Name 2 침실가구가 높은 반면, 5~10등은 가구/인테리어가 높았다. )"
      ],
      "metadata": {
        "colab": {
          "base_uri": "https://localhost:8080/"
        },
        "id": "0j-9jEQlMCAy",
        "outputId": "90a7584f-d2cf-498b-a432-6e3f6d3d305d"
      },
      "execution_count": 33,
      "outputs": [
        {
          "output_type": "execute_result",
          "data": {
            "text/plain": [
              "Sum of AD rank  Category Name 1\n",
              "5.0             가구/인테리어            67310\n",
              "                생활/건강              22815\n",
              "                출산/육아               2165\n",
              "                스포츠/레저              1147\n",
              "                화장품/미용               773\n",
              "                패션잡화                 578\n",
              "                디지털/가전               548\n",
              "                패션의류                 182\n",
              "                여가/생활편의               65\n",
              "                식품                     8\n",
              "Name: Category Name 1, dtype: int64"
            ]
          },
          "metadata": {},
          "execution_count": 33
        }
      ]
    },
    {
      "cell_type": "code",
      "source": [
        "bidding_rank[bidding_rank[\"Sum of AD rank\"] == 5].groupby(\"Category Name 1\")[\"Category Name 2\"].value_counts()[:10] # B"
      ],
      "metadata": {
        "colab": {
          "base_uri": "https://localhost:8080/"
        },
        "id": "8T5npuQBMCHx",
        "outputId": "05d644e6-b2b9-4fba-88fc-4b9f2c643ce5"
      },
      "execution_count": 34,
      "outputs": [
        {
          "output_type": "execute_result",
          "data": {
            "text/plain": [
              "Category Name 1  Category Name 2\n",
              "가구/인테리어          침실가구               14453\n",
              "                 거실가구                9952\n",
              "                 주방가구                8348\n",
              "                 서재/사무용가구            8012\n",
              "                 인테리어소품              6469\n",
              "                 수납가구                4519\n",
              "                 커튼/블라인드             3560\n",
              "                 카페트/러그              3038\n",
              "                 침구단품                2530\n",
              "                 홈데코                 2218\n",
              "Name: Category Name 2, dtype: int64"
            ]
          },
          "metadata": {},
          "execution_count": 34
        }
      ]
    },
    {
      "cell_type": "code",
      "source": [
        "def test(category):\n",
        "    df = bidding_rank.loc[bidding_rank['Sum of AD rank'] >= 5][:10]\n",
        "    print(df.loc[bidding_rank['Category Name 1'] == category, 'CTR'].mean())"
      ],
      "metadata": {
        "id": "dP5I3ux-MCN6"
      },
      "execution_count": 35,
      "outputs": []
    },
    {
      "cell_type": "code",
      "source": [
        "#Design B CTR 확인\n",
        "test('가구/인테리어')\n",
        "test('생활/건강')\n",
        "test('출산/육아')\n",
        "\n",
        "#1~5등에 비해 현저하게 CTR이 낮음"
      ],
      "metadata": {
        "colab": {
          "base_uri": "https://localhost:8080/"
        },
        "id": "PgjZwMDnMeT8",
        "outputId": "2f95d5cd-53cc-40cd-b64a-c3cda9d7fdda"
      },
      "execution_count": 36,
      "outputs": [
        {
          "output_type": "stream",
          "name": "stdout",
          "text": [
            "0.0\n",
            "0.3024803387779795\n",
            "1.550387596899225\n"
          ]
        }
      ]
    },
    {
      "cell_type": "code",
      "source": [
        "from scipy import stats\n"
      ],
      "metadata": {
        "id": "8SnZfUF-KjEv"
      },
      "execution_count": 37,
      "outputs": []
    },
    {
      "cell_type": "code",
      "source": [
        "#design_A = design_A.drop(columns=['index','CPC','Cost','Bid','Price(PC)','Price(Mobile)','Delivery Fee','Category Name 1','Category Name 2','Category Name 3','Category Name 4','Impression'])\n",
        "rank_A = design_A['Sum of AD rank']\n",
        "rank_A"
      ],
      "metadata": {
        "colab": {
          "base_uri": "https://localhost:8080/"
        },
        "id": "KrLzwnHKQY7n",
        "outputId": "5c7bb517-67bb-4a60-dc39-229f57d29e18"
      },
      "execution_count": 38,
      "outputs": [
        {
          "output_type": "execute_result",
          "data": {
            "text/plain": [
              "0         1.0\n",
              "1         1.0\n",
              "2         1.0\n",
              "3         1.0\n",
              "4         1.0\n",
              "         ... \n",
              "422705    4.0\n",
              "422706    4.0\n",
              "422707    4.0\n",
              "422708    4.0\n",
              "422709    4.0\n",
              "Name: Sum of AD rank, Length: 422710, dtype: float64"
            ]
          },
          "metadata": {},
          "execution_count": 38
        }
      ]
    },
    {
      "cell_type": "code",
      "source": [
        "Click_A= design_A['Click']\n",
        "Click_A # A의 클릭"
      ],
      "metadata": {
        "colab": {
          "base_uri": "https://localhost:8080/"
        },
        "id": "ZqDaOQ72YAQb",
        "outputId": "a71519a3-bb1a-4dfb-eeb3-83fbf35e3435"
      },
      "execution_count": 39,
      "outputs": [
        {
          "output_type": "execute_result",
          "data": {
            "text/plain": [
              "0         1\n",
              "1         0\n",
              "2         0\n",
              "3         0\n",
              "4         0\n",
              "         ..\n",
              "422705    3\n",
              "422706    0\n",
              "422707    0\n",
              "422708    0\n",
              "422709    0\n",
              "Name: Click, Length: 422710, dtype: int64"
            ]
          },
          "metadata": {},
          "execution_count": 39
        }
      ]
    },
    {
      "cell_type": "code",
      "source": [
        "Click_A.mean()"
      ],
      "metadata": {
        "colab": {
          "base_uri": "https://localhost:8080/"
        },
        "id": "1EP7-NUiW5dR",
        "outputId": "37da54db-92b0-4193-9357-2e032a61153c"
      },
      "execution_count": 40,
      "outputs": [
        {
          "output_type": "execute_result",
          "data": {
            "text/plain": [
              "1.561391970854723"
            ]
          },
          "metadata": {},
          "execution_count": 40
        }
      ]
    },
    {
      "cell_type": "code",
      "source": [
        "#design_B = design_B.drop(columns=['index','CPC','Cost','Bid','Price(PC)','Price(Mobile)','Delivery Fee','Category Name 1','Category Name 2','Category Name 3','Category Name 4'])\n",
        "rank_B= design_B['Sum of AD rank']\n",
        "rank_B.sum()"
      ],
      "metadata": {
        "colab": {
          "base_uri": "https://localhost:8080/"
        },
        "id": "V8A5g-57RAJD",
        "outputId": "81f29b85-9d61-4879-839e-3b22e024bd9c"
      },
      "execution_count": 41,
      "outputs": [
        {
          "output_type": "execute_result",
          "data": {
            "text/plain": [
              "14066088.0"
            ]
          },
          "metadata": {},
          "execution_count": 41
        }
      ]
    },
    {
      "cell_type": "code",
      "source": [
        "Click_B= design_B['Click']\n",
        "Click_B"
      ],
      "metadata": {
        "colab": {
          "base_uri": "https://localhost:8080/"
        },
        "id": "OePTgqQAZSr4",
        "outputId": "fb3bc4a1-2155-4cc3-faee-89a554c4fc20"
      },
      "execution_count": 42,
      "outputs": [
        {
          "output_type": "execute_result",
          "data": {
            "text/plain": [
              "422710     5\n",
              "422711     0\n",
              "422712     0\n",
              "422713     0\n",
              "422714     0\n",
              "          ..\n",
              "1331206    0\n",
              "1331207    0\n",
              "1331208    0\n",
              "1331209    0\n",
              "1331210    0\n",
              "Name: Click, Length: 908501, dtype: int64"
            ]
          },
          "metadata": {},
          "execution_count": 42
        }
      ]
    },
    {
      "cell_type": "code",
      "source": [
        "Click_B.mean()"
      ],
      "metadata": {
        "colab": {
          "base_uri": "https://localhost:8080/"
        },
        "id": "2l_fVd2yXI9l",
        "outputId": "aa30e3b4-0386-4c75-a6b8-635fda723e2a"
      },
      "execution_count": 43,
      "outputs": [
        {
          "output_type": "execute_result",
          "data": {
            "text/plain": [
              "0.33124674601348814"
            ]
          },
          "metadata": {},
          "execution_count": 43
        }
      ]
    },
    {
      "cell_type": "code",
      "source": [
        "rank_B"
      ],
      "metadata": {
        "colab": {
          "base_uri": "https://localhost:8080/"
        },
        "id": "Krombft5WxZJ",
        "outputId": "60efb6ea-d7dd-4177-a181-b0c7f027e157"
      },
      "execution_count": 44,
      "outputs": [
        {
          "output_type": "execute_result",
          "data": {
            "text/plain": [
              "422710       5.0\n",
              "422711       5.0\n",
              "422712       5.0\n",
              "422713       5.0\n",
              "422714       5.0\n",
              "           ...  \n",
              "1331206    100.0\n",
              "1331207    100.0\n",
              "1331208    100.0\n",
              "1331209    100.0\n",
              "1331210    100.0\n",
              "Name: Sum of AD rank, Length: 908501, dtype: float64"
            ]
          },
          "metadata": {},
          "execution_count": 44
        }
      ]
    },
    {
      "cell_type": "code",
      "source": [
        "print(rank_A.sum(), Click_A.sum())\n",
        "print(rank_B.sum(), Click_B.sum())"
      ],
      "metadata": {
        "colab": {
          "base_uri": "https://localhost:8080/"
        },
        "id": "Khk5NZaFbm3D",
        "outputId": "7f671b83-7e0f-4548-9151-2e7ff0b97ca3"
      },
      "execution_count": 45,
      "outputs": [
        {
          "output_type": "stream",
          "name": "stdout",
          "text": [
            "1103673.0 660016\n",
            "14066088.0 300938\n"
          ]
        }
      ]
    },
    {
      "cell_type": "code",
      "source": [
        "bidding_rank"
      ],
      "metadata": {
        "colab": {
          "base_uri": "https://localhost:8080/",
          "height": 423
        },
        "id": "AIHPhxQ2YvD4",
        "outputId": "209ce440-b2b4-4524-d548-01ce1a281db8"
      },
      "execution_count": 46,
      "outputs": [
        {
          "output_type": "execute_result",
          "data": {
            "text/plain": [
              "           index  Impression  Click   Cost  Sum of AD rank  Bid  Price(PC)  \\\n",
              "0        9190721          22      1  280.0             1.0   60       9900   \n",
              "1        3592074           1      0    0.0             1.0  300       9900   \n",
              "2        3592078           3      0    0.0             1.0   50       5900   \n",
              "3        3044310          39      0    0.0             1.0   50    1187500   \n",
              "4        3044301           1      0    0.0             1.0   50     799000   \n",
              "...          ...         ...    ...    ...             ...  ...        ...   \n",
              "1331206  3303386           1      0    0.0           100.0  360      39900   \n",
              "1331207   112516           1      0    0.0           100.0   50      97900   \n",
              "1331208  9190741           1      0    0.0           100.0  300      15840   \n",
              "1331209  9143558           2      0    0.0           100.0   50      22900   \n",
              "1331210  9142532           1      0    0.0           100.0  500      61900   \n",
              "\n",
              "         Price(Mobile)  Delivery Fee Category Name 1 Category Name 2  \\\n",
              "0                 9900          3000            패션잡화            여성신발   \n",
              "1                 9900          3000          화장품/미용            헤어케어   \n",
              "2                 5900          3000          화장품/미용            헤어케어   \n",
              "3              1187500            -1         가구/인테리어            주방가구   \n",
              "4               799000             0         가구/인테리어            주방가구   \n",
              "...                ...           ...             ...             ...   \n",
              "1331206          39900            -1         가구/인테리어            침실가구   \n",
              "1331207          97900             0         가구/인테리어            침실가구   \n",
              "1331208          15840          3000            패션잡화            남성신발   \n",
              "1331209          22900          4000         가구/인테리어        서재/사무용가구   \n",
              "1331210          61900            -1         가구/인테리어            주방가구   \n",
              "\n",
              "        Category Name 3 Category Name 4       CTR    CPC   CPM  \n",
              "0                   실내화      uncategory  4.545455  280.0  0.28  \n",
              "1                    린스      uncategory  0.000000    0.0  0.00  \n",
              "2                 헤어에센스      uncategory  0.000000    0.0  0.00  \n",
              "3                 식탁/의자           식탁테이블  0.000000    0.0  0.00  \n",
              "4                 식탁/의자           식탁테이블  0.000000    0.0  0.00  \n",
              "...                 ...             ...       ...    ...   ...  \n",
              "1331206              협탁      uncategory  0.000000    0.0  0.00  \n",
              "1331207             화장대              콘솔  0.000000    0.0  0.00  \n",
              "1331208             슬리퍼      uncategory  0.000000    0.0  0.00  \n",
              "1331209              의자              스툴  0.000000    0.0  0.00  \n",
              "1331210           식탁/의자           식탁테이블  0.000000    0.0  0.00  \n",
              "\n",
              "[1331211 rows x 16 columns]"
            ],
            "text/html": [
              "\n",
              "  <div id=\"df-275f6993-8c8e-4107-93fc-c70030d5c638\">\n",
              "    <div class=\"colab-df-container\">\n",
              "      <div>\n",
              "<style scoped>\n",
              "    .dataframe tbody tr th:only-of-type {\n",
              "        vertical-align: middle;\n",
              "    }\n",
              "\n",
              "    .dataframe tbody tr th {\n",
              "        vertical-align: top;\n",
              "    }\n",
              "\n",
              "    .dataframe thead th {\n",
              "        text-align: right;\n",
              "    }\n",
              "</style>\n",
              "<table border=\"1\" class=\"dataframe\">\n",
              "  <thead>\n",
              "    <tr style=\"text-align: right;\">\n",
              "      <th></th>\n",
              "      <th>index</th>\n",
              "      <th>Impression</th>\n",
              "      <th>Click</th>\n",
              "      <th>Cost</th>\n",
              "      <th>Sum of AD rank</th>\n",
              "      <th>Bid</th>\n",
              "      <th>Price(PC)</th>\n",
              "      <th>Price(Mobile)</th>\n",
              "      <th>Delivery Fee</th>\n",
              "      <th>Category Name 1</th>\n",
              "      <th>Category Name 2</th>\n",
              "      <th>Category Name 3</th>\n",
              "      <th>Category Name 4</th>\n",
              "      <th>CTR</th>\n",
              "      <th>CPC</th>\n",
              "      <th>CPM</th>\n",
              "    </tr>\n",
              "  </thead>\n",
              "  <tbody>\n",
              "    <tr>\n",
              "      <th>0</th>\n",
              "      <td>9190721</td>\n",
              "      <td>22</td>\n",
              "      <td>1</td>\n",
              "      <td>280.0</td>\n",
              "      <td>1.0</td>\n",
              "      <td>60</td>\n",
              "      <td>9900</td>\n",
              "      <td>9900</td>\n",
              "      <td>3000</td>\n",
              "      <td>패션잡화</td>\n",
              "      <td>여성신발</td>\n",
              "      <td>실내화</td>\n",
              "      <td>uncategory</td>\n",
              "      <td>4.545455</td>\n",
              "      <td>280.0</td>\n",
              "      <td>0.28</td>\n",
              "    </tr>\n",
              "    <tr>\n",
              "      <th>1</th>\n",
              "      <td>3592074</td>\n",
              "      <td>1</td>\n",
              "      <td>0</td>\n",
              "      <td>0.0</td>\n",
              "      <td>1.0</td>\n",
              "      <td>300</td>\n",
              "      <td>9900</td>\n",
              "      <td>9900</td>\n",
              "      <td>3000</td>\n",
              "      <td>화장품/미용</td>\n",
              "      <td>헤어케어</td>\n",
              "      <td>린스</td>\n",
              "      <td>uncategory</td>\n",
              "      <td>0.000000</td>\n",
              "      <td>0.0</td>\n",
              "      <td>0.00</td>\n",
              "    </tr>\n",
              "    <tr>\n",
              "      <th>2</th>\n",
              "      <td>3592078</td>\n",
              "      <td>3</td>\n",
              "      <td>0</td>\n",
              "      <td>0.0</td>\n",
              "      <td>1.0</td>\n",
              "      <td>50</td>\n",
              "      <td>5900</td>\n",
              "      <td>5900</td>\n",
              "      <td>3000</td>\n",
              "      <td>화장품/미용</td>\n",
              "      <td>헤어케어</td>\n",
              "      <td>헤어에센스</td>\n",
              "      <td>uncategory</td>\n",
              "      <td>0.000000</td>\n",
              "      <td>0.0</td>\n",
              "      <td>0.00</td>\n",
              "    </tr>\n",
              "    <tr>\n",
              "      <th>3</th>\n",
              "      <td>3044310</td>\n",
              "      <td>39</td>\n",
              "      <td>0</td>\n",
              "      <td>0.0</td>\n",
              "      <td>1.0</td>\n",
              "      <td>50</td>\n",
              "      <td>1187500</td>\n",
              "      <td>1187500</td>\n",
              "      <td>-1</td>\n",
              "      <td>가구/인테리어</td>\n",
              "      <td>주방가구</td>\n",
              "      <td>식탁/의자</td>\n",
              "      <td>식탁테이블</td>\n",
              "      <td>0.000000</td>\n",
              "      <td>0.0</td>\n",
              "      <td>0.00</td>\n",
              "    </tr>\n",
              "    <tr>\n",
              "      <th>4</th>\n",
              "      <td>3044301</td>\n",
              "      <td>1</td>\n",
              "      <td>0</td>\n",
              "      <td>0.0</td>\n",
              "      <td>1.0</td>\n",
              "      <td>50</td>\n",
              "      <td>799000</td>\n",
              "      <td>799000</td>\n",
              "      <td>0</td>\n",
              "      <td>가구/인테리어</td>\n",
              "      <td>주방가구</td>\n",
              "      <td>식탁/의자</td>\n",
              "      <td>식탁테이블</td>\n",
              "      <td>0.000000</td>\n",
              "      <td>0.0</td>\n",
              "      <td>0.00</td>\n",
              "    </tr>\n",
              "    <tr>\n",
              "      <th>...</th>\n",
              "      <td>...</td>\n",
              "      <td>...</td>\n",
              "      <td>...</td>\n",
              "      <td>...</td>\n",
              "      <td>...</td>\n",
              "      <td>...</td>\n",
              "      <td>...</td>\n",
              "      <td>...</td>\n",
              "      <td>...</td>\n",
              "      <td>...</td>\n",
              "      <td>...</td>\n",
              "      <td>...</td>\n",
              "      <td>...</td>\n",
              "      <td>...</td>\n",
              "      <td>...</td>\n",
              "      <td>...</td>\n",
              "    </tr>\n",
              "    <tr>\n",
              "      <th>1331206</th>\n",
              "      <td>3303386</td>\n",
              "      <td>1</td>\n",
              "      <td>0</td>\n",
              "      <td>0.0</td>\n",
              "      <td>100.0</td>\n",
              "      <td>360</td>\n",
              "      <td>39900</td>\n",
              "      <td>39900</td>\n",
              "      <td>-1</td>\n",
              "      <td>가구/인테리어</td>\n",
              "      <td>침실가구</td>\n",
              "      <td>협탁</td>\n",
              "      <td>uncategory</td>\n",
              "      <td>0.000000</td>\n",
              "      <td>0.0</td>\n",
              "      <td>0.00</td>\n",
              "    </tr>\n",
              "    <tr>\n",
              "      <th>1331207</th>\n",
              "      <td>112516</td>\n",
              "      <td>1</td>\n",
              "      <td>0</td>\n",
              "      <td>0.0</td>\n",
              "      <td>100.0</td>\n",
              "      <td>50</td>\n",
              "      <td>97900</td>\n",
              "      <td>97900</td>\n",
              "      <td>0</td>\n",
              "      <td>가구/인테리어</td>\n",
              "      <td>침실가구</td>\n",
              "      <td>화장대</td>\n",
              "      <td>콘솔</td>\n",
              "      <td>0.000000</td>\n",
              "      <td>0.0</td>\n",
              "      <td>0.00</td>\n",
              "    </tr>\n",
              "    <tr>\n",
              "      <th>1331208</th>\n",
              "      <td>9190741</td>\n",
              "      <td>1</td>\n",
              "      <td>0</td>\n",
              "      <td>0.0</td>\n",
              "      <td>100.0</td>\n",
              "      <td>300</td>\n",
              "      <td>15840</td>\n",
              "      <td>15840</td>\n",
              "      <td>3000</td>\n",
              "      <td>패션잡화</td>\n",
              "      <td>남성신발</td>\n",
              "      <td>슬리퍼</td>\n",
              "      <td>uncategory</td>\n",
              "      <td>0.000000</td>\n",
              "      <td>0.0</td>\n",
              "      <td>0.00</td>\n",
              "    </tr>\n",
              "    <tr>\n",
              "      <th>1331209</th>\n",
              "      <td>9143558</td>\n",
              "      <td>2</td>\n",
              "      <td>0</td>\n",
              "      <td>0.0</td>\n",
              "      <td>100.0</td>\n",
              "      <td>50</td>\n",
              "      <td>22900</td>\n",
              "      <td>22900</td>\n",
              "      <td>4000</td>\n",
              "      <td>가구/인테리어</td>\n",
              "      <td>서재/사무용가구</td>\n",
              "      <td>의자</td>\n",
              "      <td>스툴</td>\n",
              "      <td>0.000000</td>\n",
              "      <td>0.0</td>\n",
              "      <td>0.00</td>\n",
              "    </tr>\n",
              "    <tr>\n",
              "      <th>1331210</th>\n",
              "      <td>9142532</td>\n",
              "      <td>1</td>\n",
              "      <td>0</td>\n",
              "      <td>0.0</td>\n",
              "      <td>100.0</td>\n",
              "      <td>500</td>\n",
              "      <td>61900</td>\n",
              "      <td>61900</td>\n",
              "      <td>-1</td>\n",
              "      <td>가구/인테리어</td>\n",
              "      <td>주방가구</td>\n",
              "      <td>식탁/의자</td>\n",
              "      <td>식탁테이블</td>\n",
              "      <td>0.000000</td>\n",
              "      <td>0.0</td>\n",
              "      <td>0.00</td>\n",
              "    </tr>\n",
              "  </tbody>\n",
              "</table>\n",
              "<p>1331211 rows × 16 columns</p>\n",
              "</div>\n",
              "      <button class=\"colab-df-convert\" onclick=\"convertToInteractive('df-275f6993-8c8e-4107-93fc-c70030d5c638')\"\n",
              "              title=\"Convert this dataframe to an interactive table.\"\n",
              "              style=\"display:none;\">\n",
              "        \n",
              "  <svg xmlns=\"http://www.w3.org/2000/svg\" height=\"24px\"viewBox=\"0 0 24 24\"\n",
              "       width=\"24px\">\n",
              "    <path d=\"M0 0h24v24H0V0z\" fill=\"none\"/>\n",
              "    <path d=\"M18.56 5.44l.94 2.06.94-2.06 2.06-.94-2.06-.94-.94-2.06-.94 2.06-2.06.94zm-11 1L8.5 8.5l.94-2.06 2.06-.94-2.06-.94L8.5 2.5l-.94 2.06-2.06.94zm10 10l.94 2.06.94-2.06 2.06-.94-2.06-.94-.94-2.06-.94 2.06-2.06.94z\"/><path d=\"M17.41 7.96l-1.37-1.37c-.4-.4-.92-.59-1.43-.59-.52 0-1.04.2-1.43.59L10.3 9.45l-7.72 7.72c-.78.78-.78 2.05 0 2.83L4 21.41c.39.39.9.59 1.41.59.51 0 1.02-.2 1.41-.59l7.78-7.78 2.81-2.81c.8-.78.8-2.07 0-2.86zM5.41 20L4 18.59l7.72-7.72 1.47 1.35L5.41 20z\"/>\n",
              "  </svg>\n",
              "      </button>\n",
              "      \n",
              "  <style>\n",
              "    .colab-df-container {\n",
              "      display:flex;\n",
              "      flex-wrap:wrap;\n",
              "      gap: 12px;\n",
              "    }\n",
              "\n",
              "    .colab-df-convert {\n",
              "      background-color: #E8F0FE;\n",
              "      border: none;\n",
              "      border-radius: 50%;\n",
              "      cursor: pointer;\n",
              "      display: none;\n",
              "      fill: #1967D2;\n",
              "      height: 32px;\n",
              "      padding: 0 0 0 0;\n",
              "      width: 32px;\n",
              "    }\n",
              "\n",
              "    .colab-df-convert:hover {\n",
              "      background-color: #E2EBFA;\n",
              "      box-shadow: 0px 1px 2px rgba(60, 64, 67, 0.3), 0px 1px 3px 1px rgba(60, 64, 67, 0.15);\n",
              "      fill: #174EA6;\n",
              "    }\n",
              "\n",
              "    [theme=dark] .colab-df-convert {\n",
              "      background-color: #3B4455;\n",
              "      fill: #D2E3FC;\n",
              "    }\n",
              "\n",
              "    [theme=dark] .colab-df-convert:hover {\n",
              "      background-color: #434B5C;\n",
              "      box-shadow: 0px 1px 3px 1px rgba(0, 0, 0, 0.15);\n",
              "      filter: drop-shadow(0px 1px 2px rgba(0, 0, 0, 0.3));\n",
              "      fill: #FFFFFF;\n",
              "    }\n",
              "  </style>\n",
              "\n",
              "      <script>\n",
              "        const buttonEl =\n",
              "          document.querySelector('#df-275f6993-8c8e-4107-93fc-c70030d5c638 button.colab-df-convert');\n",
              "        buttonEl.style.display =\n",
              "          google.colab.kernel.accessAllowed ? 'block' : 'none';\n",
              "\n",
              "        async function convertToInteractive(key) {\n",
              "          const element = document.querySelector('#df-275f6993-8c8e-4107-93fc-c70030d5c638');\n",
              "          const dataTable =\n",
              "            await google.colab.kernel.invokeFunction('convertToInteractive',\n",
              "                                                     [key], {});\n",
              "          if (!dataTable) return;\n",
              "\n",
              "          const docLinkHtml = 'Like what you see? Visit the ' +\n",
              "            '<a target=\"_blank\" href=https://colab.research.google.com/notebooks/data_table.ipynb>data table notebook</a>'\n",
              "            + ' to learn more about interactive tables.';\n",
              "          element.innerHTML = '';\n",
              "          dataTable['output_type'] = 'display_data';\n",
              "          await google.colab.output.renderOutput(dataTable, element);\n",
              "          const docLink = document.createElement('div');\n",
              "          docLink.innerHTML = docLinkHtml;\n",
              "          element.appendChild(docLink);\n",
              "        }\n",
              "      </script>\n",
              "    </div>\n",
              "  </div>\n",
              "  "
            ]
          },
          "metadata": {},
          "execution_count": 46
        }
      ]
    },
    {
      "cell_type": "code",
      "source": [
        "#1~!00등 자르기\n",
        "design__50 = bidding_rank[bidding_rank['Sum of AD rank'] <= 50] \n",
        "design_100 = bidding_rank[bidding_rank['Sum of AD rank'] >= 51] "
      ],
      "metadata": {
        "id": "CiQX0Ec8YS0z"
      },
      "execution_count": 47,
      "outputs": []
    },
    {
      "cell_type": "code",
      "source": [
        "design__50['Impression'].mean()"
      ],
      "metadata": {
        "colab": {
          "base_uri": "https://localhost:8080/"
        },
        "id": "cPzXTPgRYS3k",
        "outputId": "d824a3f9-a2cf-47e6-94d1-16843465c456"
      },
      "execution_count": 48,
      "outputs": [
        {
          "output_type": "execute_result",
          "data": {
            "text/plain": [
              "45.41886428204372"
            ]
          },
          "metadata": {},
          "execution_count": 48
        }
      ]
    },
    {
      "cell_type": "code",
      "source": [
        "design_100['Impression'].mean()"
      ],
      "metadata": {
        "colab": {
          "base_uri": "https://localhost:8080/"
        },
        "id": "WycuZIlaYS7m",
        "outputId": "d81feeff-ce57-4d30-b0ae-09d347138e48"
      },
      "execution_count": 49,
      "outputs": [
        {
          "output_type": "execute_result",
          "data": {
            "text/plain": [
              "2.3771777746198666"
            ]
          },
          "metadata": {},
          "execution_count": 49
        }
      ]
    },
    {
      "cell_type": "code",
      "source": [
        "design__50['Click'].mean()"
      ],
      "metadata": {
        "colab": {
          "base_uri": "https://localhost:8080/"
        },
        "id": "nV_t7AuZYS-V",
        "outputId": "054afacf-7312-4a4c-da30-dca9e99a9660"
      },
      "execution_count": 50,
      "outputs": [
        {
          "output_type": "execute_result",
          "data": {
            "text/plain": [
              "0.7410121401885456"
            ]
          },
          "metadata": {},
          "execution_count": 50
        }
      ]
    },
    {
      "cell_type": "code",
      "source": [
        "design_100['Click'].mean()"
      ],
      "metadata": {
        "colab": {
          "base_uri": "https://localhost:8080/"
        },
        "id": "nTNXVZwpYTAt",
        "outputId": "715df0f9-7198-4ac9-f82d-4d6942fbf4e8"
      },
      "execution_count": 51,
      "outputs": [
        {
          "output_type": "execute_result",
          "data": {
            "text/plain": [
              "0.01656956089242575"
            ]
          },
          "metadata": {},
          "execution_count": 51
        }
      ]
    },
    {
      "cell_type": "code",
      "source": [
        "design__50['CTR'].mean()"
      ],
      "metadata": {
        "colab": {
          "base_uri": "https://localhost:8080/"
        },
        "id": "NNB9NFc0YTDj",
        "outputId": "47d092e1-8be9-4127-db1c-3dc9ea10ceb4"
      },
      "execution_count": 52,
      "outputs": [
        {
          "output_type": "execute_result",
          "data": {
            "text/plain": [
              "1.705337291009736"
            ]
          },
          "metadata": {},
          "execution_count": 52
        }
      ]
    },
    {
      "cell_type": "code",
      "source": [
        "design_100['CTR'].mean()"
      ],
      "metadata": {
        "colab": {
          "base_uri": "https://localhost:8080/"
        },
        "id": "p3b4zU2VdarP",
        "outputId": "c33a3d78-b649-4a3d-8a70-908d04ea5f0e"
      },
      "execution_count": 53,
      "outputs": [
        {
          "output_type": "execute_result",
          "data": {
            "text/plain": [
              "0.6676726271576163"
            ]
          },
          "metadata": {},
          "execution_count": 53
        }
      ]
    },
    {
      "cell_type": "code",
      "source": [
        "design__50['Cost'].mean()"
      ],
      "metadata": {
        "colab": {
          "base_uri": "https://localhost:8080/"
        },
        "id": "SiS5dOqLdatp",
        "outputId": "2cdbc42d-0272-457d-9ea6-63b51d0a9d3c"
      },
      "execution_count": 54,
      "outputs": [
        {
          "output_type": "execute_result",
          "data": {
            "text/plain": [
              "185.55248120022284"
            ]
          },
          "metadata": {},
          "execution_count": 54
        }
      ]
    },
    {
      "cell_type": "code",
      "source": [
        "design_100['Cost'].mean()"
      ],
      "metadata": {
        "colab": {
          "base_uri": "https://localhost:8080/"
        },
        "id": "pwLUy83XdawS",
        "outputId": "8580b473-a077-4e55-cfa9-980832d15557"
      },
      "execution_count": 55,
      "outputs": [
        {
          "output_type": "execute_result",
          "data": {
            "text/plain": [
              "4.029273838283359"
            ]
          },
          "metadata": {},
          "execution_count": 55
        }
      ]
    },
    {
      "cell_type": "code",
      "source": [
        "design__50['Delivery Fee'].mean()"
      ],
      "metadata": {
        "colab": {
          "base_uri": "https://localhost:8080/"
        },
        "id": "kYxwoBocdays",
        "outputId": "fb9f0428-cd64-4bdf-868f-f830573b5ab0"
      },
      "execution_count": 56,
      "outputs": [
        {
          "output_type": "execute_result",
          "data": {
            "text/plain": [
              "2000.6552075344168"
            ]
          },
          "metadata": {},
          "execution_count": 56
        }
      ]
    },
    {
      "cell_type": "code",
      "source": [
        "design_100['Delivery Fee'].mean()"
      ],
      "metadata": {
        "colab": {
          "base_uri": "https://localhost:8080/"
        },
        "id": "hgPzVZTUda0J",
        "outputId": "c98d2cf6-7a32-47cc-d39f-0fac0ff72045"
      },
      "execution_count": 57,
      "outputs": [
        {
          "output_type": "execute_result",
          "data": {
            "text/plain": [
              "1978.1095068921416"
            ]
          },
          "metadata": {},
          "execution_count": 57
        }
      ]
    },
    {
      "cell_type": "code",
      "source": [
        "design__50['Category Name 1'].value_counts() #"
      ],
      "metadata": {
        "colab": {
          "base_uri": "https://localhost:8080/"
        },
        "id": "F1peF-ltjrVy",
        "outputId": "bc12b8fb-47e4-4a74-d479-5569c2debec8"
      },
      "execution_count": 58,
      "outputs": [
        {
          "output_type": "execute_result",
          "data": {
            "text/plain": [
              "가구/인테리어    928822\n",
              "생활/건강      302968\n",
              "출산/육아       24757\n",
              "스포츠/레저      15495\n",
              "패션잡화         7569\n",
              "화장품/미용       7400\n",
              "디지털/가전       5694\n",
              "패션의류         2299\n",
              "여가/생활편의       814\n",
              "식품            208\n",
              "Name: Category Name 1, dtype: int64"
            ]
          },
          "metadata": {},
          "execution_count": 58
        }
      ]
    },
    {
      "cell_type": "code",
      "source": [
        "design_100['Category Name 1'].value_counts() #"
      ],
      "metadata": {
        "colab": {
          "base_uri": "https://localhost:8080/"
        },
        "id": "uKZKyE_0jrXw",
        "outputId": "9c8f85ec-3df0-4562-f726-1a9c3d15487f"
      },
      "execution_count": 59,
      "outputs": [
        {
          "output_type": "execute_result",
          "data": {
            "text/plain": [
              "가구/인테리어    25075\n",
              "생활/건강       9041\n",
              "스포츠/레저       481\n",
              "패션잡화         219\n",
              "출산/육아        200\n",
              "화장품/미용        71\n",
              "디지털/가전        40\n",
              "패션의류          32\n",
              "여가/생활편의       24\n",
              "식품             2\n",
              "Name: Category Name 1, dtype: int64"
            ]
          },
          "metadata": {},
          "execution_count": 59
        }
      ]
    },
    {
      "cell_type": "markdown",
      "source": [
        "###1~64등\n"
      ],
      "metadata": {
        "id": "XOXpOa0_fSt5"
      }
    },
    {
      "cell_type": "code",
      "source": [
        "design_32 = bidding_rank[bidding_rank['Sum of AD rank'] <= 32] \n",
        "design_64 = bidding_rank[(bidding_rank['Sum of AD rank'] >= 33) & (bidding_rank['Sum of AD rank'] <= 64)]"
      ],
      "metadata": {
        "id": "ZrSUwEYTeQug"
      },
      "execution_count": 60,
      "outputs": []
    },
    {
      "cell_type": "code",
      "source": [
        "design_32['Impression'].mean()"
      ],
      "metadata": {
        "colab": {
          "base_uri": "https://localhost:8080/"
        },
        "id": "-masgMhleQ1n",
        "outputId": "c417c15c-2ad5-49ee-91d9-5a1610b782b1"
      },
      "execution_count": 61,
      "outputs": [
        {
          "output_type": "execute_result",
          "data": {
            "text/plain": [
              "47.143666439334474"
            ]
          },
          "metadata": {},
          "execution_count": 61
        }
      ]
    },
    {
      "cell_type": "code",
      "source": [
        "design_64['Impression'].mean()"
      ],
      "metadata": {
        "colab": {
          "base_uri": "https://localhost:8080/"
        },
        "id": "ZwKSMTsKeQ3q",
        "outputId": "afd9f021-ec8b-4743-c5d1-0ea61c195564"
      },
      "execution_count": 62,
      "outputs": [
        {
          "output_type": "execute_result",
          "data": {
            "text/plain": [
              "4.260000575572695"
            ]
          },
          "metadata": {},
          "execution_count": 62
        }
      ]
    },
    {
      "cell_type": "code",
      "source": [
        "design_32['Click'].mean()"
      ],
      "metadata": {
        "colab": {
          "base_uri": "https://localhost:8080/"
        },
        "id": "5dCb2ObPeQ5w",
        "outputId": "add763e8-4d77-46d2-dfb1-92afd5f7a711"
      },
      "execution_count": 63,
      "outputs": [
        {
          "output_type": "execute_result",
          "data": {
            "text/plain": [
              "0.7703754519835806"
            ]
          },
          "metadata": {},
          "execution_count": 63
        }
      ]
    },
    {
      "cell_type": "code",
      "source": [
        "design_64['Click'].mean()"
      ],
      "metadata": {
        "colab": {
          "base_uri": "https://localhost:8080/"
        },
        "id": "f1GmHWnOeQ8I",
        "outputId": "2a419bef-082e-4804-f547-bac3ccc7964e"
      },
      "execution_count": 64,
      "outputs": [
        {
          "output_type": "execute_result",
          "data": {
            "text/plain": [
              "0.041729020375273394"
            ]
          },
          "metadata": {},
          "execution_count": 64
        }
      ]
    },
    {
      "cell_type": "code",
      "source": [
        "design_32['CTR'].mean()"
      ],
      "metadata": {
        "colab": {
          "base_uri": "https://localhost:8080/"
        },
        "id": "cmPtzPbneQ-c",
        "outputId": "36724076-812e-4772-d05e-9ba22a68518a"
      },
      "execution_count": 65,
      "outputs": [
        {
          "output_type": "execute_result",
          "data": {
            "text/plain": [
              "1.7326605375945185"
            ]
          },
          "metadata": {},
          "execution_count": 65
        }
      ]
    },
    {
      "cell_type": "code",
      "source": [
        "design_64['CTR'].mean()"
      ],
      "metadata": {
        "colab": {
          "base_uri": "https://localhost:8080/"
        },
        "id": "WSjXyQSDeRAg",
        "outputId": "37e65d40-5737-434a-c4c1-45f25fe05f8d"
      },
      "execution_count": 66,
      "outputs": [
        {
          "output_type": "execute_result",
          "data": {
            "text/plain": [
              "1.0069418429191674"
            ]
          },
          "metadata": {},
          "execution_count": 66
        }
      ]
    },
    {
      "cell_type": "code",
      "source": [
        "design_32['Cost'].mean()"
      ],
      "metadata": {
        "colab": {
          "base_uri": "https://localhost:8080/"
        },
        "id": "C2MjRamCeRC5",
        "outputId": "2f3f5b9d-35ad-4689-ecf2-ffb37194f253"
      },
      "execution_count": 67,
      "outputs": [
        {
          "output_type": "execute_result",
          "data": {
            "text/plain": [
              "192.845212512707"
            ]
          },
          "metadata": {},
          "execution_count": 67
        }
      ]
    },
    {
      "cell_type": "code",
      "source": [
        "design_64['Cost'].mean()"
      ],
      "metadata": {
        "colab": {
          "base_uri": "https://localhost:8080/"
        },
        "id": "bxeOP24leRFB",
        "outputId": "6abe0717-b8cd-4fb9-99c4-025fd033009f"
      },
      "execution_count": 68,
      "outputs": [
        {
          "output_type": "execute_result",
          "data": {
            "text/plain": [
              "11.570593991021067"
            ]
          },
          "metadata": {},
          "execution_count": 68
        }
      ]
    },
    {
      "cell_type": "code",
      "source": [
        "design_32['Delivery Fee'].mean()"
      ],
      "metadata": {
        "colab": {
          "base_uri": "https://localhost:8080/"
        },
        "id": "32C7wRPeeRHS",
        "outputId": "54d18b65-cc49-4a24-f80c-201a896da10e"
      },
      "execution_count": 69,
      "outputs": [
        {
          "output_type": "execute_result",
          "data": {
            "text/plain": [
              "1999.359918868143"
            ]
          },
          "metadata": {},
          "execution_count": 69
        }
      ]
    },
    {
      "cell_type": "code",
      "source": [
        "design_64['Delivery Fee'].mean()"
      ],
      "metadata": {
        "colab": {
          "base_uri": "https://localhost:8080/"
        },
        "id": "8qnnXtmKeRJn",
        "outputId": "9e06d878-e1f6-40bf-afe2-c223bdae31c0"
      },
      "execution_count": 70,
      "outputs": [
        {
          "output_type": "execute_result",
          "data": {
            "text/plain": [
              "2030.7284735812134"
            ]
          },
          "metadata": {},
          "execution_count": 70
        }
      ]
    },
    {
      "cell_type": "code",
      "source": [
        "design_32['Category Name 1'].value_counts() #"
      ],
      "metadata": {
        "colab": {
          "base_uri": "https://localhost:8080/"
        },
        "id": "17rTEkXweRLc",
        "outputId": "a092a6b8-d9fb-49f9-c53c-6cade95f076a"
      },
      "execution_count": 71,
      "outputs": [
        {
          "output_type": "execute_result",
          "data": {
            "text/plain": [
              "가구/인테리어    890617\n",
              "생활/건강      290225\n",
              "출산/육아       24417\n",
              "스포츠/레저      14784\n",
              "화장품/미용       7320\n",
              "패션잡화         7195\n",
              "디지털/가전       5605\n",
              "패션의류         2232\n",
              "여가/생활편의       805\n",
              "식품            208\n",
              "Name: Category Name 1, dtype: int64"
            ]
          },
          "metadata": {},
          "execution_count": 71
        }
      ]
    },
    {
      "cell_type": "code",
      "source": [
        "design_64['Category Name 1'].value_counts()"
      ],
      "metadata": {
        "colab": {
          "base_uri": "https://localhost:8080/"
        },
        "id": "hpWEHQZEgop_",
        "outputId": "1a54a7c8-632b-4454-ea54-a043576f4639"
      },
      "execution_count": 72,
      "outputs": [
        {
          "output_type": "execute_result",
          "data": {
            "text/plain": [
              "가구/인테리어    50274\n",
              "생활/건강      17040\n",
              "스포츠/레저       950\n",
              "패션잡화         480\n",
              "출산/육아        424\n",
              "화장품/미용       118\n",
              "디지털/가전       112\n",
              "패션의류          84\n",
              "여가/생활편의       13\n",
              "식품             1\n",
              "Name: Category Name 1, dtype: int64"
            ]
          },
          "metadata": {},
          "execution_count": 72
        }
      ]
    },
    {
      "cell_type": "markdown",
      "source": [
        "### 1~32등"
      ],
      "metadata": {
        "id": "vEUH-Og6n7J7"
      }
    },
    {
      "cell_type": "code",
      "source": [
        "design_16 = bidding_rank[bidding_rank['Sum of AD rank'] <= 16] \n",
        "design_32 = bidding_rank[(bidding_rank['Sum of AD rank'] >= 17) & (bidding_rank['Sum of AD rank'] <= 32)]"
      ],
      "metadata": {
        "id": "fmNNyZc8jWR6"
      },
      "execution_count": 73,
      "outputs": []
    },
    {
      "cell_type": "code",
      "source": [
        "design_16['Impression'].mean()"
      ],
      "metadata": {
        "colab": {
          "base_uri": "https://localhost:8080/"
        },
        "id": "9Ebyz6JPn-_Q",
        "outputId": "26bbb2a4-0b8c-40c9-c1d6-2af748331829"
      },
      "execution_count": 74,
      "outputs": [
        {
          "output_type": "execute_result",
          "data": {
            "text/plain": [
              "52.7723022248547"
            ]
          },
          "metadata": {},
          "execution_count": 74
        }
      ]
    },
    {
      "cell_type": "code",
      "source": [
        "design_32['Impression'].mean()"
      ],
      "metadata": {
        "colab": {
          "base_uri": "https://localhost:8080/"
        },
        "id": "qeticS_Ln_Bz",
        "outputId": "821ce9b4-90a2-412c-807d-aaeec7c942ad"
      },
      "execution_count": 75,
      "outputs": [
        {
          "output_type": "execute_result",
          "data": {
            "text/plain": [
              "9.806026226609696"
            ]
          },
          "metadata": {},
          "execution_count": 75
        }
      ]
    },
    {
      "cell_type": "code",
      "source": [
        "design_16['Click'].mean()"
      ],
      "metadata": {
        "colab": {
          "base_uri": "https://localhost:8080/"
        },
        "id": "5gYBlHW5n_EE",
        "outputId": "f6c47462-58f5-4391-87ff-f6377fdc591d"
      },
      "execution_count": 76,
      "outputs": [
        {
          "output_type": "execute_result",
          "data": {
            "text/plain": [
              "0.8699246659016029"
            ]
          },
          "metadata": {},
          "execution_count": 76
        }
      ]
    },
    {
      "cell_type": "code",
      "source": [
        "design_32['Click'].mean()"
      ],
      "metadata": {
        "colab": {
          "base_uri": "https://localhost:8080/"
        },
        "id": "u2WtEpdZn_Gc",
        "outputId": "0173821d-190a-4af7-8ebe-dbe10f7df226"
      },
      "execution_count": 77,
      "outputs": [
        {
          "output_type": "execute_result",
          "data": {
            "text/plain": [
              "0.11001424291537744"
            ]
          },
          "metadata": {},
          "execution_count": 77
        }
      ]
    },
    {
      "cell_type": "code",
      "source": [
        "design_16['CTR'].mean()"
      ],
      "metadata": {
        "colab": {
          "base_uri": "https://localhost:8080/"
        },
        "id": "2pAXKijpn_Il",
        "outputId": "16fc1daf-6768-4742-8326-71fcea3d15e1"
      },
      "execution_count": 78,
      "outputs": [
        {
          "output_type": "execute_result",
          "data": {
            "text/plain": [
              "1.8155053702337236"
            ]
          },
          "metadata": {},
          "execution_count": 78
        }
      ]
    },
    {
      "cell_type": "code",
      "source": [
        "design_32['CTR'].mean()"
      ],
      "metadata": {
        "colab": {
          "base_uri": "https://localhost:8080/"
        },
        "id": "1TNOKSaXoidu",
        "outputId": "9fce303d-6115-4bb8-954a-ec17ac303b15"
      },
      "execution_count": 79,
      "outputs": [
        {
          "output_type": "execute_result",
          "data": {
            "text/plain": [
              "1.1831080931952156"
            ]
          },
          "metadata": {},
          "execution_count": 79
        }
      ]
    },
    {
      "cell_type": "code",
      "source": [
        "design_16['Cost'].mean()"
      ],
      "metadata": {
        "colab": {
          "base_uri": "https://localhost:8080/"
        },
        "id": "GnAmkKYRoigG",
        "outputId": "614aeddc-62e0-41d6-d380-a10b5e978b5c"
      },
      "execution_count": 80,
      "outputs": [
        {
          "output_type": "execute_result",
          "data": {
            "text/plain": [
              "216.9633324695517"
            ]
          },
          "metadata": {},
          "execution_count": 80
        }
      ]
    },
    {
      "cell_type": "code",
      "source": [
        "design_32['Cost'].mean()"
      ],
      "metadata": {
        "colab": {
          "base_uri": "https://localhost:8080/"
        },
        "id": "YfC6VpaDoiiM",
        "outputId": "34c5046a-df75-4450-c833-de572b5a9e23"
      },
      "execution_count": 81,
      "outputs": [
        {
          "output_type": "execute_result",
          "data": {
            "text/plain": [
              "32.85730072196847"
            ]
          },
          "metadata": {},
          "execution_count": 81
        }
      ]
    },
    {
      "cell_type": "code",
      "source": [
        "design_16['Delivery Fee'].mean()"
      ],
      "metadata": {
        "colab": {
          "base_uri": "https://localhost:8080/"
        },
        "id": "dyLx4UmPoikm",
        "outputId": "83c7be56-692a-45b2-de62-f4279bf4747b"
      },
      "execution_count": 82,
      "outputs": [
        {
          "output_type": "execute_result",
          "data": {
            "text/plain": [
              "1989.5719931144263"
            ]
          },
          "metadata": {},
          "execution_count": 82
        }
      ]
    },
    {
      "cell_type": "code",
      "source": [
        "design_32['Delivery Fee'].mean()"
      ],
      "metadata": {
        "colab": {
          "base_uri": "https://localhost:8080/"
        },
        "id": "FT36OIjJoiml",
        "outputId": "97d23ac3-1499-4d7e-e2e2-3a88d8a565ad"
      },
      "execution_count": 83,
      "outputs": [
        {
          "output_type": "execute_result",
          "data": {
            "text/plain": [
              "2064.2882716958893"
            ]
          },
          "metadata": {},
          "execution_count": 83
        }
      ]
    },
    {
      "cell_type": "code",
      "source": [
        "design_16['Category Name 1'].value_counts()"
      ],
      "metadata": {
        "colab": {
          "base_uri": "https://localhost:8080/"
        },
        "id": "Fi5NrSpvoipB",
        "outputId": "9d2080b7-0156-408e-982a-2a7a6643acb1"
      },
      "execution_count": 84,
      "outputs": [
        {
          "output_type": "execute_result",
          "data": {
            "text/plain": [
              "가구/인테리어    769233\n",
              "생활/건강      254014\n",
              "출산/육아       23093\n",
              "스포츠/레저      12946\n",
              "화장품/미용       7036\n",
              "패션잡화         6108\n",
              "디지털/가전       5209\n",
              "패션의류         1919\n",
              "여가/생활편의       781\n",
              "식품            181\n",
              "Name: Category Name 1, dtype: int64"
            ]
          },
          "metadata": {},
          "execution_count": 84
        }
      ]
    },
    {
      "cell_type": "code",
      "source": [
        "design_32['Category Name 1'].value_counts()"
      ],
      "metadata": {
        "colab": {
          "base_uri": "https://localhost:8080/"
        },
        "id": "tBXr3Zl9oirH",
        "outputId": "d342517a-9cdf-4509-9f0a-060ec8e830ac"
      },
      "execution_count": 85,
      "outputs": [
        {
          "output_type": "execute_result",
          "data": {
            "text/plain": [
              "가구/인테리어    121384\n",
              "생활/건강       36211\n",
              "스포츠/레저       1838\n",
              "출산/육아        1324\n",
              "패션잡화         1087\n",
              "디지털/가전        396\n",
              "패션의류          313\n",
              "화장품/미용        284\n",
              "식품             27\n",
              "여가/생활편의        24\n",
              "Name: Category Name 1, dtype: int64"
            ]
          },
          "metadata": {},
          "execution_count": 85
        }
      ]
    },
    {
      "cell_type": "markdown",
      "source": [
        "### 1~16등 확인"
      ],
      "metadata": {
        "id": "afctEtcvq170"
      }
    },
    {
      "cell_type": "code",
      "source": [
        "design_8 = bidding_rank[bidding_rank['Sum of AD rank'] <= 8] \n",
        "design_16 = bidding_rank[(bidding_rank['Sum of AD rank'] >= 9) & (bidding_rank['Sum of AD rank'] <= 16)]"
      ],
      "metadata": {
        "id": "xgS_IQ7eqxon"
      },
      "execution_count": 86,
      "outputs": []
    },
    {
      "cell_type": "code",
      "source": [
        "design_8['Impression'].mean()"
      ],
      "metadata": {
        "colab": {
          "base_uri": "https://localhost:8080/"
        },
        "id": "6O5L6pEDqx29",
        "outputId": "0934c568-e375-48da-f7a4-76e48fa5e0b6"
      },
      "execution_count": 87,
      "outputs": [
        {
          "output_type": "execute_result",
          "data": {
            "text/plain": [
              "65.07268632028436"
            ]
          },
          "metadata": {},
          "execution_count": 87
        }
      ]
    },
    {
      "cell_type": "code",
      "source": [
        "design_16['Impression'].mean()"
      ],
      "metadata": {
        "colab": {
          "base_uri": "https://localhost:8080/"
        },
        "id": "Xd2KK8O2qyCq",
        "outputId": "4accea36-2301-4519-fa9b-92fd4c4a05a2"
      },
      "execution_count": 88,
      "outputs": [
        {
          "output_type": "execute_result",
          "data": {
            "text/plain": [
              "22.65515920761618"
            ]
          },
          "metadata": {},
          "execution_count": 88
        }
      ]
    },
    {
      "cell_type": "code",
      "source": [
        "design_8['Click'].mean()"
      ],
      "metadata": {
        "colab": {
          "base_uri": "https://localhost:8080/"
        },
        "id": "LFCyeBumqyLp",
        "outputId": "242a2262-d512-4aa4-b5de-73e0fc9d1dad"
      },
      "execution_count": 89,
      "outputs": [
        {
          "output_type": "execute_result",
          "data": {
            "text/plain": [
              "1.1248339713785558"
            ]
          },
          "metadata": {},
          "execution_count": 89
        }
      ]
    },
    {
      "cell_type": "code",
      "source": [
        "design_16['Click'].mean()"
      ],
      "metadata": {
        "colab": {
          "base_uri": "https://localhost:8080/"
        },
        "id": "XQm_cnKysg5E",
        "outputId": "28d5987f-2dcc-48ea-c6cb-5cb05d675b35"
      },
      "execution_count": 90,
      "outputs": [
        {
          "output_type": "execute_result",
          "data": {
            "text/plain": [
              "0.2457864316876933"
            ]
          },
          "metadata": {},
          "execution_count": 90
        }
      ]
    },
    {
      "cell_type": "code",
      "source": [
        "design_8['CTR'].mean()"
      ],
      "metadata": {
        "colab": {
          "base_uri": "https://localhost:8080/"
        },
        "id": "laDy2FXNsg7U",
        "outputId": "3b039c15-ccf2-41b1-a193-0ca6ff8cc116"
      },
      "execution_count": 91,
      "outputs": [
        {
          "output_type": "execute_result",
          "data": {
            "text/plain": [
              "2.087535569754123"
            ]
          },
          "metadata": {},
          "execution_count": 91
        }
      ]
    },
    {
      "cell_type": "code",
      "source": [
        "design_16['CTR'].mean()"
      ],
      "metadata": {
        "colab": {
          "base_uri": "https://localhost:8080/"
        },
        "id": "tDGbam2Qsg9m",
        "outputId": "0bab9722-7c50-4ece-c25c-d933165becaa"
      },
      "execution_count": 92,
      "outputs": [
        {
          "output_type": "execute_result",
          "data": {
            "text/plain": [
              "1.1494471105564579"
            ]
          },
          "metadata": {},
          "execution_count": 92
        }
      ]
    },
    {
      "cell_type": "code",
      "source": [
        "design_8['Cost'].mean()"
      ],
      "metadata": {
        "colab": {
          "base_uri": "https://localhost:8080/"
        },
        "id": "NG7PKIijsg_z",
        "outputId": "b505c051-dce6-4705-a027-9416e9fdc399"
      },
      "execution_count": 93,
      "outputs": [
        {
          "output_type": "execute_result",
          "data": {
            "text/plain": [
              "277.0252754543547"
            ]
          },
          "metadata": {},
          "execution_count": 93
        }
      ]
    },
    {
      "cell_type": "code",
      "source": [
        "design_16['Cost'].mean()"
      ],
      "metadata": {
        "colab": {
          "base_uri": "https://localhost:8080/"
        },
        "id": "QHyH11kjshCO",
        "outputId": "16f9edff-161c-4608-8382-207a0aeb2ff8"
      },
      "execution_count": 94,
      "outputs": [
        {
          "output_type": "execute_result",
          "data": {
            "text/plain": [
              "69.90336159932085"
            ]
          },
          "metadata": {},
          "execution_count": 94
        }
      ]
    },
    {
      "cell_type": "code",
      "source": [
        "design_8['Delivery Fee'].mean()"
      ],
      "metadata": {
        "colab": {
          "base_uri": "https://localhost:8080/"
        },
        "id": "AUqScFBZshEb",
        "outputId": "6ad83a67-d6c6-47ae-b779-610ecc627dcb"
      },
      "execution_count": 95,
      "outputs": [
        {
          "output_type": "execute_result",
          "data": {
            "text/plain": [
              "1970.8127483912006"
            ]
          },
          "metadata": {},
          "execution_count": 95
        }
      ]
    },
    {
      "cell_type": "code",
      "source": [
        "design_16['Delivery Fee'].mean()"
      ],
      "metadata": {
        "colab": {
          "base_uri": "https://localhost:8080/"
        },
        "id": "SVE7J4nQshGz",
        "outputId": "557b6052-b1ac-41d1-b617-592d31f621c2"
      },
      "execution_count": 96,
      "outputs": [
        {
          "output_type": "execute_result",
          "data": {
            "text/plain": [
              "2035.503473939866"
            ]
          },
          "metadata": {},
          "execution_count": 96
        }
      ]
    },
    {
      "cell_type": "code",
      "source": [
        "design_8['Category Name 1'].value_counts()"
      ],
      "metadata": {
        "colab": {
          "base_uri": "https://localhost:8080/"
        },
        "id": "TtU_x3rvqyR4",
        "outputId": "b7d98214-e570-40a6-8de3-75d25bbb2b95"
      },
      "execution_count": 97,
      "outputs": [
        {
          "output_type": "execute_result",
          "data": {
            "text/plain": [
              "가구/인테리어    534381\n",
              "생활/건강      188574\n",
              "출산/육아       18450\n",
              "스포츠/레저       9496\n",
              "화장품/미용       5737\n",
              "디지털/가전       4243\n",
              "패션잡화         4196\n",
              "패션의류         1294\n",
              "여가/생활편의       720\n",
              "식품             96\n",
              "Name: Category Name 1, dtype: int64"
            ]
          },
          "metadata": {},
          "execution_count": 97
        }
      ]
    },
    {
      "cell_type": "code",
      "source": [
        "design_16['Category Name 1'].value_counts()"
      ],
      "metadata": {
        "colab": {
          "base_uri": "https://localhost:8080/"
        },
        "id": "xdzRYyrCqyYR",
        "outputId": "86d93163-1882-4c3b-fb17-d7144d01fa07"
      },
      "execution_count": 98,
      "outputs": [
        {
          "output_type": "execute_result",
          "data": {
            "text/plain": [
              "가구/인테리어    234852\n",
              "생활/건강       65440\n",
              "출산/육아        4643\n",
              "스포츠/레저       3450\n",
              "패션잡화         1912\n",
              "화장품/미용       1299\n",
              "디지털/가전        966\n",
              "패션의류          625\n",
              "식품             85\n",
              "여가/생활편의        61\n",
              "Name: Category Name 1, dtype: int64"
            ]
          },
          "metadata": {},
          "execution_count": 98
        }
      ]
    },
    {
      "cell_type": "code",
      "source": [
        "stats.ttest_ind(design_A,\n",
        "                design_B,\n",
        "                equal_var=False)\n",
        "# https://data101.oopy.io/ab-test-python-or-without-code"
      ],
      "metadata": {
        "id": "KsNHD7ViDPDB"
      },
      "execution_count": null,
      "outputs": []
    },
    {
      "cell_type": "code",
      "source": [
        "from IPython.core.pylabtools import figsize\n",
        "from matplotlib import pyplot as plt\n",
        "from scipy import stats as st \n",
        "import numpy as np\n",
        "\n",
        "visit_A = rank_A.sum()\n",
        "visit_B = rank_B.sum()\n",
        "\n",
        "conversion_A = Click_A.sum()\n",
        "conversion_B = Click_B.sum()\n",
        "\n",
        "alpha = 1\n",
        "beta  = 1\n",
        "n_samples = 1000\n",
        "print(alpha)\n",
        "\n",
        "posterior_A = st.beta(alpha+conversion_A,beta+visit_A-conversion_A)\n",
        "posterior_B = st.beta(alpha+conversion_B,beta+visit_B-conversion_B)\n",
        "posterior_samples_A = st.beta(alpha+conversion_A,beta+visit_A-conversion_A).rvs(n_samples)\n",
        "posterior_samples_B = st.beta(alpha+conversion_B,beta+visit_B-conversion_B).rvs(n_samples)\n",
        "\n",
        "# posterior mean \n",
        "print((posterior_samples_A > posterior_samples_B).mean())"
      ],
      "metadata": {
        "id": "IsUJWOVXDPmm"
      },
      "execution_count": null,
      "outputs": []
    },
    {
      "cell_type": "code",
      "source": [
        "# Posterior Dist of A and B\n",
        "fig,axes = plt.subplots(1,2,figsize=(10,4))\n",
        "x = np.linspace(0,1,1000)\n",
        "i=0\n",
        "for ax in axes:\n",
        "    ax.plot(x, posterior_A.pdf(x), label = \"posterior of A: Beta(121,1181)\")\n",
        "    ax.plot(x, posterior_B.pdf(x), label = \"posterior of B: Beta(126,1151)\")\n",
        "    ax.set_xlabel(\"Value\")\n",
        "    ax.set_ylabel(\"Density\")\n",
        "    if i==1:\n",
        "        ax.set_xlim(0.05, 0.15)\n",
        "    i+=1\n",
        "axes[0].legend()"
      ],
      "metadata": {
        "id": "97dSNI7HDPxk"
      },
      "execution_count": null,
      "outputs": []
    },
    {
      "cell_type": "code",
      "source": [
        "purchase_counts = df.groupby(['group', 'is_purchase']).user_id.count().reset_index()\n"
      ],
      "metadata": {
        "id": "VH3MH6fnaBQQ"
      },
      "execution_count": null,
      "outputs": []
    },
    {
      "cell_type": "code",
      "source": [
        "Cost_A= design_A['Cost']\n",
        "Cost_A.sum()\n",
        "print(rank_A.sum())"
      ],
      "metadata": {
        "id": "Pm8zuWSThk6o"
      },
      "execution_count": null,
      "outputs": []
    },
    {
      "cell_type": "code",
      "source": [
        "Cost_B= design_B['Cost']\n",
        "Cost_B.sum()"
      ],
      "metadata": {
        "id": "5ItYOVLriDRP"
      },
      "execution_count": null,
      "outputs": []
    },
    {
      "cell_type": "code",
      "source": [
        "from IPython.core.pylabtools import figsize\n",
        "from matplotlib import pyplot as plt\n",
        "from scipy import stats as st \n",
        "import numpy as np\n",
        "\n",
        "visit_A = rank_A.sum()\n",
        "visit_B = rank_B.sum()\n",
        "\n",
        "conversion_A = Cost_A.sum()\n",
        "conversion_B = Cost_B.sum()\n",
        "\n",
        "alpha = 1\n",
        "beta  = 1\n",
        "n_samples = 1000\n",
        "print(alpha)\n",
        "\n",
        "posterior_A = st.beta(alpha+conversion_A,beta+visit_A-conversion_A)\n",
        "posterior_B = st.beta(alpha+conversion_B,beta+visit_B-conversion_B)\n",
        "posterior_samples_A = st.beta(alpha+conversion_A,beta+visit_A-conversion_A).rvs(n_samples)\n",
        "posterior_samples_B = st.beta(alpha+conversion_B,beta+visit_B-conversion_B).rvs(n_samples)\n",
        "\n",
        "# posterior mean \n",
        "print((posterior_samples_A > posterior_samples_B).mean())"
      ],
      "metadata": {
        "id": "Nbrz4sYtiKQF"
      },
      "execution_count": null,
      "outputs": []
    },
    {
      "cell_type": "code",
      "source": [],
      "metadata": {
        "id": "wmRj-9jhioft"
      },
      "execution_count": null,
      "outputs": []
    }
  ]
}