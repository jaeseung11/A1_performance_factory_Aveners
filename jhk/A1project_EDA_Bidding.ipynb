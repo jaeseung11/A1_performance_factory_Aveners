{
 "cells": [
  {
   "cell_type": "markdown",
   "metadata": {
    "colab_type": "text",
    "id": "view-in-github"
   },
   "source": [
    "<a href=\"https://colab.research.google.com/github/rapu34/A1_performance_factory_Aveners/blob/main/A1project_EDA_Bidding.ipynb\" target=\"_parent\"><img src=\"https://colab.research.google.com/assets/colab-badge.svg\" alt=\"Open In Colab\"/></a>"
   ]
  },
  {
   "cell_type": "code",
   "execution_count": 1,
   "metadata": {
    "id": "_UiCHyATWBWl"
   },
   "outputs": [],
   "source": [
    "import pandas as pd\n",
    "import numpy as np\n",
    "import matplotlib.pyplot as plt\n",
    "\n",
    "import seaborn as sns\n",
    "from sklearn.preprocessing import LabelEncoder\n",
    "import lightgbm as lgb\n",
    "import gc"
   ]
  },
  {
   "cell_type": "code",
   "execution_count": null,
   "metadata": {
    "colab": {
     "base_uri": "https://localhost:8080/"
    },
    "id": "EbTGbwOQLbMf",
    "outputId": "92ef95d3-1a65-4313-e275-4d012fd8c34e"
   },
   "outputs": [
    {
     "name": "stdout",
     "output_type": "stream",
     "text": [
      "Reading package lists... Done\n",
      "Building dependency tree       \n",
      "Reading state information... Done\n",
      "The following package was automatically installed and is no longer required:\n",
      "  libnvidia-common-460\n",
      "Use 'sudo apt autoremove' to remove it.\n",
      "The following NEW packages will be installed:\n",
      "  fonts-nanum\n",
      "0 upgraded, 1 newly installed, 0 to remove and 20 not upgraded.\n",
      "Need to get 9,604 kB of archives.\n",
      "After this operation, 29.5 MB of additional disk space will be used.\n",
      "Get:1 http://archive.ubuntu.com/ubuntu bionic/universe amd64 fonts-nanum all 20170925-1 [9,604 kB]\n",
      "Fetched 9,604 kB in 2s (3,843 kB/s)\n",
      "debconf: unable to initialize frontend: Dialog\n",
      "debconf: (No usable dialog-like program is installed, so the dialog based frontend cannot be used. at /usr/share/perl5/Debconf/FrontEnd/Dialog.pm line 76, <> line 1.)\n",
      "debconf: falling back to frontend: Readline\n",
      "debconf: unable to initialize frontend: Readline\n",
      "debconf: (This frontend requires a controlling tty.)\n",
      "debconf: falling back to frontend: Teletype\n",
      "dpkg-preconfigure: unable to re-open stdin: \n",
      "Selecting previously unselected package fonts-nanum.\n",
      "(Reading database ... 124016 files and directories currently installed.)\n",
      "Preparing to unpack .../fonts-nanum_20170925-1_all.deb ...\n",
      "Unpacking fonts-nanum (20170925-1) ...\n",
      "Setting up fonts-nanum (20170925-1) ...\n",
      "Processing triggers for fontconfig (2.12.6-0ubuntu2) ...\n",
      "/usr/share/fonts: caching, new cache contents: 0 fonts, 1 dirs\n",
      "/usr/share/fonts/truetype: caching, new cache contents: 0 fonts, 3 dirs\n",
      "/usr/share/fonts/truetype/humor-sans: caching, new cache contents: 1 fonts, 0 dirs\n",
      "/usr/share/fonts/truetype/liberation: caching, new cache contents: 16 fonts, 0 dirs\n",
      "/usr/share/fonts/truetype/nanum: caching, new cache contents: 10 fonts, 0 dirs\n",
      "/usr/local/share/fonts: caching, new cache contents: 0 fonts, 0 dirs\n",
      "/root/.local/share/fonts: skipping, no such directory\n",
      "/root/.fonts: skipping, no such directory\n",
      "/var/cache/fontconfig: cleaning cache directory\n",
      "/root/.cache/fontconfig: not cleaning non-existent cache directory\n",
      "/root/.fontconfig: not cleaning non-existent cache directory\n",
      "fc-cache: succeeded\n"
     ]
    }
   ],
   "source": [
    "!sudo apt-get install -y fonts-nanum\n",
    "!sudo fc-cache -fv\n",
    "!rm ~/.cache/matplotlib -rf"
   ]
  },
  {
   "cell_type": "code",
   "execution_count": 2,
   "metadata": {
    "colab": {
     "base_uri": "https://localhost:8080/"
    },
    "id": "bKFgG8JxWkSZ",
    "outputId": "b17b65b8-f6d7-43cc-9a22-a784e14b6dd6"
   },
   "outputs": [
    {
     "name": "stdout",
     "output_type": "stream",
     "text": [
      "Mounted at /content/drive\n"
     ]
    }
   ],
   "source": [
    "from google.colab import drive\n",
    "drive.mount('/content/drive')"
   ]
  },
  {
   "cell_type": "code",
   "execution_count": 3,
   "metadata": {
    "id": "S3N181xhWkWO"
   },
   "outputs": [],
   "source": [
    "bidding_result = pd.read_csv(\"/content/drive/MyDrive/A1project/bidding_result.csv\", encoding='UTF8')\n",
    "#log = pd.read_csv(\"/content/drive/MyDrive/A1project/log_csv.csv\", encoding='UTF8')"
   ]
  },
  {
   "cell_type": "code",
   "execution_count": 4,
   "metadata": {
    "colab": {
     "base_uri": "https://localhost:8080/"
    },
    "id": "qz6gvBfMWkeI",
    "outputId": "d070dd29-6864-4f53-fe06-fbcd74466c52"
   },
   "outputs": [
    {
     "name": "stdout",
     "output_type": "stream",
     "text": [
      "<class 'pandas.core.frame.DataFrame'>\n",
      "RangeIndex: 1337088 entries, 0 to 1337087\n",
      "Data columns (total 14 columns):\n",
      " #   Column           Non-Null Count    Dtype  \n",
      "---  ------           --------------    -----  \n",
      " 0   index            1337088 non-null  int64  \n",
      " 1   Impression       1337088 non-null  int64  \n",
      " 2   Click            1337088 non-null  int64  \n",
      " 3   Cost             1337088 non-null  float64\n",
      " 4   Sum of AD rank   1337078 non-null  float64\n",
      " 5   Bid              1337088 non-null  int64  \n",
      " 6   Price(PC)        1337088 non-null  int64  \n",
      " 7   Price(Mobile)    1337088 non-null  int64  \n",
      " 8   Delivery Fee     1337088 non-null  int64  \n",
      " 9   Category Name 1  1337088 non-null  object \n",
      " 10  Category Name 2  1337088 non-null  object \n",
      " 11  Category Name 3  1331221 non-null  object \n",
      " 12  Category Name 4  930132 non-null   object \n",
      " 13  date             1337088 non-null  int64  \n",
      "dtypes: float64(2), int64(8), object(4)\n",
      "memory usage: 142.8+ MB\n"
     ]
    }
   ],
   "source": [
    "bidding_result.info()"
   ]
  },
  {
   "cell_type": "code",
   "execution_count": 5,
   "metadata": {
    "colab": {
     "base_uri": "https://localhost:8080/"
    },
    "id": "BAm0UZ2fkh5k",
    "outputId": "7afabb92-50a9-4658-e4cd-3bcb776ce7c5"
   },
   "outputs": [
    {
     "data": {
      "text/plain": [
       "index                   0\n",
       "Impression              0\n",
       "Click                   0\n",
       "Cost                    0\n",
       "Sum of AD rank         10\n",
       "Bid                     0\n",
       "Price(PC)               0\n",
       "Price(Mobile)           0\n",
       "Delivery Fee            0\n",
       "Category Name 1         0\n",
       "Category Name 2         0\n",
       "Category Name 3      5867\n",
       "Category Name 4    406956\n",
       "date                    0\n",
       "dtype: int64"
      ]
     },
     "execution_count": 5,
     "metadata": {},
     "output_type": "execute_result"
    }
   ],
   "source": [
    "bidding_result.isnull().sum()"
   ]
  },
  {
   "cell_type": "code",
   "execution_count": null,
   "metadata": {
    "id": "nULY0OEVWkhE"
   },
   "outputs": [],
   "source": [
    "#log.info()"
   ]
  },
  {
   "cell_type": "code",
   "execution_count": 6,
   "metadata": {
    "colab": {
     "base_uri": "https://localhost:8080/"
    },
    "id": "VpOGzIu8kl6M",
    "outputId": "2418a795-6011-47e9-9477-26fb2556e6e1"
   },
   "outputs": [
    {
     "data": {
      "text/plain": [
       "index                   0\n",
       "Impression              0\n",
       "Click                   0\n",
       "Cost                    0\n",
       "Sum of AD rank         10\n",
       "Bid                     0\n",
       "Price(PC)               0\n",
       "Price(Mobile)           0\n",
       "Delivery Fee            0\n",
       "Category Name 1         0\n",
       "Category Name 2         0\n",
       "Category Name 3      5867\n",
       "Category Name 4    406956\n",
       "date                    0\n",
       "dtype: int64"
      ]
     },
     "execution_count": 6,
     "metadata": {},
     "output_type": "execute_result"
    }
   ],
   "source": [
    "bidding_result.isnull().sum()"
   ]
  },
  {
   "cell_type": "code",
   "execution_count": 7,
   "metadata": {
    "colab": {
     "base_uri": "https://localhost:8080/",
     "height": 520
    },
    "id": "deyCy4aQmeXA",
    "outputId": "06b7e024-49f7-46e8-bf51-11815487db84"
   },
   "outputs": [
    {
     "data": {
      "text/html": [
       "\n",
       "  <div id=\"df-3223cf64-bd63-4b08-8b1b-7f34d6a44916\">\n",
       "    <div class=\"colab-df-container\">\n",
       "      <div>\n",
       "<style scoped>\n",
       "    .dataframe tbody tr th:only-of-type {\n",
       "        vertical-align: middle;\n",
       "    }\n",
       "\n",
       "    .dataframe tbody tr th {\n",
       "        vertical-align: top;\n",
       "    }\n",
       "\n",
       "    .dataframe thead th {\n",
       "        text-align: right;\n",
       "    }\n",
       "</style>\n",
       "<table border=\"1\" class=\"dataframe\">\n",
       "  <thead>\n",
       "    <tr style=\"text-align: right;\">\n",
       "      <th></th>\n",
       "      <th>index</th>\n",
       "      <th>Impression</th>\n",
       "      <th>Click</th>\n",
       "      <th>Cost</th>\n",
       "      <th>Sum of AD rank</th>\n",
       "      <th>Bid</th>\n",
       "      <th>Price(PC)</th>\n",
       "      <th>Price(Mobile)</th>\n",
       "      <th>Delivery Fee</th>\n",
       "      <th>Category Name 1</th>\n",
       "      <th>Category Name 2</th>\n",
       "      <th>Category Name 3</th>\n",
       "      <th>Category Name 4</th>\n",
       "      <th>date</th>\n",
       "    </tr>\n",
       "  </thead>\n",
       "  <tbody>\n",
       "    <tr>\n",
       "      <th>0</th>\n",
       "      <td>3575092</td>\n",
       "      <td>3</td>\n",
       "      <td>0</td>\n",
       "      <td>0.0</td>\n",
       "      <td>3.000000</td>\n",
       "      <td>50</td>\n",
       "      <td>165900</td>\n",
       "      <td>165900</td>\n",
       "      <td>0</td>\n",
       "      <td>가구/인테리어</td>\n",
       "      <td>침실가구</td>\n",
       "      <td>장롱/붙박이장</td>\n",
       "      <td>드레스룸</td>\n",
       "      <td>20221031</td>\n",
       "    </tr>\n",
       "    <tr>\n",
       "      <th>1</th>\n",
       "      <td>3575637</td>\n",
       "      <td>6</td>\n",
       "      <td>0</td>\n",
       "      <td>0.0</td>\n",
       "      <td>3.333333</td>\n",
       "      <td>50</td>\n",
       "      <td>10900</td>\n",
       "      <td>10900</td>\n",
       "      <td>0</td>\n",
       "      <td>가구/인테리어</td>\n",
       "      <td>인테리어소품</td>\n",
       "      <td>아로마/캔들용품</td>\n",
       "      <td>아로마방향제/디퓨저</td>\n",
       "      <td>20221031</td>\n",
       "    </tr>\n",
       "    <tr>\n",
       "      <th>2</th>\n",
       "      <td>4129259</td>\n",
       "      <td>7</td>\n",
       "      <td>0</td>\n",
       "      <td>0.0</td>\n",
       "      <td>8.000000</td>\n",
       "      <td>50</td>\n",
       "      <td>255000</td>\n",
       "      <td>255000</td>\n",
       "      <td>-1</td>\n",
       "      <td>가구/인테리어</td>\n",
       "      <td>거실가구</td>\n",
       "      <td>소파</td>\n",
       "      <td>패브릭소파</td>\n",
       "      <td>20221031</td>\n",
       "    </tr>\n",
       "    <tr>\n",
       "      <th>3</th>\n",
       "      <td>4131479</td>\n",
       "      <td>36</td>\n",
       "      <td>3</td>\n",
       "      <td>150.0</td>\n",
       "      <td>4.416667</td>\n",
       "      <td>140</td>\n",
       "      <td>190000</td>\n",
       "      <td>190000</td>\n",
       "      <td>20000</td>\n",
       "      <td>가구/인테리어</td>\n",
       "      <td>아동/주니어가구</td>\n",
       "      <td>책상의자세트</td>\n",
       "      <td>NaN</td>\n",
       "      <td>20221031</td>\n",
       "    </tr>\n",
       "    <tr>\n",
       "      <th>4</th>\n",
       "      <td>4131482</td>\n",
       "      <td>224</td>\n",
       "      <td>0</td>\n",
       "      <td>0.0</td>\n",
       "      <td>5.696429</td>\n",
       "      <td>50</td>\n",
       "      <td>129000</td>\n",
       "      <td>129000</td>\n",
       "      <td>0</td>\n",
       "      <td>가구/인테리어</td>\n",
       "      <td>아동/주니어가구</td>\n",
       "      <td>책상</td>\n",
       "      <td>NaN</td>\n",
       "      <td>20221031</td>\n",
       "    </tr>\n",
       "    <tr>\n",
       "      <th>...</th>\n",
       "      <td>...</td>\n",
       "      <td>...</td>\n",
       "      <td>...</td>\n",
       "      <td>...</td>\n",
       "      <td>...</td>\n",
       "      <td>...</td>\n",
       "      <td>...</td>\n",
       "      <td>...</td>\n",
       "      <td>...</td>\n",
       "      <td>...</td>\n",
       "      <td>...</td>\n",
       "      <td>...</td>\n",
       "      <td>...</td>\n",
       "      <td>...</td>\n",
       "    </tr>\n",
       "    <tr>\n",
       "      <th>1337083</th>\n",
       "      <td>2566795</td>\n",
       "      <td>5</td>\n",
       "      <td>0</td>\n",
       "      <td>0.0</td>\n",
       "      <td>13.200000</td>\n",
       "      <td>500</td>\n",
       "      <td>19900</td>\n",
       "      <td>19900</td>\n",
       "      <td>0</td>\n",
       "      <td>가구/인테리어</td>\n",
       "      <td>인테리어소품</td>\n",
       "      <td>아로마/캔들용품</td>\n",
       "      <td>아로마방향제/디퓨저</td>\n",
       "      <td>20230103</td>\n",
       "    </tr>\n",
       "    <tr>\n",
       "      <th>1337084</th>\n",
       "      <td>2566880</td>\n",
       "      <td>3</td>\n",
       "      <td>0</td>\n",
       "      <td>0.0</td>\n",
       "      <td>17.000000</td>\n",
       "      <td>500</td>\n",
       "      <td>23900</td>\n",
       "      <td>23900</td>\n",
       "      <td>3000</td>\n",
       "      <td>생활/건강</td>\n",
       "      <td>문구/사무용품</td>\n",
       "      <td>이벤트/파티용품</td>\n",
       "      <td>데코용품</td>\n",
       "      <td>20230103</td>\n",
       "    </tr>\n",
       "    <tr>\n",
       "      <th>1337085</th>\n",
       "      <td>2566881</td>\n",
       "      <td>1</td>\n",
       "      <td>0</td>\n",
       "      <td>0.0</td>\n",
       "      <td>8.000000</td>\n",
       "      <td>500</td>\n",
       "      <td>2500</td>\n",
       "      <td>2500</td>\n",
       "      <td>3000</td>\n",
       "      <td>가구/인테리어</td>\n",
       "      <td>인테리어소품</td>\n",
       "      <td>기타장식용품</td>\n",
       "      <td>NaN</td>\n",
       "      <td>20230103</td>\n",
       "    </tr>\n",
       "    <tr>\n",
       "      <th>1337086</th>\n",
       "      <td>2566891</td>\n",
       "      <td>2</td>\n",
       "      <td>0</td>\n",
       "      <td>0.0</td>\n",
       "      <td>4.000000</td>\n",
       "      <td>500</td>\n",
       "      <td>21000</td>\n",
       "      <td>21000</td>\n",
       "      <td>3000</td>\n",
       "      <td>생활/건강</td>\n",
       "      <td>정원/원예용품</td>\n",
       "      <td>화분받침</td>\n",
       "      <td>NaN</td>\n",
       "      <td>20230103</td>\n",
       "    </tr>\n",
       "    <tr>\n",
       "      <th>1337087</th>\n",
       "      <td>2566923</td>\n",
       "      <td>14</td>\n",
       "      <td>0</td>\n",
       "      <td>0.0</td>\n",
       "      <td>12.428571</td>\n",
       "      <td>500</td>\n",
       "      <td>128800</td>\n",
       "      <td>128800</td>\n",
       "      <td>0</td>\n",
       "      <td>가구/인테리어</td>\n",
       "      <td>인테리어소품</td>\n",
       "      <td>액자</td>\n",
       "      <td>퍼즐/그림/사진액자</td>\n",
       "      <td>20230103</td>\n",
       "    </tr>\n",
       "  </tbody>\n",
       "</table>\n",
       "<p>1337078 rows × 14 columns</p>\n",
       "</div>\n",
       "      <button class=\"colab-df-convert\" onclick=\"convertToInteractive('df-3223cf64-bd63-4b08-8b1b-7f34d6a44916')\"\n",
       "              title=\"Convert this dataframe to an interactive table.\"\n",
       "              style=\"display:none;\">\n",
       "        \n",
       "  <svg xmlns=\"http://www.w3.org/2000/svg\" height=\"24px\"viewBox=\"0 0 24 24\"\n",
       "       width=\"24px\">\n",
       "    <path d=\"M0 0h24v24H0V0z\" fill=\"none\"/>\n",
       "    <path d=\"M18.56 5.44l.94 2.06.94-2.06 2.06-.94-2.06-.94-.94-2.06-.94 2.06-2.06.94zm-11 1L8.5 8.5l.94-2.06 2.06-.94-2.06-.94L8.5 2.5l-.94 2.06-2.06.94zm10 10l.94 2.06.94-2.06 2.06-.94-2.06-.94-.94-2.06-.94 2.06-2.06.94z\"/><path d=\"M17.41 7.96l-1.37-1.37c-.4-.4-.92-.59-1.43-.59-.52 0-1.04.2-1.43.59L10.3 9.45l-7.72 7.72c-.78.78-.78 2.05 0 2.83L4 21.41c.39.39.9.59 1.41.59.51 0 1.02-.2 1.41-.59l7.78-7.78 2.81-2.81c.8-.78.8-2.07 0-2.86zM5.41 20L4 18.59l7.72-7.72 1.47 1.35L5.41 20z\"/>\n",
       "  </svg>\n",
       "      </button>\n",
       "      \n",
       "  <style>\n",
       "    .colab-df-container {\n",
       "      display:flex;\n",
       "      flex-wrap:wrap;\n",
       "      gap: 12px;\n",
       "    }\n",
       "\n",
       "    .colab-df-convert {\n",
       "      background-color: #E8F0FE;\n",
       "      border: none;\n",
       "      border-radius: 50%;\n",
       "      cursor: pointer;\n",
       "      display: none;\n",
       "      fill: #1967D2;\n",
       "      height: 32px;\n",
       "      padding: 0 0 0 0;\n",
       "      width: 32px;\n",
       "    }\n",
       "\n",
       "    .colab-df-convert:hover {\n",
       "      background-color: #E2EBFA;\n",
       "      box-shadow: 0px 1px 2px rgba(60, 64, 67, 0.3), 0px 1px 3px 1px rgba(60, 64, 67, 0.15);\n",
       "      fill: #174EA6;\n",
       "    }\n",
       "\n",
       "    [theme=dark] .colab-df-convert {\n",
       "      background-color: #3B4455;\n",
       "      fill: #D2E3FC;\n",
       "    }\n",
       "\n",
       "    [theme=dark] .colab-df-convert:hover {\n",
       "      background-color: #434B5C;\n",
       "      box-shadow: 0px 1px 3px 1px rgba(0, 0, 0, 0.15);\n",
       "      filter: drop-shadow(0px 1px 2px rgba(0, 0, 0, 0.3));\n",
       "      fill: #FFFFFF;\n",
       "    }\n",
       "  </style>\n",
       "\n",
       "      <script>\n",
       "        const buttonEl =\n",
       "          document.querySelector('#df-3223cf64-bd63-4b08-8b1b-7f34d6a44916 button.colab-df-convert');\n",
       "        buttonEl.style.display =\n",
       "          google.colab.kernel.accessAllowed ? 'block' : 'none';\n",
       "\n",
       "        async function convertToInteractive(key) {\n",
       "          const element = document.querySelector('#df-3223cf64-bd63-4b08-8b1b-7f34d6a44916');\n",
       "          const dataTable =\n",
       "            await google.colab.kernel.invokeFunction('convertToInteractive',\n",
       "                                                     [key], {});\n",
       "          if (!dataTable) return;\n",
       "\n",
       "          const docLinkHtml = 'Like what you see? Visit the ' +\n",
       "            '<a target=\"_blank\" href=https://colab.research.google.com/notebooks/data_table.ipynb>data table notebook</a>'\n",
       "            + ' to learn more about interactive tables.';\n",
       "          element.innerHTML = '';\n",
       "          dataTable['output_type'] = 'display_data';\n",
       "          await google.colab.output.renderOutput(dataTable, element);\n",
       "          const docLink = document.createElement('div');\n",
       "          docLink.innerHTML = docLinkHtml;\n",
       "          element.appendChild(docLink);\n",
       "        }\n",
       "      </script>\n",
       "    </div>\n",
       "  </div>\n",
       "  "
      ],
      "text/plain": [
       "           index  Impression  Click   Cost  Sum of AD rank  Bid  Price(PC)  \\\n",
       "0        3575092           3      0    0.0        3.000000   50     165900   \n",
       "1        3575637           6      0    0.0        3.333333   50      10900   \n",
       "2        4129259           7      0    0.0        8.000000   50     255000   \n",
       "3        4131479          36      3  150.0        4.416667  140     190000   \n",
       "4        4131482         224      0    0.0        5.696429   50     129000   \n",
       "...          ...         ...    ...    ...             ...  ...        ...   \n",
       "1337083  2566795           5      0    0.0       13.200000  500      19900   \n",
       "1337084  2566880           3      0    0.0       17.000000  500      23900   \n",
       "1337085  2566881           1      0    0.0        8.000000  500       2500   \n",
       "1337086  2566891           2      0    0.0        4.000000  500      21000   \n",
       "1337087  2566923          14      0    0.0       12.428571  500     128800   \n",
       "\n",
       "         Price(Mobile)  Delivery Fee Category Name 1 Category Name 2  \\\n",
       "0               165900             0         가구/인테리어            침실가구   \n",
       "1                10900             0         가구/인테리어          인테리어소품   \n",
       "2               255000            -1         가구/인테리어            거실가구   \n",
       "3               190000         20000         가구/인테리어        아동/주니어가구   \n",
       "4               129000             0         가구/인테리어        아동/주니어가구   \n",
       "...                ...           ...             ...             ...   \n",
       "1337083          19900             0         가구/인테리어          인테리어소품   \n",
       "1337084          23900          3000           생활/건강         문구/사무용품   \n",
       "1337085           2500          3000         가구/인테리어          인테리어소품   \n",
       "1337086          21000          3000           생활/건강         정원/원예용품   \n",
       "1337087         128800             0         가구/인테리어          인테리어소품   \n",
       "\n",
       "        Category Name 3 Category Name 4      date  \n",
       "0               장롱/붙박이장            드레스룸  20221031  \n",
       "1              아로마/캔들용품      아로마방향제/디퓨저  20221031  \n",
       "2                    소파           패브릭소파  20221031  \n",
       "3                책상의자세트             NaN  20221031  \n",
       "4                    책상             NaN  20221031  \n",
       "...                 ...             ...       ...  \n",
       "1337083        아로마/캔들용품      아로마방향제/디퓨저  20230103  \n",
       "1337084        이벤트/파티용품            데코용품  20230103  \n",
       "1337085          기타장식용품             NaN  20230103  \n",
       "1337086            화분받침             NaN  20230103  \n",
       "1337087              액자      퍼즐/그림/사진액자  20230103  \n",
       "\n",
       "[1337078 rows x 14 columns]"
      ]
     },
     "execution_count": 7,
     "metadata": {},
     "output_type": "execute_result"
    }
   ],
   "source": [
    "bidding_result = bidding_result.dropna(subset=['Sum of AD rank'])\n",
    "bidding_result"
   ]
  },
  {
   "cell_type": "code",
   "execution_count": 8,
   "metadata": {
    "colab": {
     "base_uri": "https://localhost:8080/"
    },
    "id": "W8ItPw8Ioo5l",
    "outputId": "b2e41556-5344-475e-a4f8-c413d08352f2"
   },
   "outputs": [
    {
     "data": {
      "text/plain": [
       "index                   0\n",
       "Impression              0\n",
       "Click                   0\n",
       "Cost                    0\n",
       "Sum of AD rank          0\n",
       "Bid                     0\n",
       "Price(PC)               0\n",
       "Price(Mobile)           0\n",
       "Delivery Fee            0\n",
       "Category Name 1         0\n",
       "Category Name 2         0\n",
       "Category Name 3      5867\n",
       "Category Name 4    406952\n",
       "date                    0\n",
       "dtype: int64"
      ]
     },
     "execution_count": 8,
     "metadata": {},
     "output_type": "execute_result"
    }
   ],
   "source": [
    "bidding_result.isnull().sum()"
   ]
  },
  {
   "cell_type": "code",
   "execution_count": 9,
   "metadata": {
    "colab": {
     "base_uri": "https://localhost:8080/",
     "height": 1000
    },
    "id": "LQ-sIKvlWkj8",
    "outputId": "1b03e70f-fcc2-4e7c-c207-30093d61bb6c"
   },
   "outputs": [
    {
     "name": "stderr",
     "output_type": "stream",
     "text": [
      "/usr/local/lib/python3.8/dist-packages/matplotlib/backends/backend_agg.py:214: RuntimeWarning: Glyph 44032 missing from current font.\n",
      "  font.set_text(s, 0.0, flags=flags)\n",
      "/usr/local/lib/python3.8/dist-packages/matplotlib/backends/backend_agg.py:214: RuntimeWarning: Glyph 44396 missing from current font.\n",
      "  font.set_text(s, 0.0, flags=flags)\n",
      "/usr/local/lib/python3.8/dist-packages/matplotlib/backends/backend_agg.py:214: RuntimeWarning: Glyph 51064 missing from current font.\n",
      "  font.set_text(s, 0.0, flags=flags)\n",
      "/usr/local/lib/python3.8/dist-packages/matplotlib/backends/backend_agg.py:214: RuntimeWarning: Glyph 53580 missing from current font.\n",
      "  font.set_text(s, 0.0, flags=flags)\n",
      "/usr/local/lib/python3.8/dist-packages/matplotlib/backends/backend_agg.py:214: RuntimeWarning: Glyph 47532 missing from current font.\n",
      "  font.set_text(s, 0.0, flags=flags)\n",
      "/usr/local/lib/python3.8/dist-packages/matplotlib/backends/backend_agg.py:214: RuntimeWarning: Glyph 50612 missing from current font.\n",
      "  font.set_text(s, 0.0, flags=flags)\n",
      "/usr/local/lib/python3.8/dist-packages/matplotlib/backends/backend_agg.py:214: RuntimeWarning: Glyph 49373 missing from current font.\n",
      "  font.set_text(s, 0.0, flags=flags)\n",
      "/usr/local/lib/python3.8/dist-packages/matplotlib/backends/backend_agg.py:214: RuntimeWarning: Glyph 54876 missing from current font.\n",
      "  font.set_text(s, 0.0, flags=flags)\n",
      "/usr/local/lib/python3.8/dist-packages/matplotlib/backends/backend_agg.py:214: RuntimeWarning: Glyph 44148 missing from current font.\n",
      "  font.set_text(s, 0.0, flags=flags)\n",
      "/usr/local/lib/python3.8/dist-packages/matplotlib/backends/backend_agg.py:214: RuntimeWarning: Glyph 44053 missing from current font.\n",
      "  font.set_text(s, 0.0, flags=flags)\n",
      "/usr/local/lib/python3.8/dist-packages/matplotlib/backends/backend_agg.py:214: RuntimeWarning: Glyph 52636 missing from current font.\n",
      "  font.set_text(s, 0.0, flags=flags)\n",
      "/usr/local/lib/python3.8/dist-packages/matplotlib/backends/backend_agg.py:214: RuntimeWarning: Glyph 49328 missing from current font.\n",
      "  font.set_text(s, 0.0, flags=flags)\n",
      "/usr/local/lib/python3.8/dist-packages/matplotlib/backends/backend_agg.py:214: RuntimeWarning: Glyph 50977 missing from current font.\n",
      "  font.set_text(s, 0.0, flags=flags)\n",
      "/usr/local/lib/python3.8/dist-packages/matplotlib/backends/backend_agg.py:214: RuntimeWarning: Glyph 50500 missing from current font.\n",
      "  font.set_text(s, 0.0, flags=flags)\n",
      "/usr/local/lib/python3.8/dist-packages/matplotlib/backends/backend_agg.py:214: RuntimeWarning: Glyph 49828 missing from current font.\n",
      "  font.set_text(s, 0.0, flags=flags)\n",
      "/usr/local/lib/python3.8/dist-packages/matplotlib/backends/backend_agg.py:214: RuntimeWarning: Glyph 54252 missing from current font.\n",
      "  font.set_text(s, 0.0, flags=flags)\n",
      "/usr/local/lib/python3.8/dist-packages/matplotlib/backends/backend_agg.py:214: RuntimeWarning: Glyph 52768 missing from current font.\n",
      "  font.set_text(s, 0.0, flags=flags)\n",
      "/usr/local/lib/python3.8/dist-packages/matplotlib/backends/backend_agg.py:214: RuntimeWarning: Glyph 47112 missing from current font.\n",
      "  font.set_text(s, 0.0, flags=flags)\n",
      "/usr/local/lib/python3.8/dist-packages/matplotlib/backends/backend_agg.py:214: RuntimeWarning: Glyph 51200 missing from current font.\n",
      "  font.set_text(s, 0.0, flags=flags)\n",
      "/usr/local/lib/python3.8/dist-packages/matplotlib/backends/backend_agg.py:214: RuntimeWarning: Glyph 46356 missing from current font.\n",
      "  font.set_text(s, 0.0, flags=flags)\n",
      "/usr/local/lib/python3.8/dist-packages/matplotlib/backends/backend_agg.py:214: RuntimeWarning: Glyph 51648 missing from current font.\n",
      "  font.set_text(s, 0.0, flags=flags)\n",
      "/usr/local/lib/python3.8/dist-packages/matplotlib/backends/backend_agg.py:214: RuntimeWarning: Glyph 53560 missing from current font.\n",
      "  font.set_text(s, 0.0, flags=flags)\n",
      "/usr/local/lib/python3.8/dist-packages/matplotlib/backends/backend_agg.py:214: RuntimeWarning: Glyph 51204 missing from current font.\n",
      "  font.set_text(s, 0.0, flags=flags)\n",
      "/usr/local/lib/python3.8/dist-packages/matplotlib/backends/backend_agg.py:214: RuntimeWarning: Glyph 54056 missing from current font.\n",
      "  font.set_text(s, 0.0, flags=flags)\n",
      "/usr/local/lib/python3.8/dist-packages/matplotlib/backends/backend_agg.py:214: RuntimeWarning: Glyph 49496 missing from current font.\n",
      "  font.set_text(s, 0.0, flags=flags)\n",
      "/usr/local/lib/python3.8/dist-packages/matplotlib/backends/backend_agg.py:214: RuntimeWarning: Glyph 51105 missing from current font.\n",
      "  font.set_text(s, 0.0, flags=flags)\n",
      "/usr/local/lib/python3.8/dist-packages/matplotlib/backends/backend_agg.py:214: RuntimeWarning: Glyph 54868 missing from current font.\n",
      "  font.set_text(s, 0.0, flags=flags)\n",
      "/usr/local/lib/python3.8/dist-packages/matplotlib/backends/backend_agg.py:214: RuntimeWarning: Glyph 51032 missing from current font.\n",
      "  font.set_text(s, 0.0, flags=flags)\n",
      "/usr/local/lib/python3.8/dist-packages/matplotlib/backends/backend_agg.py:214: RuntimeWarning: Glyph 47448 missing from current font.\n",
      "  font.set_text(s, 0.0, flags=flags)\n",
      "/usr/local/lib/python3.8/dist-packages/matplotlib/backends/backend_agg.py:214: RuntimeWarning: Glyph 51109 missing from current font.\n",
      "  font.set_text(s, 0.0, flags=flags)\n",
      "/usr/local/lib/python3.8/dist-packages/matplotlib/backends/backend_agg.py:214: RuntimeWarning: Glyph 54408 missing from current font.\n",
      "  font.set_text(s, 0.0, flags=flags)\n",
      "/usr/local/lib/python3.8/dist-packages/matplotlib/backends/backend_agg.py:214: RuntimeWarning: Glyph 48120 missing from current font.\n",
      "  font.set_text(s, 0.0, flags=flags)\n",
      "/usr/local/lib/python3.8/dist-packages/matplotlib/backends/backend_agg.py:214: RuntimeWarning: Glyph 50857 missing from current font.\n",
      "  font.set_text(s, 0.0, flags=flags)\n",
      "/usr/local/lib/python3.8/dist-packages/matplotlib/backends/backend_agg.py:214: RuntimeWarning: Glyph 50668 missing from current font.\n",
      "  font.set_text(s, 0.0, flags=flags)\n",
      "/usr/local/lib/python3.8/dist-packages/matplotlib/backends/backend_agg.py:214: RuntimeWarning: Glyph 54200 missing from current font.\n",
      "  font.set_text(s, 0.0, flags=flags)\n",
      "/usr/local/lib/python3.8/dist-packages/matplotlib/backends/backend_agg.py:214: RuntimeWarning: Glyph 49885 missing from current font.\n",
      "  font.set_text(s, 0.0, flags=flags)\n",
      "/usr/local/lib/python3.8/dist-packages/matplotlib/backends/backend_agg.py:183: RuntimeWarning: Glyph 44032 missing from current font.\n",
      "  font.set_text(s, 0, flags=flags)\n",
      "/usr/local/lib/python3.8/dist-packages/matplotlib/backends/backend_agg.py:183: RuntimeWarning: Glyph 44396 missing from current font.\n",
      "  font.set_text(s, 0, flags=flags)\n",
      "/usr/local/lib/python3.8/dist-packages/matplotlib/backends/backend_agg.py:183: RuntimeWarning: Glyph 51064 missing from current font.\n",
      "  font.set_text(s, 0, flags=flags)\n",
      "/usr/local/lib/python3.8/dist-packages/matplotlib/backends/backend_agg.py:183: RuntimeWarning: Glyph 53580 missing from current font.\n",
      "  font.set_text(s, 0, flags=flags)\n",
      "/usr/local/lib/python3.8/dist-packages/matplotlib/backends/backend_agg.py:183: RuntimeWarning: Glyph 47532 missing from current font.\n",
      "  font.set_text(s, 0, flags=flags)\n",
      "/usr/local/lib/python3.8/dist-packages/matplotlib/backends/backend_agg.py:183: RuntimeWarning: Glyph 50612 missing from current font.\n",
      "  font.set_text(s, 0, flags=flags)\n",
      "/usr/local/lib/python3.8/dist-packages/matplotlib/backends/backend_agg.py:183: RuntimeWarning: Glyph 49373 missing from current font.\n",
      "  font.set_text(s, 0, flags=flags)\n",
      "/usr/local/lib/python3.8/dist-packages/matplotlib/backends/backend_agg.py:183: RuntimeWarning: Glyph 54876 missing from current font.\n",
      "  font.set_text(s, 0, flags=flags)\n",
      "/usr/local/lib/python3.8/dist-packages/matplotlib/backends/backend_agg.py:183: RuntimeWarning: Glyph 44148 missing from current font.\n",
      "  font.set_text(s, 0, flags=flags)\n",
      "/usr/local/lib/python3.8/dist-packages/matplotlib/backends/backend_agg.py:183: RuntimeWarning: Glyph 44053 missing from current font.\n",
      "  font.set_text(s, 0, flags=flags)\n",
      "/usr/local/lib/python3.8/dist-packages/matplotlib/backends/backend_agg.py:183: RuntimeWarning: Glyph 52636 missing from current font.\n",
      "  font.set_text(s, 0, flags=flags)\n",
      "/usr/local/lib/python3.8/dist-packages/matplotlib/backends/backend_agg.py:183: RuntimeWarning: Glyph 49328 missing from current font.\n",
      "  font.set_text(s, 0, flags=flags)\n",
      "/usr/local/lib/python3.8/dist-packages/matplotlib/backends/backend_agg.py:183: RuntimeWarning: Glyph 50977 missing from current font.\n",
      "  font.set_text(s, 0, flags=flags)\n",
      "/usr/local/lib/python3.8/dist-packages/matplotlib/backends/backend_agg.py:183: RuntimeWarning: Glyph 50500 missing from current font.\n",
      "  font.set_text(s, 0, flags=flags)\n",
      "/usr/local/lib/python3.8/dist-packages/matplotlib/backends/backend_agg.py:183: RuntimeWarning: Glyph 49828 missing from current font.\n",
      "  font.set_text(s, 0, flags=flags)\n",
      "/usr/local/lib/python3.8/dist-packages/matplotlib/backends/backend_agg.py:183: RuntimeWarning: Glyph 54252 missing from current font.\n",
      "  font.set_text(s, 0, flags=flags)\n",
      "/usr/local/lib/python3.8/dist-packages/matplotlib/backends/backend_agg.py:183: RuntimeWarning: Glyph 52768 missing from current font.\n",
      "  font.set_text(s, 0, flags=flags)\n",
      "/usr/local/lib/python3.8/dist-packages/matplotlib/backends/backend_agg.py:183: RuntimeWarning: Glyph 47112 missing from current font.\n",
      "  font.set_text(s, 0, flags=flags)\n",
      "/usr/local/lib/python3.8/dist-packages/matplotlib/backends/backend_agg.py:183: RuntimeWarning: Glyph 51200 missing from current font.\n",
      "  font.set_text(s, 0, flags=flags)\n",
      "/usr/local/lib/python3.8/dist-packages/matplotlib/backends/backend_agg.py:183: RuntimeWarning: Glyph 46356 missing from current font.\n",
      "  font.set_text(s, 0, flags=flags)\n",
      "/usr/local/lib/python3.8/dist-packages/matplotlib/backends/backend_agg.py:183: RuntimeWarning: Glyph 51648 missing from current font.\n",
      "  font.set_text(s, 0, flags=flags)\n",
      "/usr/local/lib/python3.8/dist-packages/matplotlib/backends/backend_agg.py:183: RuntimeWarning: Glyph 53560 missing from current font.\n",
      "  font.set_text(s, 0, flags=flags)\n",
      "/usr/local/lib/python3.8/dist-packages/matplotlib/backends/backend_agg.py:183: RuntimeWarning: Glyph 51204 missing from current font.\n",
      "  font.set_text(s, 0, flags=flags)\n",
      "/usr/local/lib/python3.8/dist-packages/matplotlib/backends/backend_agg.py:183: RuntimeWarning: Glyph 54056 missing from current font.\n",
      "  font.set_text(s, 0, flags=flags)\n",
      "/usr/local/lib/python3.8/dist-packages/matplotlib/backends/backend_agg.py:183: RuntimeWarning: Glyph 49496 missing from current font.\n",
      "  font.set_text(s, 0, flags=flags)\n",
      "/usr/local/lib/python3.8/dist-packages/matplotlib/backends/backend_agg.py:183: RuntimeWarning: Glyph 51105 missing from current font.\n",
      "  font.set_text(s, 0, flags=flags)\n",
      "/usr/local/lib/python3.8/dist-packages/matplotlib/backends/backend_agg.py:183: RuntimeWarning: Glyph 54868 missing from current font.\n",
      "  font.set_text(s, 0, flags=flags)\n",
      "/usr/local/lib/python3.8/dist-packages/matplotlib/backends/backend_agg.py:183: RuntimeWarning: Glyph 51032 missing from current font.\n",
      "  font.set_text(s, 0, flags=flags)\n",
      "/usr/local/lib/python3.8/dist-packages/matplotlib/backends/backend_agg.py:183: RuntimeWarning: Glyph 47448 missing from current font.\n",
      "  font.set_text(s, 0, flags=flags)\n",
      "/usr/local/lib/python3.8/dist-packages/matplotlib/backends/backend_agg.py:183: RuntimeWarning: Glyph 51109 missing from current font.\n",
      "  font.set_text(s, 0, flags=flags)\n",
      "/usr/local/lib/python3.8/dist-packages/matplotlib/backends/backend_agg.py:183: RuntimeWarning: Glyph 54408 missing from current font.\n",
      "  font.set_text(s, 0, flags=flags)\n",
      "/usr/local/lib/python3.8/dist-packages/matplotlib/backends/backend_agg.py:183: RuntimeWarning: Glyph 48120 missing from current font.\n",
      "  font.set_text(s, 0, flags=flags)\n",
      "/usr/local/lib/python3.8/dist-packages/matplotlib/backends/backend_agg.py:183: RuntimeWarning: Glyph 50857 missing from current font.\n",
      "  font.set_text(s, 0, flags=flags)\n",
      "/usr/local/lib/python3.8/dist-packages/matplotlib/backends/backend_agg.py:183: RuntimeWarning: Glyph 50668 missing from current font.\n",
      "  font.set_text(s, 0, flags=flags)\n",
      "/usr/local/lib/python3.8/dist-packages/matplotlib/backends/backend_agg.py:183: RuntimeWarning: Glyph 54200 missing from current font.\n",
      "  font.set_text(s, 0, flags=flags)\n",
      "/usr/local/lib/python3.8/dist-packages/matplotlib/backends/backend_agg.py:183: RuntimeWarning: Glyph 49885 missing from current font.\n",
      "  font.set_text(s, 0, flags=flags)\n"
     ]
    },
    {
     "data": {
      "image/png": "[encoded data removed]",
      "text/plain": [
       "<Figure size 864x576 with 1 Axes>"
      ]
     },
     "metadata": {
      "needs_background": "light"
     },
     "output_type": "display_data"
    }
   ],
   "source": [
    "plt.figure(figsize=(12,8))\n",
    "sns.histplot(data= bidding_result, x= \"Category Name 1\", y= \"Cost\")\n",
    "plt.show()"
   ]
  },
  {
   "cell_type": "code",
   "execution_count": 10,
   "metadata": {
    "colab": {
     "base_uri": "https://localhost:8080/",
     "height": 1000
    },
    "id": "WDrLaSxcmD9k",
    "outputId": "b4a45139-6491-4b13-df41-803da8f14483"
   },
   "outputs": [
    {
     "name": "stderr",
     "output_type": "stream",
     "text": [
      "/usr/local/lib/python3.8/dist-packages/matplotlib/backends/backend_agg.py:214: RuntimeWarning: Glyph 44032 missing from current font.\n",
      "  font.set_text(s, 0.0, flags=flags)\n",
      "/usr/local/lib/python3.8/dist-packages/matplotlib/backends/backend_agg.py:214: RuntimeWarning: Glyph 44396 missing from current font.\n",
      "  font.set_text(s, 0.0, flags=flags)\n",
      "/usr/local/lib/python3.8/dist-packages/matplotlib/backends/backend_agg.py:214: RuntimeWarning: Glyph 51064 missing from current font.\n",
      "  font.set_text(s, 0.0, flags=flags)\n",
      "/usr/local/lib/python3.8/dist-packages/matplotlib/backends/backend_agg.py:214: RuntimeWarning: Glyph 53580 missing from current font.\n",
      "  font.set_text(s, 0.0, flags=flags)\n",
      "/usr/local/lib/python3.8/dist-packages/matplotlib/backends/backend_agg.py:214: RuntimeWarning: Glyph 47532 missing from current font.\n",
      "  font.set_text(s, 0.0, flags=flags)\n",
      "/usr/local/lib/python3.8/dist-packages/matplotlib/backends/backend_agg.py:214: RuntimeWarning: Glyph 50612 missing from current font.\n",
      "  font.set_text(s, 0.0, flags=flags)\n",
      "/usr/local/lib/python3.8/dist-packages/matplotlib/backends/backend_agg.py:214: RuntimeWarning: Glyph 49373 missing from current font.\n",
      "  font.set_text(s, 0.0, flags=flags)\n",
      "/usr/local/lib/python3.8/dist-packages/matplotlib/backends/backend_agg.py:214: RuntimeWarning: Glyph 54876 missing from current font.\n",
      "  font.set_text(s, 0.0, flags=flags)\n",
      "/usr/local/lib/python3.8/dist-packages/matplotlib/backends/backend_agg.py:214: RuntimeWarning: Glyph 44148 missing from current font.\n",
      "  font.set_text(s, 0.0, flags=flags)\n",
      "/usr/local/lib/python3.8/dist-packages/matplotlib/backends/backend_agg.py:214: RuntimeWarning: Glyph 44053 missing from current font.\n",
      "  font.set_text(s, 0.0, flags=flags)\n",
      "/usr/local/lib/python3.8/dist-packages/matplotlib/backends/backend_agg.py:214: RuntimeWarning: Glyph 52636 missing from current font.\n",
      "  font.set_text(s, 0.0, flags=flags)\n",
      "/usr/local/lib/python3.8/dist-packages/matplotlib/backends/backend_agg.py:214: RuntimeWarning: Glyph 49328 missing from current font.\n",
      "  font.set_text(s, 0.0, flags=flags)\n",
      "/usr/local/lib/python3.8/dist-packages/matplotlib/backends/backend_agg.py:214: RuntimeWarning: Glyph 50977 missing from current font.\n",
      "  font.set_text(s, 0.0, flags=flags)\n",
      "/usr/local/lib/python3.8/dist-packages/matplotlib/backends/backend_agg.py:214: RuntimeWarning: Glyph 50500 missing from current font.\n",
      "  font.set_text(s, 0.0, flags=flags)\n",
      "/usr/local/lib/python3.8/dist-packages/matplotlib/backends/backend_agg.py:214: RuntimeWarning: Glyph 49828 missing from current font.\n",
      "  font.set_text(s, 0.0, flags=flags)\n",
      "/usr/local/lib/python3.8/dist-packages/matplotlib/backends/backend_agg.py:214: RuntimeWarning: Glyph 54252 missing from current font.\n",
      "  font.set_text(s, 0.0, flags=flags)\n",
      "/usr/local/lib/python3.8/dist-packages/matplotlib/backends/backend_agg.py:214: RuntimeWarning: Glyph 52768 missing from current font.\n",
      "  font.set_text(s, 0.0, flags=flags)\n",
      "/usr/local/lib/python3.8/dist-packages/matplotlib/backends/backend_agg.py:214: RuntimeWarning: Glyph 47112 missing from current font.\n",
      "  font.set_text(s, 0.0, flags=flags)\n",
      "/usr/local/lib/python3.8/dist-packages/matplotlib/backends/backend_agg.py:214: RuntimeWarning: Glyph 51200 missing from current font.\n",
      "  font.set_text(s, 0.0, flags=flags)\n",
      "/usr/local/lib/python3.8/dist-packages/matplotlib/backends/backend_agg.py:214: RuntimeWarning: Glyph 46356 missing from current font.\n",
      "  font.set_text(s, 0.0, flags=flags)\n",
      "/usr/local/lib/python3.8/dist-packages/matplotlib/backends/backend_agg.py:214: RuntimeWarning: Glyph 51648 missing from current font.\n",
      "  font.set_text(s, 0.0, flags=flags)\n",
      "/usr/local/lib/python3.8/dist-packages/matplotlib/backends/backend_agg.py:214: RuntimeWarning: Glyph 53560 missing from current font.\n",
      "  font.set_text(s, 0.0, flags=flags)\n",
      "/usr/local/lib/python3.8/dist-packages/matplotlib/backends/backend_agg.py:214: RuntimeWarning: Glyph 51204 missing from current font.\n",
      "  font.set_text(s, 0.0, flags=flags)\n",
      "/usr/local/lib/python3.8/dist-packages/matplotlib/backends/backend_agg.py:214: RuntimeWarning: Glyph 54056 missing from current font.\n",
      "  font.set_text(s, 0.0, flags=flags)\n",
      "/usr/local/lib/python3.8/dist-packages/matplotlib/backends/backend_agg.py:214: RuntimeWarning: Glyph 49496 missing from current font.\n",
      "  font.set_text(s, 0.0, flags=flags)\n",
      "/usr/local/lib/python3.8/dist-packages/matplotlib/backends/backend_agg.py:214: RuntimeWarning: Glyph 51105 missing from current font.\n",
      "  font.set_text(s, 0.0, flags=flags)\n",
      "/usr/local/lib/python3.8/dist-packages/matplotlib/backends/backend_agg.py:214: RuntimeWarning: Glyph 54868 missing from current font.\n",
      "  font.set_text(s, 0.0, flags=flags)\n",
      "/usr/local/lib/python3.8/dist-packages/matplotlib/backends/backend_agg.py:214: RuntimeWarning: Glyph 51032 missing from current font.\n",
      "  font.set_text(s, 0.0, flags=flags)\n",
      "/usr/local/lib/python3.8/dist-packages/matplotlib/backends/backend_agg.py:214: RuntimeWarning: Glyph 47448 missing from current font.\n",
      "  font.set_text(s, 0.0, flags=flags)\n",
      "/usr/local/lib/python3.8/dist-packages/matplotlib/backends/backend_agg.py:214: RuntimeWarning: Glyph 51109 missing from current font.\n",
      "  font.set_text(s, 0.0, flags=flags)\n",
      "/usr/local/lib/python3.8/dist-packages/matplotlib/backends/backend_agg.py:214: RuntimeWarning: Glyph 54408 missing from current font.\n",
      "  font.set_text(s, 0.0, flags=flags)\n",
      "/usr/local/lib/python3.8/dist-packages/matplotlib/backends/backend_agg.py:214: RuntimeWarning: Glyph 48120 missing from current font.\n",
      "  font.set_text(s, 0.0, flags=flags)\n",
      "/usr/local/lib/python3.8/dist-packages/matplotlib/backends/backend_agg.py:214: RuntimeWarning: Glyph 50857 missing from current font.\n",
      "  font.set_text(s, 0.0, flags=flags)\n",
      "/usr/local/lib/python3.8/dist-packages/matplotlib/backends/backend_agg.py:214: RuntimeWarning: Glyph 50668 missing from current font.\n",
      "  font.set_text(s, 0.0, flags=flags)\n",
      "/usr/local/lib/python3.8/dist-packages/matplotlib/backends/backend_agg.py:214: RuntimeWarning: Glyph 54200 missing from current font.\n",
      "  font.set_text(s, 0.0, flags=flags)\n",
      "/usr/local/lib/python3.8/dist-packages/matplotlib/backends/backend_agg.py:214: RuntimeWarning: Glyph 49885 missing from current font.\n",
      "  font.set_text(s, 0.0, flags=flags)\n",
      "/usr/local/lib/python3.8/dist-packages/matplotlib/backends/backend_agg.py:183: RuntimeWarning: Glyph 44032 missing from current font.\n",
      "  font.set_text(s, 0, flags=flags)\n",
      "/usr/local/lib/python3.8/dist-packages/matplotlib/backends/backend_agg.py:183: RuntimeWarning: Glyph 44396 missing from current font.\n",
      "  font.set_text(s, 0, flags=flags)\n",
      "/usr/local/lib/python3.8/dist-packages/matplotlib/backends/backend_agg.py:183: RuntimeWarning: Glyph 51064 missing from current font.\n",
      "  font.set_text(s, 0, flags=flags)\n",
      "/usr/local/lib/python3.8/dist-packages/matplotlib/backends/backend_agg.py:183: RuntimeWarning: Glyph 53580 missing from current font.\n",
      "  font.set_text(s, 0, flags=flags)\n",
      "/usr/local/lib/python3.8/dist-packages/matplotlib/backends/backend_agg.py:183: RuntimeWarning: Glyph 47532 missing from current font.\n",
      "  font.set_text(s, 0, flags=flags)\n",
      "/usr/local/lib/python3.8/dist-packages/matplotlib/backends/backend_agg.py:183: RuntimeWarning: Glyph 50612 missing from current font.\n",
      "  font.set_text(s, 0, flags=flags)\n",
      "/usr/local/lib/python3.8/dist-packages/matplotlib/backends/backend_agg.py:183: RuntimeWarning: Glyph 49373 missing from current font.\n",
      "  font.set_text(s, 0, flags=flags)\n",
      "/usr/local/lib/python3.8/dist-packages/matplotlib/backends/backend_agg.py:183: RuntimeWarning: Glyph 54876 missing from current font.\n",
      "  font.set_text(s, 0, flags=flags)\n",
      "/usr/local/lib/python3.8/dist-packages/matplotlib/backends/backend_agg.py:183: RuntimeWarning: Glyph 44148 missing from current font.\n",
      "  font.set_text(s, 0, flags=flags)\n",
      "/usr/local/lib/python3.8/dist-packages/matplotlib/backends/backend_agg.py:183: RuntimeWarning: Glyph 44053 missing from current font.\n",
      "  font.set_text(s, 0, flags=flags)\n",
      "/usr/local/lib/python3.8/dist-packages/matplotlib/backends/backend_agg.py:183: RuntimeWarning: Glyph 52636 missing from current font.\n",
      "  font.set_text(s, 0, flags=flags)\n",
      "/usr/local/lib/python3.8/dist-packages/matplotlib/backends/backend_agg.py:183: RuntimeWarning: Glyph 49328 missing from current font.\n",
      "  font.set_text(s, 0, flags=flags)\n",
      "/usr/local/lib/python3.8/dist-packages/matplotlib/backends/backend_agg.py:183: RuntimeWarning: Glyph 50977 missing from current font.\n",
      "  font.set_text(s, 0, flags=flags)\n",
      "/usr/local/lib/python3.8/dist-packages/matplotlib/backends/backend_agg.py:183: RuntimeWarning: Glyph 50500 missing from current font.\n",
      "  font.set_text(s, 0, flags=flags)\n",
      "/usr/local/lib/python3.8/dist-packages/matplotlib/backends/backend_agg.py:183: RuntimeWarning: Glyph 49828 missing from current font.\n",
      "  font.set_text(s, 0, flags=flags)\n",
      "/usr/local/lib/python3.8/dist-packages/matplotlib/backends/backend_agg.py:183: RuntimeWarning: Glyph 54252 missing from current font.\n",
      "  font.set_text(s, 0, flags=flags)\n",
      "/usr/local/lib/python3.8/dist-packages/matplotlib/backends/backend_agg.py:183: RuntimeWarning: Glyph 52768 missing from current font.\n",
      "  font.set_text(s, 0, flags=flags)\n",
      "/usr/local/lib/python3.8/dist-packages/matplotlib/backends/backend_agg.py:183: RuntimeWarning: Glyph 47112 missing from current font.\n",
      "  font.set_text(s, 0, flags=flags)\n",
      "/usr/local/lib/python3.8/dist-packages/matplotlib/backends/backend_agg.py:183: RuntimeWarning: Glyph 51200 missing from current font.\n",
      "  font.set_text(s, 0, flags=flags)\n",
      "/usr/local/lib/python3.8/dist-packages/matplotlib/backends/backend_agg.py:183: RuntimeWarning: Glyph 46356 missing from current font.\n",
      "  font.set_text(s, 0, flags=flags)\n",
      "/usr/local/lib/python3.8/dist-packages/matplotlib/backends/backend_agg.py:183: RuntimeWarning: Glyph 51648 missing from current font.\n",
      "  font.set_text(s, 0, flags=flags)\n",
      "/usr/local/lib/python3.8/dist-packages/matplotlib/backends/backend_agg.py:183: RuntimeWarning: Glyph 53560 missing from current font.\n",
      "  font.set_text(s, 0, flags=flags)\n",
      "/usr/local/lib/python3.8/dist-packages/matplotlib/backends/backend_agg.py:183: RuntimeWarning: Glyph 51204 missing from current font.\n",
      "  font.set_text(s, 0, flags=flags)\n",
      "/usr/local/lib/python3.8/dist-packages/matplotlib/backends/backend_agg.py:183: RuntimeWarning: Glyph 54056 missing from current font.\n",
      "  font.set_text(s, 0, flags=flags)\n",
      "/usr/local/lib/python3.8/dist-packages/matplotlib/backends/backend_agg.py:183: RuntimeWarning: Glyph 49496 missing from current font.\n",
      "  font.set_text(s, 0, flags=flags)\n",
      "/usr/local/lib/python3.8/dist-packages/matplotlib/backends/backend_agg.py:183: RuntimeWarning: Glyph 51105 missing from current font.\n",
      "  font.set_text(s, 0, flags=flags)\n",
      "/usr/local/lib/python3.8/dist-packages/matplotlib/backends/backend_agg.py:183: RuntimeWarning: Glyph 54868 missing from current font.\n",
      "  font.set_text(s, 0, flags=flags)\n",
      "/usr/local/lib/python3.8/dist-packages/matplotlib/backends/backend_agg.py:183: RuntimeWarning: Glyph 51032 missing from current font.\n",
      "  font.set_text(s, 0, flags=flags)\n",
      "/usr/local/lib/python3.8/dist-packages/matplotlib/backends/backend_agg.py:183: RuntimeWarning: Glyph 47448 missing from current font.\n",
      "  font.set_text(s, 0, flags=flags)\n",
      "/usr/local/lib/python3.8/dist-packages/matplotlib/backends/backend_agg.py:183: RuntimeWarning: Glyph 51109 missing from current font.\n",
      "  font.set_text(s, 0, flags=flags)\n",
      "/usr/local/lib/python3.8/dist-packages/matplotlib/backends/backend_agg.py:183: RuntimeWarning: Glyph 54408 missing from current font.\n",
      "  font.set_text(s, 0, flags=flags)\n",
      "/usr/local/lib/python3.8/dist-packages/matplotlib/backends/backend_agg.py:183: RuntimeWarning: Glyph 48120 missing from current font.\n",
      "  font.set_text(s, 0, flags=flags)\n",
      "/usr/local/lib/python3.8/dist-packages/matplotlib/backends/backend_agg.py:183: RuntimeWarning: Glyph 50857 missing from current font.\n",
      "  font.set_text(s, 0, flags=flags)\n",
      "/usr/local/lib/python3.8/dist-packages/matplotlib/backends/backend_agg.py:183: RuntimeWarning: Glyph 50668 missing from current font.\n",
      "  font.set_text(s, 0, flags=flags)\n",
      "/usr/local/lib/python3.8/dist-packages/matplotlib/backends/backend_agg.py:183: RuntimeWarning: Glyph 54200 missing from current font.\n",
      "  font.set_text(s, 0, flags=flags)\n",
      "/usr/local/lib/python3.8/dist-packages/matplotlib/backends/backend_agg.py:183: RuntimeWarning: Glyph 49885 missing from current font.\n",
      "  font.set_text(s, 0, flags=flags)\n"
     ]
    },
    {
     "data": {
      "image/png": "[encoded data removed]",
      "text/plain": [
       "<Figure size 864x576 with 1 Axes>"
      ]
     },
     "metadata": {
      "needs_background": "light"
     },
     "output_type": "display_data"
    }
   ],
   "source": [
    "plt.figure(figsize=(12,8))\n",
    "sns.histplot(data= bidding_result, x= \"Cost\", y= \"Category Name 1\")\n",
    "plt.show()"
   ]
  },
  {
   "cell_type": "code",
   "execution_count": 11,
   "metadata": {
    "id": "7M83dugyqt4L"
   },
   "outputs": [],
   "source": [
    "#광고료가 제일 많이나온 상품은?\n"
   ]
  },
  {
   "cell_type": "code",
   "execution_count": 12,
   "metadata": {
    "colab": {
     "base_uri": "https://localhost:8080/",
     "height": 297
    },
    "id": "P2PlrMHTrjdC",
    "outputId": "2d2ee176-a54c-486a-ceb4-2d27f113a1cc"
   },
   "outputs": [
    {
     "data": {
      "text/plain": [
       "<matplotlib.axes._subplots.AxesSubplot at 0x7fe6c232c700>"
      ]
     },
     "execution_count": 12,
     "metadata": {},
     "output_type": "execute_result"
    },
    {
     "data": {
      "image/png": "[encoded data removed]",
      "text/plain": [
       "<Figure size 432x288 with 1 Axes>"
      ]
     },
     "metadata": {
      "needs_background": "light"
     },
     "output_type": "display_data"
    }
   ],
   "source": [
    "sns.boxplot(data=bidding_result, x=\"Cost\")"
   ]
  },
  {
   "cell_type": "code",
   "execution_count": 13,
   "metadata": {
    "colab": {
     "base_uri": "https://localhost:8080/",
     "height": 520
    },
    "id": "ImSYdiW6q9-t",
    "outputId": "57aa60f6-054d-4f06-defe-d19ee709d329"
   },
   "outputs": [
    {
     "data": {
      "text/html": [
       "\n",
       "  <div id=\"df-b4daf3ca-eb18-4eee-8dc8-f2dd569ca18e\">\n",
       "    <div class=\"colab-df-container\">\n",
       "      <div>\n",
       "<style scoped>\n",
       "    .dataframe tbody tr th:only-of-type {\n",
       "        vertical-align: middle;\n",
       "    }\n",
       "\n",
       "    .dataframe tbody tr th {\n",
       "        vertical-align: top;\n",
       "    }\n",
       "\n",
       "    .dataframe thead th {\n",
       "        text-align: right;\n",
       "    }\n",
       "</style>\n",
       "<table border=\"1\" class=\"dataframe\">\n",
       "  <thead>\n",
       "    <tr style=\"text-align: right;\">\n",
       "      <th></th>\n",
       "      <th>index</th>\n",
       "      <th>Impression</th>\n",
       "      <th>Click</th>\n",
       "      <th>Cost</th>\n",
       "      <th>Sum of AD rank</th>\n",
       "      <th>Bid</th>\n",
       "      <th>Price(PC)</th>\n",
       "      <th>Price(Mobile)</th>\n",
       "      <th>Delivery Fee</th>\n",
       "      <th>Category Name 1</th>\n",
       "      <th>Category Name 2</th>\n",
       "      <th>Category Name 3</th>\n",
       "      <th>Category Name 4</th>\n",
       "      <th>date</th>\n",
       "    </tr>\n",
       "  </thead>\n",
       "  <tbody>\n",
       "    <tr>\n",
       "      <th>0</th>\n",
       "      <td>3575092</td>\n",
       "      <td>3</td>\n",
       "      <td>0</td>\n",
       "      <td>0.0</td>\n",
       "      <td>3.000000</td>\n",
       "      <td>50</td>\n",
       "      <td>165900</td>\n",
       "      <td>165900</td>\n",
       "      <td>0</td>\n",
       "      <td>가구/인테리어</td>\n",
       "      <td>침실가구</td>\n",
       "      <td>장롱/붙박이장</td>\n",
       "      <td>드레스룸</td>\n",
       "      <td>20221031</td>\n",
       "    </tr>\n",
       "    <tr>\n",
       "      <th>1</th>\n",
       "      <td>3575637</td>\n",
       "      <td>6</td>\n",
       "      <td>0</td>\n",
       "      <td>0.0</td>\n",
       "      <td>3.333333</td>\n",
       "      <td>50</td>\n",
       "      <td>10900</td>\n",
       "      <td>10900</td>\n",
       "      <td>0</td>\n",
       "      <td>가구/인테리어</td>\n",
       "      <td>인테리어소품</td>\n",
       "      <td>아로마/캔들용품</td>\n",
       "      <td>아로마방향제/디퓨저</td>\n",
       "      <td>20221031</td>\n",
       "    </tr>\n",
       "    <tr>\n",
       "      <th>2</th>\n",
       "      <td>4129259</td>\n",
       "      <td>7</td>\n",
       "      <td>0</td>\n",
       "      <td>0.0</td>\n",
       "      <td>8.000000</td>\n",
       "      <td>50</td>\n",
       "      <td>255000</td>\n",
       "      <td>255000</td>\n",
       "      <td>-1</td>\n",
       "      <td>가구/인테리어</td>\n",
       "      <td>거실가구</td>\n",
       "      <td>소파</td>\n",
       "      <td>패브릭소파</td>\n",
       "      <td>20221031</td>\n",
       "    </tr>\n",
       "    <tr>\n",
       "      <th>3</th>\n",
       "      <td>4131479</td>\n",
       "      <td>36</td>\n",
       "      <td>3</td>\n",
       "      <td>150.0</td>\n",
       "      <td>4.416667</td>\n",
       "      <td>140</td>\n",
       "      <td>190000</td>\n",
       "      <td>190000</td>\n",
       "      <td>20000</td>\n",
       "      <td>가구/인테리어</td>\n",
       "      <td>아동/주니어가구</td>\n",
       "      <td>책상의자세트</td>\n",
       "      <td>NaN</td>\n",
       "      <td>20221031</td>\n",
       "    </tr>\n",
       "    <tr>\n",
       "      <th>4</th>\n",
       "      <td>4131482</td>\n",
       "      <td>224</td>\n",
       "      <td>0</td>\n",
       "      <td>0.0</td>\n",
       "      <td>5.696429</td>\n",
       "      <td>50</td>\n",
       "      <td>129000</td>\n",
       "      <td>129000</td>\n",
       "      <td>0</td>\n",
       "      <td>가구/인테리어</td>\n",
       "      <td>아동/주니어가구</td>\n",
       "      <td>책상</td>\n",
       "      <td>NaN</td>\n",
       "      <td>20221031</td>\n",
       "    </tr>\n",
       "    <tr>\n",
       "      <th>...</th>\n",
       "      <td>...</td>\n",
       "      <td>...</td>\n",
       "      <td>...</td>\n",
       "      <td>...</td>\n",
       "      <td>...</td>\n",
       "      <td>...</td>\n",
       "      <td>...</td>\n",
       "      <td>...</td>\n",
       "      <td>...</td>\n",
       "      <td>...</td>\n",
       "      <td>...</td>\n",
       "      <td>...</td>\n",
       "      <td>...</td>\n",
       "      <td>...</td>\n",
       "    </tr>\n",
       "    <tr>\n",
       "      <th>1337083</th>\n",
       "      <td>2566795</td>\n",
       "      <td>5</td>\n",
       "      <td>0</td>\n",
       "      <td>0.0</td>\n",
       "      <td>13.200000</td>\n",
       "      <td>500</td>\n",
       "      <td>19900</td>\n",
       "      <td>19900</td>\n",
       "      <td>0</td>\n",
       "      <td>가구/인테리어</td>\n",
       "      <td>인테리어소품</td>\n",
       "      <td>아로마/캔들용품</td>\n",
       "      <td>아로마방향제/디퓨저</td>\n",
       "      <td>20230103</td>\n",
       "    </tr>\n",
       "    <tr>\n",
       "      <th>1337084</th>\n",
       "      <td>2566880</td>\n",
       "      <td>3</td>\n",
       "      <td>0</td>\n",
       "      <td>0.0</td>\n",
       "      <td>17.000000</td>\n",
       "      <td>500</td>\n",
       "      <td>23900</td>\n",
       "      <td>23900</td>\n",
       "      <td>3000</td>\n",
       "      <td>생활/건강</td>\n",
       "      <td>문구/사무용품</td>\n",
       "      <td>이벤트/파티용품</td>\n",
       "      <td>데코용품</td>\n",
       "      <td>20230103</td>\n",
       "    </tr>\n",
       "    <tr>\n",
       "      <th>1337085</th>\n",
       "      <td>2566881</td>\n",
       "      <td>1</td>\n",
       "      <td>0</td>\n",
       "      <td>0.0</td>\n",
       "      <td>8.000000</td>\n",
       "      <td>500</td>\n",
       "      <td>2500</td>\n",
       "      <td>2500</td>\n",
       "      <td>3000</td>\n",
       "      <td>가구/인테리어</td>\n",
       "      <td>인테리어소품</td>\n",
       "      <td>기타장식용품</td>\n",
       "      <td>NaN</td>\n",
       "      <td>20230103</td>\n",
       "    </tr>\n",
       "    <tr>\n",
       "      <th>1337086</th>\n",
       "      <td>2566891</td>\n",
       "      <td>2</td>\n",
       "      <td>0</td>\n",
       "      <td>0.0</td>\n",
       "      <td>4.000000</td>\n",
       "      <td>500</td>\n",
       "      <td>21000</td>\n",
       "      <td>21000</td>\n",
       "      <td>3000</td>\n",
       "      <td>생활/건강</td>\n",
       "      <td>정원/원예용품</td>\n",
       "      <td>화분받침</td>\n",
       "      <td>NaN</td>\n",
       "      <td>20230103</td>\n",
       "    </tr>\n",
       "    <tr>\n",
       "      <th>1337087</th>\n",
       "      <td>2566923</td>\n",
       "      <td>14</td>\n",
       "      <td>0</td>\n",
       "      <td>0.0</td>\n",
       "      <td>12.428571</td>\n",
       "      <td>500</td>\n",
       "      <td>128800</td>\n",
       "      <td>128800</td>\n",
       "      <td>0</td>\n",
       "      <td>가구/인테리어</td>\n",
       "      <td>인테리어소품</td>\n",
       "      <td>액자</td>\n",
       "      <td>퍼즐/그림/사진액자</td>\n",
       "      <td>20230103</td>\n",
       "    </tr>\n",
       "  </tbody>\n",
       "</table>\n",
       "<p>1320468 rows × 14 columns</p>\n",
       "</div>\n",
       "      <button class=\"colab-df-convert\" onclick=\"convertToInteractive('df-b4daf3ca-eb18-4eee-8dc8-f2dd569ca18e')\"\n",
       "              title=\"Convert this dataframe to an interactive table.\"\n",
       "              style=\"display:none;\">\n",
       "        \n",
       "  <svg xmlns=\"http://www.w3.org/2000/svg\" height=\"24px\"viewBox=\"0 0 24 24\"\n",
       "       width=\"24px\">\n",
       "    <path d=\"M0 0h24v24H0V0z\" fill=\"none\"/>\n",
       "    <path d=\"M18.56 5.44l.94 2.06.94-2.06 2.06-.94-2.06-.94-.94-2.06-.94 2.06-2.06.94zm-11 1L8.5 8.5l.94-2.06 2.06-.94-2.06-.94L8.5 2.5l-.94 2.06-2.06.94zm10 10l.94 2.06.94-2.06 2.06-.94-2.06-.94-.94-2.06-.94 2.06-2.06.94z\"/><path d=\"M17.41 7.96l-1.37-1.37c-.4-.4-.92-.59-1.43-.59-.52 0-1.04.2-1.43.59L10.3 9.45l-7.72 7.72c-.78.78-.78 2.05 0 2.83L4 21.41c.39.39.9.59 1.41.59.51 0 1.02-.2 1.41-.59l7.78-7.78 2.81-2.81c.8-.78.8-2.07 0-2.86zM5.41 20L4 18.59l7.72-7.72 1.47 1.35L5.41 20z\"/>\n",
       "  </svg>\n",
       "      </button>\n",
       "      \n",
       "  <style>\n",
       "    .colab-df-container {\n",
       "      display:flex;\n",
       "      flex-wrap:wrap;\n",
       "      gap: 12px;\n",
       "    }\n",
       "\n",
       "    .colab-df-convert {\n",
       "      background-color: #E8F0FE;\n",
       "      border: none;\n",
       "      border-radius: 50%;\n",
       "      cursor: pointer;\n",
       "      display: none;\n",
       "      fill: #1967D2;\n",
       "      height: 32px;\n",
       "      padding: 0 0 0 0;\n",
       "      width: 32px;\n",
       "    }\n",
       "\n",
       "    .colab-df-convert:hover {\n",
       "      background-color: #E2EBFA;\n",
       "      box-shadow: 0px 1px 2px rgba(60, 64, 67, 0.3), 0px 1px 3px 1px rgba(60, 64, 67, 0.15);\n",
       "      fill: #174EA6;\n",
       "    }\n",
       "\n",
       "    [theme=dark] .colab-df-convert {\n",
       "      background-color: #3B4455;\n",
       "      fill: #D2E3FC;\n",
       "    }\n",
       "\n",
       "    [theme=dark] .colab-df-convert:hover {\n",
       "      background-color: #434B5C;\n",
       "      box-shadow: 0px 1px 3px 1px rgba(0, 0, 0, 0.15);\n",
       "      filter: drop-shadow(0px 1px 2px rgba(0, 0, 0, 0.3));\n",
       "      fill: #FFFFFF;\n",
       "    }\n",
       "  </style>\n",
       "\n",
       "      <script>\n",
       "        const buttonEl =\n",
       "          document.querySelector('#df-b4daf3ca-eb18-4eee-8dc8-f2dd569ca18e button.colab-df-convert');\n",
       "        buttonEl.style.display =\n",
       "          google.colab.kernel.accessAllowed ? 'block' : 'none';\n",
       "\n",
       "        async function convertToInteractive(key) {\n",
       "          const element = document.querySelector('#df-b4daf3ca-eb18-4eee-8dc8-f2dd569ca18e');\n",
       "          const dataTable =\n",
       "            await google.colab.kernel.invokeFunction('convertToInteractive',\n",
       "                                                     [key], {});\n",
       "          if (!dataTable) return;\n",
       "\n",
       "          const docLinkHtml = 'Like what you see? Visit the ' +\n",
       "            '<a target=\"_blank\" href=https://colab.research.google.com/notebooks/data_table.ipynb>data table notebook</a>'\n",
       "            + ' to learn more about interactive tables.';\n",
       "          element.innerHTML = '';\n",
       "          dataTable['output_type'] = 'display_data';\n",
       "          await google.colab.output.renderOutput(dataTable, element);\n",
       "          const docLink = document.createElement('div');\n",
       "          docLink.innerHTML = docLinkHtml;\n",
       "          element.appendChild(docLink);\n",
       "        }\n",
       "      </script>\n",
       "    </div>\n",
       "  </div>\n",
       "  "
      ],
      "text/plain": [
       "           index  Impression  Click   Cost  Sum of AD rank  Bid  Price(PC)  \\\n",
       "0        3575092           3      0    0.0        3.000000   50     165900   \n",
       "1        3575637           6      0    0.0        3.333333   50      10900   \n",
       "2        4129259           7      0    0.0        8.000000   50     255000   \n",
       "3        4131479          36      3  150.0        4.416667  140     190000   \n",
       "4        4131482         224      0    0.0        5.696429   50     129000   \n",
       "...          ...         ...    ...    ...             ...  ...        ...   \n",
       "1337083  2566795           5      0    0.0       13.200000  500      19900   \n",
       "1337084  2566880           3      0    0.0       17.000000  500      23900   \n",
       "1337085  2566881           1      0    0.0        8.000000  500       2500   \n",
       "1337086  2566891           2      0    0.0        4.000000  500      21000   \n",
       "1337087  2566923          14      0    0.0       12.428571  500     128800   \n",
       "\n",
       "         Price(Mobile)  Delivery Fee Category Name 1 Category Name 2  \\\n",
       "0               165900             0         가구/인테리어            침실가구   \n",
       "1                10900             0         가구/인테리어          인테리어소품   \n",
       "2               255000            -1         가구/인테리어            거실가구   \n",
       "3               190000         20000         가구/인테리어        아동/주니어가구   \n",
       "4               129000             0         가구/인테리어        아동/주니어가구   \n",
       "...                ...           ...             ...             ...   \n",
       "1337083          19900             0         가구/인테리어          인테리어소품   \n",
       "1337084          23900          3000           생활/건강         문구/사무용품   \n",
       "1337085           2500          3000         가구/인테리어          인테리어소품   \n",
       "1337086          21000          3000           생활/건강         정원/원예용품   \n",
       "1337087         128800             0         가구/인테리어          인테리어소품   \n",
       "\n",
       "        Category Name 3 Category Name 4      date  \n",
       "0               장롱/붙박이장            드레스룸  20221031  \n",
       "1              아로마/캔들용품      아로마방향제/디퓨저  20221031  \n",
       "2                    소파           패브릭소파  20221031  \n",
       "3                책상의자세트             NaN  20221031  \n",
       "4                    책상             NaN  20221031  \n",
       "...                 ...             ...       ...  \n",
       "1337083        아로마/캔들용품      아로마방향제/디퓨저  20230103  \n",
       "1337084        이벤트/파티용품            데코용품  20230103  \n",
       "1337085          기타장식용품             NaN  20230103  \n",
       "1337086            화분받침             NaN  20230103  \n",
       "1337087              액자      퍼즐/그림/사진액자  20230103  \n",
       "\n",
       "[1320468 rows x 14 columns]"
      ]
     },
     "execution_count": 13,
     "metadata": {},
     "output_type": "execute_result"
    }
   ],
   "source": [
    "a = bidding_result.loc[bidding_result['Category Name 1'].isin(bidding_result['Category Name 1'].value_counts()[:5].index)]\n",
    "a"
   ]
  },
  {
   "cell_type": "code",
   "execution_count": 14,
   "metadata": {
    "colab": {
     "base_uri": "https://localhost:8080/",
     "height": 602
    },
    "id": "fo1I6uZBq-Ar",
    "outputId": "9ad82a13-bd52-4b92-f15f-784d71c41db3"
   },
   "outputs": [
    {
     "name": "stderr",
     "output_type": "stream",
     "text": [
      "WARNING:matplotlib.font_manager:findfont: Font family ['Malgun Gothic'] not found. Falling back to DejaVu Sans.\n",
      "WARNING:matplotlib.font_manager:findfont: Font family ['Malgun Gothic'] not found. Falling back to DejaVu Sans.\n"
     ]
    },
    {
     "data": {
      "image/png": "[encoded data removed]",
      "text/plain": [
       "<Figure size 1080x576 with 2 Axes>"
      ]
     },
     "metadata": {},
     "output_type": "display_data"
    }
   ],
   "source": [
    "sns.set(rc = {'figure.figsize':(15,8)}, font =\"Malgun Gothic\", font_scale = 1)\n",
    "sns.heatmap(data = bidding_result.corr(), annot=True, linewidths=1)\n",
    "plt.rcParams['font.family'] = 'NanumGothic'\n",
    "plt.rcParams['font.family'] = 'Malgun Gothic' # cost & click 상관관계 매우 높음/cost impression/click impression/click cost"
   ]
  },
  {
   "cell_type": "code",
   "execution_count": 15,
   "metadata": {
    "colab": {
     "base_uri": "https://localhost:8080/"
    },
    "id": "hpLj5nisRqho",
    "outputId": "48b42764-e1c9-433f-e245-983ab2ea93a0"
   },
   "outputs": [
    {
     "data": {
      "text/plain": [
       "0      1007240\n",
       "1       180549\n",
       "2        61235\n",
       "3        28678\n",
       "4        16125\n",
       "        ...   \n",
       "195          1\n",
       "240          1\n",
       "257          1\n",
       "177          1\n",
       "455          1\n",
       "Name: Click, Length: 189, dtype: int64"
      ]
     },
     "execution_count": 15,
     "metadata": {},
     "output_type": "execute_result"
    }
   ],
   "source": [
    "bidding_result.Click.value_counts()  # 어떤 클릭이 제일 비쌌는지 찾아보기"
   ]
  },
  {
   "cell_type": "code",
   "execution_count": 16,
   "metadata": {
    "colab": {
     "base_uri": "https://localhost:8080/",
     "height": 412
    },
    "id": "ToB4Jp1AU1Lh",
    "outputId": "62f86699-2c79-4f6a-a672-48be5dcef374"
   },
   "outputs": [
    {
     "data": {
      "text/plain": [
       "<matplotlib.axes._subplots.AxesSubplot at 0x7fe6bf4dca60>"
      ]
     },
     "execution_count": 16,
     "metadata": {},
     "output_type": "execute_result"
    },
    {
     "data": {
      "image/png": "[encoded data removed]",
      "text/plain": [
       "<Figure size 1440x432 with 1 Axes>"
      ]
     },
     "metadata": {},
     "output_type": "display_data"
    }
   ],
   "source": [
    "plt.figure(figsize = (20, 6))\n",
    "sns.lineplot(data = bidding_result, y = 'Click' , x = 'Sum of AD rank' )\n"
   ]
  },
  {
   "cell_type": "code",
   "execution_count": 17,
   "metadata": {
    "colab": {
     "base_uri": "https://localhost:8080/"
    },
    "id": "9FcGk6l7UTXY",
    "outputId": "3f29089b-568a-45fa-9331-4336b2dbd6c0"
   },
   "outputs": [
    {
     "data": {
      "text/plain": [
       "0.0        1007240\n",
       "50.0         65986\n",
       "100.0        22581\n",
       "150.0        12026\n",
       "200.0         8849\n",
       "            ...   \n",
       "26190.0          1\n",
       "42270.0          1\n",
       "10720.0          1\n",
       "46930.0          1\n",
       "10160.0          1\n",
       "Name: Cost, Length: 2406, dtype: int64"
      ]
     },
     "execution_count": 17,
     "metadata": {},
     "output_type": "execute_result"
    }
   ],
   "source": [
    "bidding_result.Cost.value_counts()"
   ]
  },
  {
   "cell_type": "code",
   "execution_count": 18,
   "metadata": {
    "colab": {
     "base_uri": "https://localhost:8080/",
     "height": 412
    },
    "id": "f3TdaM9Gq97W",
    "outputId": "84ac7940-bed0-496e-8646-c1acb4fc34dd"
   },
   "outputs": [
    {
     "data": {
      "text/plain": [
       "<matplotlib.axes._subplots.AxesSubplot at 0x7fe6bda1ca90>"
      ]
     },
     "execution_count": 18,
     "metadata": {},
     "output_type": "execute_result"
    },
    {
     "data": {
      "image/png": "[encoded data removed]",
      "text/plain": [
       "<Figure size 1440x432 with 1 Axes>"
      ]
     },
     "metadata": {},
     "output_type": "display_data"
    }
   ],
   "source": [
    "# 금액대 별 나눠서 어디에 몰려있는지 더 체크\n",
    "plt.figure(figsize = (20, 6))\n",
    "sns.lineplot(data = bidding_result, y = 'Cost' , x = 'Sum of AD rank' )\n",
    "# 1~5등사이에 몰려있다 -> "
   ]
  },
  {
   "cell_type": "code",
   "execution_count": 19,
   "metadata": {
    "colab": {
     "base_uri": "https://localhost:8080/"
    },
    "id": "9HMULpE6s54E",
    "outputId": "8acef75d-be35-46d3-d7c1-a9775d457e0e"
   },
   "outputs": [
    {
     "data": {
      "text/plain": [
       "1    1337078\n",
       "Name: Cost, dtype: int64"
      ]
     },
     "execution_count": 19,
     "metadata": {},
     "output_type": "execute_result"
    }
   ],
   "source": [
    "bidding_result['Cost'] = 0\n",
    "def func(x):\n",
    "    if x >= 50000 and x < 100000:\n",
    "        return 2\n",
    "    elif x >= 100000 and x < 150000:\n",
    "        return 3\n",
    "    elif x >= 150000 and x < 200000:\n",
    "        return 4\n",
    "    elif x >= 200000 and x < 250000:\n",
    "        return 5\n",
    "    elif x >= 250000 and x < 300000:\n",
    "        return 6\n",
    "    elif x >= 300000:\n",
    "        return 7\n",
    "    else: \n",
    "        return 1\n",
    "\n",
    "bidding_result.Cost = bidding_result.Cost.apply(func)\n",
    "bidding_result.Cost.value_counts()"
   ]
  },
  {
   "cell_type": "code",
   "execution_count": 20,
   "metadata": {
    "colab": {
     "base_uri": "https://localhost:8080/"
    },
    "id": "lDhDfuNJufkO",
    "outputId": "b1214185-9297-47ab-8a46-4cce2e74c8b8"
   },
   "outputs": [
    {
     "data": {
      "text/plain": [
       "1    1337078\n",
       "Name: Cost, dtype: int64"
      ]
     },
     "execution_count": 20,
     "metadata": {},
     "output_type": "execute_result"
    }
   ],
   "source": [
    "bidding_result.Cost.value_counts()"
   ]
  },
  {
   "cell_type": "code",
   "execution_count": 23,
   "metadata": {
    "colab": {
     "base_uri": "https://localhost:8080/",
     "height": 502
    },
    "id": "onUT-Qf_h1w_",
    "outputId": "63e8c0aa-21fc-4833-b868-3f62486b83ba"
   },
   "outputs": [
    {
     "data": {
      "text/html": [
       "\n",
       "  <div id=\"df-c28c6443-afb6-42e2-a9b0-6adf8e591b61\">\n",
       "    <div class=\"colab-df-container\">\n",
       "      <div>\n",
       "<style scoped>\n",
       "    .dataframe tbody tr th:only-of-type {\n",
       "        vertical-align: middle;\n",
       "    }\n",
       "\n",
       "    .dataframe tbody tr th {\n",
       "        vertical-align: top;\n",
       "    }\n",
       "\n",
       "    .dataframe thead th {\n",
       "        text-align: right;\n",
       "    }\n",
       "</style>\n",
       "<table border=\"1\" class=\"dataframe\">\n",
       "  <thead>\n",
       "    <tr style=\"text-align: right;\">\n",
       "      <th></th>\n",
       "      <th>index</th>\n",
       "      <th>Impression</th>\n",
       "      <th>Click</th>\n",
       "      <th>Cost</th>\n",
       "      <th>Sum of AD rank</th>\n",
       "      <th>Bid</th>\n",
       "      <th>Price(PC)</th>\n",
       "      <th>Price(Mobile)</th>\n",
       "      <th>Delivery Fee</th>\n",
       "      <th>Category Name 1</th>\n",
       "      <th>Category Name 2</th>\n",
       "      <th>Category Name 3</th>\n",
       "      <th>Category Name 4</th>\n",
       "      <th>date</th>\n",
       "    </tr>\n",
       "  </thead>\n",
       "  <tbody>\n",
       "    <tr>\n",
       "      <th>10</th>\n",
       "      <td>4159623</td>\n",
       "      <td>9</td>\n",
       "      <td>0</td>\n",
       "      <td>1</td>\n",
       "      <td>1.0</td>\n",
       "      <td>50</td>\n",
       "      <td>559000</td>\n",
       "      <td>559000</td>\n",
       "      <td>-1</td>\n",
       "      <td>가구/인테리어</td>\n",
       "      <td>침실가구</td>\n",
       "      <td>침대</td>\n",
       "      <td>침대프레임</td>\n",
       "      <td>20221031</td>\n",
       "    </tr>\n",
       "    <tr>\n",
       "      <th>13</th>\n",
       "      <td>4163063</td>\n",
       "      <td>25</td>\n",
       "      <td>5</td>\n",
       "      <td>1</td>\n",
       "      <td>1.0</td>\n",
       "      <td>50</td>\n",
       "      <td>253000</td>\n",
       "      <td>253000</td>\n",
       "      <td>15000</td>\n",
       "      <td>생활/건강</td>\n",
       "      <td>반려동물</td>\n",
       "      <td>고양이 캣타워</td>\n",
       "      <td>NaN</td>\n",
       "      <td>20221031</td>\n",
       "    </tr>\n",
       "    <tr>\n",
       "      <th>37</th>\n",
       "      <td>4183877</td>\n",
       "      <td>49</td>\n",
       "      <td>3</td>\n",
       "      <td>1</td>\n",
       "      <td>1.0</td>\n",
       "      <td>120</td>\n",
       "      <td>9900</td>\n",
       "      <td>9900</td>\n",
       "      <td>3000</td>\n",
       "      <td>생활/건강</td>\n",
       "      <td>반려동물</td>\n",
       "      <td>식기/급수기</td>\n",
       "      <td>정수기/필터</td>\n",
       "      <td>20221031</td>\n",
       "    </tr>\n",
       "    <tr>\n",
       "      <th>44</th>\n",
       "      <td>4475290</td>\n",
       "      <td>39</td>\n",
       "      <td>1</td>\n",
       "      <td>1</td>\n",
       "      <td>1.0</td>\n",
       "      <td>150</td>\n",
       "      <td>314500</td>\n",
       "      <td>314500</td>\n",
       "      <td>0</td>\n",
       "      <td>가구/인테리어</td>\n",
       "      <td>침구세트</td>\n",
       "      <td>이불베개세트</td>\n",
       "      <td>더블/퀸이불베개세트</td>\n",
       "      <td>20221031</td>\n",
       "    </tr>\n",
       "    <tr>\n",
       "      <th>95</th>\n",
       "      <td>5161186</td>\n",
       "      <td>26</td>\n",
       "      <td>1</td>\n",
       "      <td>1</td>\n",
       "      <td>1.0</td>\n",
       "      <td>50</td>\n",
       "      <td>52000</td>\n",
       "      <td>52000</td>\n",
       "      <td>3000</td>\n",
       "      <td>스포츠/레저</td>\n",
       "      <td>캠핑</td>\n",
       "      <td>기타캠핑용품</td>\n",
       "      <td>NaN</td>\n",
       "      <td>20221031</td>\n",
       "    </tr>\n",
       "    <tr>\n",
       "      <th>...</th>\n",
       "      <td>...</td>\n",
       "      <td>...</td>\n",
       "      <td>...</td>\n",
       "      <td>...</td>\n",
       "      <td>...</td>\n",
       "      <td>...</td>\n",
       "      <td>...</td>\n",
       "      <td>...</td>\n",
       "      <td>...</td>\n",
       "      <td>...</td>\n",
       "      <td>...</td>\n",
       "      <td>...</td>\n",
       "      <td>...</td>\n",
       "      <td>...</td>\n",
       "    </tr>\n",
       "    <tr>\n",
       "      <th>1336367</th>\n",
       "      <td>1361011</td>\n",
       "      <td>1</td>\n",
       "      <td>0</td>\n",
       "      <td>1</td>\n",
       "      <td>1.0</td>\n",
       "      <td>50</td>\n",
       "      <td>489000</td>\n",
       "      <td>489000</td>\n",
       "      <td>0</td>\n",
       "      <td>가구/인테리어</td>\n",
       "      <td>거실가구</td>\n",
       "      <td>테이블</td>\n",
       "      <td>사이드테이블</td>\n",
       "      <td>20230103</td>\n",
       "    </tr>\n",
       "    <tr>\n",
       "      <th>1336381</th>\n",
       "      <td>1361127</td>\n",
       "      <td>3</td>\n",
       "      <td>0</td>\n",
       "      <td>1</td>\n",
       "      <td>1.0</td>\n",
       "      <td>50</td>\n",
       "      <td>914000</td>\n",
       "      <td>914000</td>\n",
       "      <td>0</td>\n",
       "      <td>가구/인테리어</td>\n",
       "      <td>서재/사무용가구</td>\n",
       "      <td>의자</td>\n",
       "      <td>인테리어의자</td>\n",
       "      <td>20230103</td>\n",
       "    </tr>\n",
       "    <tr>\n",
       "      <th>1336387</th>\n",
       "      <td>1361156</td>\n",
       "      <td>42</td>\n",
       "      <td>0</td>\n",
       "      <td>1</td>\n",
       "      <td>1.0</td>\n",
       "      <td>50</td>\n",
       "      <td>1156000</td>\n",
       "      <td>1156000</td>\n",
       "      <td>0</td>\n",
       "      <td>가구/인테리어</td>\n",
       "      <td>서재/사무용가구</td>\n",
       "      <td>사무/교구용가구</td>\n",
       "      <td>사무용의자</td>\n",
       "      <td>20230103</td>\n",
       "    </tr>\n",
       "    <tr>\n",
       "      <th>1336391</th>\n",
       "      <td>1361167</td>\n",
       "      <td>1</td>\n",
       "      <td>0</td>\n",
       "      <td>1</td>\n",
       "      <td>1.0</td>\n",
       "      <td>50</td>\n",
       "      <td>313600</td>\n",
       "      <td>313600</td>\n",
       "      <td>20000</td>\n",
       "      <td>가구/인테리어</td>\n",
       "      <td>서재/사무용가구</td>\n",
       "      <td>의자</td>\n",
       "      <td>스툴</td>\n",
       "      <td>20230103</td>\n",
       "    </tr>\n",
       "    <tr>\n",
       "      <th>1336401</th>\n",
       "      <td>1361233</td>\n",
       "      <td>2</td>\n",
       "      <td>0</td>\n",
       "      <td>1</td>\n",
       "      <td>1.0</td>\n",
       "      <td>50</td>\n",
       "      <td>375000</td>\n",
       "      <td>375000</td>\n",
       "      <td>0</td>\n",
       "      <td>가구/인테리어</td>\n",
       "      <td>인테리어소품</td>\n",
       "      <td>스탠드</td>\n",
       "      <td>단스탠드</td>\n",
       "      <td>20230103</td>\n",
       "    </tr>\n",
       "  </tbody>\n",
       "</table>\n",
       "<p>26225 rows × 14 columns</p>\n",
       "</div>\n",
       "      <button class=\"colab-df-convert\" onclick=\"convertToInteractive('df-c28c6443-afb6-42e2-a9b0-6adf8e591b61')\"\n",
       "              title=\"Convert this dataframe to an interactive table.\"\n",
       "              style=\"display:none;\">\n",
       "        \n",
       "  <svg xmlns=\"http://www.w3.org/2000/svg\" height=\"24px\"viewBox=\"0 0 24 24\"\n",
       "       width=\"24px\">\n",
       "    <path d=\"M0 0h24v24H0V0z\" fill=\"none\"/>\n",
       "    <path d=\"M18.56 5.44l.94 2.06.94-2.06 2.06-.94-2.06-.94-.94-2.06-.94 2.06-2.06.94zm-11 1L8.5 8.5l.94-2.06 2.06-.94-2.06-.94L8.5 2.5l-.94 2.06-2.06.94zm10 10l.94 2.06.94-2.06 2.06-.94-2.06-.94-.94-2.06-.94 2.06-2.06.94z\"/><path d=\"M17.41 7.96l-1.37-1.37c-.4-.4-.92-.59-1.43-.59-.52 0-1.04.2-1.43.59L10.3 9.45l-7.72 7.72c-.78.78-.78 2.05 0 2.83L4 21.41c.39.39.9.59 1.41.59.51 0 1.02-.2 1.41-.59l7.78-7.78 2.81-2.81c.8-.78.8-2.07 0-2.86zM5.41 20L4 18.59l7.72-7.72 1.47 1.35L5.41 20z\"/>\n",
       "  </svg>\n",
       "      </button>\n",
       "      \n",
       "  <style>\n",
       "    .colab-df-container {\n",
       "      display:flex;\n",
       "      flex-wrap:wrap;\n",
       "      gap: 12px;\n",
       "    }\n",
       "\n",
       "    .colab-df-convert {\n",
       "      background-color: #E8F0FE;\n",
       "      border: none;\n",
       "      border-radius: 50%;\n",
       "      cursor: pointer;\n",
       "      display: none;\n",
       "      fill: #1967D2;\n",
       "      height: 32px;\n",
       "      padding: 0 0 0 0;\n",
       "      width: 32px;\n",
       "    }\n",
       "\n",
       "    .colab-df-convert:hover {\n",
       "      background-color: #E2EBFA;\n",
       "      box-shadow: 0px 1px 2px rgba(60, 64, 67, 0.3), 0px 1px 3px 1px rgba(60, 64, 67, 0.15);\n",
       "      fill: #174EA6;\n",
       "    }\n",
       "\n",
       "    [theme=dark] .colab-df-convert {\n",
       "      background-color: #3B4455;\n",
       "      fill: #D2E3FC;\n",
       "    }\n",
       "\n",
       "    [theme=dark] .colab-df-convert:hover {\n",
       "      background-color: #434B5C;\n",
       "      box-shadow: 0px 1px 3px 1px rgba(0, 0, 0, 0.15);\n",
       "      filter: drop-shadow(0px 1px 2px rgba(0, 0, 0, 0.3));\n",
       "      fill: #FFFFFF;\n",
       "    }\n",
       "  </style>\n",
       "\n",
       "      <script>\n",
       "        const buttonEl =\n",
       "          document.querySelector('#df-c28c6443-afb6-42e2-a9b0-6adf8e591b61 button.colab-df-convert');\n",
       "        buttonEl.style.display =\n",
       "          google.colab.kernel.accessAllowed ? 'block' : 'none';\n",
       "\n",
       "        async function convertToInteractive(key) {\n",
       "          const element = document.querySelector('#df-c28c6443-afb6-42e2-a9b0-6adf8e591b61');\n",
       "          const dataTable =\n",
       "            await google.colab.kernel.invokeFunction('convertToInteractive',\n",
       "                                                     [key], {});\n",
       "          if (!dataTable) return;\n",
       "\n",
       "          const docLinkHtml = 'Like what you see? Visit the ' +\n",
       "            '<a target=\"_blank\" href=https://colab.research.google.com/notebooks/data_table.ipynb>data table notebook</a>'\n",
       "            + ' to learn more about interactive tables.';\n",
       "          element.innerHTML = '';\n",
       "          dataTable['output_type'] = 'display_data';\n",
       "          await google.colab.output.renderOutput(dataTable, element);\n",
       "          const docLink = document.createElement('div');\n",
       "          docLink.innerHTML = docLinkHtml;\n",
       "          element.appendChild(docLink);\n",
       "        }\n",
       "      </script>\n",
       "    </div>\n",
       "  </div>\n",
       "  "
      ],
      "text/plain": [
       "           index  Impression  Click  Cost  Sum of AD rank  Bid  Price(PC)  \\\n",
       "10       4159623           9      0     1             1.0   50     559000   \n",
       "13       4163063          25      5     1             1.0   50     253000   \n",
       "37       4183877          49      3     1             1.0  120       9900   \n",
       "44       4475290          39      1     1             1.0  150     314500   \n",
       "95       5161186          26      1     1             1.0   50      52000   \n",
       "...          ...         ...    ...   ...             ...  ...        ...   \n",
       "1336367  1361011           1      0     1             1.0   50     489000   \n",
       "1336381  1361127           3      0     1             1.0   50     914000   \n",
       "1336387  1361156          42      0     1             1.0   50    1156000   \n",
       "1336391  1361167           1      0     1             1.0   50     313600   \n",
       "1336401  1361233           2      0     1             1.0   50     375000   \n",
       "\n",
       "         Price(Mobile)  Delivery Fee Category Name 1 Category Name 2  \\\n",
       "10              559000            -1         가구/인테리어            침실가구   \n",
       "13              253000         15000           생활/건강            반려동물   \n",
       "37                9900          3000           생활/건강            반려동물   \n",
       "44              314500             0         가구/인테리어            침구세트   \n",
       "95               52000          3000          스포츠/레저              캠핑   \n",
       "...                ...           ...             ...             ...   \n",
       "1336367         489000             0         가구/인테리어            거실가구   \n",
       "1336381         914000             0         가구/인테리어        서재/사무용가구   \n",
       "1336387        1156000             0         가구/인테리어        서재/사무용가구   \n",
       "1336391         313600         20000         가구/인테리어        서재/사무용가구   \n",
       "1336401         375000             0         가구/인테리어          인테리어소품   \n",
       "\n",
       "        Category Name 3 Category Name 4      date  \n",
       "10                   침대           침대프레임  20221031  \n",
       "13              고양이 캣타워             NaN  20221031  \n",
       "37               식기/급수기          정수기/필터  20221031  \n",
       "44               이불베개세트      더블/퀸이불베개세트  20221031  \n",
       "95               기타캠핑용품             NaN  20221031  \n",
       "...                 ...             ...       ...  \n",
       "1336367             테이블          사이드테이블  20230103  \n",
       "1336381              의자          인테리어의자  20230103  \n",
       "1336387        사무/교구용가구           사무용의자  20230103  \n",
       "1336391              의자              스툴  20230103  \n",
       "1336401             스탠드            단스탠드  20230103  \n",
       "\n",
       "[26225 rows x 14 columns]"
      ]
     },
     "execution_count": 23,
     "metadata": {},
     "output_type": "execute_result"
    }
   ],
   "source": [
    "# Sum of AD rank 수가 1이고 cost가 150이하 일때\n",
    "minimum = bidding_result['Sum of AD rank'] == 1\n",
    "mimumcost = bidding_result['Bid'] <= 150\n",
    "subset_df = bidding_result[minimum & mimumcost]\n",
    "subset_df"
   ]
  },
  {
   "cell_type": "code",
   "execution_count": 24,
   "metadata": {
    "colab": {
     "base_uri": "https://localhost:8080/"
    },
    "id": "qwmv1Da1SRIl",
    "outputId": "5e9f978b-ccd2-4f8b-b91c-4043b30113a7"
   },
   "outputs": [
    {
     "data": {
      "text/plain": [
       "Sum of AD rank\n",
       "1.000000     200.999625\n",
       "1.000605     850.000000\n",
       "1.001109     850.000000\n",
       "1.001287     850.000000\n",
       "1.001642      50.000000\n",
       "                ...    \n",
       "9.995671      50.000000\n",
       "9.996212     100.000000\n",
       "9.996403      50.000000\n",
       "9.997214     560.000000\n",
       "10.000000    216.017341\n",
       "Name: Bid, Length: 75820, dtype: float64"
      ]
     },
     "execution_count": 24,
     "metadata": {},
     "output_type": "execute_result"
    }
   ],
   "source": [
    "bidding_result.groupby(['Sum of AD rank'])['Bid'].mean()[:10] # 누적순위 1~10등까지의 순위만 의미있다고 판단\n",
    "# 1등하기 위해 bid 201, 10등 하는데 216원 -> Rank 반올림해서 소숫점 없애버리자"
   ]
  },
  {
   "cell_type": "code",
   "execution_count": 25,
   "metadata": {
    "colab": {
     "base_uri": "https://localhost:8080/"
    },
    "id": "U71nDs6yPA70",
    "outputId": "72cc9037-9db6-45d2-c519-e3c07f01f10a"
   },
   "outputs": [
    {
     "data": {
      "text/plain": [
       "Sum of AD rank\n",
       "1.000000     9120760\n",
       "1.000605         850\n",
       "1.001109         850\n",
       "1.001287         850\n",
       "1.001642          50\n",
       "              ...   \n",
       "9.995671         100\n",
       "9.996212         100\n",
       "9.996403          50\n",
       "9.997214        1120\n",
       "10.000000    3363390\n",
       "Name: Bid, Length: 75820, dtype: int64"
      ]
     },
     "execution_count": 25,
     "metadata": {},
     "output_type": "execute_result"
    }
   ],
   "source": [
    "bidding_result.groupby(['Sum of AD rank'])['Bid'].sum()[:10]\n"
   ]
  },
  {
   "cell_type": "code",
   "execution_count": 26,
   "metadata": {
    "colab": {
     "base_uri": "https://localhost:8080/"
    },
    "id": "i3wvcxrgZG4g",
    "outputId": "7345e21c-dc53-40c2-8e3a-4883f64f38fb"
   },
   "outputs": [
    {
     "data": {
      "text/plain": [
       "0           3.0\n",
       "1           3.0\n",
       "2           8.0\n",
       "3           4.0\n",
       "4           6.0\n",
       "           ... \n",
       "1337083    13.0\n",
       "1337084    17.0\n",
       "1337085     8.0\n",
       "1337086     4.0\n",
       "1337087    12.0\n",
       "Name: Sum of AD rank, Length: 1337078, dtype: float64"
      ]
     },
     "execution_count": 26,
     "metadata": {},
     "output_type": "execute_result"
    }
   ],
   "source": [
    "bidding_result['Sum of AD rank'] = bidding_result['Sum of AD rank'].round(0)\n",
    "bidding_result['Sum of AD rank']"
   ]
  },
  {
   "cell_type": "code",
   "execution_count": 27,
   "metadata": {
    "colab": {
     "base_uri": "https://localhost:8080/"
    },
    "id": "T7HsKIEvebur",
    "outputId": "fcd05a29-5b38-4623-932a-e8fcc75d32ba"
   },
   "outputs": [
    {
     "data": {
      "text/plain": [
       "Sum of AD rank\n",
       "1.0     209.429329\n",
       "2.0     218.906179\n",
       "3.0     243.215229\n",
       "4.0     253.852510\n",
       "5.0     272.613369\n",
       "6.0     272.018552\n",
       "7.0     276.812081\n",
       "8.0     270.202835\n",
       "9.0     266.728635\n",
       "10.0    264.750046\n",
       "Name: Bid, dtype: float64"
      ]
     },
     "execution_count": 27,
     "metadata": {},
     "output_type": "execute_result"
    }
   ],
   "source": [
    "bidding_result.groupby(['Sum of AD rank'])['Bid'].mean()[:10] #-> 순위가 낮을 수록 bid금액이 높아짐 ->이상함 #sum"
   ]
  },
  {
   "cell_type": "code",
   "execution_count": 28,
   "metadata": {
    "colab": {
     "base_uri": "https://localhost:8080/"
    },
    "id": "w2SeXz5mPF1D",
    "outputId": "45d54fd0-91aa-4983-df27-fea4f2eefe33"
   },
   "outputs": [
    {
     "data": {
      "text/plain": [
       "Sum of AD rank\n",
       "1.0     15156610\n",
       "2.0     29246960\n",
       "3.0     25775950\n",
       "4.0     28664010\n",
       "5.0     26174700\n",
       "6.0     26567780\n",
       "7.0     20914260\n",
       "8.0     20741310\n",
       "9.0     16700680\n",
       "10.0    15914390\n",
       "Name: Bid, dtype: int64"
      ]
     },
     "execution_count": 28,
     "metadata": {},
     "output_type": "execute_result"
    }
   ],
   "source": [
    "bidding_result.groupby(['Sum of AD rank'])['Bid'].sum()[:10]"
   ]
  },
  {
   "cell_type": "code",
   "execution_count": 29,
   "metadata": {
    "colab": {
     "base_uri": "https://localhost:8080/"
    },
    "id": "32cHTHfabFJi",
    "outputId": "2d9dedd4-643c-441f-a576-4172d0c6fa33"
   },
   "outputs": [
    {
     "data": {
      "text/plain": [
       "Sum of AD rank\n",
       "1.0     1.0\n",
       "2.0     1.0\n",
       "3.0     1.0\n",
       "4.0     1.0\n",
       "5.0     1.0\n",
       "6.0     1.0\n",
       "7.0     1.0\n",
       "8.0     1.0\n",
       "9.0     1.0\n",
       "10.0    1.0\n",
       "Name: Cost, dtype: float64"
      ]
     },
     "execution_count": 29,
     "metadata": {},
     "output_type": "execute_result"
    }
   ],
   "source": [
    "bidding_result.groupby(['Sum of AD rank'])['Cost'].mean()[:10] #-> Cost로 찍어보니 상식과 비슷한 결과가 나옴"
   ]
  },
  {
   "cell_type": "code",
   "execution_count": 30,
   "metadata": {
    "colab": {
     "base_uri": "https://localhost:8080/"
    },
    "id": "3-PYBDjsPI9D",
    "outputId": "dcda286c-3d9f-426b-9886-f1ed5e2bb35e"
   },
   "outputs": [
    {
     "data": {
      "text/plain": [
       "Sum of AD rank\n",
       "1.0      72371\n",
       "2.0     133605\n",
       "3.0     105980\n",
       "4.0     112916\n",
       "5.0      96014\n",
       "6.0      97669\n",
       "7.0      75554\n",
       "8.0      76762\n",
       "9.0      62613\n",
       "10.0     60111\n",
       "Name: Cost, dtype: int64"
      ]
     },
     "execution_count": 30,
     "metadata": {},
     "output_type": "execute_result"
    }
   ],
   "source": [
    "bidding_result.groupby(['Sum of AD rank'])['Cost'].sum()[:10]"
   ]
  },
  {
   "cell_type": "code",
   "execution_count": 31,
   "metadata": {
    "colab": {
     "base_uri": "https://localhost:8080/"
    },
    "id": "om_lmrqHenYs",
    "outputId": "9615409c-3d03-4410-b126-c0c7370766e1"
   },
   "outputs": [
    {
     "data": {
      "text/plain": [
       "Click\n",
       "0    1.0\n",
       "1    1.0\n",
       "2    1.0\n",
       "3    1.0\n",
       "4    1.0\n",
       "5    1.0\n",
       "6    1.0\n",
       "7    1.0\n",
       "8    1.0\n",
       "9    1.0\n",
       "Name: Cost, dtype: float64"
      ]
     },
     "execution_count": 31,
     "metadata": {},
     "output_type": "execute_result"
    }
   ],
   "source": [
    "bidding_result.groupby(['Click'])['Cost'].mean()[:10] # click 이 높을 수록 cost가 높다 ->당연한 상식 확인"
   ]
  },
  {
   "cell_type": "code",
   "execution_count": 32,
   "metadata": {
    "colab": {
     "base_uri": "https://localhost:8080/"
    },
    "id": "QmZYWdBaPMy6",
    "outputId": "852a71d4-c2a2-4e8b-9951-a167ffd26dc8"
   },
   "outputs": [
    {
     "data": {
      "text/plain": [
       "Click\n",
       "0    1007240\n",
       "1     180549\n",
       "2      61235\n",
       "3      28678\n",
       "4      16125\n",
       "5       9886\n",
       "6       6715\n",
       "7       4743\n",
       "8       3554\n",
       "9       2697\n",
       "Name: Cost, dtype: int64"
      ]
     },
     "execution_count": 32,
     "metadata": {},
     "output_type": "execute_result"
    }
   ],
   "source": [
    "bidding_result.groupby(['Click'])['Cost'].sum()[:10]"
   ]
  },
  {
   "cell_type": "code",
   "execution_count": 33,
   "metadata": {
    "colab": {
     "base_uri": "https://localhost:8080/"
    },
    "id": "ez7-iD4NPWn9",
    "outputId": "1fcba4ee-ad6c-4f29-f574-5017ab77d886"
   },
   "outputs": [
    {
     "data": {
      "text/plain": [
       "Click\n",
       "0    254.422451\n",
       "1    268.389191\n",
       "2    279.247489\n",
       "3    294.034103\n",
       "4    315.168372\n",
       "5    331.732753\n",
       "6    345.938943\n",
       "7    349.620493\n",
       "8    365.450197\n",
       "9    375.235447\n",
       "Name: Bid, dtype: float64"
      ]
     },
     "execution_count": 33,
     "metadata": {},
     "output_type": "execute_result"
    }
   ],
   "source": [
    "bidding_result.groupby(['Click'])['Bid'].mean()[:10]# click 이 높을 수록 bid가 높다 ->당연한 상식 확인"
   ]
  },
  {
   "cell_type": "code",
   "execution_count": 34,
   "metadata": {
    "colab": {
     "base_uri": "https://localhost:8080/"
    },
    "id": "Lwli_ZvwPQDn",
    "outputId": "8f766ef3-7a89-4742-d341-0c6d65e0d190"
   },
   "outputs": [
    {
     "data": {
      "text/plain": [
       "Click\n",
       "0    256264470\n",
       "1     48457400\n",
       "2     17099720\n",
       "3      8432310\n",
       "4      5082090\n",
       "5      3279510\n",
       "6      2322980\n",
       "7      1658250\n",
       "8      1298810\n",
       "9      1012010\n",
       "Name: Bid, dtype: int64"
      ]
     },
     "execution_count": 34,
     "metadata": {},
     "output_type": "execute_result"
    }
   ],
   "source": [
    "bidding_result.groupby(['Click'])['Bid'].sum()[:10]"
   ]
  },
  {
   "cell_type": "code",
   "execution_count": 35,
   "metadata": {
    "colab": {
     "base_uri": "https://localhost:8080/"
    },
    "id": "H7HueHj3bx77",
    "outputId": "14f243db-fcc7-4a80-feee-6025f9cbf08c"
   },
   "outputs": [
    {
     "data": {
      "text/plain": [
       "Sum of AD rank\n",
       "1.0      2930\n",
       "2.0      3500\n",
       "3.0      4000\n",
       "4.0      4000\n",
       "5.0      3500\n",
       "         ... \n",
       "96.0     1250\n",
       "97.0     1500\n",
       "98.0     1410\n",
       "99.0     1250\n",
       "100.0     880\n",
       "Name: Bid, Length: 100, dtype: int64"
      ]
     },
     "execution_count": 35,
     "metadata": {},
     "output_type": "execute_result"
    }
   ],
   "source": [
    "bidding_result.groupby(['Sum of AD rank'])['Bid'].max() # 1등하기 위해 최대 2930 bid함(?)"
   ]
  },
  {
   "cell_type": "code",
   "execution_count": 36,
   "metadata": {
    "colab": {
     "base_uri": "https://localhost:8080/"
    },
    "id": "4oW9i3oHclH0",
    "outputId": "53657d25-b009-4c0b-ba46-a0a32426cc55"
   },
   "outputs": [
    {
     "data": {
      "text/plain": [
       "Sum of AD rank\n",
       "1.0      50\n",
       "2.0      50\n",
       "3.0      50\n",
       "4.0      50\n",
       "5.0      50\n",
       "         ..\n",
       "96.0     50\n",
       "97.0     50\n",
       "98.0     50\n",
       "99.0     50\n",
       "100.0    50\n",
       "Name: Bid, Length: 100, dtype: int64"
      ]
     },
     "execution_count": 36,
     "metadata": {},
     "output_type": "execute_result"
    }
   ],
   "source": [
    "bidding_result.groupby(['Sum of AD rank'])['Bid'].min() #최소 50사용해서 순위 차지-->의미 있을까? -> 단순 운일까?"
   ]
  },
  {
   "cell_type": "code",
   "execution_count": 37,
   "metadata": {
    "colab": {
     "base_uri": "https://localhost:8080/",
     "height": 491
    },
    "id": "UUy9x601cZB8",
    "outputId": "0d2484b1-c8b6-4660-f4f5-00bb88df5982"
   },
   "outputs": [
    {
     "name": "stderr",
     "output_type": "stream",
     "text": [
      "<ipython-input-37-04a7dd4ade2c>:1: FutureWarning: Indexing with multiple keys (implicitly converted to a tuple of keys) will be deprecated, use a list instead.\n",
      "  bidding_result.groupby(['Sum of AD rank'])['Click','Bid'].max() # max 찍었을 때 전체적으로 Click 많이 할 수록 순위가 높다\n"
     ]
    },
    {
     "data": {
      "text/html": [
       "\n",
       "  <div id=\"df-e4a84386-37d8-4f1c-98f9-913ac915c739\">\n",
       "    <div class=\"colab-df-container\">\n",
       "      <div>\n",
       "<style scoped>\n",
       "    .dataframe tbody tr th:only-of-type {\n",
       "        vertical-align: middle;\n",
       "    }\n",
       "\n",
       "    .dataframe tbody tr th {\n",
       "        vertical-align: top;\n",
       "    }\n",
       "\n",
       "    .dataframe thead th {\n",
       "        text-align: right;\n",
       "    }\n",
       "</style>\n",
       "<table border=\"1\" class=\"dataframe\">\n",
       "  <thead>\n",
       "    <tr style=\"text-align: right;\">\n",
       "      <th></th>\n",
       "      <th>Click</th>\n",
       "      <th>Bid</th>\n",
       "    </tr>\n",
       "    <tr>\n",
       "      <th>Sum of AD rank</th>\n",
       "      <th></th>\n",
       "      <th></th>\n",
       "    </tr>\n",
       "  </thead>\n",
       "  <tbody>\n",
       "    <tr>\n",
       "      <th>1.0</th>\n",
       "      <td>474</td>\n",
       "      <td>2930</td>\n",
       "    </tr>\n",
       "    <tr>\n",
       "      <th>2.0</th>\n",
       "      <td>455</td>\n",
       "      <td>3500</td>\n",
       "    </tr>\n",
       "    <tr>\n",
       "      <th>3.0</th>\n",
       "      <td>257</td>\n",
       "      <td>4000</td>\n",
       "    </tr>\n",
       "    <tr>\n",
       "      <th>4.0</th>\n",
       "      <td>240</td>\n",
       "      <td>4000</td>\n",
       "    </tr>\n",
       "    <tr>\n",
       "      <th>5.0</th>\n",
       "      <td>123</td>\n",
       "      <td>3500</td>\n",
       "    </tr>\n",
       "    <tr>\n",
       "      <th>...</th>\n",
       "      <td>...</td>\n",
       "      <td>...</td>\n",
       "    </tr>\n",
       "    <tr>\n",
       "      <th>96.0</th>\n",
       "      <td>1</td>\n",
       "      <td>1250</td>\n",
       "    </tr>\n",
       "    <tr>\n",
       "      <th>97.0</th>\n",
       "      <td>1</td>\n",
       "      <td>1500</td>\n",
       "    </tr>\n",
       "    <tr>\n",
       "      <th>98.0</th>\n",
       "      <td>1</td>\n",
       "      <td>1410</td>\n",
       "    </tr>\n",
       "    <tr>\n",
       "      <th>99.0</th>\n",
       "      <td>0</td>\n",
       "      <td>1250</td>\n",
       "    </tr>\n",
       "    <tr>\n",
       "      <th>100.0</th>\n",
       "      <td>1</td>\n",
       "      <td>880</td>\n",
       "    </tr>\n",
       "  </tbody>\n",
       "</table>\n",
       "<p>100 rows × 2 columns</p>\n",
       "</div>\n",
       "      <button class=\"colab-df-convert\" onclick=\"convertToInteractive('df-e4a84386-37d8-4f1c-98f9-913ac915c739')\"\n",
       "              title=\"Convert this dataframe to an interactive table.\"\n",
       "              style=\"display:none;\">\n",
       "        \n",
       "  <svg xmlns=\"http://www.w3.org/2000/svg\" height=\"24px\"viewBox=\"0 0 24 24\"\n",
       "       width=\"24px\">\n",
       "    <path d=\"M0 0h24v24H0V0z\" fill=\"none\"/>\n",
       "    <path d=\"M18.56 5.44l.94 2.06.94-2.06 2.06-.94-2.06-.94-.94-2.06-.94 2.06-2.06.94zm-11 1L8.5 8.5l.94-2.06 2.06-.94-2.06-.94L8.5 2.5l-.94 2.06-2.06.94zm10 10l.94 2.06.94-2.06 2.06-.94-2.06-.94-.94-2.06-.94 2.06-2.06.94z\"/><path d=\"M17.41 7.96l-1.37-1.37c-.4-.4-.92-.59-1.43-.59-.52 0-1.04.2-1.43.59L10.3 9.45l-7.72 7.72c-.78.78-.78 2.05 0 2.83L4 21.41c.39.39.9.59 1.41.59.51 0 1.02-.2 1.41-.59l7.78-7.78 2.81-2.81c.8-.78.8-2.07 0-2.86zM5.41 20L4 18.59l7.72-7.72 1.47 1.35L5.41 20z\"/>\n",
       "  </svg>\n",
       "      </button>\n",
       "      \n",
       "  <style>\n",
       "    .colab-df-container {\n",
       "      display:flex;\n",
       "      flex-wrap:wrap;\n",
       "      gap: 12px;\n",
       "    }\n",
       "\n",
       "    .colab-df-convert {\n",
       "      background-color: #E8F0FE;\n",
       "      border: none;\n",
       "      border-radius: 50%;\n",
       "      cursor: pointer;\n",
       "      display: none;\n",
       "      fill: #1967D2;\n",
       "      height: 32px;\n",
       "      padding: 0 0 0 0;\n",
       "      width: 32px;\n",
       "    }\n",
       "\n",
       "    .colab-df-convert:hover {\n",
       "      background-color: #E2EBFA;\n",
       "      box-shadow: 0px 1px 2px rgba(60, 64, 67, 0.3), 0px 1px 3px 1px rgba(60, 64, 67, 0.15);\n",
       "      fill: #174EA6;\n",
       "    }\n",
       "\n",
       "    [theme=dark] .colab-df-convert {\n",
       "      background-color: #3B4455;\n",
       "      fill: #D2E3FC;\n",
       "    }\n",
       "\n",
       "    [theme=dark] .colab-df-convert:hover {\n",
       "      background-color: #434B5C;\n",
       "      box-shadow: 0px 1px 3px 1px rgba(0, 0, 0, 0.15);\n",
       "      filter: drop-shadow(0px 1px 2px rgba(0, 0, 0, 0.3));\n",
       "      fill: #FFFFFF;\n",
       "    }\n",
       "  </style>\n",
       "\n",
       "      <script>\n",
       "        const buttonEl =\n",
       "          document.querySelector('#df-e4a84386-37d8-4f1c-98f9-913ac915c739 button.colab-df-convert');\n",
       "        buttonEl.style.display =\n",
       "          google.colab.kernel.accessAllowed ? 'block' : 'none';\n",
       "\n",
       "        async function convertToInteractive(key) {\n",
       "          const element = document.querySelector('#df-e4a84386-37d8-4f1c-98f9-913ac915c739');\n",
       "          const dataTable =\n",
       "            await google.colab.kernel.invokeFunction('convertToInteractive',\n",
       "                                                     [key], {});\n",
       "          if (!dataTable) return;\n",
       "\n",
       "          const docLinkHtml = 'Like what you see? Visit the ' +\n",
       "            '<a target=\"_blank\" href=https://colab.research.google.com/notebooks/data_table.ipynb>data table notebook</a>'\n",
       "            + ' to learn more about interactive tables.';\n",
       "          element.innerHTML = '';\n",
       "          dataTable['output_type'] = 'display_data';\n",
       "          await google.colab.output.renderOutput(dataTable, element);\n",
       "          const docLink = document.createElement('div');\n",
       "          docLink.innerHTML = docLinkHtml;\n",
       "          element.appendChild(docLink);\n",
       "        }\n",
       "      </script>\n",
       "    </div>\n",
       "  </div>\n",
       "  "
      ],
      "text/plain": [
       "                Click   Bid\n",
       "Sum of AD rank             \n",
       "1.0               474  2930\n",
       "2.0               455  3500\n",
       "3.0               257  4000\n",
       "4.0               240  4000\n",
       "5.0               123  3500\n",
       "...               ...   ...\n",
       "96.0                1  1250\n",
       "97.0                1  1500\n",
       "98.0                1  1410\n",
       "99.0                0  1250\n",
       "100.0               1   880\n",
       "\n",
       "[100 rows x 2 columns]"
      ]
     },
     "execution_count": 37,
     "metadata": {},
     "output_type": "execute_result"
    }
   ],
   "source": [
    "bidding_result.groupby(['Sum of AD rank'])['Click','Bid'].max() # max 찍었을 때 전체적으로 Click 많이 할 수록 순위가 높다"
   ]
  },
  {
   "cell_type": "code",
   "execution_count": 38,
   "metadata": {
    "colab": {
     "base_uri": "https://localhost:8080/",
     "height": 491
    },
    "id": "fuwxyb9mcipO",
    "outputId": "92246d6b-d98f-4173-b150-be1983da7829"
   },
   "outputs": [
    {
     "name": "stderr",
     "output_type": "stream",
     "text": [
      "<ipython-input-38-1cfafb41d2a2>:1: FutureWarning: Indexing with multiple keys (implicitly converted to a tuple of keys) will be deprecated, use a list instead.\n",
      "  bidding_result.groupby(['Sum of AD rank'])['Click','Bid','Cost'].mean() # 순위가 높을 수록 Click 많고, bid 가 낮아지는데 왜 그런지 모르겠음.\n"
     ]
    },
    {
     "data": {
      "text/html": [
       "\n",
       "  <div id=\"df-83105519-c6c8-467b-ad4a-f9715f2889ad\">\n",
       "    <div class=\"colab-df-container\">\n",
       "      <div>\n",
       "<style scoped>\n",
       "    .dataframe tbody tr th:only-of-type {\n",
       "        vertical-align: middle;\n",
       "    }\n",
       "\n",
       "    .dataframe tbody tr th {\n",
       "        vertical-align: top;\n",
       "    }\n",
       "\n",
       "    .dataframe thead th {\n",
       "        text-align: right;\n",
       "    }\n",
       "</style>\n",
       "<table border=\"1\" class=\"dataframe\">\n",
       "  <thead>\n",
       "    <tr style=\"text-align: right;\">\n",
       "      <th></th>\n",
       "      <th>Click</th>\n",
       "      <th>Bid</th>\n",
       "      <th>Cost</th>\n",
       "    </tr>\n",
       "    <tr>\n",
       "      <th>Sum of AD rank</th>\n",
       "      <th></th>\n",
       "      <th></th>\n",
       "      <th></th>\n",
       "    </tr>\n",
       "  </thead>\n",
       "  <tbody>\n",
       "    <tr>\n",
       "      <th>1.0</th>\n",
       "      <td>1.850272</td>\n",
       "      <td>209.429329</td>\n",
       "      <td>1.0</td>\n",
       "    </tr>\n",
       "    <tr>\n",
       "      <th>2.0</th>\n",
       "      <td>1.926956</td>\n",
       "      <td>218.906179</td>\n",
       "      <td>1.0</td>\n",
       "    </tr>\n",
       "    <tr>\n",
       "      <th>3.0</th>\n",
       "      <td>1.528600</td>\n",
       "      <td>243.215229</td>\n",
       "      <td>1.0</td>\n",
       "    </tr>\n",
       "    <tr>\n",
       "      <th>4.0</th>\n",
       "      <td>0.946544</td>\n",
       "      <td>253.852510</td>\n",
       "      <td>1.0</td>\n",
       "    </tr>\n",
       "    <tr>\n",
       "      <th>5.0</th>\n",
       "      <td>0.792134</td>\n",
       "      <td>272.613369</td>\n",
       "      <td>1.0</td>\n",
       "    </tr>\n",
       "    <tr>\n",
       "      <th>...</th>\n",
       "      <td>...</td>\n",
       "      <td>...</td>\n",
       "      <td>...</td>\n",
       "    </tr>\n",
       "    <tr>\n",
       "      <th>96.0</th>\n",
       "      <td>0.002532</td>\n",
       "      <td>237.569620</td>\n",
       "      <td>1.0</td>\n",
       "    </tr>\n",
       "    <tr>\n",
       "      <th>97.0</th>\n",
       "      <td>0.010601</td>\n",
       "      <td>273.180212</td>\n",
       "      <td>1.0</td>\n",
       "    </tr>\n",
       "    <tr>\n",
       "      <th>98.0</th>\n",
       "      <td>0.012903</td>\n",
       "      <td>244.741935</td>\n",
       "      <td>1.0</td>\n",
       "    </tr>\n",
       "    <tr>\n",
       "      <th>99.0</th>\n",
       "      <td>0.000000</td>\n",
       "      <td>270.513699</td>\n",
       "      <td>1.0</td>\n",
       "    </tr>\n",
       "    <tr>\n",
       "      <th>100.0</th>\n",
       "      <td>0.010204</td>\n",
       "      <td>257.006803</td>\n",
       "      <td>1.0</td>\n",
       "    </tr>\n",
       "  </tbody>\n",
       "</table>\n",
       "<p>100 rows × 3 columns</p>\n",
       "</div>\n",
       "      <button class=\"colab-df-convert\" onclick=\"convertToInteractive('df-83105519-c6c8-467b-ad4a-f9715f2889ad')\"\n",
       "              title=\"Convert this dataframe to an interactive table.\"\n",
       "              style=\"display:none;\">\n",
       "        \n",
       "  <svg xmlns=\"http://www.w3.org/2000/svg\" height=\"24px\"viewBox=\"0 0 24 24\"\n",
       "       width=\"24px\">\n",
       "    <path d=\"M0 0h24v24H0V0z\" fill=\"none\"/>\n",
       "    <path d=\"M18.56 5.44l.94 2.06.94-2.06 2.06-.94-2.06-.94-.94-2.06-.94 2.06-2.06.94zm-11 1L8.5 8.5l.94-2.06 2.06-.94-2.06-.94L8.5 2.5l-.94 2.06-2.06.94zm10 10l.94 2.06.94-2.06 2.06-.94-2.06-.94-.94-2.06-.94 2.06-2.06.94z\"/><path d=\"M17.41 7.96l-1.37-1.37c-.4-.4-.92-.59-1.43-.59-.52 0-1.04.2-1.43.59L10.3 9.45l-7.72 7.72c-.78.78-.78 2.05 0 2.83L4 21.41c.39.39.9.59 1.41.59.51 0 1.02-.2 1.41-.59l7.78-7.78 2.81-2.81c.8-.78.8-2.07 0-2.86zM5.41 20L4 18.59l7.72-7.72 1.47 1.35L5.41 20z\"/>\n",
       "  </svg>\n",
       "      </button>\n",
       "      \n",
       "  <style>\n",
       "    .colab-df-container {\n",
       "      display:flex;\n",
       "      flex-wrap:wrap;\n",
       "      gap: 12px;\n",
       "    }\n",
       "\n",
       "    .colab-df-convert {\n",
       "      background-color: #E8F0FE;\n",
       "      border: none;\n",
       "      border-radius: 50%;\n",
       "      cursor: pointer;\n",
       "      display: none;\n",
       "      fill: #1967D2;\n",
       "      height: 32px;\n",
       "      padding: 0 0 0 0;\n",
       "      width: 32px;\n",
       "    }\n",
       "\n",
       "    .colab-df-convert:hover {\n",
       "      background-color: #E2EBFA;\n",
       "      box-shadow: 0px 1px 2px rgba(60, 64, 67, 0.3), 0px 1px 3px 1px rgba(60, 64, 67, 0.15);\n",
       "      fill: #174EA6;\n",
       "    }\n",
       "\n",
       "    [theme=dark] .colab-df-convert {\n",
       "      background-color: #3B4455;\n",
       "      fill: #D2E3FC;\n",
       "    }\n",
       "\n",
       "    [theme=dark] .colab-df-convert:hover {\n",
       "      background-color: #434B5C;\n",
       "      box-shadow: 0px 1px 3px 1px rgba(0, 0, 0, 0.15);\n",
       "      filter: drop-shadow(0px 1px 2px rgba(0, 0, 0, 0.3));\n",
       "      fill: #FFFFFF;\n",
       "    }\n",
       "  </style>\n",
       "\n",
       "      <script>\n",
       "        const buttonEl =\n",
       "          document.querySelector('#df-83105519-c6c8-467b-ad4a-f9715f2889ad button.colab-df-convert');\n",
       "        buttonEl.style.display =\n",
       "          google.colab.kernel.accessAllowed ? 'block' : 'none';\n",
       "\n",
       "        async function convertToInteractive(key) {\n",
       "          const element = document.querySelector('#df-83105519-c6c8-467b-ad4a-f9715f2889ad');\n",
       "          const dataTable =\n",
       "            await google.colab.kernel.invokeFunction('convertToInteractive',\n",
       "                                                     [key], {});\n",
       "          if (!dataTable) return;\n",
       "\n",
       "          const docLinkHtml = 'Like what you see? Visit the ' +\n",
       "            '<a target=\"_blank\" href=https://colab.research.google.com/notebooks/data_table.ipynb>data table notebook</a>'\n",
       "            + ' to learn more about interactive tables.';\n",
       "          element.innerHTML = '';\n",
       "          dataTable['output_type'] = 'display_data';\n",
       "          await google.colab.output.renderOutput(dataTable, element);\n",
       "          const docLink = document.createElement('div');\n",
       "          docLink.innerHTML = docLinkHtml;\n",
       "          element.appendChild(docLink);\n",
       "        }\n",
       "      </script>\n",
       "    </div>\n",
       "  </div>\n",
       "  "
      ],
      "text/plain": [
       "                   Click         Bid  Cost\n",
       "Sum of AD rank                            \n",
       "1.0             1.850272  209.429329   1.0\n",
       "2.0             1.926956  218.906179   1.0\n",
       "3.0             1.528600  243.215229   1.0\n",
       "4.0             0.946544  253.852510   1.0\n",
       "5.0             0.792134  272.613369   1.0\n",
       "...                  ...         ...   ...\n",
       "96.0            0.002532  237.569620   1.0\n",
       "97.0            0.010601  273.180212   1.0\n",
       "98.0            0.012903  244.741935   1.0\n",
       "99.0            0.000000  270.513699   1.0\n",
       "100.0           0.010204  257.006803   1.0\n",
       "\n",
       "[100 rows x 3 columns]"
      ]
     },
     "execution_count": 38,
     "metadata": {},
     "output_type": "execute_result"
    }
   ],
   "source": [
    "bidding_result.groupby(['Sum of AD rank'])['Click','Bid','Cost'].mean() # 순위가 높을 수록 Click 많고, bid 가 낮아지는데 왜 그런지 모르겠음."
   ]
  },
  {
   "cell_type": "code",
   "execution_count": 39,
   "metadata": {
    "colab": {
     "base_uri": "https://localhost:8080/",
     "height": 491
    },
    "id": "vpGHenLXPUTX",
    "outputId": "5a961cab-d8f4-45da-9b3b-faaa2729e9a3"
   },
   "outputs": [
    {
     "name": "stderr",
     "output_type": "stream",
     "text": [
      "<ipython-input-39-109d3a542e20>:1: FutureWarning: Indexing with multiple keys (implicitly converted to a tuple of keys) will be deprecated, use a list instead.\n",
      "  bidding_result.groupby(['Sum of AD rank'])['Click','Bid','Cost'].sum()\n"
     ]
    },
    {
     "data": {
      "text/html": [
       "\n",
       "  <div id=\"df-f47861b3-6935-4d82-a494-0c7000795af5\">\n",
       "    <div class=\"colab-df-container\">\n",
       "      <div>\n",
       "<style scoped>\n",
       "    .dataframe tbody tr th:only-of-type {\n",
       "        vertical-align: middle;\n",
       "    }\n",
       "\n",
       "    .dataframe tbody tr th {\n",
       "        vertical-align: top;\n",
       "    }\n",
       "\n",
       "    .dataframe thead th {\n",
       "        text-align: right;\n",
       "    }\n",
       "</style>\n",
       "<table border=\"1\" class=\"dataframe\">\n",
       "  <thead>\n",
       "    <tr style=\"text-align: right;\">\n",
       "      <th></th>\n",
       "      <th>Click</th>\n",
       "      <th>Bid</th>\n",
       "      <th>Cost</th>\n",
       "    </tr>\n",
       "    <tr>\n",
       "      <th>Sum of AD rank</th>\n",
       "      <th></th>\n",
       "      <th></th>\n",
       "      <th></th>\n",
       "    </tr>\n",
       "  </thead>\n",
       "  <tbody>\n",
       "    <tr>\n",
       "      <th>1.0</th>\n",
       "      <td>133906</td>\n",
       "      <td>15156610</td>\n",
       "      <td>72371</td>\n",
       "    </tr>\n",
       "    <tr>\n",
       "      <th>2.0</th>\n",
       "      <td>257451</td>\n",
       "      <td>29246960</td>\n",
       "      <td>133605</td>\n",
       "    </tr>\n",
       "    <tr>\n",
       "      <th>3.0</th>\n",
       "      <td>162001</td>\n",
       "      <td>25775950</td>\n",
       "      <td>105980</td>\n",
       "    </tr>\n",
       "    <tr>\n",
       "      <th>4.0</th>\n",
       "      <td>106880</td>\n",
       "      <td>28664010</td>\n",
       "      <td>112916</td>\n",
       "    </tr>\n",
       "    <tr>\n",
       "      <th>5.0</th>\n",
       "      <td>76056</td>\n",
       "      <td>26174700</td>\n",
       "      <td>96014</td>\n",
       "    </tr>\n",
       "    <tr>\n",
       "      <th>...</th>\n",
       "      <td>...</td>\n",
       "      <td>...</td>\n",
       "      <td>...</td>\n",
       "    </tr>\n",
       "    <tr>\n",
       "      <th>96.0</th>\n",
       "      <td>1</td>\n",
       "      <td>93840</td>\n",
       "      <td>395</td>\n",
       "    </tr>\n",
       "    <tr>\n",
       "      <th>97.0</th>\n",
       "      <td>3</td>\n",
       "      <td>77310</td>\n",
       "      <td>283</td>\n",
       "    </tr>\n",
       "    <tr>\n",
       "      <th>98.0</th>\n",
       "      <td>4</td>\n",
       "      <td>75870</td>\n",
       "      <td>310</td>\n",
       "    </tr>\n",
       "    <tr>\n",
       "      <th>99.0</th>\n",
       "      <td>0</td>\n",
       "      <td>78990</td>\n",
       "      <td>292</td>\n",
       "    </tr>\n",
       "    <tr>\n",
       "      <th>100.0</th>\n",
       "      <td>3</td>\n",
       "      <td>75560</td>\n",
       "      <td>294</td>\n",
       "    </tr>\n",
       "  </tbody>\n",
       "</table>\n",
       "<p>100 rows × 3 columns</p>\n",
       "</div>\n",
       "      <button class=\"colab-df-convert\" onclick=\"convertToInteractive('df-f47861b3-6935-4d82-a494-0c7000795af5')\"\n",
       "              title=\"Convert this dataframe to an interactive table.\"\n",
       "              style=\"display:none;\">\n",
       "        \n",
       "  <svg xmlns=\"http://www.w3.org/2000/svg\" height=\"24px\"viewBox=\"0 0 24 24\"\n",
       "       width=\"24px\">\n",
       "    <path d=\"M0 0h24v24H0V0z\" fill=\"none\"/>\n",
       "    <path d=\"M18.56 5.44l.94 2.06.94-2.06 2.06-.94-2.06-.94-.94-2.06-.94 2.06-2.06.94zm-11 1L8.5 8.5l.94-2.06 2.06-.94-2.06-.94L8.5 2.5l-.94 2.06-2.06.94zm10 10l.94 2.06.94-2.06 2.06-.94-2.06-.94-.94-2.06-.94 2.06-2.06.94z\"/><path d=\"M17.41 7.96l-1.37-1.37c-.4-.4-.92-.59-1.43-.59-.52 0-1.04.2-1.43.59L10.3 9.45l-7.72 7.72c-.78.78-.78 2.05 0 2.83L4 21.41c.39.39.9.59 1.41.59.51 0 1.02-.2 1.41-.59l7.78-7.78 2.81-2.81c.8-.78.8-2.07 0-2.86zM5.41 20L4 18.59l7.72-7.72 1.47 1.35L5.41 20z\"/>\n",
       "  </svg>\n",
       "      </button>\n",
       "      \n",
       "  <style>\n",
       "    .colab-df-container {\n",
       "      display:flex;\n",
       "      flex-wrap:wrap;\n",
       "      gap: 12px;\n",
       "    }\n",
       "\n",
       "    .colab-df-convert {\n",
       "      background-color: #E8F0FE;\n",
       "      border: none;\n",
       "      border-radius: 50%;\n",
       "      cursor: pointer;\n",
       "      display: none;\n",
       "      fill: #1967D2;\n",
       "      height: 32px;\n",
       "      padding: 0 0 0 0;\n",
       "      width: 32px;\n",
       "    }\n",
       "\n",
       "    .colab-df-convert:hover {\n",
       "      background-color: #E2EBFA;\n",
       "      box-shadow: 0px 1px 2px rgba(60, 64, 67, 0.3), 0px 1px 3px 1px rgba(60, 64, 67, 0.15);\n",
       "      fill: #174EA6;\n",
       "    }\n",
       "\n",
       "    [theme=dark] .colab-df-convert {\n",
       "      background-color: #3B4455;\n",
       "      fill: #D2E3FC;\n",
       "    }\n",
       "\n",
       "    [theme=dark] .colab-df-convert:hover {\n",
       "      background-color: #434B5C;\n",
       "      box-shadow: 0px 1px 3px 1px rgba(0, 0, 0, 0.15);\n",
       "      filter: drop-shadow(0px 1px 2px rgba(0, 0, 0, 0.3));\n",
       "      fill: #FFFFFF;\n",
       "    }\n",
       "  </style>\n",
       "\n",
       "      <script>\n",
       "        const buttonEl =\n",
       "          document.querySelector('#df-f47861b3-6935-4d82-a494-0c7000795af5 button.colab-df-convert');\n",
       "        buttonEl.style.display =\n",
       "          google.colab.kernel.accessAllowed ? 'block' : 'none';\n",
       "\n",
       "        async function convertToInteractive(key) {\n",
       "          const element = document.querySelector('#df-f47861b3-6935-4d82-a494-0c7000795af5');\n",
       "          const dataTable =\n",
       "            await google.colab.kernel.invokeFunction('convertToInteractive',\n",
       "                                                     [key], {});\n",
       "          if (!dataTable) return;\n",
       "\n",
       "          const docLinkHtml = 'Like what you see? Visit the ' +\n",
       "            '<a target=\"_blank\" href=https://colab.research.google.com/notebooks/data_table.ipynb>data table notebook</a>'\n",
       "            + ' to learn more about interactive tables.';\n",
       "          element.innerHTML = '';\n",
       "          dataTable['output_type'] = 'display_data';\n",
       "          await google.colab.output.renderOutput(dataTable, element);\n",
       "          const docLink = document.createElement('div');\n",
       "          docLink.innerHTML = docLinkHtml;\n",
       "          element.appendChild(docLink);\n",
       "        }\n",
       "      </script>\n",
       "    </div>\n",
       "  </div>\n",
       "  "
      ],
      "text/plain": [
       "                 Click       Bid    Cost\n",
       "Sum of AD rank                          \n",
       "1.0             133906  15156610   72371\n",
       "2.0             257451  29246960  133605\n",
       "3.0             162001  25775950  105980\n",
       "4.0             106880  28664010  112916\n",
       "5.0              76056  26174700   96014\n",
       "...                ...       ...     ...\n",
       "96.0                 1     93840     395\n",
       "97.0                 3     77310     283\n",
       "98.0                 4     75870     310\n",
       "99.0                 0     78990     292\n",
       "100.0                3     75560     294\n",
       "\n",
       "[100 rows x 3 columns]"
      ]
     },
     "execution_count": 39,
     "metadata": {},
     "output_type": "execute_result"
    }
   ],
   "source": [
    "bidding_result.groupby(['Sum of AD rank'])['Click','Bid','Cost'].sum()"
   ]
  },
  {
   "cell_type": "code",
   "execution_count": null,
   "metadata": {
    "id": "xy8TucsCgFdC"
   },
   "outputs": [],
   "source": []
  },
  {
   "cell_type": "code",
   "execution_count": null,
   "metadata": {
    "id": "2CcJKPXUe_pE"
   },
   "outputs": [],
   "source": []
  }
 ],
 "metadata": {
  "accelerator": "GPU",
  "colab": {
   "authorship_tag": "ABX9TyNoj5p8jiHiDsJhx1qQyVdB",
   "include_colab_link": true,
   "provenance": []
  },
  "gpuClass": "standard",
  "kernelspec": {
   "display_name": "Python 3 (ipykernel)",
   "language": "python",
   "name": "python3"
  },
  "language_info": {
   "codemirror_mode": {
    "name": "ipython",
    "version": 3
   },
   "file_extension": ".py",
   "mimetype": "text/x-python",
   "name": "python",
   "nbconvert_exporter": "python",
   "pygments_lexer": "ipython3",
   "version": "3.9.13"
  }
 },
 "nbformat": 4,
 "nbformat_minor": 1
}
