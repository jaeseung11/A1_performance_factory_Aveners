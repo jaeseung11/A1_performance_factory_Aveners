{
 "cells": [
  {
   "cell_type": "markdown",
   "metadata": {
    "colab_type": "text",
    "id": "view-in-github"
   },
   "source": [
    "<a href=\"https://colab.research.google.com/github/rapu34/A1_performance_factory_Aveners/blob/main/EDA_log.ipynb\" target=\"_parent\"><img src=\"https://colab.research.google.com/assets/colab-badge.svg\" alt=\"Open In Colab\"/></a>"
   ]
  },
  {
   "cell_type": "code",
   "execution_count": 1,
   "metadata": {
    "colab": {
     "base_uri": "https://localhost:8080/"
    },
    "collapsed": true,
    "id": "rjYBhIQaWvBu",
    "outputId": "1deeb595-23c3-4fea-d802-418d92a102ef"
   },
   "outputs": [
    {
     "name": "stdout",
     "output_type": "stream",
     "text": [
      "Drive already mounted at /content/drive; to attempt to forcibly remount, call drive.mount(\"/content/drive\", force_remount=True).\n"
     ]
    }
   ],
   "source": [
    "from google.colab import drive\n",
    "drive.mount('/content/drive')"
   ]
  },
  {
   "cell_type": "code",
   "execution_count": 2,
   "metadata": {
    "collapsed": true,
    "id": "Xb0GHgTaaE_t"
   },
   "outputs": [],
   "source": [
    "import pandas as pd\n",
    "import numpy as np\n",
    "import matplotlib.pyplot as plt\n",
    "plt.rc('font', family='NanumBarunGothic')\n",
    "\n",
    "import seaborn as sns\n",
    "from sklearn.preprocessing import LabelEncoder\n",
    "import lightgbm as lgb\n",
    "import gc"
   ]
  },
  {
   "cell_type": "code",
   "execution_count": null,
   "metadata": {
    "colab": {
     "base_uri": "https://localhost:8080/"
    },
    "id": "ZhfYXtyDU8pb",
    "outputId": "ef19d1ae-3578-40da-8776-72b53f4395fa"
   },
   "outputs": [
    {
     "name": "stdout",
     "output_type": "stream",
     "text": [
      "Reading package lists... Done\n",
      "Building dependency tree       \n",
      "Reading state information... Done\n",
      "fonts-nanum is already the newest version (20170925-1).\n",
      "The following package was automatically installed and is no longer required:\n",
      "  libnvidia-common-460\n",
      "Use 'sudo apt autoremove' to remove it.\n",
      "0 upgraded, 0 newly installed, 0 to remove and 21 not upgraded.\n",
      "/usr/share/fonts: caching, new cache contents: 0 fonts, 1 dirs\n",
      "/usr/share/fonts/truetype: caching, new cache contents: 0 fonts, 3 dirs\n",
      "/usr/share/fonts/truetype/humor-sans: caching, new cache contents: 1 fonts, 0 dirs\n",
      "/usr/share/fonts/truetype/liberation: caching, new cache contents: 16 fonts, 0 dirs\n",
      "/usr/share/fonts/truetype/nanum: caching, new cache contents: 10 fonts, 0 dirs\n",
      "/usr/local/share/fonts: caching, new cache contents: 0 fonts, 0 dirs\n",
      "/root/.local/share/fonts: skipping, no such directory\n",
      "/root/.fonts: skipping, no such directory\n",
      "/var/cache/fontconfig: cleaning cache directory\n",
      "/root/.cache/fontconfig: not cleaning non-existent cache directory\n",
      "/root/.fontconfig: not cleaning non-existent cache directory\n",
      "fc-cache: succeeded\n"
     ]
    }
   ],
   "source": [
    "!sudo apt-get install -y fonts-nanum\n",
    "!sudo fc-cache -fv\n",
    "!rm ~/.cache/matplotlib -rf"
   ]
  },
  {
   "cell_type": "code",
   "execution_count": 3,
   "metadata": {
    "id": "kzDdtavSZ3AT"
   },
   "outputs": [],
   "source": [
    "log = pd.read_csv(\"/content/drive/MyDrive/A1project/log_csv.csv\", encoding='UTF8')"
   ]
  },
  {
   "cell_type": "code",
   "execution_count": null,
   "metadata": {
    "id": "rO39eq67zmcp"
   },
   "outputs": [],
   "source": [
    "#서울 category1: 가구> 패트릭> 가전.디지털>주방용품> 데코.식물 \n",
    "#대구 category1: 가구> 패트릭> 가전.디지털>주방용품> 데코.식물 \n",
    "#부산 category1: 가구> 패트릭> 가전.디지털>주방용품> 데코.식물\n",
    "#지역별 category는 딱히 특이사항 없어보임.\n",
    "\n",
    "# i)가구 구매시\n",
    "# viewrate 100%비율이 높음\n",
    "# viewtime은 짧게 가져가는 편 \n",
    "# 3001     15331\n",
    "# 3002     12878\n",
    "# 3003      8275\n",
    "\n",
    "# ii) 가구 action type\n",
    "# View         1738586\n",
    "# Highlight     155026\n",
    "# Basket         46142\n",
    "# Copy           30128\n",
    "# SINF            7152"
   ]
  },
  {
   "cell_type": "code",
   "execution_count": 4,
   "metadata": {
    "colab": {
     "base_uri": "https://localhost:8080/"
    },
    "id": "3WPgHNcvZ3IF",
    "outputId": "7f630a40-97a2-4210-aaf8-b78f8dd13943"
   },
   "outputs": [
    {
     "name": "stdout",
     "output_type": "stream",
     "text": [
      "<class 'pandas.core.frame.DataFrame'>\n",
      "RangeIndex: 5659541 entries, 0 to 5659540\n",
      "Data columns (total 11 columns):\n",
      " #   Column           Dtype  \n",
      "---  ------           -----  \n",
      " 0   Unnamed: 0       int64  \n",
      " 1   uid              object \n",
      " 2   action_type      object \n",
      " 3   category1        object \n",
      " 4   category2        object \n",
      " 5   category3        object \n",
      " 6   collect_time     object \n",
      " 7   geoip_city_name  object \n",
      " 8   useragent_os     object \n",
      " 9   viewrate         float64\n",
      " 10  viewtime         int64  \n",
      "dtypes: float64(1), int64(2), object(8)\n",
      "memory usage: 475.0+ MB\n"
     ]
    }
   ],
   "source": [
    "log.info()"
   ]
  },
  {
   "cell_type": "code",
   "execution_count": 5,
   "metadata": {
    "colab": {
     "base_uri": "https://localhost:8080/"
    },
    "id": "z87wVqurZ7Qf",
    "outputId": "9b2e766c-04bb-4402-bd88-c3eb653c56fa"
   },
   "outputs": [
    {
     "data": {
      "text/plain": [
       "Unnamed: 0              0\n",
       "uid                186313\n",
       "action_type             0\n",
       "category1               0\n",
       "category2               0\n",
       "category3          780006\n",
       "collect_time            0\n",
       "geoip_city_name    417032\n",
       "useragent_os            0\n",
       "viewrate             2429\n",
       "viewtime                0\n",
       "dtype: int64"
      ]
     },
     "execution_count": 5,
     "metadata": {},
     "output_type": "execute_result"
    }
   ],
   "source": [
    "log.isnull().sum()"
   ]
  },
  {
   "cell_type": "code",
   "execution_count": 6,
   "metadata": {
    "colab": {
     "base_uri": "https://localhost:8080/"
    },
    "id": "q3v5ykmgZ7TZ",
    "outputId": "62b95575-fbf9-4595-ab1a-57c2d22fb529"
   },
   "outputs": [
    {
     "name": "stdout",
     "output_type": "stream",
     "text": [
      "<class 'pandas.core.frame.DataFrame'>\n",
      "RangeIndex: 5659541 entries, 0 to 5659540\n",
      "Data columns (total 11 columns):\n",
      " #   Column           Dtype  \n",
      "---  ------           -----  \n",
      " 0   Unnamed: 0       int64  \n",
      " 1   uid              object \n",
      " 2   action_type      object \n",
      " 3   category1        object \n",
      " 4   category2        object \n",
      " 5   category3        object \n",
      " 6   collect_time     object \n",
      " 7   geoip_city_name  object \n",
      " 8   useragent_os     object \n",
      " 9   viewrate         float64\n",
      " 10  viewtime         int64  \n",
      "dtypes: float64(1), int64(2), object(8)\n",
      "memory usage: 475.0+ MB\n"
     ]
    }
   ],
   "source": [
    "log.info()"
   ]
  },
  {
   "cell_type": "code",
   "execution_count": 7,
   "metadata": {
    "colab": {
     "base_uri": "https://localhost:8080/",
     "height": 424
    },
    "id": "csQgI-fKZ7XD",
    "outputId": "65f420d7-90b4-4125-b186-edc13b8b8a7f"
   },
   "outputs": [
    {
     "data": {
      "text/html": [
       "\n",
       "  <div id=\"df-b608b685-e88a-4e77-be6b-786d8efe07f9\">\n",
       "    <div class=\"colab-df-container\">\n",
       "      <div>\n",
       "<style scoped>\n",
       "    .dataframe tbody tr th:only-of-type {\n",
       "        vertical-align: middle;\n",
       "    }\n",
       "\n",
       "    .dataframe tbody tr th {\n",
       "        vertical-align: top;\n",
       "    }\n",
       "\n",
       "    .dataframe thead th {\n",
       "        text-align: right;\n",
       "    }\n",
       "</style>\n",
       "<table border=\"1\" class=\"dataframe\">\n",
       "  <thead>\n",
       "    <tr style=\"text-align: right;\">\n",
       "      <th></th>\n",
       "      <th>Unnamed: 0</th>\n",
       "      <th>uid</th>\n",
       "      <th>action_type</th>\n",
       "      <th>category1</th>\n",
       "      <th>category2</th>\n",
       "      <th>category3</th>\n",
       "      <th>collect_time</th>\n",
       "      <th>geoip_city_name</th>\n",
       "      <th>useragent_os</th>\n",
       "      <th>viewrate</th>\n",
       "      <th>viewtime</th>\n",
       "    </tr>\n",
       "  </thead>\n",
       "  <tbody>\n",
       "    <tr>\n",
       "      <th>0</th>\n",
       "      <td>0</td>\n",
       "      <td>avpKyWMn/xEADNlb</td>\n",
       "      <td>View</td>\n",
       "      <td>주방용품</td>\n",
       "      <td>그릇·홈세트</td>\n",
       "      <td>식판·나눔접시</td>\n",
       "      <td>2022-12-29 17:29:02</td>\n",
       "      <td>Seongnam-si</td>\n",
       "      <td>Windows</td>\n",
       "      <td>100.0</td>\n",
       "      <td>80033</td>\n",
       "    </tr>\n",
       "    <tr>\n",
       "      <th>1</th>\n",
       "      <td>1</td>\n",
       "      <td>0+5vEmGkOuAAB5j2</td>\n",
       "      <td>Basket</td>\n",
       "      <td>패브릭</td>\n",
       "      <td>매트</td>\n",
       "      <td>주방·다용도매트</td>\n",
       "      <td>2022-12-29 12:56:38</td>\n",
       "      <td>Yongin-si</td>\n",
       "      <td>Windows</td>\n",
       "      <td>0.0</td>\n",
       "      <td>0</td>\n",
       "    </tr>\n",
       "    <tr>\n",
       "      <th>2</th>\n",
       "      <td>2</td>\n",
       "      <td>r8DXy2OtSl8AAojG</td>\n",
       "      <td>View</td>\n",
       "      <td>패브릭</td>\n",
       "      <td>커튼·부자재</td>\n",
       "      <td>암막커튼</td>\n",
       "      <td>2022-12-29 17:11:30</td>\n",
       "      <td>Seoul</td>\n",
       "      <td>iOS</td>\n",
       "      <td>100.0</td>\n",
       "      <td>947</td>\n",
       "    </tr>\n",
       "    <tr>\n",
       "      <th>3</th>\n",
       "      <td>3</td>\n",
       "      <td>dC9Fl2Ly9lcADrTn</td>\n",
       "      <td>Highlight</td>\n",
       "      <td>데코·식물</td>\n",
       "      <td>플라워·식물</td>\n",
       "      <td>화병·화분</td>\n",
       "      <td>2022-12-29 17:54:30</td>\n",
       "      <td>Gwangmyeong-si</td>\n",
       "      <td>Windows</td>\n",
       "      <td>0.0</td>\n",
       "      <td>0</td>\n",
       "    </tr>\n",
       "    <tr>\n",
       "      <th>4</th>\n",
       "      <td>4</td>\n",
       "      <td>09gKcGLg0I8ACyQy</td>\n",
       "      <td>View</td>\n",
       "      <td>가구</td>\n",
       "      <td>진열장·책장</td>\n",
       "      <td>책장</td>\n",
       "      <td>2022-12-29 18:45:05</td>\n",
       "      <td>Jongno-gu</td>\n",
       "      <td>Mac OS X</td>\n",
       "      <td>100.0</td>\n",
       "      <td>1238</td>\n",
       "    </tr>\n",
       "    <tr>\n",
       "      <th>...</th>\n",
       "      <td>...</td>\n",
       "      <td>...</td>\n",
       "      <td>...</td>\n",
       "      <td>...</td>\n",
       "      <td>...</td>\n",
       "      <td>...</td>\n",
       "      <td>...</td>\n",
       "      <td>...</td>\n",
       "      <td>...</td>\n",
       "      <td>...</td>\n",
       "      <td>...</td>\n",
       "    </tr>\n",
       "    <tr>\n",
       "      <th>5659536</th>\n",
       "      <td>5659536</td>\n",
       "      <td>PUpxWWMWdcIACR2B</td>\n",
       "      <td>View</td>\n",
       "      <td>주방용품</td>\n",
       "      <td>칼·커팅기구</td>\n",
       "      <td>채칼·다지기·강판</td>\n",
       "      <td>2022-12-28 20:01:30</td>\n",
       "      <td>Seoul</td>\n",
       "      <td>Android</td>\n",
       "      <td>100.0</td>\n",
       "      <td>13893</td>\n",
       "    </tr>\n",
       "    <tr>\n",
       "      <th>5659537</th>\n",
       "      <td>5659537</td>\n",
       "      <td>PVMstmNg4I4ADq9R</td>\n",
       "      <td>Basket</td>\n",
       "      <td>가구</td>\n",
       "      <td>진열장·책장</td>\n",
       "      <td>책장</td>\n",
       "      <td>2022-12-28 14:30:09</td>\n",
       "      <td>Jinju</td>\n",
       "      <td>Windows</td>\n",
       "      <td>0.0</td>\n",
       "      <td>0</td>\n",
       "    </tr>\n",
       "    <tr>\n",
       "      <th>5659538</th>\n",
       "      <td>5659538</td>\n",
       "      <td>diRXdmN49dUABrVo</td>\n",
       "      <td>View</td>\n",
       "      <td>가구</td>\n",
       "      <td>테이블·식탁·책상</td>\n",
       "      <td>식탁</td>\n",
       "      <td>2022-12-29 12:45:13</td>\n",
       "      <td>Gunpo</td>\n",
       "      <td>Android</td>\n",
       "      <td>100.0</td>\n",
       "      <td>47217</td>\n",
       "    </tr>\n",
       "    <tr>\n",
       "      <th>5659539</th>\n",
       "      <td>5659539</td>\n",
       "      <td>dusFzWJvp5cADhZW</td>\n",
       "      <td>View</td>\n",
       "      <td>가전·디지털</td>\n",
       "      <td>계절가전</td>\n",
       "      <td>전기히터·온풍기</td>\n",
       "      <td>2022-12-28 11:07:30</td>\n",
       "      <td>Seoul</td>\n",
       "      <td>Android</td>\n",
       "      <td>100.0</td>\n",
       "      <td>54030</td>\n",
       "    </tr>\n",
       "    <tr>\n",
       "      <th>5659540</th>\n",
       "      <td>5659540</td>\n",
       "      <td>bgy5ZGOszc4ADrmd</td>\n",
       "      <td>View</td>\n",
       "      <td>가구</td>\n",
       "      <td>화장대·콘솔</td>\n",
       "      <td>일반화장대</td>\n",
       "      <td>2022-12-29 08:14:39</td>\n",
       "      <td>Iksan</td>\n",
       "      <td>iOS</td>\n",
       "      <td>0.0</td>\n",
       "      <td>0</td>\n",
       "    </tr>\n",
       "  </tbody>\n",
       "</table>\n",
       "<p>5473228 rows × 11 columns</p>\n",
       "</div>\n",
       "      <button class=\"colab-df-convert\" onclick=\"convertToInteractive('df-b608b685-e88a-4e77-be6b-786d8efe07f9')\"\n",
       "              title=\"Convert this dataframe to an interactive table.\"\n",
       "              style=\"display:none;\">\n",
       "        \n",
       "  <svg xmlns=\"http://www.w3.org/2000/svg\" height=\"24px\"viewBox=\"0 0 24 24\"\n",
       "       width=\"24px\">\n",
       "    <path d=\"M0 0h24v24H0V0z\" fill=\"none\"/>\n",
       "    <path d=\"M18.56 5.44l.94 2.06.94-2.06 2.06-.94-2.06-.94-.94-2.06-.94 2.06-2.06.94zm-11 1L8.5 8.5l.94-2.06 2.06-.94-2.06-.94L8.5 2.5l-.94 2.06-2.06.94zm10 10l.94 2.06.94-2.06 2.06-.94-2.06-.94-.94-2.06-.94 2.06-2.06.94z\"/><path d=\"M17.41 7.96l-1.37-1.37c-.4-.4-.92-.59-1.43-.59-.52 0-1.04.2-1.43.59L10.3 9.45l-7.72 7.72c-.78.78-.78 2.05 0 2.83L4 21.41c.39.39.9.59 1.41.59.51 0 1.02-.2 1.41-.59l7.78-7.78 2.81-2.81c.8-.78.8-2.07 0-2.86zM5.41 20L4 18.59l7.72-7.72 1.47 1.35L5.41 20z\"/>\n",
       "  </svg>\n",
       "      </button>\n",
       "      \n",
       "  <style>\n",
       "    .colab-df-container {\n",
       "      display:flex;\n",
       "      flex-wrap:wrap;\n",
       "      gap: 12px;\n",
       "    }\n",
       "\n",
       "    .colab-df-convert {\n",
       "      background-color: #E8F0FE;\n",
       "      border: none;\n",
       "      border-radius: 50%;\n",
       "      cursor: pointer;\n",
       "      display: none;\n",
       "      fill: #1967D2;\n",
       "      height: 32px;\n",
       "      padding: 0 0 0 0;\n",
       "      width: 32px;\n",
       "    }\n",
       "\n",
       "    .colab-df-convert:hover {\n",
       "      background-color: #E2EBFA;\n",
       "      box-shadow: 0px 1px 2px rgba(60, 64, 67, 0.3), 0px 1px 3px 1px rgba(60, 64, 67, 0.15);\n",
       "      fill: #174EA6;\n",
       "    }\n",
       "\n",
       "    [theme=dark] .colab-df-convert {\n",
       "      background-color: #3B4455;\n",
       "      fill: #D2E3FC;\n",
       "    }\n",
       "\n",
       "    [theme=dark] .colab-df-convert:hover {\n",
       "      background-color: #434B5C;\n",
       "      box-shadow: 0px 1px 3px 1px rgba(0, 0, 0, 0.15);\n",
       "      filter: drop-shadow(0px 1px 2px rgba(0, 0, 0, 0.3));\n",
       "      fill: #FFFFFF;\n",
       "    }\n",
       "  </style>\n",
       "\n",
       "      <script>\n",
       "        const buttonEl =\n",
       "          document.querySelector('#df-b608b685-e88a-4e77-be6b-786d8efe07f9 button.colab-df-convert');\n",
       "        buttonEl.style.display =\n",
       "          google.colab.kernel.accessAllowed ? 'block' : 'none';\n",
       "\n",
       "        async function convertToInteractive(key) {\n",
       "          const element = document.querySelector('#df-b608b685-e88a-4e77-be6b-786d8efe07f9');\n",
       "          const dataTable =\n",
       "            await google.colab.kernel.invokeFunction('convertToInteractive',\n",
       "                                                     [key], {});\n",
       "          if (!dataTable) return;\n",
       "\n",
       "          const docLinkHtml = 'Like what you see? Visit the ' +\n",
       "            '<a target=\"_blank\" href=https://colab.research.google.com/notebooks/data_table.ipynb>data table notebook</a>'\n",
       "            + ' to learn more about interactive tables.';\n",
       "          element.innerHTML = '';\n",
       "          dataTable['output_type'] = 'display_data';\n",
       "          await google.colab.output.renderOutput(dataTable, element);\n",
       "          const docLink = document.createElement('div');\n",
       "          docLink.innerHTML = docLinkHtml;\n",
       "          element.appendChild(docLink);\n",
       "        }\n",
       "      </script>\n",
       "    </div>\n",
       "  </div>\n",
       "  "
      ],
      "text/plain": [
       "         Unnamed: 0               uid action_type category1  category2  \\\n",
       "0                 0  avpKyWMn/xEADNlb        View      주방용품     그릇·홈세트   \n",
       "1                 1  0+5vEmGkOuAAB5j2      Basket       패브릭         매트   \n",
       "2                 2  r8DXy2OtSl8AAojG        View       패브릭     커튼·부자재   \n",
       "3                 3  dC9Fl2Ly9lcADrTn   Highlight     데코·식물     플라워·식물   \n",
       "4                 4  09gKcGLg0I8ACyQy        View        가구     진열장·책장   \n",
       "...             ...               ...         ...       ...        ...   \n",
       "5659536     5659536  PUpxWWMWdcIACR2B        View      주방용품     칼·커팅기구   \n",
       "5659537     5659537  PVMstmNg4I4ADq9R      Basket        가구     진열장·책장   \n",
       "5659538     5659538  diRXdmN49dUABrVo        View        가구  테이블·식탁·책상   \n",
       "5659539     5659539  dusFzWJvp5cADhZW        View    가전·디지털       계절가전   \n",
       "5659540     5659540  bgy5ZGOszc4ADrmd        View        가구     화장대·콘솔   \n",
       "\n",
       "         category3         collect_time geoip_city_name useragent_os  \\\n",
       "0          식판·나눔접시  2022-12-29 17:29:02     Seongnam-si      Windows   \n",
       "1         주방·다용도매트  2022-12-29 12:56:38       Yongin-si      Windows   \n",
       "2             암막커튼  2022-12-29 17:11:30           Seoul          iOS   \n",
       "3            화병·화분  2022-12-29 17:54:30  Gwangmyeong-si      Windows   \n",
       "4               책장  2022-12-29 18:45:05       Jongno-gu     Mac OS X   \n",
       "...            ...                  ...             ...          ...   \n",
       "5659536  채칼·다지기·강판  2022-12-28 20:01:30           Seoul      Android   \n",
       "5659537         책장  2022-12-28 14:30:09           Jinju      Windows   \n",
       "5659538         식탁  2022-12-29 12:45:13           Gunpo      Android   \n",
       "5659539   전기히터·온풍기  2022-12-28 11:07:30           Seoul      Android   \n",
       "5659540      일반화장대  2022-12-29 08:14:39           Iksan          iOS   \n",
       "\n",
       "         viewrate  viewtime  \n",
       "0           100.0     80033  \n",
       "1             0.0         0  \n",
       "2           100.0       947  \n",
       "3             0.0         0  \n",
       "4           100.0      1238  \n",
       "...           ...       ...  \n",
       "5659536     100.0     13893  \n",
       "5659537       0.0         0  \n",
       "5659538     100.0     47217  \n",
       "5659539     100.0     54030  \n",
       "5659540       0.0         0  \n",
       "\n",
       "[5473228 rows x 11 columns]"
      ]
     },
     "execution_count": 7,
     "metadata": {},
     "output_type": "execute_result"
    }
   ],
   "source": [
    "log = log.dropna(subset=['uid'])\n",
    "log"
   ]
  },
  {
   "cell_type": "code",
   "execution_count": 93,
   "metadata": {
    "id": "qy9B2zmdu8e5"
   },
   "outputs": [],
   "source": []
  },
  {
   "cell_type": "code",
   "execution_count": 8,
   "metadata": {
    "colab": {
     "base_uri": "https://localhost:8080/"
    },
    "id": "YeGz7thH0_Et",
    "outputId": "2d09449d-1fe3-4d49-e380-76a36d5b27ae"
   },
   "outputs": [
    {
     "data": {
      "text/plain": [
       "100.00    4315772\n",
       "0.00      1131730\n",
       "99.91        7026\n",
       "99.90        3378\n",
       "99.93        1938\n",
       "           ...   \n",
       "79.76           1\n",
       "1.58            1\n",
       "83.85           1\n",
       "79.72           1\n",
       "2.25            1\n",
       "Name: viewrate, Length: 1900, dtype: int64"
      ]
     },
     "execution_count": 8,
     "metadata": {},
     "output_type": "execute_result"
    }
   ],
   "source": [
    "log['viewrate'].value_counts()"
   ]
  },
  {
   "cell_type": "code",
   "execution_count": 9,
   "metadata": {
    "colab": {
     "base_uri": "https://localhost:8080/"
    },
    "id": "A68bSDbeZ7cO",
    "outputId": "1d214c64-fddb-467d-d669-9c4f0eae4188"
   },
   "outputs": [
    {
     "data": {
      "text/plain": [
       "Unnamed: 0              0\n",
       "uid                     0\n",
       "action_type             0\n",
       "category1               0\n",
       "category2               0\n",
       "category3          766812\n",
       "collect_time            0\n",
       "geoip_city_name    398912\n",
       "useragent_os            0\n",
       "viewrate             2375\n",
       "viewtime                0\n",
       "dtype: int64"
      ]
     },
     "execution_count": 9,
     "metadata": {},
     "output_type": "execute_result"
    }
   ],
   "source": [
    "log.isnull().sum()"
   ]
  },
  {
   "cell_type": "code",
   "execution_count": 10,
   "metadata": {
    "colab": {
     "base_uri": "https://localhost:8080/"
    },
    "id": "FD-YPOrHbFo1",
    "outputId": "01f5e1d4-dd93-44d5-c9c2-872b2fe5cfe8"
   },
   "outputs": [
    {
     "data": {
      "text/plain": [
       "View         4742714\n",
       "Highlight     443100\n",
       "Basket        166914\n",
       "Copy          100588\n",
       "SINF           19912\n",
       "Name: action_type, dtype: int64"
      ]
     },
     "execution_count": 10,
     "metadata": {},
     "output_type": "execute_result"
    }
   ],
   "source": [
    "log.action_type.value_counts()"
   ]
  },
  {
   "cell_type": "code",
   "execution_count": 11,
   "metadata": {
    "colab": {
     "base_uri": "https://localhost:8080/"
    },
    "id": "TOEroG5cIk5j",
    "outputId": "340b1c10-30d2-4e32-a36d-4ac0e14c11f9"
   },
   "outputs": [
    {
     "data": {
      "text/plain": [
       "Seoul                 871681\n",
       "Daegu                 232960\n",
       "Incheon               192053\n",
       "Busan                 186777\n",
       "Seongnam-si           172638\n",
       "                       ...  \n",
       "Montclair                  1\n",
       "Huntington Station         1\n",
       "Plymouth                   1\n",
       "Tracy                      1\n",
       "Misawa                     1\n",
       "Name: geoip_city_name, Length: 2760, dtype: int64"
      ]
     },
     "execution_count": 11,
     "metadata": {},
     "output_type": "execute_result"
    }
   ],
   "source": [
    "log.geoip_city_name.value_counts()"
   ]
  },
  {
   "cell_type": "code",
   "execution_count": 12,
   "metadata": {
    "colab": {
     "base_uri": "https://localhost:8080/",
     "height": 424
    },
    "id": "oZT7cTXEbbWs",
    "outputId": "f037344f-e4a1-4d9b-8e10-86655d5dfaf2"
   },
   "outputs": [
    {
     "data": {
      "text/html": [
       "\n",
       "  <div id=\"df-2b002a06-4859-4ad4-a308-f1fb5f1ced74\">\n",
       "    <div class=\"colab-df-container\">\n",
       "      <div>\n",
       "<style scoped>\n",
       "    .dataframe tbody tr th:only-of-type {\n",
       "        vertical-align: middle;\n",
       "    }\n",
       "\n",
       "    .dataframe tbody tr th {\n",
       "        vertical-align: top;\n",
       "    }\n",
       "\n",
       "    .dataframe thead th {\n",
       "        text-align: right;\n",
       "    }\n",
       "</style>\n",
       "<table border=\"1\" class=\"dataframe\">\n",
       "  <thead>\n",
       "    <tr style=\"text-align: right;\">\n",
       "      <th></th>\n",
       "      <th>index</th>\n",
       "      <th>geoip_city_name</th>\n",
       "    </tr>\n",
       "  </thead>\n",
       "  <tbody>\n",
       "    <tr>\n",
       "      <th>0</th>\n",
       "      <td>Seoul</td>\n",
       "      <td>871681</td>\n",
       "    </tr>\n",
       "    <tr>\n",
       "      <th>1</th>\n",
       "      <td>Daegu</td>\n",
       "      <td>232960</td>\n",
       "    </tr>\n",
       "    <tr>\n",
       "      <th>2</th>\n",
       "      <td>Incheon</td>\n",
       "      <td>192053</td>\n",
       "    </tr>\n",
       "    <tr>\n",
       "      <th>3</th>\n",
       "      <td>Busan</td>\n",
       "      <td>186777</td>\n",
       "    </tr>\n",
       "    <tr>\n",
       "      <th>4</th>\n",
       "      <td>Seongnam-si</td>\n",
       "      <td>172638</td>\n",
       "    </tr>\n",
       "    <tr>\n",
       "      <th>...</th>\n",
       "      <td>...</td>\n",
       "      <td>...</td>\n",
       "    </tr>\n",
       "    <tr>\n",
       "      <th>95</th>\n",
       "      <td>Yeongcheon-si</td>\n",
       "      <td>6723</td>\n",
       "    </tr>\n",
       "    <tr>\n",
       "      <th>96</th>\n",
       "      <td>Suseong-gu</td>\n",
       "      <td>6499</td>\n",
       "    </tr>\n",
       "    <tr>\n",
       "      <th>97</th>\n",
       "      <td>Tangjin</td>\n",
       "      <td>6407</td>\n",
       "    </tr>\n",
       "    <tr>\n",
       "      <th>98</th>\n",
       "      <td>Haeundae-gu</td>\n",
       "      <td>6105</td>\n",
       "    </tr>\n",
       "    <tr>\n",
       "      <th>99</th>\n",
       "      <td>Jung-gu</td>\n",
       "      <td>6053</td>\n",
       "    </tr>\n",
       "  </tbody>\n",
       "</table>\n",
       "<p>100 rows × 2 columns</p>\n",
       "</div>\n",
       "      <button class=\"colab-df-convert\" onclick=\"convertToInteractive('df-2b002a06-4859-4ad4-a308-f1fb5f1ced74')\"\n",
       "              title=\"Convert this dataframe to an interactive table.\"\n",
       "              style=\"display:none;\">\n",
       "        \n",
       "  <svg xmlns=\"http://www.w3.org/2000/svg\" height=\"24px\"viewBox=\"0 0 24 24\"\n",
       "       width=\"24px\">\n",
       "    <path d=\"M0 0h24v24H0V0z\" fill=\"none\"/>\n",
       "    <path d=\"M18.56 5.44l.94 2.06.94-2.06 2.06-.94-2.06-.94-.94-2.06-.94 2.06-2.06.94zm-11 1L8.5 8.5l.94-2.06 2.06-.94-2.06-.94L8.5 2.5l-.94 2.06-2.06.94zm10 10l.94 2.06.94-2.06 2.06-.94-2.06-.94-.94-2.06-.94 2.06-2.06.94z\"/><path d=\"M17.41 7.96l-1.37-1.37c-.4-.4-.92-.59-1.43-.59-.52 0-1.04.2-1.43.59L10.3 9.45l-7.72 7.72c-.78.78-.78 2.05 0 2.83L4 21.41c.39.39.9.59 1.41.59.51 0 1.02-.2 1.41-.59l7.78-7.78 2.81-2.81c.8-.78.8-2.07 0-2.86zM5.41 20L4 18.59l7.72-7.72 1.47 1.35L5.41 20z\"/>\n",
       "  </svg>\n",
       "      </button>\n",
       "      \n",
       "  <style>\n",
       "    .colab-df-container {\n",
       "      display:flex;\n",
       "      flex-wrap:wrap;\n",
       "      gap: 12px;\n",
       "    }\n",
       "\n",
       "    .colab-df-convert {\n",
       "      background-color: #E8F0FE;\n",
       "      border: none;\n",
       "      border-radius: 50%;\n",
       "      cursor: pointer;\n",
       "      display: none;\n",
       "      fill: #1967D2;\n",
       "      height: 32px;\n",
       "      padding: 0 0 0 0;\n",
       "      width: 32px;\n",
       "    }\n",
       "\n",
       "    .colab-df-convert:hover {\n",
       "      background-color: #E2EBFA;\n",
       "      box-shadow: 0px 1px 2px rgba(60, 64, 67, 0.3), 0px 1px 3px 1px rgba(60, 64, 67, 0.15);\n",
       "      fill: #174EA6;\n",
       "    }\n",
       "\n",
       "    [theme=dark] .colab-df-convert {\n",
       "      background-color: #3B4455;\n",
       "      fill: #D2E3FC;\n",
       "    }\n",
       "\n",
       "    [theme=dark] .colab-df-convert:hover {\n",
       "      background-color: #434B5C;\n",
       "      box-shadow: 0px 1px 3px 1px rgba(0, 0, 0, 0.15);\n",
       "      filter: drop-shadow(0px 1px 2px rgba(0, 0, 0, 0.3));\n",
       "      fill: #FFFFFF;\n",
       "    }\n",
       "  </style>\n",
       "\n",
       "      <script>\n",
       "        const buttonEl =\n",
       "          document.querySelector('#df-2b002a06-4859-4ad4-a308-f1fb5f1ced74 button.colab-df-convert');\n",
       "        buttonEl.style.display =\n",
       "          google.colab.kernel.accessAllowed ? 'block' : 'none';\n",
       "\n",
       "        async function convertToInteractive(key) {\n",
       "          const element = document.querySelector('#df-2b002a06-4859-4ad4-a308-f1fb5f1ced74');\n",
       "          const dataTable =\n",
       "            await google.colab.kernel.invokeFunction('convertToInteractive',\n",
       "                                                     [key], {});\n",
       "          if (!dataTable) return;\n",
       "\n",
       "          const docLinkHtml = 'Like what you see? Visit the ' +\n",
       "            '<a target=\"_blank\" href=https://colab.research.google.com/notebooks/data_table.ipynb>data table notebook</a>'\n",
       "            + ' to learn more about interactive tables.';\n",
       "          element.innerHTML = '';\n",
       "          dataTable['output_type'] = 'display_data';\n",
       "          await google.colab.output.renderOutput(dataTable, element);\n",
       "          const docLink = document.createElement('div');\n",
       "          docLink.innerHTML = docLinkHtml;\n",
       "          element.appendChild(docLink);\n",
       "        }\n",
       "      </script>\n",
       "    </div>\n",
       "  </div>\n",
       "  "
      ],
      "text/plain": [
       "            index  geoip_city_name\n",
       "0           Seoul           871681\n",
       "1           Daegu           232960\n",
       "2         Incheon           192053\n",
       "3           Busan           186777\n",
       "4     Seongnam-si           172638\n",
       "..            ...              ...\n",
       "95  Yeongcheon-si             6723\n",
       "96     Suseong-gu             6499\n",
       "97        Tangjin             6407\n",
       "98    Haeundae-gu             6105\n",
       "99        Jung-gu             6053\n",
       "\n",
       "[100 rows x 2 columns]"
      ]
     },
     "execution_count": 12,
     "metadata": {},
     "output_type": "execute_result"
    }
   ],
   "source": [
    "region = log.geoip_city_name.value_counts()\n",
    "region = region.reset_index()\n",
    "region[:100]"
   ]
  },
  {
   "cell_type": "code",
   "execution_count": 15,
   "metadata": {
    "colab": {
     "base_uri": "https://localhost:8080/",
     "height": 424
    },
    "id": "UcYR8oNkKY18",
    "outputId": "70491f07-104e-4c0f-c24a-9b46d249e328"
   },
   "outputs": [
    {
     "data": {
      "text/html": [
       "\n",
       "  <div id=\"df-ecb916d4-3345-4e97-a024-f73c6bb03eb7\">\n",
       "    <div class=\"colab-df-container\">\n",
       "      <div>\n",
       "<style scoped>\n",
       "    .dataframe tbody tr th:only-of-type {\n",
       "        vertical-align: middle;\n",
       "    }\n",
       "\n",
       "    .dataframe tbody tr th {\n",
       "        vertical-align: top;\n",
       "    }\n",
       "\n",
       "    .dataframe thead th {\n",
       "        text-align: right;\n",
       "    }\n",
       "</style>\n",
       "<table border=\"1\" class=\"dataframe\">\n",
       "  <thead>\n",
       "    <tr style=\"text-align: right;\">\n",
       "      <th></th>\n",
       "      <th>index</th>\n",
       "      <th>geoip_city_name</th>\n",
       "    </tr>\n",
       "  </thead>\n",
       "  <tbody>\n",
       "    <tr>\n",
       "      <th>0</th>\n",
       "      <td>Seoul</td>\n",
       "      <td>871681</td>\n",
       "    </tr>\n",
       "    <tr>\n",
       "      <th>1</th>\n",
       "      <td>Daegu</td>\n",
       "      <td>232960</td>\n",
       "    </tr>\n",
       "    <tr>\n",
       "      <th>2</th>\n",
       "      <td>Incheon</td>\n",
       "      <td>192053</td>\n",
       "    </tr>\n",
       "    <tr>\n",
       "      <th>3</th>\n",
       "      <td>Busan</td>\n",
       "      <td>186777</td>\n",
       "    </tr>\n",
       "    <tr>\n",
       "      <th>4</th>\n",
       "      <td>Seongnam-si</td>\n",
       "      <td>172638</td>\n",
       "    </tr>\n",
       "    <tr>\n",
       "      <th>...</th>\n",
       "      <td>...</td>\n",
       "      <td>...</td>\n",
       "    </tr>\n",
       "    <tr>\n",
       "      <th>195</th>\n",
       "      <td>Yecheon-gun</td>\n",
       "      <td>870</td>\n",
       "    </tr>\n",
       "    <tr>\n",
       "      <th>196</th>\n",
       "      <td>Haeundae</td>\n",
       "      <td>820</td>\n",
       "    </tr>\n",
       "    <tr>\n",
       "      <th>197</th>\n",
       "      <td>Puan</td>\n",
       "      <td>789</td>\n",
       "    </tr>\n",
       "    <tr>\n",
       "      <th>198</th>\n",
       "      <td>Tokyo</td>\n",
       "      <td>757</td>\n",
       "    </tr>\n",
       "    <tr>\n",
       "      <th>199</th>\n",
       "      <td>Damyang-gun</td>\n",
       "      <td>745</td>\n",
       "    </tr>\n",
       "  </tbody>\n",
       "</table>\n",
       "<p>200 rows × 2 columns</p>\n",
       "</div>\n",
       "      <button class=\"colab-df-convert\" onclick=\"convertToInteractive('df-ecb916d4-3345-4e97-a024-f73c6bb03eb7')\"\n",
       "              title=\"Convert this dataframe to an interactive table.\"\n",
       "              style=\"display:none;\">\n",
       "        \n",
       "  <svg xmlns=\"http://www.w3.org/2000/svg\" height=\"24px\"viewBox=\"0 0 24 24\"\n",
       "       width=\"24px\">\n",
       "    <path d=\"M0 0h24v24H0V0z\" fill=\"none\"/>\n",
       "    <path d=\"M18.56 5.44l.94 2.06.94-2.06 2.06-.94-2.06-.94-.94-2.06-.94 2.06-2.06.94zm-11 1L8.5 8.5l.94-2.06 2.06-.94-2.06-.94L8.5 2.5l-.94 2.06-2.06.94zm10 10l.94 2.06.94-2.06 2.06-.94-2.06-.94-.94-2.06-.94 2.06-2.06.94z\"/><path d=\"M17.41 7.96l-1.37-1.37c-.4-.4-.92-.59-1.43-.59-.52 0-1.04.2-1.43.59L10.3 9.45l-7.72 7.72c-.78.78-.78 2.05 0 2.83L4 21.41c.39.39.9.59 1.41.59.51 0 1.02-.2 1.41-.59l7.78-7.78 2.81-2.81c.8-.78.8-2.07 0-2.86zM5.41 20L4 18.59l7.72-7.72 1.47 1.35L5.41 20z\"/>\n",
       "  </svg>\n",
       "      </button>\n",
       "      \n",
       "  <style>\n",
       "    .colab-df-container {\n",
       "      display:flex;\n",
       "      flex-wrap:wrap;\n",
       "      gap: 12px;\n",
       "    }\n",
       "\n",
       "    .colab-df-convert {\n",
       "      background-color: #E8F0FE;\n",
       "      border: none;\n",
       "      border-radius: 50%;\n",
       "      cursor: pointer;\n",
       "      display: none;\n",
       "      fill: #1967D2;\n",
       "      height: 32px;\n",
       "      padding: 0 0 0 0;\n",
       "      width: 32px;\n",
       "    }\n",
       "\n",
       "    .colab-df-convert:hover {\n",
       "      background-color: #E2EBFA;\n",
       "      box-shadow: 0px 1px 2px rgba(60, 64, 67, 0.3), 0px 1px 3px 1px rgba(60, 64, 67, 0.15);\n",
       "      fill: #174EA6;\n",
       "    }\n",
       "\n",
       "    [theme=dark] .colab-df-convert {\n",
       "      background-color: #3B4455;\n",
       "      fill: #D2E3FC;\n",
       "    }\n",
       "\n",
       "    [theme=dark] .colab-df-convert:hover {\n",
       "      background-color: #434B5C;\n",
       "      box-shadow: 0px 1px 3px 1px rgba(0, 0, 0, 0.15);\n",
       "      filter: drop-shadow(0px 1px 2px rgba(0, 0, 0, 0.3));\n",
       "      fill: #FFFFFF;\n",
       "    }\n",
       "  </style>\n",
       "\n",
       "      <script>\n",
       "        const buttonEl =\n",
       "          document.querySelector('#df-ecb916d4-3345-4e97-a024-f73c6bb03eb7 button.colab-df-convert');\n",
       "        buttonEl.style.display =\n",
       "          google.colab.kernel.accessAllowed ? 'block' : 'none';\n",
       "\n",
       "        async function convertToInteractive(key) {\n",
       "          const element = document.querySelector('#df-ecb916d4-3345-4e97-a024-f73c6bb03eb7');\n",
       "          const dataTable =\n",
       "            await google.colab.kernel.invokeFunction('convertToInteractive',\n",
       "                                                     [key], {});\n",
       "          if (!dataTable) return;\n",
       "\n",
       "          const docLinkHtml = 'Like what you see? Visit the ' +\n",
       "            '<a target=\"_blank\" href=https://colab.research.google.com/notebooks/data_table.ipynb>data table notebook</a>'\n",
       "            + ' to learn more about interactive tables.';\n",
       "          element.innerHTML = '';\n",
       "          dataTable['output_type'] = 'display_data';\n",
       "          await google.colab.output.renderOutput(dataTable, element);\n",
       "          const docLink = document.createElement('div');\n",
       "          docLink.innerHTML = docLinkHtml;\n",
       "          element.appendChild(docLink);\n",
       "        }\n",
       "      </script>\n",
       "    </div>\n",
       "  </div>\n",
       "  "
      ],
      "text/plain": [
       "           index  geoip_city_name\n",
       "0          Seoul           871681\n",
       "1          Daegu           232960\n",
       "2        Incheon           192053\n",
       "3          Busan           186777\n",
       "4    Seongnam-si           172638\n",
       "..           ...              ...\n",
       "195  Yecheon-gun              870\n",
       "196     Haeundae              820\n",
       "197         Puan              789\n",
       "198        Tokyo              757\n",
       "199  Damyang-gun              745\n",
       "\n",
       "[200 rows x 2 columns]"
      ]
     },
     "execution_count": 15,
     "metadata": {},
     "output_type": "execute_result"
    }
   ],
   "source": [
    "#특이사항 ->한국이 아닌 도시 참고\n",
    "region[:200] \n",
    "#Ho Chi Minh City\t897\n",
    "#Tokyo\t882"
   ]
  },
  {
   "cell_type": "code",
   "execution_count": 96,
   "metadata": {
    "id": "LdjYYL9xsIKp"
   },
   "outputs": [],
   "source": []
  },
  {
   "cell_type": "code",
   "execution_count": 16,
   "metadata": {
    "colab": {
     "base_uri": "https://localhost:8080/"
    },
    "id": "flbEuHtGbcA4",
    "outputId": "146b221e-17bf-4fc4-ae2a-726eaba99f37"
   },
   "outputs": [
    {
     "data": {
      "text/plain": [
       "array(['Seongnam-si', 'Yongin-si', 'Seoul', ..., 'Pine Bush', 'Hikone',\n",
       "       'Misawa'], dtype=object)"
      ]
     },
     "execution_count": 16,
     "metadata": {},
     "output_type": "execute_result"
    }
   ],
   "source": []
  },
  {
   "cell_type": "code",
   "execution_count": 17,
   "metadata": {
    "colab": {
     "base_uri": "https://localhost:8080/"
    },
    "id": "zLtdVJ3KJMIU",
    "outputId": "b58311b4-553b-47b7-bcd6-b0364c16b8f3"
   },
   "outputs": [
    {
     "data": {
      "text/plain": [
       "가구        327149\n",
       "패브릭        97009\n",
       "가전·디지털     95334\n",
       "주방용품       74829\n",
       "데코·식물      59619\n",
       "           ...  \n",
       "더존테크           1\n",
       "베디스            1\n",
       "피너츠            1\n",
       "리우리빙           1\n",
       "올리그로우          1\n",
       "Name: category1, Length: 1116, dtype: int64"
      ]
     },
     "execution_count": 17,
     "metadata": {},
     "output_type": "execute_result"
    }
   ],
   "source": [
    "log.loc[log['geoip_city_name']=='Seoul', 'category1'].value_counts() #서울 category1: 가구> 패트릭> 가전.디지털>주방용품> 데코.식물 "
   ]
  },
  {
   "cell_type": "code",
   "execution_count": 18,
   "metadata": {
    "colab": {
     "base_uri": "https://localhost:8080/"
    },
    "id": "gNBM27DXL0mD",
    "outputId": "10fd5876-a698-4a3a-bd8e-28bc07614a0c"
   },
   "outputs": [
    {
     "data": {
      "text/plain": [
       "0         189197\n",
       "3001        7151\n",
       "3002        5664\n",
       "2002        3350\n",
       "3003        3314\n",
       "           ...  \n",
       "286263         1\n",
       "65166          1\n",
       "154253         1\n",
       "49228          1\n",
       "166167         1\n",
       "Name: viewtime, Length: 142585, dtype: int64"
      ]
     },
     "execution_count": 18,
     "metadata": {},
     "output_type": "execute_result"
    }
   ],
   "source": [
    "log.loc[log['geoip_city_name']=='Seoul', 'viewtime'].value_counts() "
   ]
  },
  {
   "cell_type": "code",
   "execution_count": 19,
   "metadata": {
    "colab": {
     "base_uri": "https://localhost:8080/",
     "height": 499
    },
    "id": "jGAVb8JsVPhc",
    "outputId": "2b8ee0b2-a771-496f-b140-75d6e33b8d4e"
   },
   "outputs": [
    {
     "data": {
      "text/plain": [
       "Text(0, 0.5, '')"
      ]
     },
     "execution_count": 19,
     "metadata": {},
     "output_type": "execute_result"
    },
    {
     "data": {
      "image/png": "[encoded data removed]",
      "text/plain": [
       "<Figure size 1296x576 with 2 Axes>"
      ]
     },
     "metadata": {},
     "output_type": "display_data"
    }
   ],
   "source": [
    "f, ax = plt.subplots(1, 2, figsize = (18, 8)) #Category1,2시각화해서 확인 -> 가구에서 viewtime을 보고자했으나 실패\n",
    "log.loc[(log.geoip_city_name == 'Seoul'), 'category1'].value_counts()[:10].plot.pie(autopct='%1.1f%%', ax = ax[0], shadow=True);\n",
    "ax[0].set_title('category1')\n",
    "ax[0].set_ylabel('')\n",
    "\n",
    "log.loc[(log.geoip_city_name == 'Seoul'), 'viewtime'].value_counts()[:10].plot.pie(autopct='%1.1f%%', ax = ax[1], shadow=True);\n",
    "ax[1].set_title('viewtime')\n",
    "ax[1].set_ylabel('')"
   ]
  },
  {
   "cell_type": "code",
   "execution_count": 51,
   "metadata": {
    "id": "U-y-50UJbSEe"
   },
   "outputs": [],
   "source": []
  },
  {
   "cell_type": "code",
   "execution_count": 43,
   "metadata": {
    "colab": {
     "base_uri": "https://localhost:8080/"
    },
    "id": "9UzdgyKpS4BQ",
    "outputId": "bc657100-e307-4b35-af09-24dfa9fc72ae"
   },
   "outputs": [
    {
     "data": {
      "text/plain": [
       "가구         82512\n",
       "패브릭        31099\n",
       "가전·디지털     25545\n",
       "주방용품       23099\n",
       "데코·식물      16313\n",
       "           ...  \n",
       "아보드            1\n",
       "살림의기술          1\n",
       "구디푸디           1\n",
       "HICKIES        1\n",
       "리빙힙            1\n",
       "Name: category1, Length: 358, dtype: int64"
      ]
     },
     "execution_count": 43,
     "metadata": {},
     "output_type": "execute_result"
    }
   ],
   "source": [
    "log.loc[log['geoip_city_name']=='Daegu', 'category1'].value_counts() #대구 category1: 가구> 패트릭> 가전.디지털>주방용품> 데코.식물 "
   ]
  },
  {
   "cell_type": "code",
   "execution_count": 44,
   "metadata": {
    "colab": {
     "base_uri": "https://localhost:8080/"
    },
    "id": "n4QyH0n5kOZC",
    "outputId": "5a959223-25c3-4e8e-898b-08c9df34403c"
   },
   "outputs": [
    {
     "data": {
      "text/plain": [
       "가구           72676\n",
       "패브릭          23397\n",
       "주방용품         16938\n",
       "가전·디지털       16265\n",
       "데코·식물        14790\n",
       "             ...  \n",
       "mellbrown        1\n",
       "보노하우스            1\n",
       "아씨방가구            1\n",
       "테이스티드            1\n",
       "에이스침대            1\n",
       "Name: category1, Length: 525, dtype: int64"
      ]
     },
     "execution_count": 44,
     "metadata": {},
     "output_type": "execute_result"
    }
   ],
   "source": [
    "log.loc[log['geoip_city_name']=='Incheon', 'category1'].value_counts() #대구 category1: 가구> 패트릭> 가전.디지털>주방용품> 데코.식물 "
   ]
  },
  {
   "cell_type": "code",
   "execution_count": 45,
   "metadata": {
    "colab": {
     "base_uri": "https://localhost:8080/"
    },
    "id": "3mJgb_zEkOS9",
    "outputId": "2d818be2-8c90-4fdb-9f7a-9d839cf529ac"
   },
   "outputs": [
    {
     "data": {
      "text/plain": [
       "가구         68256\n",
       "패브릭        22091\n",
       "주방용품       18590\n",
       "가전·디지털     17074\n",
       "데코·식물      12960\n",
       "           ...  \n",
       "쁘띠메종           1\n",
       "몽목             1\n",
       "모던탑21          1\n",
       "아빠가만든공간        1\n",
       "필플랜트           1\n",
       "Name: category1, Length: 458, dtype: int64"
      ]
     },
     "execution_count": 45,
     "metadata": {},
     "output_type": "execute_result"
    }
   ],
   "source": [
    "log.loc[log['geoip_city_name']=='Busan', 'category1'].value_counts() #부산 category1: 가구> 패트릭> 가전.디지털>주방용품> 데코.식물 "
   ]
  },
  {
   "cell_type": "code",
   "execution_count": 84,
   "metadata": {
    "colab": {
     "base_uri": "https://localhost:8080/"
    },
    "id": "GuC9VETxULbM",
    "outputId": "316a1c75-2da1-4423-ea28-142d1d7bd4c3"
   },
   "outputs": [
    {
     "data": {
      "text/plain": [
       "100.00    1588662\n",
       "0.00       380429\n",
       "99.91        2152\n",
       "99.90         935\n",
       "99.93         708\n",
       "           ...   \n",
       "91.79           1\n",
       "20.00           1\n",
       "96.16           1\n",
       "61.75           1\n",
       "2.25            1\n",
       "Name: viewrate, Length: 972, dtype: int64"
      ]
     },
     "execution_count": 84,
     "metadata": {},
     "output_type": "execute_result"
    }
   ],
   "source": [
    "log.loc[log['category1']=='가구', 'viewrate'].value_counts()  # 가구 살때 대부분 끝까지 보고 산다 , 2번쨰는 0인데 아마 다시 재접속 가능성있으"
   ]
  },
  {
   "cell_type": "code",
   "execution_count": 80,
   "metadata": {
    "colab": {
     "base_uri": "https://localhost:8080/"
    },
    "id": "OuwdxLvwUuFL",
    "outputId": "ba2c5e16-766b-4b0e-8017-034d84abdcc9"
   },
   "outputs": [
    {
     "data": {
      "text/plain": [
       "0       380458\n",
       "3001     15331\n",
       "3002     12878\n",
       "3003      8275\n",
       "2002      8227\n",
       "2001      7312\n",
       "1001      6673\n",
       "3004      6121\n",
       "2003      5677\n",
       "1002      5383\n",
       "Name: viewtime, dtype: int64"
      ]
     },
     "execution_count": 80,
     "metadata": {},
     "output_type": "execute_result"
    }
   ],
   "source": [
    "log.loc[log['category1']=='가구', 'viewtime'].value_counts()[:10] # 가구 viewtime 확인 -> 이때 실제로 구매로 이어진 횟수 확인하기(help)"
   ]
  },
  {
   "cell_type": "code",
   "execution_count": 85,
   "metadata": {
    "colab": {
     "base_uri": "https://localhost:8080/"
    },
    "id": "r8QzUtL-mkv9",
    "outputId": "bd5739b1-b8e0-41a2-8bd0-a843706be242"
   },
   "outputs": [
    {
     "data": {
      "text/plain": [
       "View         1738586\n",
       "Highlight     155026\n",
       "Basket         46142\n",
       "Copy           30128\n",
       "SINF            7152\n",
       "Name: action_type, dtype: int64"
      ]
     },
     "execution_count": 85,
     "metadata": {},
     "output_type": "execute_result"
    }
   ],
   "source": [
    "log.loc[log['category1']=='가구', 'action_type'].value_counts()[:10]"
   ]
  },
  {
   "cell_type": "code",
   "execution_count": 94,
   "metadata": {
    "colab": {
     "base_uri": "https://localhost:8080/",
     "height": 424
    },
    "id": "J3cue8b3uK1d",
    "outputId": "5af74622-61fb-4043-d5af-2cc94d70b4dd"
   },
   "outputs": [
    {
     "data": {
      "text/html": [
       "\n",
       "  <div id=\"df-2f9e90b1-fba1-41ac-9f53-63ff7ffaa13a\">\n",
       "    <div class=\"colab-df-container\">\n",
       "      <div>\n",
       "<style scoped>\n",
       "    .dataframe tbody tr th:only-of-type {\n",
       "        vertical-align: middle;\n",
       "    }\n",
       "\n",
       "    .dataframe tbody tr th {\n",
       "        vertical-align: top;\n",
       "    }\n",
       "\n",
       "    .dataframe thead th {\n",
       "        text-align: right;\n",
       "    }\n",
       "</style>\n",
       "<table border=\"1\" class=\"dataframe\">\n",
       "  <thead>\n",
       "    <tr style=\"text-align: right;\">\n",
       "      <th></th>\n",
       "      <th>viewrate</th>\n",
       "      <th>viewtime</th>\n",
       "      <th>action_type</th>\n",
       "    </tr>\n",
       "  </thead>\n",
       "  <tbody>\n",
       "    <tr>\n",
       "      <th>4</th>\n",
       "      <td>100.0</td>\n",
       "      <td>1238</td>\n",
       "      <td>View</td>\n",
       "    </tr>\n",
       "    <tr>\n",
       "      <th>7</th>\n",
       "      <td>100.0</td>\n",
       "      <td>8483</td>\n",
       "      <td>View</td>\n",
       "    </tr>\n",
       "    <tr>\n",
       "      <th>9</th>\n",
       "      <td>100.0</td>\n",
       "      <td>1215</td>\n",
       "      <td>View</td>\n",
       "    </tr>\n",
       "    <tr>\n",
       "      <th>17</th>\n",
       "      <td>100.0</td>\n",
       "      <td>9840</td>\n",
       "      <td>View</td>\n",
       "    </tr>\n",
       "    <tr>\n",
       "      <th>18</th>\n",
       "      <td>100.0</td>\n",
       "      <td>44023</td>\n",
       "      <td>View</td>\n",
       "    </tr>\n",
       "    <tr>\n",
       "      <th>...</th>\n",
       "      <td>...</td>\n",
       "      <td>...</td>\n",
       "      <td>...</td>\n",
       "    </tr>\n",
       "    <tr>\n",
       "      <th>5659522</th>\n",
       "      <td>100.0</td>\n",
       "      <td>1096</td>\n",
       "      <td>View</td>\n",
       "    </tr>\n",
       "    <tr>\n",
       "      <th>5659523</th>\n",
       "      <td>100.0</td>\n",
       "      <td>841</td>\n",
       "      <td>View</td>\n",
       "    </tr>\n",
       "    <tr>\n",
       "      <th>5659537</th>\n",
       "      <td>0.0</td>\n",
       "      <td>0</td>\n",
       "      <td>Basket</td>\n",
       "    </tr>\n",
       "    <tr>\n",
       "      <th>5659538</th>\n",
       "      <td>100.0</td>\n",
       "      <td>47217</td>\n",
       "      <td>View</td>\n",
       "    </tr>\n",
       "    <tr>\n",
       "      <th>5659540</th>\n",
       "      <td>0.0</td>\n",
       "      <td>0</td>\n",
       "      <td>View</td>\n",
       "    </tr>\n",
       "  </tbody>\n",
       "</table>\n",
       "<p>1977034 rows × 3 columns</p>\n",
       "</div>\n",
       "      <button class=\"colab-df-convert\" onclick=\"convertToInteractive('df-2f9e90b1-fba1-41ac-9f53-63ff7ffaa13a')\"\n",
       "              title=\"Convert this dataframe to an interactive table.\"\n",
       "              style=\"display:none;\">\n",
       "        \n",
       "  <svg xmlns=\"http://www.w3.org/2000/svg\" height=\"24px\"viewBox=\"0 0 24 24\"\n",
       "       width=\"24px\">\n",
       "    <path d=\"M0 0h24v24H0V0z\" fill=\"none\"/>\n",
       "    <path d=\"M18.56 5.44l.94 2.06.94-2.06 2.06-.94-2.06-.94-.94-2.06-.94 2.06-2.06.94zm-11 1L8.5 8.5l.94-2.06 2.06-.94-2.06-.94L8.5 2.5l-.94 2.06-2.06.94zm10 10l.94 2.06.94-2.06 2.06-.94-2.06-.94-.94-2.06-.94 2.06-2.06.94z\"/><path d=\"M17.41 7.96l-1.37-1.37c-.4-.4-.92-.59-1.43-.59-.52 0-1.04.2-1.43.59L10.3 9.45l-7.72 7.72c-.78.78-.78 2.05 0 2.83L4 21.41c.39.39.9.59 1.41.59.51 0 1.02-.2 1.41-.59l7.78-7.78 2.81-2.81c.8-.78.8-2.07 0-2.86zM5.41 20L4 18.59l7.72-7.72 1.47 1.35L5.41 20z\"/>\n",
       "  </svg>\n",
       "      </button>\n",
       "      \n",
       "  <style>\n",
       "    .colab-df-container {\n",
       "      display:flex;\n",
       "      flex-wrap:wrap;\n",
       "      gap: 12px;\n",
       "    }\n",
       "\n",
       "    .colab-df-convert {\n",
       "      background-color: #E8F0FE;\n",
       "      border: none;\n",
       "      border-radius: 50%;\n",
       "      cursor: pointer;\n",
       "      display: none;\n",
       "      fill: #1967D2;\n",
       "      height: 32px;\n",
       "      padding: 0 0 0 0;\n",
       "      width: 32px;\n",
       "    }\n",
       "\n",
       "    .colab-df-convert:hover {\n",
       "      background-color: #E2EBFA;\n",
       "      box-shadow: 0px 1px 2px rgba(60, 64, 67, 0.3), 0px 1px 3px 1px rgba(60, 64, 67, 0.15);\n",
       "      fill: #174EA6;\n",
       "    }\n",
       "\n",
       "    [theme=dark] .colab-df-convert {\n",
       "      background-color: #3B4455;\n",
       "      fill: #D2E3FC;\n",
       "    }\n",
       "\n",
       "    [theme=dark] .colab-df-convert:hover {\n",
       "      background-color: #434B5C;\n",
       "      box-shadow: 0px 1px 3px 1px rgba(0, 0, 0, 0.15);\n",
       "      filter: drop-shadow(0px 1px 2px rgba(0, 0, 0, 0.3));\n",
       "      fill: #FFFFFF;\n",
       "    }\n",
       "  </style>\n",
       "\n",
       "      <script>\n",
       "        const buttonEl =\n",
       "          document.querySelector('#df-2f9e90b1-fba1-41ac-9f53-63ff7ffaa13a button.colab-df-convert');\n",
       "        buttonEl.style.display =\n",
       "          google.colab.kernel.accessAllowed ? 'block' : 'none';\n",
       "\n",
       "        async function convertToInteractive(key) {\n",
       "          const element = document.querySelector('#df-2f9e90b1-fba1-41ac-9f53-63ff7ffaa13a');\n",
       "          const dataTable =\n",
       "            await google.colab.kernel.invokeFunction('convertToInteractive',\n",
       "                                                     [key], {});\n",
       "          if (!dataTable) return;\n",
       "\n",
       "          const docLinkHtml = 'Like what you see? Visit the ' +\n",
       "            '<a target=\"_blank\" href=https://colab.research.google.com/notebooks/data_table.ipynb>data table notebook</a>'\n",
       "            + ' to learn more about interactive tables.';\n",
       "          element.innerHTML = '';\n",
       "          dataTable['output_type'] = 'display_data';\n",
       "          await google.colab.output.renderOutput(dataTable, element);\n",
       "          const docLink = document.createElement('div');\n",
       "          docLink.innerHTML = docLinkHtml;\n",
       "          element.appendChild(docLink);\n",
       "        }\n",
       "      </script>\n",
       "    </div>\n",
       "  </div>\n",
       "  "
      ],
      "text/plain": [
       "         viewrate  viewtime action_type\n",
       "4           100.0      1238        View\n",
       "7           100.0      8483        View\n",
       "9           100.0      1215        View\n",
       "17          100.0      9840        View\n",
       "18          100.0     44023        View\n",
       "...           ...       ...         ...\n",
       "5659522     100.0      1096        View\n",
       "5659523     100.0       841        View\n",
       "5659537       0.0         0      Basket\n",
       "5659538     100.0     47217        View\n",
       "5659540       0.0         0        View\n",
       "\n",
       "[1977034 rows x 3 columns]"
      ]
     },
     "execution_count": 94,
     "metadata": {},
     "output_type": "execute_result"
    }
   ],
   "source": [
    "furni_rank = log.loc[log['category1']=='가구' , ['viewrate','viewtime','action_type']]\n",
    "furni_rank"
   ]
  },
  {
   "cell_type": "code",
   "execution_count": 95,
   "metadata": {
    "colab": {
     "base_uri": "https://localhost:8080/"
    },
    "id": "7qp_Fr39rpaV",
    "outputId": "24697934-ddb9-4bc0-fda4-55bfa632ddf7"
   },
   "outputs": [
    {
     "data": {
      "text/plain": [
       "viewrate  viewtime  action_type\n",
       "0.0       0         Highlight      155026\n",
       "                    View           141974\n",
       "                    Basket          46142\n",
       "                    Copy            30128\n",
       "100.0     3001      View            15229\n",
       "                                    ...  \n",
       "          10009     View             1289\n",
       "          48013     View             1284\n",
       "          8002      View             1273\n",
       "          48010     View             1265\n",
       "          1009      View             1265\n",
       "Length: 100, dtype: int64"
      ]
     },
     "execution_count": 95,
     "metadata": {},
     "output_type": "execute_result"
    }
   ],
   "source": [
    "furni_rank.value_counts()[:100]"
   ]
  },
  {
   "cell_type": "code",
   "execution_count": null,
   "metadata": {
    "id": "1x9a-WbaxVdo"
   },
   "outputs": [],
   "source": []
  }
 ],
 "metadata": {
  "colab": {
   "authorship_tag": "ABX9TyOoCb9h/B0rrXxohyYpEWOo",
   "include_colab_link": true,
   "provenance": []
  },
  "kernelspec": {
   "display_name": "Python 3 (ipykernel)",
   "language": "python",
   "name": "python3"
  },
  "language_info": {
   "codemirror_mode": {
    "name": "ipython",
    "version": 3
   },
   "file_extension": ".py",
   "mimetype": "text/x-python",
   "name": "python",
   "nbconvert_exporter": "python",
   "pygments_lexer": "ipython3",
   "version": "3.9.13"
  }
 },
 "nbformat": 4,
 "nbformat_minor": 1
}
